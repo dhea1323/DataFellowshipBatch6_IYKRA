{
 "cells": [
  {
   "cell_type": "markdown",
   "metadata": {},
   "source": [
    "# Import Module"
   ]
  },
  {
   "cell_type": "code",
   "execution_count": 1,
   "metadata": {},
   "outputs": [],
   "source": [
    "import sqlite3\n",
    "import pandas as pd\n",
    "import time"
   ]
  },
  {
   "cell_type": "code",
   "execution_count": 2,
   "metadata": {},
   "outputs": [],
   "source": [
    "def connect_database(db_file):\n",
    "    conn = None\n",
    "    try:\n",
    "        conn = sqlite3.connect(db_file)\n",
    "        return conn\n",
    "    except sqlite3.Error as error:\n",
    "        print(error)\n",
    "    return conn"
   ]
  },
  {
   "cell_type": "markdown",
   "metadata": {},
   "source": [
    "# Task 1"
   ]
  },
  {
   "cell_type": "code",
   "execution_count": 3,
   "metadata": {},
   "outputs": [
    {
     "name": "stdout",
     "output_type": "stream",
     "text": [
      "    id  tx_amount tx_type status          recent_time\n",
      "0  102       20.0     buy   open  2021-06-26 10:03:13\n",
      "1  111       30.0     buy   open  2021-06-26 10:03:13\n",
      "2  121       50.0     buy  close  2021-06-26 10:03:13\n",
      "3  160       10.0    sell   open  2021-06-26 10:03:13\n"
     ]
    }
   ],
   "source": [
    "def task1():\n",
    "    db1 = 'dheafa_task1_python.db'\n",
    "    create_table1 = '''create table transactions(\n",
    "    id uuid,\n",
    "    tx_amount float,\n",
    "    tx_type varchar(10),\n",
    "    status varchar(10),\n",
    "    insert_time DATETIME DEFAULT CURRENT_TIMESTAMP\n",
    "    )'''\n",
    "    insert_value1 = '''insert into transactions(id, tx_amount, tx_type, status) values\n",
    "    (102, 20, 'buy', 'open'),\n",
    "    (111, 30, 'buy', 'open'),\n",
    "    (111, 15, 'sell', 'close'),\n",
    "    (121, 50, 'buy', 'close'),\n",
    "    (160, 10, 'sell', 'open')\n",
    "    '''\n",
    "    recent_time = '''select id, tx_amount, tx_type, status, max(insert_time) as recent_time\n",
    "    from transactions\n",
    "    group by 1\n",
    "    order by 1,5\n",
    "    '''\n",
    "    conn = connect_database(db1)\n",
    "    c = conn.cursor()\n",
    "    c.execute(\"drop table if exists transactions\")\n",
    "    if conn is not None:\n",
    "        c.execute(create_table1)\n",
    "        for i in range (1,5):\n",
    "            c.execute(insert_value1)\n",
    "            time.sleep(3)\n",
    "        conn.commit()\n",
    "        df1 = pd.read_sql(recent_time, conn)\n",
    "        print(df1)\n",
    "    else:\n",
    "        print(\"Error!\")\n",
    "task1()"
   ]
  },
  {
   "cell_type": "markdown",
   "metadata": {},
   "source": [
    "# Task 2"
   ]
  },
  {
   "cell_type": "code",
   "execution_count": 4,
   "metadata": {},
   "outputs": [
    {
     "name": "stdout",
     "output_type": "stream",
     "text": [
      "          date  sales  rolling_sum\n",
      "0   01/01/2021  100.0        100.0\n",
      "1   02/01/2021   34.0        391.0\n",
      "2   02/01/2021  123.0        391.0\n",
      "3   02/01/2021  134.0        391.0\n",
      "4   03/01/2021  145.0        560.0\n",
      "5   03/01/2021   24.0        560.0\n",
      "6   04/01/2021  541.0       1737.0\n",
      "7   04/01/2021  636.0       1737.0\n",
      "8   05/01/2021  322.0       2059.0\n",
      "9   06/01/2021  242.0       2301.0\n",
      "10  07/01/2021   22.0       2323.0\n",
      "11  08/01/2021   46.0       2369.0\n"
     ]
    }
   ],
   "source": [
    "def task2():\n",
    "    db2 = 'dheafa_task2_python.db'\n",
    "    create_table2 = '''create table sales(\n",
    "    date DATE,\n",
    "    sales float\n",
    "    )'''\n",
    "    insert_value2 = '''insert into sales values\n",
    "    ('01/01/2021', 100), ('02/01/2021', 34), ('02/01/2021', 123), ('02/01/2021', 134),\n",
    "    ('03/01/2021', 145), ('03/01/2021', 24), ('04/01/2021', 541), ('04/01/2021', 636),\n",
    "    ('05/01/2021', 322), ('06/01/2021', 242), ('07/01/2021', 22), ('08/01/2021', 46)\n",
    "    '''\n",
    "    rolling_sum = '''select date, sales, sum(sales) over (order by date) as rolling_sum\n",
    "    from sales\n",
    "    '''\n",
    "    conn = connect_database(db2)\n",
    "    c = conn.cursor()\n",
    "    c.execute(\"drop table if exists sales\")\n",
    "    if conn is not None:\n",
    "        c.execute(create_table2)\n",
    "        c.execute(insert_value2)\n",
    "        c.execute(rolling_sum)\n",
    "        df2 = pd.read_sql(rolling_sum, conn)\n",
    "        print(df2)\n",
    "    else:\n",
    "        print(\"Error!\")\n",
    "task2()"
   ]
  },
  {
   "cell_type": "markdown",
   "metadata": {},
   "source": [
    "# Task 3"
   ]
  },
  {
   "cell_type": "code",
   "execution_count": 5,
   "metadata": {},
   "outputs": [],
   "source": [
    "data = [\n",
    "    {\n",
    "        \"user\" : {\n",
    "            \"id\" : 1,\n",
    "            \"name\" : \"agus\",\n",
    "            \"email\" : \"agus@example.com\"\n",
    "        },\n",
    "        \"txs\" : [\n",
    "            {\n",
    "                \"id\" : 1, \n",
    "                \"tx_date\" : \"2020-01-01\",\n",
    "                \"tx_amount\" : 10,\n",
    "                \"tx_type\" : \"buy\"\n",
    "            },\n",
    "            {\n",
    "                \"id\" : 3,\n",
    "                \"tx_date\" : \"2020-02-01\",\n",
    "                \"tx_amount\" : 10,\n",
    "                \"tx_type\" : \"buy\"\n",
    "            },\n",
    "            {\n",
    "                \"id\" : 5,\n",
    "                \"tx_date\" : \"2020-03-01\",\n",
    "                \"tx_amount\" : 20,\n",
    "                \"tx_type\" : \"sell\"\n",
    "            }\n",
    "        ]\n",
    "    },\n",
    "    {\n",
    "        \"user\" : {\n",
    "            \"id\" : 2,\n",
    "            \"name\" : \"asep\",\n",
    "            \"email\" : \"asep@example.com\"\n",
    "        },\n",
    "        \"txs\" : [\n",
    "            {\n",
    "                \"id\" : 2,\n",
    "                \"tx_date\" : \"2020-01-01\",\n",
    "                \"tx_amount\" : 10,\n",
    "                \"tx_type\" : \"sell\"\n",
    "            },\n",
    "            {\n",
    "                \"id\" : 4,\n",
    "                \"tx_date\" : \"2020-02-01\",\n",
    "                \"tx_amount\" : 10,\n",
    "                \"tx_type\" : \"sell\" \n",
    "            },\n",
    "            {\n",
    "                \"id\" : 6,\n",
    "                \"tx_date\" : \"2020-03-01\",\n",
    "                \"tx_amount\" : 20,\n",
    "                \"tx_type\" : \"buy\"  \n",
    "            }\n",
    "        ]\n",
    "    }\n",
    "]\n",
    "\n",
    "df = pd.json_normalize(data, 'txs', [['user','id'],['user','name'],['user','email']])\n",
    "CSV_1 = df[['user.id','id']]\n",
    "CSV_1.to_csv('CSV_1.csv', header=['user_id','tsx_id'], index=False)\n",
    "CSV_2 = df[['user.id','user.name','user.email']].drop_duplicates()\n",
    "CSV_2.to_csv('CSV_2.csv', header=['id','name','email'], index=False)\n",
    "CSV_3 = df[['id','tx_date','tx_amount','tx_type']].sort_values('id')\n",
    "CSV_3.to_csv('CSV_3.csv', header=['id','tx_date','tx_amount','tx_type'], index=False)"
   ]
  }
 ],
 "metadata": {
  "kernelspec": {
   "display_name": "Python 3",
   "language": "python",
   "name": "python3"
  },
  "language_info": {
   "codemirror_mode": {
    "name": "ipython",
    "version": 3
   },
   "file_extension": ".py",
   "mimetype": "text/x-python",
   "name": "python",
   "nbconvert_exporter": "python",
   "pygments_lexer": "ipython3",
   "version": "3.8.5"
  }
 },
 "nbformat": 4,
 "nbformat_minor": 4
}
