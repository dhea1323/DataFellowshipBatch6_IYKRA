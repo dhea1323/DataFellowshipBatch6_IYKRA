{
 "cells": [
  {
   "cell_type": "markdown",
   "metadata": {
    "id": "iVtoMeTQwwfi"
   },
   "source": [
    "# Scenario\n",
    "Looking back at the season that was 2018-2019 and looking to delve into sight deeper insights. Using the data to see how clubs are similar stylistically, in the way they pass, attack and score goals. \n",
    "\n",
    "This data set is wide ranging in the sense it encompasses stats seen on a regular league table but goes beyond looking at how teams pass and keep possession, how they defend, tackle as well as looking at market values of a team and how much money each team was allotted from the TV rights deal. \n",
    "This data was gathered from \n",
    "1. BBC Sports Football\n",
    "2. Premierleague.com \n",
    "3. Transfermarkt.co.uk \n"
   ]
  },
  {
   "cell_type": "markdown",
   "metadata": {
    "id": "Jg5AJSc1wwfq"
   },
   "source": [
    "## Goals\n",
    "Some goals of this project: \n",
    "1.\tIs this data clean? \n",
    "2.\tHow is the point distribution of the epl team? and which team is an anomaly?\n",
    "3.\tWhich team has the best attack? \n",
    "4.\tWhich team has the best defence? \n",
    "5.\tWhich team is good in the financial aspect? \n",
    "6.\tExplore your creativity!\n"
   ]
  },
  {
   "cell_type": "markdown",
   "metadata": {
    "id": "K_ErIfTAwwfr"
   },
   "source": [
    "# Import Module"
   ]
  },
  {
   "cell_type": "code",
   "execution_count": 1,
   "metadata": {
    "executionInfo": {
     "elapsed": 1408,
     "status": "ok",
     "timestamp": 1624986841859,
     "user": {
      "displayName": "Dhea Fajriati Anas",
      "photoUrl": "",
      "userId": "06785531200581468033"
     },
     "user_tz": -420
    },
    "id": "eoqeAmfMwwft"
   },
   "outputs": [],
   "source": [
    "import pandas as pd\n",
    "import requests\n",
    "import io\n",
    "import matplotlib.pyplot as plt\n",
    "import seaborn as sns\n",
    "sns.set_style('whitegrid')\n",
    "%matplotlib inline"
   ]
  },
  {
   "cell_type": "markdown",
   "metadata": {
    "id": "ZGR2QQpKwwfv"
   },
   "source": [
    "# Load Data"
   ]
  },
  {
   "cell_type": "code",
   "execution_count": 2,
   "metadata": {
    "executionInfo": {
     "elapsed": 126,
     "status": "ok",
     "timestamp": 1624986841860,
     "user": {
      "displayName": "Dhea Fajriati Anas",
      "photoUrl": "",
      "userId": "06785531200581468033"
     },
     "user_tz": -420
    },
    "id": "TBuoKDFuwwfw"
   },
   "outputs": [],
   "source": [
    "url = \"https://raw.githubusercontent.com/Syukrondzeko/Fellowship/main/epl_1819.csv\"\n",
    "download = requests.get(url).content\n",
    "data = pd.read_csv(io.StringIO(download.decode('utf-8')))"
   ]
  },
  {
   "cell_type": "code",
   "execution_count": 3,
   "metadata": {
    "colab": {
     "base_uri": "https://localhost:8080/"
    },
    "executionInfo": {
     "elapsed": 125,
     "status": "ok",
     "timestamp": 1624986841861,
     "user": {
      "displayName": "Dhea Fajriati Anas",
      "photoUrl": "",
      "userId": "06785531200581468033"
     },
     "user_tz": -420
    },
    "id": "hTwZNKenwwfx",
    "outputId": "8e9c9c22-4b8b-4f22-a1b0-e3ec1f55ea52"
   },
   "outputs": [
    {
     "name": "stdout",
     "output_type": "stream",
     "text": [
      "<class 'pandas.core.frame.DataFrame'>\n",
      "RangeIndex: 20 entries, 0 to 19\n",
      "Data columns (total 44 columns):\n",
      " #   Column                         Non-Null Count  Dtype  \n",
      "---  ------                         --------------  -----  \n",
      " 0   Team                           20 non-null     object \n",
      " 1   category                       20 non-null     object \n",
      " 2   general_league_position        20 non-null     int64  \n",
      " 3   finance _live_games_televised  20 non-null     int64  \n",
      " 4   finance _tv_revenue            20 non-null     int64  \n",
      " 5   general_matches_played         20 non-null     int64  \n",
      " 6   general_won                    20 non-null     int64  \n",
      " 7   general_draw                   20 non-null     int64  \n",
      " 8   general_lost                   20 non-null     int64  \n",
      " 9   attack_scored                  20 non-null     int64  \n",
      " 10  defence_goals_conceeded        20 non-null     int64  \n",
      " 11  general_goal_difference        20 non-null     int64  \n",
      " 12  general_points                 20 non-null     int64  \n",
      " 13  general_squad_size             20 non-null     int64  \n",
      " 14  general_squad_average_age      20 non-null     float64\n",
      " 15  general_squad_foreigners       20 non-null     int64  \n",
      " 16  finance _team_market           20 non-null     int64  \n",
      " 17  finance _market_average        20 non-null     int64  \n",
      " 18  attack_passes                  20 non-null     object \n",
      " 19  attack_passes_through          20 non-null     int64  \n",
      " 20  attack_passes_long             20 non-null     object \n",
      " 21  attack_passes_back             20 non-null     object \n",
      " 22  attack_crosses                 20 non-null     int64  \n",
      " 23  attack_corners_taken           20 non-null     int64  \n",
      " 24  attack_shots                   20 non-null     int64  \n",
      " 25  attack_shots_on_target         20 non-null     int64  \n",
      " 26  attack_goals_headed            20 non-null     int64  \n",
      " 27  attack_goals_penalty           20 non-null     int64  \n",
      " 28  attack_goals_box               20 non-null     int64  \n",
      " 29  attack_goals_outsidebox        20 non-null     int64  \n",
      " 30  general_card_yellow            20 non-null     int64  \n",
      " 31  general_card_red               20 non-null     int64  \n",
      " 32  attack_goals_counter           20 non-null     int64  \n",
      " 33  attack_goals_freekick          20 non-null     int64  \n",
      " 34  defence_saves                  20 non-null     int64  \n",
      " 35  defence_blocks                 20 non-null     int64  \n",
      " 36  defence_interceptions          20 non-null     int64  \n",
      " 37  defence_tackles                20 non-null     int64  \n",
      " 38  defence_tackles_last_man       20 non-null     int64  \n",
      " 39  defence_clearances             20 non-null     object \n",
      " 40  defence_clearances_headed      20 non-null     int64  \n",
      " 41  defence_penalty_conceeded      20 non-null     int64  \n",
      " 42  attack_posession               20 non-null     float64\n",
      " 43  attack_pass_accuracy           20 non-null     float64\n",
      "dtypes: float64(3), int64(35), object(6)\n",
      "memory usage: 7.0+ KB\n"
     ]
    }
   ],
   "source": [
    "#Summary of the dataframe\n",
    "data.info()"
   ]
  },
  {
   "cell_type": "markdown",
   "metadata": {
    "id": "I7wou0D2wwfz"
   },
   "source": [
    "# Check Missing Values and Duplicate"
   ]
  },
  {
   "cell_type": "code",
   "execution_count": 4,
   "metadata": {
    "colab": {
     "base_uri": "https://localhost:8080/"
    },
    "executionInfo": {
     "elapsed": 115,
     "status": "ok",
     "timestamp": 1624986841862,
     "user": {
      "displayName": "Dhea Fajriati Anas",
      "photoUrl": "",
      "userId": "06785531200581468033"
     },
     "user_tz": -420
    },
    "id": "5GOxs57kwwf1",
    "outputId": "5e6e3c6f-b055-4286-cf89-6f36af11b986"
   },
   "outputs": [
    {
     "data": {
      "text/plain": [
       "Team                             0\n",
       "category                         0\n",
       "general_league_position          0\n",
       "finance _live_games_televised    0\n",
       "finance _tv_revenue              0\n",
       "general_matches_played           0\n",
       "general_won                      0\n",
       "general_draw                     0\n",
       "general_lost                     0\n",
       "attack_scored                    0\n",
       "defence_goals_conceeded          0\n",
       "general_goal_difference          0\n",
       "general_points                   0\n",
       "general_squad_size               0\n",
       "general_squad_average_age        0\n",
       "general_squad_foreigners         0\n",
       "finance _team_market             0\n",
       "finance _market_average          0\n",
       "attack_passes                    0\n",
       "attack_passes_through            0\n",
       "attack_passes_long               0\n",
       "attack_passes_back               0\n",
       "attack_crosses                   0\n",
       "attack_corners_taken             0\n",
       "attack_shots                     0\n",
       "attack_shots_on_target           0\n",
       "attack_goals_headed              0\n",
       "attack_goals_penalty             0\n",
       "attack_goals_box                 0\n",
       "attack_goals_outsidebox          0\n",
       "general_card_yellow              0\n",
       "general_card_red                 0\n",
       "attack_goals_counter             0\n",
       "attack_goals_freekick            0\n",
       "defence_saves                    0\n",
       "defence_blocks                   0\n",
       "defence_interceptions            0\n",
       "defence_tackles                  0\n",
       "defence_tackles_last_man         0\n",
       "defence_clearances               0\n",
       "defence_clearances_headed        0\n",
       "defence_penalty_conceeded        0\n",
       "attack_posession                 0\n",
       "attack_pass_accuracy             0\n",
       "dtype: int64"
      ]
     },
     "execution_count": 4,
     "metadata": {
      "tags": []
     },
     "output_type": "execute_result"
    }
   ],
   "source": [
    "data.isnull().sum()"
   ]
  },
  {
   "cell_type": "code",
   "execution_count": 5,
   "metadata": {
    "colab": {
     "base_uri": "https://localhost:8080/"
    },
    "executionInfo": {
     "elapsed": 105,
     "status": "ok",
     "timestamp": 1624986841863,
     "user": {
      "displayName": "Dhea Fajriati Anas",
      "photoUrl": "",
      "userId": "06785531200581468033"
     },
     "user_tz": -420
    },
    "id": "mViSNpMtwwf2",
    "outputId": "b2450617-8fae-462b-bf65-9181e18826ef"
   },
   "outputs": [
    {
     "data": {
      "text/plain": [
       "0"
      ]
     },
     "execution_count": 5,
     "metadata": {
      "tags": []
     },
     "output_type": "execute_result"
    }
   ],
   "source": [
    "data.duplicated().sum()"
   ]
  },
  {
   "cell_type": "markdown",
   "metadata": {
    "id": "xyfdsub5wwf3"
   },
   "source": [
    "# Change Data Type"
   ]
  },
  {
   "cell_type": "markdown",
   "metadata": {
    "id": "lPyRV49Awwf4"
   },
   "source": [
    "## Check"
   ]
  },
  {
   "cell_type": "code",
   "execution_count": 6,
   "metadata": {
    "colab": {
     "base_uri": "https://localhost:8080/"
    },
    "executionInfo": {
     "elapsed": 98,
     "status": "ok",
     "timestamp": 1624986841864,
     "user": {
      "displayName": "Dhea Fajriati Anas",
      "photoUrl": "",
      "userId": "06785531200581468033"
     },
     "user_tz": -420
    },
    "id": "WK7Oufr8wwf5",
    "outputId": "77c08934-db4e-4108-940f-f75c1fcc36b8"
   },
   "outputs": [
    {
     "data": {
      "text/plain": [
       "0    26,581\n",
       "1    23,638\n",
       "2    25,070\n",
       "Name: attack_passes, dtype: object"
      ]
     },
     "execution_count": 6,
     "metadata": {
      "tags": []
     },
     "output_type": "execute_result"
    }
   ],
   "source": [
    "data['attack_passes'].head(3)"
   ]
  },
  {
   "cell_type": "code",
   "execution_count": 7,
   "metadata": {
    "colab": {
     "base_uri": "https://localhost:8080/"
    },
    "executionInfo": {
     "elapsed": 91,
     "status": "ok",
     "timestamp": 1624986841865,
     "user": {
      "displayName": "Dhea Fajriati Anas",
      "photoUrl": "",
      "userId": "06785531200581468033"
     },
     "user_tz": -420
    },
    "id": "ozOAcltywwf6",
    "outputId": "763e0081-a572-482c-8264-17484adb7538"
   },
   "outputs": [
    {
     "data": {
      "text/plain": [
       "0    1,814\n",
       "1    2,250\n",
       "2    1,774\n",
       "Name: attack_passes_long, dtype: object"
      ]
     },
     "execution_count": 7,
     "metadata": {
      "tags": []
     },
     "output_type": "execute_result"
    }
   ],
   "source": [
    "data['attack_passes_long'].head(3)"
   ]
  },
  {
   "cell_type": "code",
   "execution_count": 8,
   "metadata": {
    "colab": {
     "base_uri": "https://localhost:8080/"
    },
    "executionInfo": {
     "elapsed": 78,
     "status": "ok",
     "timestamp": 1624986841867,
     "user": {
      "displayName": "Dhea Fajriati Anas",
      "photoUrl": "",
      "userId": "06785531200581468033"
     },
     "user_tz": -420
    },
    "id": "AlTh3kNDwwf7",
    "outputId": "31454d9c-651f-46e3-d625-fc29b35efdb1"
   },
   "outputs": [
    {
     "data": {
      "text/plain": [
       "0    4,240\n",
       "1    3,416\n",
       "2    3,874\n",
       "Name: attack_passes_back, dtype: object"
      ]
     },
     "execution_count": 8,
     "metadata": {
      "tags": []
     },
     "output_type": "execute_result"
    }
   ],
   "source": [
    "data['attack_passes_back'].head(3)"
   ]
  },
  {
   "cell_type": "code",
   "execution_count": 9,
   "metadata": {
    "colab": {
     "base_uri": "https://localhost:8080/"
    },
    "executionInfo": {
     "elapsed": 71,
     "status": "ok",
     "timestamp": 1624986841868,
     "user": {
      "displayName": "Dhea Fajriati Anas",
      "photoUrl": "",
      "userId": "06785531200581468033"
     },
     "user_tz": -420
    },
    "id": "nyiUEcocwwf8",
    "outputId": "cfd22a4e-2881-4811-de51-30e229b905f9"
   },
   "outputs": [
    {
     "data": {
      "text/plain": [
       "15    1,068\n",
       "16      921\n",
       "17      978\n",
       "18      971\n",
       "19      658\n",
       "Name: defence_clearances, dtype: object"
      ]
     },
     "execution_count": 9,
     "metadata": {
      "tags": []
     },
     "output_type": "execute_result"
    }
   ],
   "source": [
    "data['defence_clearances'].tail(5)"
   ]
  },
  {
   "cell_type": "markdown",
   "metadata": {
    "id": "lVi5eJCuwwf9"
   },
   "source": [
    "## Change"
   ]
  },
  {
   "cell_type": "code",
   "execution_count": 10,
   "metadata": {
    "executionInfo": {
     "elapsed": 66,
     "status": "ok",
     "timestamp": 1624986841869,
     "user": {
      "displayName": "Dhea Fajriati Anas",
      "photoUrl": "",
      "userId": "06785531200581468033"
     },
     "user_tz": -420
    },
    "id": "_iqBc71Zwwf9"
   },
   "outputs": [],
   "source": [
    "data['attack_passes'] = data['attack_passes'].str.replace(',','').astype(int)\n",
    "data['attack_passes_long'] = data['attack_passes_long'].str.replace(',','').astype(int)\n",
    "data['attack_passes_back'] = data['attack_passes_back'].str.replace(',','').astype(int)\n",
    "data['defence_clearances'] = data['defence_clearances'].str.replace(',','').astype(int)"
   ]
  },
  {
   "cell_type": "code",
   "execution_count": 11,
   "metadata": {
    "executionInfo": {
     "elapsed": 65,
     "status": "ok",
     "timestamp": 1624986841870,
     "user": {
      "displayName": "Dhea Fajriati Anas",
      "photoUrl": "",
      "userId": "06785531200581468033"
     },
     "user_tz": -420
    },
    "id": "CfDjNIe-wwf-"
   },
   "outputs": [],
   "source": [
    "df = data.copy()"
   ]
  },
  {
   "cell_type": "markdown",
   "metadata": {
    "id": "Yn5VN0rRwwf-"
   },
   "source": [
    "# General Point Distribution\n",
    "Distribution of general_points column"
   ]
  },
  {
   "cell_type": "code",
   "execution_count": 12,
   "metadata": {
    "colab": {
     "base_uri": "https://localhost:8080/",
     "height": 364
    },
    "executionInfo": {
     "elapsed": 1717,
     "status": "ok",
     "timestamp": 1624986843524,
     "user": {
      "displayName": "Dhea Fajriati Anas",
      "photoUrl": "",
      "userId": "06785531200581468033"
     },
     "user_tz": -420
    },
    "id": "o5aDSufQwwf_",
    "outputId": "4fc6c8aa-7d9b-4757-e09e-6458203d8975"
   },
   "outputs": [
    {
     "name": "stderr",
     "output_type": "stream",
     "text": [
      "/usr/local/lib/python3.7/dist-packages/seaborn/distributions.py:2557: FutureWarning: `distplot` is a deprecated function and will be removed in a future version. Please adapt your code to use either `displot` (a figure-level function with similar flexibility) or `histplot` (an axes-level function for histograms).\n",
      "  warnings.warn(msg, FutureWarning)\n"
     ]
    },
    {
     "data": {
      "image/png": "[encoded data removed]",
      "text/plain": [
       "<Figure size 720x288 with 2 Axes>"
      ]
     },
     "metadata": {
      "needs_background": "light",
      "tags": []
     },
     "output_type": "display_data"
    }
   ],
   "source": [
    "fig = plt.figure(figsize=(10,4))\n",
    "fig.suptitle('General Point Distribution')\n",
    "plt.subplot(121)\n",
    "sns.distplot(df['general_points'])\n",
    "plt.subplot(122)\n",
    "sns.boxplot(data=df['general_points'], orient='h')\n",
    "sns.stripplot(data=df['general_points'], orient='h')\n",
    "plt.show()"
   ]
  },
  {
   "cell_type": "code",
   "execution_count": 13,
   "metadata": {
    "colab": {
     "base_uri": "https://localhost:8080/"
    },
    "executionInfo": {
     "elapsed": 66,
     "status": "ok",
     "timestamp": 1624986843526,
     "user": {
      "displayName": "Dhea Fajriati Anas",
      "photoUrl": "",
      "userId": "06785531200581468033"
     },
     "user_tz": -420
    },
    "id": "2_p2dbbawwgA",
    "outputId": "b927dbfd-f0fd-498a-8256-aef6313e8dff"
   },
   "outputs": [
    {
     "name": "stdout",
     "output_type": "stream",
     "text": [
      "General Point Average:  53.45\n",
      "General Point Median:  51.0\n",
      "Skewness:  0.6098933299918191\n",
      "Kurtosis:  0.43225790198093383\n"
     ]
    }
   ],
   "source": [
    "print(\"General Point Average: \",df['general_points'].mean())\n",
    "print(\"General Point Median: \",df['general_points'].median())\n",
    "print(\"Skewness: \", df['general_points'].skew())\n",
    "print(\"Kurtosis: \",df['general_points'].kurt())"
   ]
  },
  {
   "cell_type": "code",
   "execution_count": 14,
   "metadata": {
    "colab": {
     "base_uri": "https://localhost:8080/"
    },
    "executionInfo": {
     "elapsed": 61,
     "status": "ok",
     "timestamp": 1624986843527,
     "user": {
      "displayName": "Dhea Fajriati Anas",
      "photoUrl": "",
      "userId": "06785531200581468033"
     },
     "user_tz": -420
    },
    "id": "0UnwmFAYwwgB",
    "outputId": "f05d529a-d0cc-4963-f4e6-fcfbef1b92ee"
   },
   "outputs": [
    {
     "data": {
      "text/plain": [
       "count    20.000000\n",
       "mean     53.450000\n",
       "std      21.007455\n",
       "min      16.000000\n",
       "25%      39.750000\n",
       "50%      51.000000\n",
       "75%      67.000000\n",
       "max      98.000000\n",
       "Name: general_points, dtype: float64"
      ]
     },
     "execution_count": 14,
     "metadata": {
      "tags": []
     },
     "output_type": "execute_result"
    }
   ],
   "source": [
    "df['general_points'].describe()"
   ]
  },
  {
   "cell_type": "markdown",
   "metadata": {
    "id": "8CiqH5BswwgB"
   },
   "source": [
    "# Best Team Attack\n",
    "Best Team Attack based on attack_scored"
   ]
  },
  {
   "cell_type": "code",
   "execution_count": 15,
   "metadata": {
    "colab": {
     "base_uri": "https://localhost:8080/",
     "height": 202
    },
    "executionInfo": {
     "elapsed": 56,
     "status": "ok",
     "timestamp": 1624986843529,
     "user": {
      "displayName": "Dhea Fajriati Anas",
      "photoUrl": "",
      "userId": "06785531200581468033"
     },
     "user_tz": -420
    },
    "id": "N-sBdeiowwgC",
    "outputId": "63af1f1e-249f-4463-d736-68b04f1739a6"
   },
   "outputs": [
    {
     "data": {
      "text/html": [
       "<div>\n",
       "<style scoped>\n",
       "    .dataframe tbody tr th:only-of-type {\n",
       "        vertical-align: middle;\n",
       "    }\n",
       "\n",
       "    .dataframe tbody tr th {\n",
       "        vertical-align: top;\n",
       "    }\n",
       "\n",
       "    .dataframe thead th {\n",
       "        text-align: right;\n",
       "    }\n",
       "</style>\n",
       "<table border=\"1\" class=\"dataframe\">\n",
       "  <thead>\n",
       "    <tr style=\"text-align: right;\">\n",
       "      <th></th>\n",
       "      <th>Team</th>\n",
       "      <th>attack_scored</th>\n",
       "    </tr>\n",
       "  </thead>\n",
       "  <tbody>\n",
       "    <tr>\n",
       "      <th>0</th>\n",
       "      <td>Manchester City</td>\n",
       "      <td>95</td>\n",
       "    </tr>\n",
       "    <tr>\n",
       "      <th>1</th>\n",
       "      <td>Liverpool</td>\n",
       "      <td>89</td>\n",
       "    </tr>\n",
       "    <tr>\n",
       "      <th>2</th>\n",
       "      <td>Arsenal</td>\n",
       "      <td>73</td>\n",
       "    </tr>\n",
       "    <tr>\n",
       "      <th>3</th>\n",
       "      <td>Tottenham</td>\n",
       "      <td>67</td>\n",
       "    </tr>\n",
       "    <tr>\n",
       "      <th>4</th>\n",
       "      <td>Manchester United</td>\n",
       "      <td>65</td>\n",
       "    </tr>\n",
       "  </tbody>\n",
       "</table>\n",
       "</div>"
      ],
      "text/plain": [
       "                Team  attack_scored\n",
       "0    Manchester City             95\n",
       "1          Liverpool             89\n",
       "2            Arsenal             73\n",
       "3          Tottenham             67\n",
       "4  Manchester United             65"
      ]
     },
     "execution_count": 15,
     "metadata": {
      "tags": []
     },
     "output_type": "execute_result"
    }
   ],
   "source": [
    "df_att = df[['Team','attack_scored']].sort_values(by=['attack_scored'], ascending=False).reset_index(drop=True).head(5)\n",
    "df_att"
   ]
  },
  {
   "cell_type": "code",
   "execution_count": 16,
   "metadata": {
    "colab": {
     "base_uri": "https://localhost:8080/",
     "height": 313
    },
    "executionInfo": {
     "elapsed": 54,
     "status": "ok",
     "timestamp": 1624986843531,
     "user": {
      "displayName": "Dhea Fajriati Anas",
      "photoUrl": "",
      "userId": "06785531200581468033"
     },
     "user_tz": -420
    },
    "id": "ajhHp2vFwwgC",
    "outputId": "b3c0b9b8-8d13-41f0-c684-5991e0493a8b"
   },
   "outputs": [
    {
     "data": {
      "text/plain": [
       "Text(0.5, 1.0, 'Best Attacking Team')"
      ]
     },
     "execution_count": 16,
     "metadata": {
      "tags": []
     },
     "output_type": "execute_result"
    },
    {
     "data": {
      "image/png": "[encoded data removed]",
      "text/plain": [
       "<Figure size 432x288 with 1 Axes>"
      ]
     },
     "metadata": {
      "needs_background": "light",
      "tags": []
     },
     "output_type": "display_data"
    }
   ],
   "source": [
    "sns.barplot(x=df_att['attack_scored'], y=df_att['Team'], data=df_att, orient='h', palette=\"mako\")\n",
    "plt.title('Best Attacking Team')"
   ]
  },
  {
   "cell_type": "markdown",
   "metadata": {
    "id": "wZLDZ1yMwwgD"
   },
   "source": [
    "# Best Defence Team\n",
    "Best Defence Team based on defence_saves, defence_blocks, defence_interceptions, defence_tackles, ,defence_tackles_last_man, defence_clearances"
   ]
  },
  {
   "cell_type": "code",
   "execution_count": 17,
   "metadata": {
    "colab": {
     "base_uri": "https://localhost:8080/",
     "height": 202
    },
    "executionInfo": {
     "elapsed": 49,
     "status": "ok",
     "timestamp": 1624986843533,
     "user": {
      "displayName": "Dhea Fajriati Anas",
      "photoUrl": "",
      "userId": "06785531200581468033"
     },
     "user_tz": -420
    },
    "id": "rdRI2Oq7wwgD",
    "outputId": "5ff496da-4719-4a2b-84fe-2b72a7fac5aa"
   },
   "outputs": [
    {
     "data": {
      "text/html": [
       "<div>\n",
       "<style scoped>\n",
       "    .dataframe tbody tr th:only-of-type {\n",
       "        vertical-align: middle;\n",
       "    }\n",
       "\n",
       "    .dataframe tbody tr th {\n",
       "        vertical-align: top;\n",
       "    }\n",
       "\n",
       "    .dataframe thead th {\n",
       "        text-align: right;\n",
       "    }\n",
       "</style>\n",
       "<table border=\"1\" class=\"dataframe\">\n",
       "  <thead>\n",
       "    <tr style=\"text-align: right;\">\n",
       "      <th></th>\n",
       "      <th>Team</th>\n",
       "      <th>defence_total</th>\n",
       "    </tr>\n",
       "  </thead>\n",
       "  <tbody>\n",
       "    <tr>\n",
       "      <th>0</th>\n",
       "      <td>Manchester City</td>\n",
       "      <td>1.443940</td>\n",
       "    </tr>\n",
       "    <tr>\n",
       "      <th>1</th>\n",
       "      <td>Liverpool</td>\n",
       "      <td>0.731021</td>\n",
       "    </tr>\n",
       "    <tr>\n",
       "      <th>2</th>\n",
       "      <td>Chelsea</td>\n",
       "      <td>0.586638</td>\n",
       "    </tr>\n",
       "    <tr>\n",
       "      <th>5</th>\n",
       "      <td>Manchester United</td>\n",
       "      <td>0.311798</td>\n",
       "    </tr>\n",
       "    <tr>\n",
       "      <th>3</th>\n",
       "      <td>Tottenham</td>\n",
       "      <td>0.302974</td>\n",
       "    </tr>\n",
       "  </tbody>\n",
       "</table>\n",
       "</div>"
      ],
      "text/plain": [
       "                Team  defence_total\n",
       "0    Manchester City       1.443940\n",
       "1          Liverpool       0.731021\n",
       "2            Chelsea       0.586638\n",
       "5  Manchester United       0.311798\n",
       "3          Tottenham       0.302974"
      ]
     },
     "execution_count": 17,
     "metadata": {
      "tags": []
     },
     "output_type": "execute_result"
    }
   ],
   "source": [
    "#Normalize data\n",
    "from sklearn.preprocessing import MinMaxScaler\n",
    "\n",
    "scaler = MinMaxScaler()\n",
    "deff = df.iloc[:,34:42]\n",
    "deff_norm = pd.DataFrame(scaler.fit_transform(deff))\n",
    "df['defence_total'] = deff_norm.sum(axis=1)\n",
    "df['defence_total'] = 1/df['defence_total']\n",
    "deff_plot = df[['Team','defence_total']].sort_values(by='defence_total', ascending=False).head(5)\n",
    "deff_plot"
   ]
  },
  {
   "cell_type": "code",
   "execution_count": 18,
   "metadata": {
    "colab": {
     "base_uri": "https://localhost:8080/",
     "height": 313
    },
    "executionInfo": {
     "elapsed": 52,
     "status": "ok",
     "timestamp": 1624986843540,
     "user": {
      "displayName": "Dhea Fajriati Anas",
      "photoUrl": "",
      "userId": "06785531200581468033"
     },
     "user_tz": -420
    },
    "id": "wGbpfRASwwgE",
    "outputId": "15e4522b-0aa0-45a6-bd1a-93c7880daf43"
   },
   "outputs": [
    {
     "data": {
      "text/plain": [
       "Text(0.5, 1.0, 'Best Defence Team')"
      ]
     },
     "execution_count": 18,
     "metadata": {
      "tags": []
     },
     "output_type": "execute_result"
    },
    {
     "data": {
      "image/png": "[encoded data removed]",
      "text/plain": [
       "<Figure size 432x288 with 1 Axes>"
      ]
     },
     "metadata": {
      "needs_background": "light",
      "tags": []
     },
     "output_type": "display_data"
    }
   ],
   "source": [
    "sns.barplot(x=deff_plot['defence_total'], y=deff_plot['Team'], data=deff_plot, orient='h', palette=\"mako\")\n",
    "plt.title('Best Defence Team')"
   ]
  },
  {
   "cell_type": "markdown",
   "metadata": {
    "id": "sDfnaRjfwwgF"
   },
   "source": [
    "# Good in Financial Aspect"
   ]
  },
  {
   "cell_type": "code",
   "execution_count": 19,
   "metadata": {
    "colab": {
     "base_uri": "https://localhost:8080/",
     "height": 312
    },
    "executionInfo": {
     "elapsed": 36,
     "status": "ok",
     "timestamp": 1624986844930,
     "user": {
      "displayName": "Dhea Fajriati Anas",
      "photoUrl": "",
      "userId": "06785531200581468033"
     },
     "user_tz": -420
    },
    "id": "jQ3mmABKwwgG",
    "outputId": "797ad635-06b9-42b6-e726-6aa839df8d37"
   },
   "outputs": [
    {
     "data": {
      "text/plain": [
       "Text(0.5, 1.0, 'Best Team in Financial Aspect')"
      ]
     },
     "execution_count": 19,
     "metadata": {
      "tags": []
     },
     "output_type": "execute_result"
    },
    {
     "data": {
      "image/png": "[encoded data removed]",
      "text/plain": [
       "<Figure size 432x288 with 1 Axes>"
      ]
     },
     "metadata": {
      "needs_background": "light",
      "tags": []
     },
     "output_type": "display_data"
    }
   ],
   "source": [
    "df_fin = df[['finance _tv_revenue','finance _team_market','finance _market_average']]\n",
    "df['financial'] = df_fin.mean(axis=1)\n",
    "sns.barplot(x=df['financial'], y=df['Team'], data=df, orient='h', palette=\"mako\")\n",
    "plt.title('Best Team in Financial Aspect')"
   ]
  },
  {
   "cell_type": "code",
   "execution_count": 20,
   "metadata": {
    "executionInfo": {
     "elapsed": 32,
     "status": "ok",
     "timestamp": 1624986844932,
     "user": {
      "displayName": "Dhea Fajriati Anas",
      "photoUrl": "",
      "userId": "06785531200581468033"
     },
     "user_tz": -420
    },
    "id": "CsTTRUxYwwgG"
   },
   "outputs": [],
   "source": [
    "dfff = df[['Team','financial']].sort_values(by='financial', ascending=False)\n",
    "dfff.to_csv('tes.csv')"
   ]
  },
  {
   "cell_type": "markdown",
   "metadata": {
    "id": "ebUWmhOiwwgH"
   },
   "source": [
    "# Correlation"
   ]
  },
  {
   "cell_type": "code",
   "execution_count": 21,
   "metadata": {
    "colab": {
     "base_uri": "https://localhost:8080/",
     "height": 295
    },
    "executionInfo": {
     "elapsed": 34,
     "status": "ok",
     "timestamp": 1624986844936,
     "user": {
      "displayName": "Dhea Fajriati Anas",
      "photoUrl": "",
      "userId": "06785531200581468033"
     },
     "user_tz": -420
    },
    "id": "TFJizp3OwwgH",
    "outputId": "659cf1c3-a024-4ed6-86f7-f3f49c6184cf"
   },
   "outputs": [
    {
     "data": {
      "image/png": "[encoded data removed]",
      "text/plain": [
       "<Figure size 432x288 with 1 Axes>"
      ]
     },
     "metadata": {
      "needs_background": "light",
      "tags": []
     },
     "output_type": "display_data"
    }
   ],
   "source": [
    "dff = data.copy()\n",
    "plt.figure(figsize = (6,4))\n",
    "sns.regplot(x='defence_goals_conceeded',y='attack_scored',data = dff)\n",
    "plt.title('Relationship Between Total Goals and Defense Conceded')\n",
    "plt.show()"
   ]
  },
  {
   "cell_type": "code",
   "execution_count": 22,
   "metadata": {
    "colab": {
     "base_uri": "https://localhost:8080/",
     "height": 270
    },
    "executionInfo": {
     "elapsed": 33,
     "status": "ok",
     "timestamp": 1624986844938,
     "user": {
      "displayName": "Dhea Fajriati Anas",
      "photoUrl": "",
      "userId": "06785531200581468033"
     },
     "user_tz": -420
    },
    "id": "kU_kh523wwgI",
    "outputId": "6fe99232-7b2f-4448-9319-3c795ae367db"
   },
   "outputs": [
    {
     "data": {
      "image/png": "[encoded data removed]",
      "text/plain": [
       "<Figure size 360x288 with 2 Axes>"
      ]
     },
     "metadata": {
      "needs_background": "light",
      "tags": []
     },
     "output_type": "display_data"
    }
   ],
   "source": [
    "#Correllation coefficient\n",
    "plt.figure(figsize=(5,4))\n",
    "sns.heatmap(dff[['defence_goals_conceeded','attack_scored']].corr(),annot=True)\n",
    "plt.show()"
   ]
  },
  {
   "cell_type": "code",
   "execution_count": 23,
   "metadata": {
    "colab": {
     "base_uri": "https://localhost:8080/",
     "height": 295
    },
    "executionInfo": {
     "elapsed": 1923,
     "status": "ok",
     "timestamp": 1624986846830,
     "user": {
      "displayName": "Dhea Fajriati Anas",
      "photoUrl": "",
      "userId": "06785531200581468033"
     },
     "user_tz": -420
    },
    "id": "vk2Z3aE4wwgI",
    "outputId": "a8386cb0-12a4-4b41-bda3-7f10ddf10ea8"
   },
   "outputs": [
    {
     "data": {
      "image/png": "[encoded data removed]",
      "text/plain": [
       "<Figure size 432x288 with 1 Axes>"
      ]
     },
     "metadata": {
      "needs_background": "light",
      "tags": []
     },
     "output_type": "display_data"
    }
   ],
   "source": [
    "plt.figure(figsize = (6,4))\n",
    "sns.regplot(x='attack_scored',y='attack_posession',data = dff)\n",
    "plt.title('Relationship Between Total Goals and Attack Possession')\n",
    "plt.show()"
   ]
  },
  {
   "cell_type": "code",
   "execution_count": 24,
   "metadata": {
    "colab": {
     "base_uri": "https://localhost:8080/",
     "height": 280
    },
    "executionInfo": {
     "elapsed": 68,
     "status": "ok",
     "timestamp": 1624986846834,
     "user": {
      "displayName": "Dhea Fajriati Anas",
      "photoUrl": "",
      "userId": "06785531200581468033"
     },
     "user_tz": -420
    },
    "id": "1m_RQ9qDwwgI",
    "outputId": "ccb565c8-27cd-4cf0-b9f7-d3c982e17415"
   },
   "outputs": [
    {
     "data": {
      "image/png": "[encoded data removed]",
      "text/plain": [
       "<Figure size 360x288 with 2 Axes>"
      ]
     },
     "metadata": {
      "needs_background": "light",
      "tags": []
     },
     "output_type": "display_data"
    }
   ],
   "source": [
    "#Correllation coefficient\n",
    "plt.figure(figsize=(5,4))\n",
    "sns.heatmap(dff[['attack_scored','attack_posession']].corr(),annot=True)\n",
    "plt.show()"
   ]
  },
  {
   "cell_type": "code",
   "execution_count": 25,
   "metadata": {
    "colab": {
     "base_uri": "https://localhost:8080/",
     "height": 295
    },
    "executionInfo": {
     "elapsed": 59,
     "status": "ok",
     "timestamp": 1624986846840,
     "user": {
      "displayName": "Dhea Fajriati Anas",
      "photoUrl": "",
      "userId": "06785531200581468033"
     },
     "user_tz": -420
    },
    "id": "unm1br4uwwgK",
    "outputId": "3c65005f-3fe4-4efd-dcf2-fe24b5202631"
   },
   "outputs": [
    {
     "data": {
      "image/png": "[encoded data removed]",
      "text/plain": [
       "<Figure size 432x288 with 1 Axes>"
      ]
     },
     "metadata": {
      "needs_background": "light",
      "tags": []
     },
     "output_type": "display_data"
    }
   ],
   "source": [
    "plt.figure(figsize = (6,4))\n",
    "sns.regplot(x='attack_scored',y='attack_shots',data = dff)\n",
    "plt.title('Relationship Between Total Goals and Total Attack Shots')\n",
    "plt.show()"
   ]
  },
  {
   "cell_type": "code",
   "execution_count": 26,
   "metadata": {
    "colab": {
     "base_uri": "https://localhost:8080/",
     "height": 270
    },
    "executionInfo": {
     "elapsed": 55,
     "status": "ok",
     "timestamp": 1624986846842,
     "user": {
      "displayName": "Dhea Fajriati Anas",
      "photoUrl": "",
      "userId": "06785531200581468033"
     },
     "user_tz": -420
    },
    "id": "aNGgjKBOwwgL",
    "outputId": "e87b4943-277c-4db0-9de8-a5b8fa08201a"
   },
   "outputs": [
    {
     "data": {
      "image/png": "[encoded data removed]",
      "text/plain": [
       "<Figure size 360x288 with 2 Axes>"
      ]
     },
     "metadata": {
      "needs_background": "light",
      "tags": []
     },
     "output_type": "display_data"
    }
   ],
   "source": [
    "#Correllation coefficient\n",
    "plt.figure(figsize=(5,4))\n",
    "sns.heatmap(dff[['attack_scored','attack_shots']].corr(),annot=True)\n",
    "plt.show()"
   ]
  },
  {
   "cell_type": "code",
   "execution_count": 27,
   "metadata": {
    "colab": {
     "base_uri": "https://localhost:8080/",
     "height": 295
    },
    "executionInfo": {
     "elapsed": 53,
     "status": "ok",
     "timestamp": 1624986846845,
     "user": {
      "displayName": "Dhea Fajriati Anas",
      "photoUrl": "",
      "userId": "06785531200581468033"
     },
     "user_tz": -420
    },
    "id": "um9_hoo8wwgM",
    "outputId": "8c5f6c29-5932-42e0-ca10-13b87efd3839"
   },
   "outputs": [
    {
     "data": {
      "image/png": "[encoded data removed]",
      "text/plain": [
       "<Figure size 432x288 with 1 Axes>"
      ]
     },
     "metadata": {
      "needs_background": "light",
      "tags": []
     },
     "output_type": "display_data"
    }
   ],
   "source": [
    "plt.figure(figsize = (6,4))\n",
    "sns.regplot(x='general_lost',y='attack_posession',data = dff)\n",
    "plt.title('Relationship Between Total Lost and Attack Possession')\n",
    "plt.show()"
   ]
  },
  {
   "cell_type": "code",
   "execution_count": 28,
   "metadata": {
    "colab": {
     "base_uri": "https://localhost:8080/",
     "height": 280
    },
    "executionInfo": {
     "elapsed": 1467,
     "status": "ok",
     "timestamp": 1624986848264,
     "user": {
      "displayName": "Dhea Fajriati Anas",
      "photoUrl": "",
      "userId": "06785531200581468033"
     },
     "user_tz": -420
    },
    "id": "zF_tJhhxwwgN",
    "outputId": "2bde923d-4e68-4ce1-a5e0-b8cc4ad0a44e"
   },
   "outputs": [
    {
     "data": {
      "image/png": "[encoded data removed]",
      "text/plain": [
       "<Figure size 360x288 with 2 Axes>"
      ]
     },
     "metadata": {
      "needs_background": "light",
      "tags": []
     },
     "output_type": "display_data"
    }
   ],
   "source": [
    "#Correllation coefficient\n",
    "plt.figure(figsize=(5,4))\n",
    "sns.heatmap(dff[['general_lost','attack_posession']].corr(),annot=True)\n",
    "plt.show()"
   ]
  }
 ],
 "metadata": {
  "colab": {
   "collapsed_sections": [],
   "name": "DheaFajriatiAnas_PracticeCaseEDA.ipynb",
   "provenance": []
  },
  "kernelspec": {
   "display_name": "Python 3",
   "language": "python",
   "name": "python3"
  },
  "language_info": {
   "codemirror_mode": {
    "name": "ipython",
    "version": 3
   },
   "file_extension": ".py",
   "mimetype": "text/x-python",
   "name": "python",
   "nbconvert_exporter": "python",
   "pygments_lexer": "ipython3",
   "version": "3.8.5"
  }
 },
 "nbformat": 4,
 "nbformat_minor": 1
}
