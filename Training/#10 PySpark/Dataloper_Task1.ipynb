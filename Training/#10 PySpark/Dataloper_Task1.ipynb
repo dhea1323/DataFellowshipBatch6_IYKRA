{
  "nbformat": 4,
  "nbformat_minor": 0,
  "metadata": {
    "anaconda-cloud": {},
    "kernelspec": {
      "display_name": "Python [conda root]",
      "language": "python",
      "name": "conda-root-py"
    },
    "language_info": {
      "codemirror_mode": {
        "name": "ipython",
        "version": 3
      },
      "file_extension": ".py",
      "mimetype": "text/x-python",
      "name": "python",
      "nbconvert_exporter": "python",
      "pygments_lexer": "ipython3",
      "version": "3.5.3"
    },
    "colab": {
      "name": "Dataloper_Task1.ipynb",
      "provenance": [],
      "collapsed_sections": []
    }
  },
  "cells": [
    {
      "cell_type": "markdown",
      "metadata": {
        "id": "-C2D0_b3mz5d"
      },
      "source": [
        "# Spark DataFrames Project Exercise "
      ]
    },
    {
      "cell_type": "markdown",
      "metadata": {
        "id": "H7axQhsdmz5g"
      },
      "source": [
        "Let's get some quick practice with your new Spark DataFrame skills, you will be asked some basic questions about some stock market data, in this case Walmart Stock from the years 2012-2017. This exercise will just ask a bunch of questions, unlike the future machine learning exercises, which will be a little looser and be in the form of \"Consulting Projects\", but more on that later!\n",
        "\n",
        "For now, just answer the questions and complete the tasks below."
      ]
    },
    {
      "cell_type": "markdown",
      "metadata": {
        "id": "dt1iXKo8mz5h"
      },
      "source": [
        "#### Use the walmart_stock.csv file to Answer and complete the  tasks below!"
      ]
    },
    {
      "cell_type": "code",
      "metadata": {
        "colab": {
          "base_uri": "https://localhost:8080/"
        },
        "id": "-wL0GOgRGqw7",
        "outputId": "0eee6bd9-1721-4043-e945-50e9c2189bae"
      },
      "source": [
        "# Setting up the PySpark environment\n",
        "\n",
        "# Install java 8\n",
        "!apt-get update\n",
        "!apt-get install openjdk-8-jdk-headless -qq > /dev/null\n",
        "\n",
        "# Download Apache Spark binary: This link can change based on the version. Update this link with the latest version before using\n",
        "!wget -q https://downloads.apache.org/spark/spark-3.1.2/spark-3.1.2-bin-hadoop3.2.tgz\n",
        "\n",
        "# Unzip file\n",
        "!tar -xf spark-3.1.2-bin-hadoop3.2.tgz\n",
        "\n",
        "# Install findspark: Adds Pyspark to sys.path at runtime\n",
        "!pip install -q findspark\n",
        "\n",
        "# Install pyspark\n",
        "!pip install pyspark\n",
        "\n",
        "# Add environmental variables\n",
        "import os\n",
        "os.environ[\"JAVA_HOME\"] = \"/usr/lib/jvm/java-8-openjdk-amd64\"\n",
        "os.environ[\"SPARK_HOME\"] = \"/content/spark-3.1.2-bin-hadoop3.2\"\n",
        "\n",
        "# findspark will locate spark in the system\n",
        "import findspark\n",
        "findspark.init()"
      ],
      "execution_count": null,
      "outputs": [
        {
          "output_type": "stream",
          "text": [
            "\r0% [Working]\r            \rGet:1 http://security.ubuntu.com/ubuntu bionic-security InRelease [88.7 kB]\n",
            "\r0% [Connecting to archive.ubuntu.com (91.189.88.152)] [1 InRelease 14.2 kB/88.7\r                                                                               \rGet:2 https://cloud.r-project.org/bin/linux/ubuntu bionic-cran40/ InRelease [3,626 B]\n",
            "Ign:3 https://developer.download.nvidia.com/compute/cuda/repos/ubuntu1804/x86_64  InRelease\n",
            "Ign:4 https://developer.download.nvidia.com/compute/machine-learning/repos/ubuntu1804/x86_64  InRelease\n",
            "Get:5 http://ppa.launchpad.net/c2d4u.team/c2d4u4.0+/ubuntu bionic InRelease [15.9 kB]\n",
            "Hit:6 https://developer.download.nvidia.com/compute/cuda/repos/ubuntu1804/x86_64  Release\n",
            "Hit:7 https://developer.download.nvidia.com/compute/machine-learning/repos/ubuntu1804/x86_64  Release\n",
            "Hit:8 http://archive.ubuntu.com/ubuntu bionic InRelease\n",
            "Get:9 http://archive.ubuntu.com/ubuntu bionic-updates InRelease [88.7 kB]\n",
            "Hit:10 http://ppa.launchpad.net/cran/libgit2/ubuntu bionic InRelease\n",
            "Hit:11 http://ppa.launchpad.net/deadsnakes/ppa/ubuntu bionic InRelease\n",
            "Get:12 http://security.ubuntu.com/ubuntu bionic-security/main amd64 Packages [2,294 kB]\n",
            "Get:13 http://archive.ubuntu.com/ubuntu bionic-backports InRelease [74.6 kB]\n",
            "Hit:14 http://ppa.launchpad.net/graphics-drivers/ppa/ubuntu bionic InRelease\n",
            "Get:15 http://security.ubuntu.com/ubuntu bionic-security/universe amd64 Packages [1,424 kB]\n",
            "Get:17 http://security.ubuntu.com/ubuntu bionic-security/restricted amd64 Packages [543 kB]\n",
            "Get:19 http://ppa.launchpad.net/c2d4u.team/c2d4u4.0+/ubuntu bionic/main Sources [1,793 kB]\n",
            "Get:20 http://archive.ubuntu.com/ubuntu bionic-updates/main amd64 Packages [2,730 kB]\n",
            "Get:21 http://ppa.launchpad.net/c2d4u.team/c2d4u4.0+/ubuntu bionic/main amd64 Packages [917 kB]\n",
            "Get:22 http://archive.ubuntu.com/ubuntu bionic-updates/universe amd64 Packages [2,199 kB]\n",
            "Get:23 http://archive.ubuntu.com/ubuntu bionic-updates/multiverse amd64 Packages [34.4 kB]\n",
            "Get:24 http://archive.ubuntu.com/ubuntu bionic-updates/restricted amd64 Packages [575 kB]\n",
            "Fetched 12.8 MB in 4s (3,544 kB/s)\n",
            "Reading package lists... Done\n",
            "Collecting pyspark\n",
            "  Downloading pyspark-3.1.2.tar.gz (212.4 MB)\n",
            "\u001b[K     |████████████████████████████████| 212.4 MB 66 kB/s \n",
            "\u001b[?25hCollecting py4j==0.10.9\n",
            "  Downloading py4j-0.10.9-py2.py3-none-any.whl (198 kB)\n",
            "\u001b[K     |████████████████████████████████| 198 kB 46.8 MB/s \n",
            "\u001b[?25hBuilding wheels for collected packages: pyspark\n",
            "  Building wheel for pyspark (setup.py) ... \u001b[?25l\u001b[?25hdone\n",
            "  Created wheel for pyspark: filename=pyspark-3.1.2-py2.py3-none-any.whl size=212880768 sha256=510066eecfb1279a33ba58073a254e802df8b1c454cfeae7f661c2bed305ca6e\n",
            "  Stored in directory: /root/.cache/pip/wheels/a5/0a/c1/9561f6fecb759579a7d863dcd846daaa95f598744e71b02c77\n",
            "Successfully built pyspark\n",
            "Installing collected packages: py4j, pyspark\n",
            "Successfully installed py4j-0.10.9 pyspark-3.1.2\n"
          ],
          "name": "stdout"
        }
      ]
    },
    {
      "cell_type": "markdown",
      "metadata": {
        "id": "4XlcVjkSmz5i"
      },
      "source": [
        "#### Start a simple Spark Session"
      ]
    },
    {
      "cell_type": "code",
      "metadata": {
        "collapsed": true,
        "id": "Sc62a3lgmz5j"
      },
      "source": [
        "from pyspark.sql import SparkSession\n",
        "\n",
        "spark = SparkSession.builder \\\n",
        "        .master(\"local\") \\\n",
        "        .appName(\"Hands-on PySpark on Google Colab\") \\\n",
        "        .getOrCreate()"
      ],
      "execution_count": null,
      "outputs": []
    },
    {
      "cell_type": "markdown",
      "metadata": {
        "id": "R9x9btVLmz5j"
      },
      "source": [
        "#### Load the Walmart Stock CSV File, have Spark infer the data types."
      ]
    },
    {
      "cell_type": "code",
      "metadata": {
        "id": "lFztzOaTmz5k",
        "colab": {
          "base_uri": "https://localhost:8080/"
        },
        "outputId": "6e3f52f9-8556-4c70-b84c-0f321939a7ae"
      },
      "source": [
        "from google.colab import drive\n",
        "drive.mount('/content/drive')"
      ],
      "execution_count": null,
      "outputs": [
        {
          "output_type": "stream",
          "text": [
            "Mounted at /content/drive\n"
          ],
          "name": "stdout"
        }
      ]
    },
    {
      "cell_type": "code",
      "metadata": {
        "id": "LjjNhStOIXQ0"
      },
      "source": [
        "filepath = \"/content/drive/MyDrive/IYKRA/#10/Task_1/walmart_stock.csv\"\n",
        "spark_df = spark.read.format('csv').options(header='true', inferSchema='true').load(filepath)"
      ],
      "execution_count": null,
      "outputs": []
    },
    {
      "cell_type": "code",
      "metadata": {
        "colab": {
          "base_uri": "https://localhost:8080/"
        },
        "id": "BVrcaQypzvlM",
        "outputId": "8f4d66bd-e644-4bba-92ad-152ef446931f"
      },
      "source": [
        "spark_df.dtypes"
      ],
      "execution_count": null,
      "outputs": [
        {
          "output_type": "execute_result",
          "data": {
            "text/plain": [
              "[('Date', 'string'),\n",
              " ('Open', 'double'),\n",
              " ('High', 'double'),\n",
              " ('Low', 'double'),\n",
              " ('Close', 'double'),\n",
              " ('Volume', 'int'),\n",
              " ('Adj Close', 'double')]"
            ]
          },
          "metadata": {},
          "execution_count": 5
        }
      ]
    },
    {
      "cell_type": "markdown",
      "metadata": {
        "id": "sRCqkTd6mz5l"
      },
      "source": [
        "#### What are the column names?"
      ]
    },
    {
      "cell_type": "code",
      "metadata": {
        "id": "wrZequeOm6Qg",
        "colab": {
          "base_uri": "https://localhost:8080/"
        },
        "outputId": "4bc20822-158f-4901-8e0f-c4fe4e014c40"
      },
      "source": [
        "spark_df.schema.names"
      ],
      "execution_count": null,
      "outputs": [
        {
          "output_type": "execute_result",
          "data": {
            "text/plain": [
              "['Date', 'Open', 'High', 'Low', 'Close', 'Volume', 'Adj Close']"
            ]
          },
          "metadata": {},
          "execution_count": 6
        }
      ]
    },
    {
      "cell_type": "markdown",
      "metadata": {
        "id": "OjdeHvmSmz5n"
      },
      "source": [
        "#### What does the Schema look like?"
      ]
    },
    {
      "cell_type": "code",
      "metadata": {
        "id": "aBhwjX4rm73Z",
        "colab": {
          "base_uri": "https://localhost:8080/"
        },
        "outputId": "60d7cb5b-6ad9-4fc4-e591-e15839927f93"
      },
      "source": [
        "spark_df.printSchema()"
      ],
      "execution_count": null,
      "outputs": [
        {
          "output_type": "stream",
          "text": [
            "root\n",
            " |-- Date: string (nullable = true)\n",
            " |-- Open: double (nullable = true)\n",
            " |-- High: double (nullable = true)\n",
            " |-- Low: double (nullable = true)\n",
            " |-- Close: double (nullable = true)\n",
            " |-- Volume: integer (nullable = true)\n",
            " |-- Adj Close: double (nullable = true)\n",
            "\n"
          ],
          "name": "stdout"
        }
      ]
    },
    {
      "cell_type": "markdown",
      "metadata": {
        "id": "4j__pGtKmz5o"
      },
      "source": [
        "#### Print out the first 5 columns."
      ]
    },
    {
      "cell_type": "code",
      "metadata": {
        "id": "3rxnNIl3m9Nb",
        "colab": {
          "base_uri": "https://localhost:8080/"
        },
        "outputId": "586f23ff-d824-48fe-a610-f8eecf480f20"
      },
      "source": [
        "spark_df.select(spark_df.columns[:5]).show()"
      ],
      "execution_count": null,
      "outputs": [
        {
          "output_type": "stream",
          "text": [
            "+----------+------------------+------------------+------------------+------------------+\n",
            "|      Date|              Open|              High|               Low|             Close|\n",
            "+----------+------------------+------------------+------------------+------------------+\n",
            "|2012-01-03|         59.970001|         61.060001|         59.869999|         60.330002|\n",
            "|2012-01-04|60.209998999999996|         60.349998|         59.470001|59.709998999999996|\n",
            "|2012-01-05|         59.349998|         59.619999|         58.369999|         59.419998|\n",
            "|2012-01-06|         59.419998|         59.450001|         58.869999|              59.0|\n",
            "|2012-01-09|         59.029999|         59.549999|         58.919998|             59.18|\n",
            "|2012-01-10|             59.43|59.709998999999996|             58.98|59.040001000000004|\n",
            "|2012-01-11|         59.060001|         59.529999|59.040001000000004|         59.400002|\n",
            "|2012-01-12|59.790001000000004|              60.0|         59.400002|              59.5|\n",
            "|2012-01-13|             59.18|59.610001000000004|59.009997999999996|59.540001000000004|\n",
            "|2012-01-17|         59.869999|60.110001000000004|             59.52|         59.849998|\n",
            "|2012-01-18|59.790001000000004|         60.029999|         59.650002|60.009997999999996|\n",
            "|2012-01-19|             59.93|             60.73|             59.75|60.610001000000004|\n",
            "|2012-01-20|             60.75|             61.25|         60.669998|61.009997999999996|\n",
            "|2012-01-23|         60.810001|             60.98|60.509997999999996|             60.91|\n",
            "|2012-01-24|             60.75|              62.0|             60.75|61.389998999999996|\n",
            "|2012-01-25|             61.18|61.610001000000004|61.040001000000004|         61.470001|\n",
            "|2012-01-26|         61.799999|             61.84|             60.77|         60.970001|\n",
            "|2012-01-27|60.860001000000004|         61.119999|60.540001000000004|60.709998999999996|\n",
            "|2012-01-30|         60.470001|             61.32|         60.349998|         61.299999|\n",
            "|2012-01-31|         61.529999|             61.57|         60.580002|61.360001000000004|\n",
            "+----------+------------------+------------------+------------------+------------------+\n",
            "only showing top 20 rows\n",
            "\n"
          ],
          "name": "stdout"
        }
      ]
    },
    {
      "cell_type": "markdown",
      "metadata": {
        "id": "ThU0gi9_mz5p"
      },
      "source": [
        "#### Use describe() to learn about the DataFrame."
      ]
    },
    {
      "cell_type": "code",
      "metadata": {
        "id": "jGKN3qamm_vF",
        "colab": {
          "base_uri": "https://localhost:8080/"
        },
        "outputId": "e554f53d-803f-4e5a-f374-1d5a35d61045"
      },
      "source": [
        "spark_df.describe().show()"
      ],
      "execution_count": null,
      "outputs": [
        {
          "output_type": "stream",
          "text": [
            "+-------+----------+------------------+-----------------+-----------------+-----------------+-----------------+-----------------+\n",
            "|summary|      Date|              Open|             High|              Low|            Close|           Volume|        Adj Close|\n",
            "+-------+----------+------------------+-----------------+-----------------+-----------------+-----------------+-----------------+\n",
            "|  count|      1258|              1258|             1258|             1258|             1258|             1258|             1258|\n",
            "|   mean|      null| 72.35785375357709|72.83938807631165| 71.9186009594594|72.38844998012726|8222093.481717011|67.23883848728146|\n",
            "| stddev|      null|  6.76809024470826|6.768186808159218|6.744075756255496|6.756859163732991|  4519780.8431556|6.722609449996857|\n",
            "|    min|2012-01-03|56.389998999999996|        57.060001|        56.299999|        56.419998|          2094900|        50.363689|\n",
            "|    max|2016-12-30|         90.800003|        90.970001|            89.25|        90.470001|         80898100|84.91421600000001|\n",
            "+-------+----------+------------------+-----------------+-----------------+-----------------+-----------------+-----------------+\n",
            "\n"
          ],
          "name": "stdout"
        }
      ]
    },
    {
      "cell_type": "markdown",
      "metadata": {
        "id": "S_MjIMLymz5q"
      },
      "source": [
        "## Bonus Question!\n",
        "#### There are too many decimal places for mean and stddev in the describe() dataframe. Format the numbers to just show up to two decimal places. Pay careful attention to the datatypes that .describe() returns, we didn't cover how to do this exact formatting, but we covered something very similar.\n",
        "\n",
        "If you get stuck on this, don't worry, just find the way :)"
      ]
    },
    {
      "cell_type": "code",
      "metadata": {
        "colab": {
          "base_uri": "https://localhost:8080/"
        },
        "id": "OPIN1TgpOVhB",
        "outputId": "1f22ee83-a062-4ae5-ad97-64da21d132dd"
      },
      "source": [
        "from pyspark.sql.functions import format_number\n",
        "desc_df = spark_df.describe()\n",
        "desc_df.select(desc_df['summary'],\n",
        "              format_number(desc_df['Open'].cast('float'),2).alias('Open'),\n",
        "              format_number(desc_df['High'].cast('float'), 2).alias('High'),\n",
        "              format_number(desc_df['Low'].cast('float'), 2).alias('Low'),\n",
        "              format_number(desc_df['Close'].cast('float'), 2).alias('Close'),\n",
        "              desc_df['Volume'].cast('int').alias('Volume'),\n",
        "              format_number(desc_df['Adj Close'].cast('float'), 2).alias('AdjClose')).show()"
      ],
      "execution_count": null,
      "outputs": [
        {
          "output_type": "stream",
          "text": [
            "+-------+--------+--------+--------+--------+--------+--------+\n",
            "|summary|    Open|    High|     Low|   Close|  Volume|AdjClose|\n",
            "+-------+--------+--------+--------+--------+--------+--------+\n",
            "|  count|1,258.00|1,258.00|1,258.00|1,258.00|    1258|1,258.00|\n",
            "|   mean|   72.36|   72.84|   71.92|   72.39| 8222093|   67.24|\n",
            "| stddev|    6.77|    6.77|    6.74|    6.76| 4519780|    6.72|\n",
            "|    min|   56.39|   57.06|   56.30|   56.42| 2094900|   50.36|\n",
            "|    max|   90.80|   90.97|   89.25|   90.47|80898100|   84.91|\n",
            "+-------+--------+--------+--------+--------+--------+--------+\n",
            "\n"
          ],
          "name": "stdout"
        }
      ]
    },
    {
      "cell_type": "markdown",
      "metadata": {
        "id": "q_znArTrmz5r"
      },
      "source": [
        "#### Create a new dataframe with a column called HV Ratio that is the ratio of the High Price versus volume of stock traded for a day."
      ]
    },
    {
      "cell_type": "code",
      "metadata": {
        "id": "Fex3CZO8nZi6",
        "colab": {
          "base_uri": "https://localhost:8080/"
        },
        "outputId": "2b2a8178-d1b3-40e7-9728-2c3a06a31048"
      },
      "source": [
        "df = spark_df.withColumn(\"HV Ratio\", spark_df['High']/spark_df['Volume'])\n",
        "df.select(\"HV Ratio\").show(5, truncate=False)"
      ],
      "execution_count": null,
      "outputs": [
        {
          "output_type": "stream",
          "text": [
            "+--------------------+\n",
            "|HV Ratio            |\n",
            "+--------------------+\n",
            "|4.819714653321546E-6|\n",
            "|6.290848613094555E-6|\n",
            "|4.669412994783916E-6|\n",
            "|7.367338463826307E-6|\n",
            "|8.915604778943901E-6|\n",
            "+--------------------+\n",
            "only showing top 5 rows\n",
            "\n"
          ],
          "name": "stdout"
        }
      ]
    },
    {
      "cell_type": "markdown",
      "metadata": {
        "id": "7EotJ7Zemz5s"
      },
      "source": [
        "#### What day had the Peak High in Price?"
      ]
    },
    {
      "cell_type": "code",
      "metadata": {
        "id": "t_icEqRenbDf",
        "colab": {
          "base_uri": "https://localhost:8080/"
        },
        "outputId": "740925c0-fee2-401a-d447-31f9e4144425"
      },
      "source": [
        "print(df.orderBy(df['High'].desc()).head(1)[0][0])"
      ],
      "execution_count": null,
      "outputs": [
        {
          "output_type": "stream",
          "text": [
            "2015-01-13\n"
          ],
          "name": "stdout"
        }
      ]
    },
    {
      "cell_type": "markdown",
      "metadata": {
        "id": "4G7qHaTtmz5s"
      },
      "source": [
        "#### What is the mean of the Close column?"
      ]
    },
    {
      "cell_type": "code",
      "metadata": {
        "id": "oU-C_y4RncZl",
        "colab": {
          "base_uri": "https://localhost:8080/"
        },
        "outputId": "d051988a-87d6-406a-d4c3-1576a1d44625"
      },
      "source": [
        "from pyspark.sql.functions import mean\n",
        "df.select(mean('Close')).show()"
      ],
      "execution_count": null,
      "outputs": [
        {
          "output_type": "stream",
          "text": [
            "+-----------------+\n",
            "|       avg(Close)|\n",
            "+-----------------+\n",
            "|72.38844998012726|\n",
            "+-----------------+\n",
            "\n"
          ],
          "name": "stdout"
        }
      ]
    },
    {
      "cell_type": "markdown",
      "metadata": {
        "id": "8a-qnQUrmz5t"
      },
      "source": [
        "#### What is the max and min of the Volume column?"
      ]
    },
    {
      "cell_type": "code",
      "metadata": {
        "id": "ivZW6yGfmz5t",
        "colab": {
          "base_uri": "https://localhost:8080/"
        },
        "outputId": "59a499f1-d205-45ab-c345-266b0ed3600b"
      },
      "source": [
        "from pyspark.sql.functions import max, min\n",
        "df.select(max('Volume'), min('Volume')).show()"
      ],
      "execution_count": null,
      "outputs": [
        {
          "output_type": "stream",
          "text": [
            "+-----------+-----------+\n",
            "|max(Volume)|min(Volume)|\n",
            "+-----------+-----------+\n",
            "|   80898100|    2094900|\n",
            "+-----------+-----------+\n",
            "\n"
          ],
          "name": "stdout"
        }
      ]
    },
    {
      "cell_type": "markdown",
      "metadata": {
        "id": "qkuVZaVImz5u"
      },
      "source": [
        "#### How many days was the Close lower than 60 dollars?"
      ]
    },
    {
      "cell_type": "code",
      "metadata": {
        "id": "xjZFJh1znewH",
        "colab": {
          "base_uri": "https://localhost:8080/"
        },
        "outputId": "440f585a-a880-44d5-8823-4175fe51abec"
      },
      "source": [
        "print(df.filter(df['Close'] < 60).count())"
      ],
      "execution_count": null,
      "outputs": [
        {
          "output_type": "stream",
          "text": [
            "81\n"
          ],
          "name": "stdout"
        }
      ]
    },
    {
      "cell_type": "markdown",
      "metadata": {
        "id": "Wyfk6QQ4mz5u"
      },
      "source": [
        "#### What percentage of the time was the High greater than 80 dollars ?\n",
        "#### In other words, (Number of Days High>80)/(Total Days in the dataset)"
      ]
    },
    {
      "cell_type": "code",
      "metadata": {
        "id": "zjQaozJgngLY",
        "colab": {
          "base_uri": "https://localhost:8080/"
        },
        "outputId": "4908d866-3000-4c99-916c-da7f9203b5a2"
      },
      "source": [
        "print((df.filter(df['High']>80).count()/df.count()) * 100)"
      ],
      "execution_count": null,
      "outputs": [
        {
          "output_type": "stream",
          "text": [
            "9.141494435612083\n"
          ],
          "name": "stdout"
        }
      ]
    },
    {
      "cell_type": "markdown",
      "metadata": {
        "id": "eLmPYY2Lmz5u"
      },
      "source": [
        "#### What is the Pearson correlation between High and Volume?"
      ]
    },
    {
      "cell_type": "code",
      "metadata": {
        "id": "aANGJgySnlN0",
        "colab": {
          "base_uri": "https://localhost:8080/"
        },
        "outputId": "1af110c7-9455-45e8-e722-a9446e5af14b"
      },
      "source": [
        "from pyspark.sql.functions import corr\n",
        "df.select(corr('High','Volume')).show()"
      ],
      "execution_count": null,
      "outputs": [
        {
          "output_type": "stream",
          "text": [
            "+-------------------+\n",
            "| corr(High, Volume)|\n",
            "+-------------------+\n",
            "|-0.3384326061737161|\n",
            "+-------------------+\n",
            "\n"
          ],
          "name": "stdout"
        }
      ]
    },
    {
      "cell_type": "markdown",
      "metadata": {
        "id": "Fyc2Tbkbmz5v"
      },
      "source": [
        "#### What is the max High per year?"
      ]
    },
    {
      "cell_type": "code",
      "metadata": {
        "id": "ka59BOW1nmb8",
        "colab": {
          "base_uri": "https://localhost:8080/"
        },
        "outputId": "121bab1a-f106-40a8-e954-265ed324a297"
      },
      "source": [
        "from pyspark.sql.functions import year\n",
        "yeardf = df.withColumn(\"Year\", year(df['Date']))\n",
        "max_df = yeardf.groupBy('Year').max()\n",
        "max_df.select('Year','max(High)').show()"
      ],
      "execution_count": null,
      "outputs": [
        {
          "output_type": "stream",
          "text": [
            "+----+---------+\n",
            "|Year|max(High)|\n",
            "+----+---------+\n",
            "|2015|90.970001|\n",
            "|2013|81.370003|\n",
            "|2014|88.089996|\n",
            "|2012|77.599998|\n",
            "|2016|75.190002|\n",
            "+----+---------+\n",
            "\n"
          ],
          "name": "stdout"
        }
      ]
    },
    {
      "cell_type": "markdown",
      "metadata": {
        "id": "6WxgjAuFmz5v"
      },
      "source": [
        "#### What is the average Close for each Calendar Month?\n",
        "#### In other words, across all the years, what is the average Close price for Jan,Feb, Mar, etc... Your result will have a value for each of these months. "
      ]
    },
    {
      "cell_type": "code",
      "metadata": {
        "id": "aMyQwoEznrKT",
        "colab": {
          "base_uri": "https://localhost:8080/"
        },
        "outputId": "625a4bc7-79e4-4716-91be-c81b7e32c36b"
      },
      "source": [
        "from pyspark.sql.functions import month\n",
        "monthdf = df.withColumn('Month',month('Date'))\n",
        "monthavgs = monthdf.select(['Month','Close']).groupBy('Month').mean()\n",
        "monthavgs.select('Month','avg(Close)').orderBy('Month').show()"
      ],
      "execution_count": null,
      "outputs": [
        {
          "output_type": "stream",
          "text": [
            "+-----+-----------------+\n",
            "|Month|       avg(Close)|\n",
            "+-----+-----------------+\n",
            "|    1|71.44801958415842|\n",
            "|    2|  71.306804443299|\n",
            "|    3|71.77794377570092|\n",
            "|    4|72.97361900952382|\n",
            "|    5|72.30971688679247|\n",
            "|    6| 72.4953774245283|\n",
            "|    7|74.43971943925233|\n",
            "|    8|73.02981855454546|\n",
            "|    9|72.18411785294116|\n",
            "|   10|71.57854545454543|\n",
            "|   11| 72.1110893069307|\n",
            "|   12|72.84792478301885|\n",
            "+-----+-----------------+\n",
            "\n"
          ],
          "name": "stdout"
        }
      ]
    },
    {
      "cell_type": "markdown",
      "metadata": {
        "id": "bEFhk7Fvmz5v"
      },
      "source": [
        "# Great Job!"
      ]
    }
  ]
}