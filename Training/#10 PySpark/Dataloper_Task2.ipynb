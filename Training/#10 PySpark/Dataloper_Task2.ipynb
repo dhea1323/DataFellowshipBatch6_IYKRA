{
  "nbformat": 4,
  "nbformat_minor": 0,
  "metadata": {
    "kernelspec": {
      "display_name": "Python 3",
      "language": "python",
      "name": "python3"
    },
    "language_info": {
      "codemirror_mode": {
        "name": "ipython",
        "version": 3
      },
      "file_extension": ".py",
      "mimetype": "text/x-python",
      "name": "python",
      "nbconvert_exporter": "python",
      "pygments_lexer": "ipython3",
      "version": "3.6.2"
    },
    "colab": {
      "name": "Dataloper_Task2.ipynb",
      "provenance": [],
      "collapsed_sections": []
    }
  },
  "cells": [
    {
      "cell_type": "markdown",
      "metadata": {
        "id": "Lpmipr70jTMk"
      },
      "source": [
        "# DATA CLEANING (TECHNICAL CODING ROUND)\n",
        "__ Creator : Rahul Muliana - SDE __"
      ]
    },
    {
      "cell_type": "code",
      "metadata": {
        "colab": {
          "base_uri": "https://localhost:8080/"
        },
        "id": "7Mrg9obQVmAX",
        "outputId": "828c28be-4c84-4a93-8602-49cfdd1d6cd2"
      },
      "source": [
        "# Setting up the PySpark environment\n",
        "\n",
        "# Install java 8\n",
        "!apt-get update\n",
        "!apt-get install openjdk-8-jdk-headless -qq > /dev/null\n",
        "\n",
        "# Download Apache Spark binary: This link can change based on the version. Update this link with the latest version before using\n",
        "!wget -q https://downloads.apache.org/spark/spark-3.1.2/spark-3.1.2-bin-hadoop3.2.tgz\n",
        "\n",
        "# Unzip file\n",
        "!tar -xf spark-3.1.2-bin-hadoop3.2.tgz\n",
        "\n",
        "# Install findspark: Adds Pyspark to sys.path at runtime\n",
        "!pip install -q findspark\n",
        "\n",
        "# Install pyspark\n",
        "!pip install pyspark\n",
        "\n",
        "# Add environmental variables\n",
        "import os\n",
        "os.environ[\"JAVA_HOME\"] = \"/usr/lib/jvm/java-8-openjdk-amd64\"\n",
        "os.environ[\"SPARK_HOME\"] = \"/content/spark-3.1.2-bin-hadoop3.2\"\n",
        "\n",
        "# findspark will locate spark in the system\n",
        "import findspark\n",
        "findspark.init()"
      ],
      "execution_count": null,
      "outputs": [
        {
          "output_type": "stream",
          "text": [
            "\r0% [Working]\r            \rGet:1 http://security.ubuntu.com/ubuntu bionic-security InRelease [88.7 kB]\n",
            "Ign:2 https://developer.download.nvidia.com/compute/cuda/repos/ubuntu1804/x86_64  InRelease\n",
            "Get:3 http://ppa.launchpad.net/c2d4u.team/c2d4u4.0+/ubuntu bionic InRelease [15.9 kB]\n",
            "Hit:4 http://archive.ubuntu.com/ubuntu bionic InRelease\n",
            "Get:5 http://archive.ubuntu.com/ubuntu bionic-updates InRelease [88.7 kB]\n",
            "Ign:6 https://developer.download.nvidia.com/compute/machine-learning/repos/ubuntu1804/x86_64  InRelease\n",
            "Hit:7 https://developer.download.nvidia.com/compute/cuda/repos/ubuntu1804/x86_64  Release\n",
            "Hit:8 https://developer.download.nvidia.com/compute/machine-learning/repos/ubuntu1804/x86_64  Release\n",
            "Get:9 https://cloud.r-project.org/bin/linux/ubuntu bionic-cran40/ InRelease [3,626 B]\n",
            "Hit:10 http://ppa.launchpad.net/cran/libgit2/ubuntu bionic InRelease\n",
            "Get:11 http://security.ubuntu.com/ubuntu bionic-security/restricted amd64 Packages [543 kB]\n",
            "Hit:12 http://ppa.launchpad.net/deadsnakes/ppa/ubuntu bionic InRelease\n",
            "Get:13 http://archive.ubuntu.com/ubuntu bionic-backports InRelease [74.6 kB]\n",
            "Get:14 http://security.ubuntu.com/ubuntu bionic-security/universe amd64 Packages [1,424 kB]\n",
            "Get:15 http://security.ubuntu.com/ubuntu bionic-security/main amd64 Packages [2,294 kB]\n",
            "Hit:16 http://ppa.launchpad.net/graphics-drivers/ppa/ubuntu bionic InRelease\n",
            "Get:17 http://ppa.launchpad.net/c2d4u.team/c2d4u4.0+/ubuntu bionic/main Sources [1,792 kB]\n",
            "Get:20 http://ppa.launchpad.net/c2d4u.team/c2d4u4.0+/ubuntu bionic/main amd64 Packages [917 kB]\n",
            "Get:21 http://archive.ubuntu.com/ubuntu bionic-updates/universe amd64 Packages [2,199 kB]\n",
            "Get:22 http://archive.ubuntu.com/ubuntu bionic-updates/multiverse amd64 Packages [34.4 kB]\n",
            "Get:23 http://archive.ubuntu.com/ubuntu bionic-updates/restricted amd64 Packages [575 kB]\n",
            "Get:24 http://archive.ubuntu.com/ubuntu bionic-updates/main amd64 Packages [2,730 kB]\n",
            "Fetched 12.8 MB in 4s (3,604 kB/s)\n",
            "Reading package lists... Done\n",
            "Collecting pyspark\n",
            "  Downloading pyspark-3.1.2.tar.gz (212.4 MB)\n",
            "\u001b[K     |████████████████████████████████| 212.4 MB 57 kB/s \n",
            "\u001b[?25hCollecting py4j==0.10.9\n",
            "  Downloading py4j-0.10.9-py2.py3-none-any.whl (198 kB)\n",
            "\u001b[K     |████████████████████████████████| 198 kB 54.3 MB/s \n",
            "\u001b[?25hBuilding wheels for collected packages: pyspark\n",
            "  Building wheel for pyspark (setup.py) ... \u001b[?25l\u001b[?25hdone\n",
            "  Created wheel for pyspark: filename=pyspark-3.1.2-py2.py3-none-any.whl size=212880768 sha256=6f65e65bec03da26c8079b3be24487fc39a54e41399f39a03972b4ce059e31bc\n",
            "  Stored in directory: /root/.cache/pip/wheels/a5/0a/c1/9561f6fecb759579a7d863dcd846daaa95f598744e71b02c77\n",
            "Successfully built pyspark\n",
            "Installing collected packages: py4j, pyspark\n",
            "Successfully installed py4j-0.10.9 pyspark-3.1.2\n"
          ],
          "name": "stdout"
        }
      ]
    },
    {
      "cell_type": "code",
      "metadata": {
        "id": "NvXP9m_QVfjj"
      },
      "source": [
        "from pyspark.sql import SparkSession\n",
        "\n",
        "spark = SparkSession.builder \\\n",
        "        .master(\"local\") \\\n",
        "        .appName(\"Hands-on PySpark on Google Colab\") \\\n",
        "        .getOrCreate()"
      ],
      "execution_count": null,
      "outputs": []
    },
    {
      "cell_type": "markdown",
      "metadata": {
        "id": "KvRuqx9ejTMq"
      },
      "source": [
        "### __IMPORT THE DATASET__ "
      ]
    },
    {
      "cell_type": "code",
      "metadata": {
        "colab": {
          "base_uri": "https://localhost:8080/"
        },
        "id": "4IpBsbErXGQI",
        "outputId": "3b62648a-e23c-4ed4-f317-ae8776bb3395"
      },
      "source": [
        "from google.colab import drive\n",
        "drive.mount('/content/drive')"
      ],
      "execution_count": null,
      "outputs": [
        {
          "output_type": "stream",
          "text": [
            "Mounted at /content/drive\n"
          ],
          "name": "stdout"
        }
      ]
    },
    {
      "cell_type": "code",
      "metadata": {
        "id": "XxMW6u50jk9M"
      },
      "source": [
        "filepath = \"/content/drive/MyDrive/IYKRA/#10/Task_2/BL-Flickr-Images-Book.csv\"\n",
        "spark_df = spark.read.format('csv').options(header='true', inferSchema='true').load(filepath)"
      ],
      "execution_count": null,
      "outputs": []
    },
    {
      "cell_type": "markdown",
      "metadata": {
        "id": "0fx-5LUujTMs"
      },
      "source": [
        "#### __READING THE FIRST FEW ENTRIES OF THE DATASET__"
      ]
    },
    {
      "cell_type": "code",
      "metadata": {
        "id": "r7AZc1Qejn1G",
        "colab": {
          "base_uri": "https://localhost:8080/"
        },
        "outputId": "c5a22a07-ca64-4788-edbe-4b5a3952fc6d"
      },
      "source": [
        "spark_df.show(5, truncate=False)"
      ],
      "execution_count": null,
      "outputs": [
        {
          "output_type": "stream",
          "text": [
            "+----------+----------------------------+------------------------+-------------------+---------------------+----------------------------------------------------------------------------------------------------------------------------------------------------------------+---------+--------------------------------------------+----------------+----------------------+------------+--------+-------------+----------------------------------------------------------------+-----------------------------------+\n",
            "|Identifier|Edition Statement           |Place of Publication    |Date of Publication|Publisher            |Title                                                                                                                                                           |Author   |Contributors                                |Corporate Author|Corporate Contributors|Former owner|Engraver|Issuance type|Flickr URL                                                      |Shelfmarks                         |\n",
            "+----------+----------------------------+------------------------+-------------------+---------------------+----------------------------------------------------------------------------------------------------------------------------------------------------------------+---------+--------------------------------------------+----------------+----------------------+------------+--------+-------------+----------------------------------------------------------------+-----------------------------------+\n",
            "|206       |null                        |London                  |1879 [1878]        |S. Tinsley & Co.     |Walter Forbes. [A novel.] By A. A                                                                                                                               |A. A.    |FORBES, Walter.                             |null            |null                  |null        |null    |monographic  |http://www.flickr.com/photos/britishlibrary/tags/sysnum000000206|British Library HMNTS 12641.b.30.  |\n",
            "|216       |null                        |London; Virtue & Yorston|1868               |Virtue & Co.         |All for Greed. [A novel. The dedication signed: A. A. A., i.e. Marie Pauline Rose, Baroness Blaze de Bury.]                                                     |A., A. A.|BLAZE DE BURY, Marie Pauline Rose - Baroness|null            |null                  |null        |null    |monographic  |http://www.flickr.com/photos/britishlibrary/tags/sysnum000000216|British Library HMNTS 12626.cc.2.  |\n",
            "|218       |null                        |London                  |1869               |Bradbury, Evans & Co.|Love the Avenger. By the author of “All for Greed.” [The dedication signed: A. A. A., i.e. Marie Pauline Rose, Baroness Blaze de Bury.]                         |A., A. A.|BLAZE DE BURY, Marie Pauline Rose - Baroness|null            |null                  |null        |null    |monographic  |http://www.flickr.com/photos/britishlibrary/tags/sysnum000000218|British Library HMNTS 12625.dd.1.  |\n",
            "|472       |null                        |London                  |1851               |James Darling        |Welsh Sketches, chiefly ecclesiastical, to the close of the twelfth century. By the author of “Proposals for Christian Union” (E. S. A. [i.e. Ernest Appleyard])|A., E. S.|Appleyard, Ernest Silvanus.                 |null            |null                  |null        |null    |monographic  |http://www.flickr.com/photos/britishlibrary/tags/sysnum000000472|British Library HMNTS 10369.bbb.15.|\n",
            "|480       |A new edition, revised, etc.|London                  |1857               |Wertheim & Macintosh |[The World in which I live, and my place in it. By E. S. A. [i.e. Letitia Willgoss Stone.] Edited by ... J. H. Broome.]                                         |A., E. S.|BROOME, John Henry.                         |null            |null                  |null        |null    |monographic  |http://www.flickr.com/photos/britishlibrary/tags/sysnum000000480|British Library HMNTS 9007.d.28.   |\n",
            "+----------+----------------------------+------------------------+-------------------+---------------------+----------------------------------------------------------------------------------------------------------------------------------------------------------------+---------+--------------------------------------------+----------------+----------------------+------------+--------+-------------+----------------------------------------------------------------+-----------------------------------+\n",
            "only showing top 5 rows\n",
            "\n"
          ],
          "name": "stdout"
        }
      ]
    },
    {
      "cell_type": "code",
      "metadata": {
        "colab": {
          "base_uri": "https://localhost:8080/"
        },
        "id": "LW3DbOUjcNWy",
        "outputId": "75a49ce4-7ced-47c9-e871-31b3a1d3aad2"
      },
      "source": [
        "#check the missing values\n",
        "from pyspark.sql.functions import isnan, when, count, col\n",
        " \n",
        "spark_df.select([count(when(col(c).isNull(), c)).alias(c) for c in spark_df.columns]).show()"
      ],
      "execution_count": null,
      "outputs": [
        {
          "output_type": "stream",
          "text": [
            "+----------+-----------------+--------------------+-------------------+---------+-----+------+------------+----------------+----------------------+------------+--------+-------------+----------+----------+\n",
            "|Identifier|Edition Statement|Place of Publication|Date of Publication|Publisher|Title|Author|Contributors|Corporate Author|Corporate Contributors|Former owner|Engraver|Issuance type|Flickr URL|Shelfmarks|\n",
            "+----------+-----------------+--------------------+-------------------+---------+-----+------+------------+----------------+----------------------+------------+--------+-------------+----------+----------+\n",
            "|         0|             7514|                   0|                181|     4195|    0|  1776|           2|            8276|                  8282|        8282|    8284|           10|         5|         4|\n",
            "+----------+-----------------+--------------------+-------------------+---------+-----+------+------------+----------------+----------------------+------------+--------+-------------+----------+----------+\n",
            "\n"
          ],
          "name": "stdout"
        }
      ]
    },
    {
      "cell_type": "code",
      "metadata": {
        "colab": {
          "base_uri": "https://localhost:8080/"
        },
        "id": "x2XvcpNGcWxT",
        "outputId": "a9f30355-3a08-4a06-f394-6f74bb3eea34"
      },
      "source": [
        "spark_df.filter(col('Shelfmarks').isNull()).show()"
      ],
      "execution_count": null,
      "outputs": [
        {
          "output_type": "stream",
          "text": [
            "+----------+-----------------+--------------------+-------------------+-----------+--------------------+--------------------+--------------------+--------------------+----------------------+--------------------+--------------------+--------------------+----------+----------+\n",
            "|Identifier|Edition Statement|Place of Publication|Date of Publication|  Publisher|               Title|              Author|        Contributors|    Corporate Author|Corporate Contributors|        Former owner|            Engraver|       Issuance type|Flickr URL|Shelfmarks|\n",
            "+----------+-----------------+--------------------+-------------------+-----------+--------------------+--------------------+--------------------+--------------------+----------------------+--------------------+--------------------+--------------------+----------+----------+\n",
            "|    867581|             null|              London|               1845|Jeremia How|\"A Brief Narrativ...|\"\" near the mouth...| on the 4th November|                1843|   having on board ...| DARTNELL, George R.|   HAMMERSLEY, J. A.|                null|      null|      null|\n",
            "|    880677|             null|           St. Louis|              1876]|       null|\"A Complete Histo...|\"\" containing ext...|           and civil|           political|   and military his...|DAVIS, Walter Bic...|DURRIE, Daniel St...|                null|      null|      null|\n",
            "|   2697662|             null|   Kingston, Jamaica|               1851|       null|\"A description an...| by J. Ogilby ......| with preliminary...| to connect the w...|  OGILBY, John - Co...|ANDERSON, William...|                null|                null|      null|      null|\n",
            "|   3954693|             null|      Boston [Mass.]|               1854|       null|\"A review of W.'s...| Esq.\"\" ... Prepa...|             October|                1853|           and January| 1854. By the edi...|WINTHROP, John - ...|DRAKE, Samuel Gar...|      null|      null|\n",
            "+----------+-----------------+--------------------+-------------------+-----------+--------------------+--------------------+--------------------+--------------------+----------------------+--------------------+--------------------+--------------------+----------+----------+\n",
            "\n"
          ],
          "name": "stdout"
        }
      ]
    },
    {
      "cell_type": "code",
      "metadata": {
        "colab": {
          "base_uri": "https://localhost:8080/"
        },
        "id": "5c9JlFwZcd74",
        "outputId": "c6b52fed-cd82-40bd-dd87-3a9fc6f33e74"
      },
      "source": [
        "spark_df.filter(col('Issuance type').isNull()).show()"
      ],
      "execution_count": null,
      "outputs": [
        {
          "output_type": "stream",
          "text": [
            "+----------+-----------------+--------------------+-------------------+----------------+--------------------+--------------------+--------------------+--------------------+----------------------+--------------------+--------------------+-------------+-----------+--------------------+\n",
            "|Identifier|Edition Statement|Place of Publication|Date of Publication|       Publisher|               Title|              Author|        Contributors|    Corporate Author|Corporate Contributors|        Former owner|            Engraver|Issuance type| Flickr URL|          Shelfmarks|\n",
            "+----------+-----------------+--------------------+-------------------+----------------+--------------------+--------------------+--------------------+--------------------+----------------------+--------------------+--------------------+-------------+-----------+--------------------+\n",
            "|    606685|             null|              London|            [1850?]|Edward Smallwood|\"A History of Car...| Isle of Wight\"\" ...|                null|    Westall, William|                  null|                null|                null|         null|monographic|http://www.flickr...|\n",
            "|    867581|             null|              London|               1845|     Jeremia How|\"A Brief Narrativ...|\"\" near the mouth...| on the 4th November|                1843|   having on board ...| DARTNELL, George R.|   HAMMERSLEY, J. A.|         null|       null|                null|\n",
            "|    880677|             null|           St. Louis|              1876]|            null|\"A Complete Histo...|\"\" containing ext...|           and civil|           political|   and military his...|DAVIS, Walter Bic...|DURRIE, Daniel St...|         null|       null|                null|\n",
            "|   2253760|             null|              London|               1832|            null|\"A reply to the m...| which relate to ...|                etc\"|LONG, Charles Edw...|  LONG, Robert Ball...|                null|                null|         null|       null|         monographic|\n",
            "|   2385199|             null|              London|               1874|            null|\"A Whaling Cruise...|                etc\"|MARKHAM, Albert H...|    OSBORN, Sherard.|                  null|                null|                null|         null|monographic|http://www.flickr...|\n",
            "|   2604418|             null|              London|               1889|   Bickers & Son|\"A Narrative of t...|                etc\"|Napier, William F...|  DOBSON, William T.|                  null|                null|                null|         null|monographic|http://www.flickr...|\n",
            "|   2697662|             null|   Kingston, Jamaica|               1851|            null|\"A description an...| by J. Ogilby ......| with preliminary...| to connect the w...|  OGILBY, John - Co...|ANDERSON, William...|                null|         null|       null|                null|\n",
            "|   2805023|             null|              London|               1868|            null|\"A Short Answer t...|\"\" on the “Histor...|PEARSON, Charles ...|FREEMAN, Edward A...|                  null|                null|                null|         null|monographic|http://www.flickr...|\n",
            "|   3582493|             null|         Hobart Town|               1854|     W. Fletcher|\"A Year in Tasman...|      etc: Appendix\"|                null|STONEY, Henry But...|                  null|                null|                null|         null|monographic|http://www.flickr...|\n",
            "|   3884332|             null|              London|               1809|Stockdale Junior|\"A narrative of t...| Memoranda and Or...|Wellington, Arthu...|STOCKDALE, John J...|                  null|                null|                null|         null|monographic|http://www.flickr...|\n",
            "+----------+-----------------+--------------------+-------------------+----------------+--------------------+--------------------+--------------------+--------------------+----------------------+--------------------+--------------------+-------------+-----------+--------------------+\n",
            "\n"
          ],
          "name": "stdout"
        }
      ]
    },
    {
      "cell_type": "code",
      "metadata": {
        "colab": {
          "base_uri": "https://localhost:8080/"
        },
        "id": "f25NhmWcckzc",
        "outputId": "f1de06cc-af70-45fb-dae1-139317cd05cb"
      },
      "source": [
        "spark_df.filter(col('Contributors').isNull()).show()"
      ],
      "execution_count": null,
      "outputs": [
        {
          "output_type": "stream",
          "text": [
            "+----------+-----------------+--------------------+-------------------+----------------+--------------------+--------------------+------------+--------------------+----------------------+------------+--------+-------------+-----------+--------------------+\n",
            "|Identifier|Edition Statement|Place of Publication|Date of Publication|       Publisher|               Title|              Author|Contributors|    Corporate Author|Corporate Contributors|Former owner|Engraver|Issuance type| Flickr URL|          Shelfmarks|\n",
            "+----------+-----------------+--------------------+-------------------+----------------+--------------------+--------------------+------------+--------------------+----------------------+------------+--------+-------------+-----------+--------------------+\n",
            "|    606685|             null|              London|            [1850?]|Edward Smallwood|\"A History of Car...| Isle of Wight\"\" ...|        null|    Westall, William|                  null|        null|    null|         null|monographic|http://www.flickr...|\n",
            "|   3582493|             null|         Hobart Town|               1854|     W. Fletcher|\"A Year in Tasman...|      etc: Appendix\"|        null|STONEY, Henry But...|                  null|        null|    null|         null|monographic|http://www.flickr...|\n",
            "+----------+-----------------+--------------------+-------------------+----------------+--------------------+--------------------+------------+--------------------+----------------------+------------+--------+-------------+-----------+--------------------+\n",
            "\n"
          ],
          "name": "stdout"
        }
      ]
    },
    {
      "cell_type": "markdown",
      "metadata": {
        "id": "y6ZnyJRnjTMz"
      },
      "source": [
        "## Cleaning the messy columns"
      ]
    },
    {
      "cell_type": "markdown",
      "metadata": {
        "id": "UaUrfXw_jTM0"
      },
      "source": [
        " __Some data entries are really messy and needs to be cleaned as they contain several values which makes it hard to analyse the data __"
      ]
    },
    {
      "cell_type": "markdown",
      "metadata": {
        "id": "v7_-dT2kjTM0"
      },
      "source": [
        "__ The Date of Publication column is slightly messy. It would be better if we only had years in the column. Let us see how you can clean it __"
      ]
    },
    {
      "cell_type": "code",
      "metadata": {
        "colab": {
          "base_uri": "https://localhost:8080/"
        },
        "id": "gwsSbCiNnRyI",
        "outputId": "98b569d1-3b97-426b-c6a5-19d7aa2b5571"
      },
      "source": [
        "pandas_df = spark_df.toPandas()\n",
        "pandas_df.shape"
      ],
      "execution_count": null,
      "outputs": [
        {
          "output_type": "execute_result",
          "data": {
            "text/plain": [
              "(8287, 15)"
            ]
          },
          "metadata": {},
          "execution_count": 17
        }
      ]
    },
    {
      "cell_type": "code",
      "metadata": {
        "id": "3jVZbss8kBck"
      },
      "source": [
        "# make DEF Function\n",
        "unwanted_characters = ['[', ',', '-']\n",
        "\n",
        "def clean_dates(dop):\n",
        "    dop = str(dop)\n",
        "    if dop.startswith('[') or dop == 'nan':\n",
        "        return 'NaN'\n",
        "    for character in unwanted_characters:\n",
        "        if character in dop:\n",
        "            character_index = dop.find(character)\n",
        "            dop = dop[:character_index]\n",
        "    return dop"
      ],
      "execution_count": null,
      "outputs": []
    },
    {
      "cell_type": "code",
      "metadata": {
        "colab": {
          "base_uri": "https://localhost:8080/",
          "height": 432
        },
        "id": "Kf7mT7YAnQrG",
        "outputId": "6a30ff10-6d80-469f-e9c4-65c49266f710"
      },
      "source": [
        "pandas_df['Date of Publication'] = pandas_df['Date of Publication'].apply(clean_dates)\n",
        "pandas_df.head()"
      ],
      "execution_count": null,
      "outputs": [
        {
          "output_type": "execute_result",
          "data": {
            "text/html": [
              "<div>\n",
              "<style scoped>\n",
              "    .dataframe tbody tr th:only-of-type {\n",
              "        vertical-align: middle;\n",
              "    }\n",
              "\n",
              "    .dataframe tbody tr th {\n",
              "        vertical-align: top;\n",
              "    }\n",
              "\n",
              "    .dataframe thead th {\n",
              "        text-align: right;\n",
              "    }\n",
              "</style>\n",
              "<table border=\"1\" class=\"dataframe\">\n",
              "  <thead>\n",
              "    <tr style=\"text-align: right;\">\n",
              "      <th></th>\n",
              "      <th>Identifier</th>\n",
              "      <th>Edition Statement</th>\n",
              "      <th>Place of Publication</th>\n",
              "      <th>Date of Publication</th>\n",
              "      <th>Publisher</th>\n",
              "      <th>Title</th>\n",
              "      <th>Author</th>\n",
              "      <th>Contributors</th>\n",
              "      <th>Corporate Author</th>\n",
              "      <th>Corporate Contributors</th>\n",
              "      <th>Former owner</th>\n",
              "      <th>Engraver</th>\n",
              "      <th>Issuance type</th>\n",
              "      <th>Flickr URL</th>\n",
              "      <th>Shelfmarks</th>\n",
              "    </tr>\n",
              "  </thead>\n",
              "  <tbody>\n",
              "    <tr>\n",
              "      <th>0</th>\n",
              "      <td>206</td>\n",
              "      <td>None</td>\n",
              "      <td>London</td>\n",
              "      <td>1879</td>\n",
              "      <td>S. Tinsley &amp; Co.</td>\n",
              "      <td>Walter Forbes. [A novel.] By A. A</td>\n",
              "      <td>A. A.</td>\n",
              "      <td>FORBES, Walter.</td>\n",
              "      <td>None</td>\n",
              "      <td>None</td>\n",
              "      <td>None</td>\n",
              "      <td>None</td>\n",
              "      <td>monographic</td>\n",
              "      <td>http://www.flickr.com/photos/britishlibrary/ta...</td>\n",
              "      <td>British Library HMNTS 12641.b.30.</td>\n",
              "    </tr>\n",
              "    <tr>\n",
              "      <th>1</th>\n",
              "      <td>216</td>\n",
              "      <td>None</td>\n",
              "      <td>London; Virtue &amp; Yorston</td>\n",
              "      <td>1868</td>\n",
              "      <td>Virtue &amp; Co.</td>\n",
              "      <td>All for Greed. [A novel. The dedication signed...</td>\n",
              "      <td>A., A. A.</td>\n",
              "      <td>BLAZE DE BURY, Marie Pauline Rose - Baroness</td>\n",
              "      <td>None</td>\n",
              "      <td>None</td>\n",
              "      <td>None</td>\n",
              "      <td>None</td>\n",
              "      <td>monographic</td>\n",
              "      <td>http://www.flickr.com/photos/britishlibrary/ta...</td>\n",
              "      <td>British Library HMNTS 12626.cc.2.</td>\n",
              "    </tr>\n",
              "    <tr>\n",
              "      <th>2</th>\n",
              "      <td>218</td>\n",
              "      <td>None</td>\n",
              "      <td>London</td>\n",
              "      <td>1869</td>\n",
              "      <td>Bradbury, Evans &amp; Co.</td>\n",
              "      <td>Love the Avenger. By the author of “All for Gr...</td>\n",
              "      <td>A., A. A.</td>\n",
              "      <td>BLAZE DE BURY, Marie Pauline Rose - Baroness</td>\n",
              "      <td>None</td>\n",
              "      <td>None</td>\n",
              "      <td>None</td>\n",
              "      <td>None</td>\n",
              "      <td>monographic</td>\n",
              "      <td>http://www.flickr.com/photos/britishlibrary/ta...</td>\n",
              "      <td>British Library HMNTS 12625.dd.1.</td>\n",
              "    </tr>\n",
              "    <tr>\n",
              "      <th>3</th>\n",
              "      <td>472</td>\n",
              "      <td>None</td>\n",
              "      <td>London</td>\n",
              "      <td>1851</td>\n",
              "      <td>James Darling</td>\n",
              "      <td>Welsh Sketches, chiefly ecclesiastical, to the...</td>\n",
              "      <td>A., E. S.</td>\n",
              "      <td>Appleyard, Ernest Silvanus.</td>\n",
              "      <td>None</td>\n",
              "      <td>None</td>\n",
              "      <td>None</td>\n",
              "      <td>None</td>\n",
              "      <td>monographic</td>\n",
              "      <td>http://www.flickr.com/photos/britishlibrary/ta...</td>\n",
              "      <td>British Library HMNTS 10369.bbb.15.</td>\n",
              "    </tr>\n",
              "    <tr>\n",
              "      <th>4</th>\n",
              "      <td>480</td>\n",
              "      <td>A new edition, revised, etc.</td>\n",
              "      <td>London</td>\n",
              "      <td>1857</td>\n",
              "      <td>Wertheim &amp; Macintosh</td>\n",
              "      <td>[The World in which I live, and my place in it...</td>\n",
              "      <td>A., E. S.</td>\n",
              "      <td>BROOME, John Henry.</td>\n",
              "      <td>None</td>\n",
              "      <td>None</td>\n",
              "      <td>None</td>\n",
              "      <td>None</td>\n",
              "      <td>monographic</td>\n",
              "      <td>http://www.flickr.com/photos/britishlibrary/ta...</td>\n",
              "      <td>British Library HMNTS 9007.d.28.</td>\n",
              "    </tr>\n",
              "  </tbody>\n",
              "</table>\n",
              "</div>"
            ],
            "text/plain": [
              "   Identifier  ...                           Shelfmarks\n",
              "0         206  ...    British Library HMNTS 12641.b.30.\n",
              "1         216  ...    British Library HMNTS 12626.cc.2.\n",
              "2         218  ...    British Library HMNTS 12625.dd.1.\n",
              "3         472  ...  British Library HMNTS 10369.bbb.15.\n",
              "4         480  ...     British Library HMNTS 9007.d.28.\n",
              "\n",
              "[5 rows x 15 columns]"
            ]
          },
          "metadata": {},
          "execution_count": 19
        }
      ]
    },
    {
      "cell_type": "code",
      "metadata": {
        "colab": {
          "base_uri": "https://localhost:8080/"
        },
        "id": "65uaB4oWnwoG",
        "outputId": "a54e22fc-2907-4860-aa17-10ba2803b697"
      },
      "source": [
        "spark_df1 = spark.createDataFrame(pandas_df)\n",
        "spark_df1.show(3)"
      ],
      "execution_count": null,
      "outputs": [
        {
          "output_type": "stream",
          "text": [
            "+----------+-----------------+--------------------+-------------------+--------------------+--------------------+---------+--------------------+----------------+----------------------+------------+--------+-------------+--------------------+--------------------+\n",
            "|Identifier|Edition Statement|Place of Publication|Date of Publication|           Publisher|               Title|   Author|        Contributors|Corporate Author|Corporate Contributors|Former owner|Engraver|Issuance type|          Flickr URL|          Shelfmarks|\n",
            "+----------+-----------------+--------------------+-------------------+--------------------+--------------------+---------+--------------------+----------------+----------------------+------------+--------+-------------+--------------------+--------------------+\n",
            "|       206|             null|              London|              1879 |    S. Tinsley & Co.|Walter Forbes. [A...|    A. A.|     FORBES, Walter.|            null|                  null|        null|    null|  monographic|http://www.flickr...|British Library H...|\n",
            "|       216|             null|London; Virtue & ...|               1868|        Virtue & Co.|All for Greed. [A...|A., A. A.|BLAZE DE BURY, Ma...|            null|                  null|        null|    null|  monographic|http://www.flickr...|British Library H...|\n",
            "|       218|             null|              London|               1869|Bradbury, Evans &...|Love the Avenger....|A., A. A.|BLAZE DE BURY, Ma...|            null|                  null|        null|    null|  monographic|http://www.flickr...|British Library H...|\n",
            "+----------+-----------------+--------------------+-------------------+--------------------+--------------------+---------+--------------------+----------------+----------------------+------------+--------+-------------+--------------------+--------------------+\n",
            "only showing top 3 rows\n",
            "\n"
          ],
          "name": "stdout"
        }
      ]
    },
    {
      "cell_type": "markdown",
      "metadata": {
        "id": "3i6zum87jTM1"
      },
      "source": [
        "__ The next such column is the 'Title' column. Let us try to clean that column now. __"
      ]
    },
    {
      "cell_type": "code",
      "metadata": {
        "id": "J-5C-L6vkIQQ"
      },
      "source": [
        "# make DEF Function\n",
        "def clean_title(title):\n",
        "    \n",
        "    if title == 'nan':\n",
        "        return 'NaN'\n",
        "    \n",
        "    if title[0] == '[':\n",
        "        title = title[1: title.find(']')]\n",
        "        \n",
        "    if 'by' in title:\n",
        "        title = title[:title.find('by')]\n",
        "    elif 'By' in title:\n",
        "        title = title[:title.find('By')]\n",
        "        \n",
        "    if '[' in title:\n",
        "        title = title[:title.find('[')]\n",
        "\n",
        "    title = title[:-2]\n",
        "        \n",
        "    title = list(map(str.capitalize, title.split()))\n",
        "    return ' '.join(title)"
      ],
      "execution_count": null,
      "outputs": []
    },
    {
      "cell_type": "code",
      "metadata": {
        "id": "wlzlE1CcpIv6"
      },
      "source": [
        "pandas_df2 = spark_df1.toPandas()\n",
        "pandas_df2['Title'] = pandas_df2['Title'].apply(clean_title)"
      ],
      "execution_count": null,
      "outputs": []
    },
    {
      "cell_type": "code",
      "metadata": {
        "colab": {
          "base_uri": "https://localhost:8080/"
        },
        "id": "ixj49dSQp2Q4",
        "outputId": "ac75ae4a-23e0-4adf-c1b9-e11b11a60541"
      },
      "source": [
        "spark_df2 = spark.createDataFrame(pandas_df2)\n",
        "spark_df2.show(3)"
      ],
      "execution_count": null,
      "outputs": [
        {
          "output_type": "stream",
          "text": [
            "+----------+-----------------+--------------------+-------------------+--------------------+----------------+---------+--------------------+----------------+----------------------+------------+--------+-------------+--------------------+--------------------+\n",
            "|Identifier|Edition Statement|Place of Publication|Date of Publication|           Publisher|           Title|   Author|        Contributors|Corporate Author|Corporate Contributors|Former owner|Engraver|Issuance type|          Flickr URL|          Shelfmarks|\n",
            "+----------+-----------------+--------------------+-------------------+--------------------+----------------+---------+--------------------+----------------+----------------------+------------+--------+-------------+--------------------+--------------------+\n",
            "|       206|             null|              London|              1879 |    S. Tinsley & Co.|   Walter Forbes|    A. A.|     FORBES, Walter.|            null|                  null|        null|    null|  monographic|http://www.flickr...|British Library H...|\n",
            "|       216|             null|London; Virtue & ...|               1868|        Virtue & Co.|   All For Greed|A., A. A.|BLAZE DE BURY, Ma...|            null|                  null|        null|    null|  monographic|http://www.flickr...|British Library H...|\n",
            "|       218|             null|              London|               1869|Bradbury, Evans &...|Love The Avenger|A., A. A.|BLAZE DE BURY, Ma...|            null|                  null|        null|    null|  monographic|http://www.flickr...|British Library H...|\n",
            "+----------+-----------------+--------------------+-------------------+--------------------+----------------+---------+--------------------+----------------+----------------------+------------+--------+-------------+--------------------+--------------------+\n",
            "only showing top 3 rows\n",
            "\n"
          ],
          "name": "stdout"
        }
      ]
    },
    {
      "cell_type": "markdown",
      "metadata": {
        "id": "nWcV0z8DjTM2"
      },
      "source": [
        "__ The 'Author' column needs to be tweaked a little too __"
      ]
    },
    {
      "cell_type": "code",
      "metadata": {
        "id": "liJNkKOokMo1"
      },
      "source": [
        "# make DEF Function\n",
        "from functools import reduce\n",
        "\n",
        "# make DEF Function\n",
        "def clean_author_names(author):\n",
        "    \n",
        "    author = str(author)\n",
        "    \n",
        "    if author == 'nan':\n",
        "        return 'NaN'\n",
        "    \n",
        "    author = author.split(',')\n",
        "\n",
        "    if len(author) == 1:\n",
        "        name = filter(lambda x: x.isalpha(), author[0])\n",
        "        return reduce(lambda x, y: x + y, name)\n",
        "    \n",
        "    last_name, first_name = author[0], author[1]\n",
        "\n",
        "    first_name = first_name[:first_name.find('-')] if '-' in first_name else first_name\n",
        "    \n",
        "    if first_name.endswith(('.', '.|')):\n",
        "        parts = first_name.split('.')\n",
        "        \n",
        "        if len(parts) > 1:\n",
        "            first_occurence = first_name.find('.')\n",
        "            final_occurence = first_name.find('.', first_occurence + 1)\n",
        "            first_name = first_name[:final_occurence]\n",
        "        else:\n",
        "            first_name = first_name[:first_name.find('.')]\n",
        "    \n",
        "    last_name = last_name.capitalize()\n",
        "    \n",
        "    return f'{first_name} {last_name}'"
      ],
      "execution_count": null,
      "outputs": []
    },
    {
      "cell_type": "code",
      "metadata": {
        "colab": {
          "base_uri": "https://localhost:8080/"
        },
        "id": "9CJhkReQqERd",
        "outputId": "12850417-66e0-4ada-fc60-de942cba6800"
      },
      "source": [
        "pandas_df3 = spark_df2.toPandas()\n",
        "pandas_df3.shape"
      ],
      "execution_count": null,
      "outputs": [
        {
          "output_type": "execute_result",
          "data": {
            "text/plain": [
              "(8287, 15)"
            ]
          },
          "metadata": {},
          "execution_count": 34
        }
      ]
    },
    {
      "cell_type": "code",
      "metadata": {
        "colab": {
          "base_uri": "https://localhost:8080/",
          "height": 265
        },
        "id": "jjm0ZUwWqTIV",
        "outputId": "b4a70c72-a5f8-4f21-bb2b-9114e79b0653"
      },
      "source": [
        "pandas_df3['Author'] = pandas_df3['Author'].apply(clean_author_names)\n",
        "pandas_df3.head(3)"
      ],
      "execution_count": null,
      "outputs": [
        {
          "output_type": "execute_result",
          "data": {
            "text/html": [
              "<div>\n",
              "<style scoped>\n",
              "    .dataframe tbody tr th:only-of-type {\n",
              "        vertical-align: middle;\n",
              "    }\n",
              "\n",
              "    .dataframe tbody tr th {\n",
              "        vertical-align: top;\n",
              "    }\n",
              "\n",
              "    .dataframe thead th {\n",
              "        text-align: right;\n",
              "    }\n",
              "</style>\n",
              "<table border=\"1\" class=\"dataframe\">\n",
              "  <thead>\n",
              "    <tr style=\"text-align: right;\">\n",
              "      <th></th>\n",
              "      <th>Identifier</th>\n",
              "      <th>Edition Statement</th>\n",
              "      <th>Place of Publication</th>\n",
              "      <th>Date of Publication</th>\n",
              "      <th>Publisher</th>\n",
              "      <th>Title</th>\n",
              "      <th>Author</th>\n",
              "      <th>Contributors</th>\n",
              "      <th>Corporate Author</th>\n",
              "      <th>Corporate Contributors</th>\n",
              "      <th>Former owner</th>\n",
              "      <th>Engraver</th>\n",
              "      <th>Issuance type</th>\n",
              "      <th>Flickr URL</th>\n",
              "      <th>Shelfmarks</th>\n",
              "    </tr>\n",
              "  </thead>\n",
              "  <tbody>\n",
              "    <tr>\n",
              "      <th>0</th>\n",
              "      <td>206</td>\n",
              "      <td>None</td>\n",
              "      <td>London</td>\n",
              "      <td>1879</td>\n",
              "      <td>S. Tinsley &amp; Co.</td>\n",
              "      <td>Walter Forbes</td>\n",
              "      <td>AA</td>\n",
              "      <td>FORBES, Walter.</td>\n",
              "      <td>None</td>\n",
              "      <td>None</td>\n",
              "      <td>None</td>\n",
              "      <td>None</td>\n",
              "      <td>monographic</td>\n",
              "      <td>http://www.flickr.com/photos/britishlibrary/ta...</td>\n",
              "      <td>British Library HMNTS 12641.b.30.</td>\n",
              "    </tr>\n",
              "    <tr>\n",
              "      <th>1</th>\n",
              "      <td>216</td>\n",
              "      <td>None</td>\n",
              "      <td>London; Virtue &amp; Yorston</td>\n",
              "      <td>1868</td>\n",
              "      <td>Virtue &amp; Co.</td>\n",
              "      <td>All For Greed</td>\n",
              "      <td>A. A A.</td>\n",
              "      <td>BLAZE DE BURY, Marie Pauline Rose - Baroness</td>\n",
              "      <td>None</td>\n",
              "      <td>None</td>\n",
              "      <td>None</td>\n",
              "      <td>None</td>\n",
              "      <td>monographic</td>\n",
              "      <td>http://www.flickr.com/photos/britishlibrary/ta...</td>\n",
              "      <td>British Library HMNTS 12626.cc.2.</td>\n",
              "    </tr>\n",
              "    <tr>\n",
              "      <th>2</th>\n",
              "      <td>218</td>\n",
              "      <td>None</td>\n",
              "      <td>London</td>\n",
              "      <td>1869</td>\n",
              "      <td>Bradbury, Evans &amp; Co.</td>\n",
              "      <td>Love The Avenger</td>\n",
              "      <td>A. A A.</td>\n",
              "      <td>BLAZE DE BURY, Marie Pauline Rose - Baroness</td>\n",
              "      <td>None</td>\n",
              "      <td>None</td>\n",
              "      <td>None</td>\n",
              "      <td>None</td>\n",
              "      <td>monographic</td>\n",
              "      <td>http://www.flickr.com/photos/britishlibrary/ta...</td>\n",
              "      <td>British Library HMNTS 12625.dd.1.</td>\n",
              "    </tr>\n",
              "  </tbody>\n",
              "</table>\n",
              "</div>"
            ],
            "text/plain": [
              "   Identifier  ...                         Shelfmarks\n",
              "0         206  ...  British Library HMNTS 12641.b.30.\n",
              "1         216  ...  British Library HMNTS 12626.cc.2.\n",
              "2         218  ...  British Library HMNTS 12625.dd.1.\n",
              "\n",
              "[3 rows x 15 columns]"
            ]
          },
          "metadata": {},
          "execution_count": 36
        }
      ]
    },
    {
      "cell_type": "code",
      "metadata": {
        "id": "yCaonzUrqssD",
        "colab": {
          "base_uri": "https://localhost:8080/"
        },
        "outputId": "f18e5853-8f7c-46e7-a656-e8b875cfa340"
      },
      "source": [
        "spark_df3 = spark.createDataFrame(pandas_df3)\n",
        "spark_df3.show(3, truncate= False)"
      ],
      "execution_count": null,
      "outputs": [
        {
          "output_type": "stream",
          "text": [
            "+----------+-----------------+------------------------+-------------------+---------------------+----------------+--------+--------------------------------------------+----------------+----------------------+------------+--------+-------------+----------------------------------------------------------------+---------------------------------+\n",
            "|Identifier|Edition Statement|Place of Publication    |Date of Publication|Publisher            |Title           |Author  |Contributors                                |Corporate Author|Corporate Contributors|Former owner|Engraver|Issuance type|Flickr URL                                                      |Shelfmarks                       |\n",
            "+----------+-----------------+------------------------+-------------------+---------------------+----------------+--------+--------------------------------------------+----------------+----------------------+------------+--------+-------------+----------------------------------------------------------------+---------------------------------+\n",
            "|206       |null             |London                  |1879               |S. Tinsley & Co.     |Walter Forbes   |AA      |FORBES, Walter.                             |null            |null                  |null        |null    |monographic  |http://www.flickr.com/photos/britishlibrary/tags/sysnum000000206|British Library HMNTS 12641.b.30.|\n",
            "|216       |null             |London; Virtue & Yorston|1868               |Virtue & Co.         |All For Greed   | A. A A.|BLAZE DE BURY, Marie Pauline Rose - Baroness|null            |null                  |null        |null    |monographic  |http://www.flickr.com/photos/britishlibrary/tags/sysnum000000216|British Library HMNTS 12626.cc.2.|\n",
            "|218       |null             |London                  |1869               |Bradbury, Evans & Co.|Love The Avenger| A. A A.|BLAZE DE BURY, Marie Pauline Rose - Baroness|null            |null                  |null        |null    |monographic  |http://www.flickr.com/photos/britishlibrary/tags/sysnum000000218|British Library HMNTS 12625.dd.1.|\n",
            "+----------+-----------------+------------------------+-------------------+---------------------+----------------+--------+--------------------------------------------+----------------+----------------------+------------+--------+-------------+----------------------------------------------------------------+---------------------------------+\n",
            "only showing top 3 rows\n",
            "\n"
          ],
          "name": "stdout"
        }
      ]
    },
    {
      "cell_type": "markdown",
      "metadata": {
        "id": "sPjBCNNVjTM3"
      },
      "source": [
        "__ The 'Place of publication' has a few complications too. Especially with places containing London and Oxford. __"
      ]
    },
    {
      "cell_type": "code",
      "metadata": {
        "id": "OinnelSLkayd"
      },
      "source": [
        "# make DEF Function\n",
        "def place(x):\n",
        "    if 'London' in x['Place of Publication']:\n",
        "      return 'London'\n",
        "    elif 'Oxford' in x['Place of Publication']:\n",
        "      return 'Oxford'\n",
        "    elif 'Newcastle upon Tyne' in x['Place of Publication'] :\n",
        "      return 'Newcastle-upon-Tyne'\n",
        "    else :\n",
        "      pass"
      ],
      "execution_count": null,
      "outputs": []
    },
    {
      "cell_type": "code",
      "metadata": {
        "id": "_xZ6PNGHonc3",
        "colab": {
          "base_uri": "https://localhost:8080/"
        },
        "outputId": "f720f4db-b7ef-4d3a-8358-2c04711d986b"
      },
      "source": [
        "pandas_df4 = spark_df3.toPandas()\n",
        "pandas_df4.shape"
      ],
      "execution_count": null,
      "outputs": [
        {
          "output_type": "execute_result",
          "data": {
            "text/plain": [
              "(8287, 15)"
            ]
          },
          "metadata": {},
          "execution_count": 38
        }
      ]
    },
    {
      "cell_type": "code",
      "metadata": {
        "colab": {
          "base_uri": "https://localhost:8080/",
          "height": 414
        },
        "id": "Vq7068Q6sadE",
        "outputId": "cd9623cb-27be-4ec2-d5e8-51e7418042a0"
      },
      "source": [
        "pandas_df4['Place of Publication'] = pandas_df4.apply(lambda x: place(x), axis=1)\n",
        "pandas_df4.head()"
      ],
      "execution_count": null,
      "outputs": [
        {
          "output_type": "execute_result",
          "data": {
            "text/html": [
              "<div>\n",
              "<style scoped>\n",
              "    .dataframe tbody tr th:only-of-type {\n",
              "        vertical-align: middle;\n",
              "    }\n",
              "\n",
              "    .dataframe tbody tr th {\n",
              "        vertical-align: top;\n",
              "    }\n",
              "\n",
              "    .dataframe thead th {\n",
              "        text-align: right;\n",
              "    }\n",
              "</style>\n",
              "<table border=\"1\" class=\"dataframe\">\n",
              "  <thead>\n",
              "    <tr style=\"text-align: right;\">\n",
              "      <th></th>\n",
              "      <th>Identifier</th>\n",
              "      <th>Edition Statement</th>\n",
              "      <th>Place of Publication</th>\n",
              "      <th>Date of Publication</th>\n",
              "      <th>Publisher</th>\n",
              "      <th>Title</th>\n",
              "      <th>Author</th>\n",
              "      <th>Contributors</th>\n",
              "      <th>Corporate Author</th>\n",
              "      <th>Corporate Contributors</th>\n",
              "      <th>Former owner</th>\n",
              "      <th>Engraver</th>\n",
              "      <th>Issuance type</th>\n",
              "      <th>Flickr URL</th>\n",
              "      <th>Shelfmarks</th>\n",
              "    </tr>\n",
              "  </thead>\n",
              "  <tbody>\n",
              "    <tr>\n",
              "      <th>0</th>\n",
              "      <td>206</td>\n",
              "      <td>None</td>\n",
              "      <td>London</td>\n",
              "      <td>1879</td>\n",
              "      <td>S. Tinsley &amp; Co.</td>\n",
              "      <td>Walter Forbes</td>\n",
              "      <td>AA</td>\n",
              "      <td>FORBES, Walter.</td>\n",
              "      <td>None</td>\n",
              "      <td>None</td>\n",
              "      <td>None</td>\n",
              "      <td>None</td>\n",
              "      <td>monographic</td>\n",
              "      <td>http://www.flickr.com/photos/britishlibrary/ta...</td>\n",
              "      <td>British Library HMNTS 12641.b.30.</td>\n",
              "    </tr>\n",
              "    <tr>\n",
              "      <th>1</th>\n",
              "      <td>216</td>\n",
              "      <td>None</td>\n",
              "      <td>London</td>\n",
              "      <td>1868</td>\n",
              "      <td>Virtue &amp; Co.</td>\n",
              "      <td>All For Greed</td>\n",
              "      <td>A. A A.</td>\n",
              "      <td>BLAZE DE BURY, Marie Pauline Rose - Baroness</td>\n",
              "      <td>None</td>\n",
              "      <td>None</td>\n",
              "      <td>None</td>\n",
              "      <td>None</td>\n",
              "      <td>monographic</td>\n",
              "      <td>http://www.flickr.com/photos/britishlibrary/ta...</td>\n",
              "      <td>British Library HMNTS 12626.cc.2.</td>\n",
              "    </tr>\n",
              "    <tr>\n",
              "      <th>2</th>\n",
              "      <td>218</td>\n",
              "      <td>None</td>\n",
              "      <td>London</td>\n",
              "      <td>1869</td>\n",
              "      <td>Bradbury, Evans &amp; Co.</td>\n",
              "      <td>Love The Avenger</td>\n",
              "      <td>A. A A.</td>\n",
              "      <td>BLAZE DE BURY, Marie Pauline Rose - Baroness</td>\n",
              "      <td>None</td>\n",
              "      <td>None</td>\n",
              "      <td>None</td>\n",
              "      <td>None</td>\n",
              "      <td>monographic</td>\n",
              "      <td>http://www.flickr.com/photos/britishlibrary/ta...</td>\n",
              "      <td>British Library HMNTS 12625.dd.1.</td>\n",
              "    </tr>\n",
              "    <tr>\n",
              "      <th>3</th>\n",
              "      <td>472</td>\n",
              "      <td>None</td>\n",
              "      <td>London</td>\n",
              "      <td>1851</td>\n",
              "      <td>James Darling</td>\n",
              "      <td>Welsh Sketches, Chiefly Ecclesiastical, To The...</td>\n",
              "      <td>E. S A.</td>\n",
              "      <td>Appleyard, Ernest Silvanus.</td>\n",
              "      <td>None</td>\n",
              "      <td>None</td>\n",
              "      <td>None</td>\n",
              "      <td>None</td>\n",
              "      <td>monographic</td>\n",
              "      <td>http://www.flickr.com/photos/britishlibrary/ta...</td>\n",
              "      <td>British Library HMNTS 10369.bbb.15.</td>\n",
              "    </tr>\n",
              "    <tr>\n",
              "      <th>4</th>\n",
              "      <td>480</td>\n",
              "      <td>A new edition, revised, etc.</td>\n",
              "      <td>London</td>\n",
              "      <td>1857</td>\n",
              "      <td>Wertheim &amp; Macintosh</td>\n",
              "      <td>The World In Which I Live, And My Place In It</td>\n",
              "      <td>E. S A.</td>\n",
              "      <td>BROOME, John Henry.</td>\n",
              "      <td>None</td>\n",
              "      <td>None</td>\n",
              "      <td>None</td>\n",
              "      <td>None</td>\n",
              "      <td>monographic</td>\n",
              "      <td>http://www.flickr.com/photos/britishlibrary/ta...</td>\n",
              "      <td>British Library HMNTS 9007.d.28.</td>\n",
              "    </tr>\n",
              "  </tbody>\n",
              "</table>\n",
              "</div>"
            ],
            "text/plain": [
              "   Identifier  ...                           Shelfmarks\n",
              "0         206  ...    British Library HMNTS 12641.b.30.\n",
              "1         216  ...    British Library HMNTS 12626.cc.2.\n",
              "2         218  ...    British Library HMNTS 12625.dd.1.\n",
              "3         472  ...  British Library HMNTS 10369.bbb.15.\n",
              "4         480  ...     British Library HMNTS 9007.d.28.\n",
              "\n",
              "[5 rows x 15 columns]"
            ]
          },
          "metadata": {},
          "execution_count": 42
        }
      ]
    },
    {
      "cell_type": "code",
      "metadata": {
        "colab": {
          "base_uri": "https://localhost:8080/"
        },
        "id": "tLdLFCwbswTa",
        "outputId": "3f23f9f4-d6de-4dba-ae3a-36ad78633814"
      },
      "source": [
        "spark_df4 = spark.createDataFrame(pandas_df4)\n",
        "spark_df4.show(10, truncate= False)"
      ],
      "execution_count": null,
      "outputs": [
        {
          "output_type": "stream",
          "text": [
            "+----------+-----------------------------+--------------------+-------------------+---------------------+---------------------------------------------------------------------------+--------+--------------------------------------------+----------------+----------------------+------------+--------+-------------+----------------------------------------------------------------+--------------------------------------+\n",
            "|Identifier|Edition Statement            |Place of Publication|Date of Publication|Publisher            |Title                                                                      |Author  |Contributors                                |Corporate Author|Corporate Contributors|Former owner|Engraver|Issuance type|Flickr URL                                                      |Shelfmarks                            |\n",
            "+----------+-----------------------------+--------------------+-------------------+---------------------+---------------------------------------------------------------------------+--------+--------------------------------------------+----------------+----------------------+------------+--------+-------------+----------------------------------------------------------------+--------------------------------------+\n",
            "|206       |null                         |London              |1879               |S. Tinsley & Co.     |Walter Forbes                                                              |AA      |FORBES, Walter.                             |null            |null                  |null        |null    |monographic  |http://www.flickr.com/photos/britishlibrary/tags/sysnum000000206|British Library HMNTS 12641.b.30.     |\n",
            "|216       |null                         |London              |1868               |Virtue & Co.         |All For Greed                                                              | A. A A.|BLAZE DE BURY, Marie Pauline Rose - Baroness|null            |null                  |null        |null    |monographic  |http://www.flickr.com/photos/britishlibrary/tags/sysnum000000216|British Library HMNTS 12626.cc.2.     |\n",
            "|218       |null                         |London              |1869               |Bradbury, Evans & Co.|Love The Avenger                                                           | A. A A.|BLAZE DE BURY, Marie Pauline Rose - Baroness|null            |null                  |null        |null    |monographic  |http://www.flickr.com/photos/britishlibrary/tags/sysnum000000218|British Library HMNTS 12625.dd.1.     |\n",
            "|472       |null                         |London              |1851               |James Darling        |Welsh Sketches, Chiefly Ecclesiastical, To The Close Of The Twelfth Century| E. S A.|Appleyard, Ernest Silvanus.                 |null            |null                  |null        |null    |monographic  |http://www.flickr.com/photos/britishlibrary/tags/sysnum000000472|British Library HMNTS 10369.bbb.15.   |\n",
            "|480       |A new edition, revised, etc. |London              |1857               |Wertheim & Macintosh |The World In Which I Live, And My Place In It                              | E. S A.|BROOME, John Henry.                         |null            |null                  |null        |null    |monographic  |http://www.flickr.com/photos/britishlibrary/tags/sysnum000000480|British Library HMNTS 9007.d.28.      |\n",
            "|481       |Fourth edition, revised, etc.|London              |1875               |William Macintosh    |The World In Which I Live, And My Place In It                              | E. S A.|BROOME, John Henry.                         |null            |null                  |null        |null    |monographic  |http://www.flickr.com/photos/britishlibrary/tags/sysnum000000481|British Library HMNTS 9006.ee.10.     |\n",
            "|519       |null                         |London              |1872               |The Author           |Lagonells                                                                  | F. E A.|ASHLEY, Florence Emily.                     |null            |null                  |null        |null    |monographic  |http://www.flickr.com/photos/britishlibrary/tags/sysnum000000519|British Library HMNTS 12637.e.3.      |\n",
            "|667       |null                         |Oxford              |None               |null                 |The Coming Of Spring, And Other Poems                                      | J.|A A.|ANDREWS, J. - Writer of Verse               |null            |null                  |null        |null    |monographic  |http://www.flickr.com/photos/britishlibrary/tags/sysnum000000667|British Library HMNTS 011652.g.73.    |\n",
            "|874       |null                         |London              |1676               |null                 |A Warning To The Inhabitants Of England, And London In Particular ..       |Remaʿ   |ADAMS, Mary.                                |null            |null                  |null        |null    |monographic  |http://www.flickr.com/photos/britishlibrary/tags/sysnum000000874|British Library HMNTS 11645.bb.42.    |\n",
            "|1143      |null                         |London              |1679               |null                 |A Satyr Against Vertue. (a Poem: Supposed To Be Spoke                      | T A.   |OLDHAM, John.                               |null            |null                  |null        |null    |monographic  |http://www.flickr.com/photos/britishlibrary/tags/sysnum000001143|British Library HMNTS 11602.ee.10.(2.)|\n",
            "+----------+-----------------------------+--------------------+-------------------+---------------------+---------------------------------------------------------------------------+--------+--------------------------------------------+----------------+----------------------+------------+--------+-------------+----------------------------------------------------------------+--------------------------------------+\n",
            "only showing top 10 rows\n",
            "\n"
          ],
          "name": "stdout"
        }
      ]
    },
    {
      "cell_type": "markdown",
      "metadata": {
        "id": "SO4eAVuHjTM5"
      },
      "source": [
        "### Detecting missing values and dealing with them\n",
        "__The missing values could be in many ways. Most common ways of missing values are the NaN values or nothing at all being present in the entries. Let us first look at what to do with the NaN / NULL / Blank Character values__\n",
        "\n",
        "__Let us first count the number of values which are NaN / NULL / Blank Character and etc__"
      ]
    },
    {
      "cell_type": "code",
      "metadata": {
        "id": "RsKLsz2UksSZ",
        "colab": {
          "base_uri": "https://localhost:8080/"
        },
        "outputId": "7f7773bf-0614-44f3-e11f-a9cb49f2bebc"
      },
      "source": [
        "#check the missing values\n",
        "from pyspark.sql.functions import isnan, when, count, col\n",
        "\n",
        "spark_df.select([count(when(isnan(c) | col(c).isNull(), c)).alias(c) for c in spark_df.columns]).show()"
      ],
      "execution_count": null,
      "outputs": [
        {
          "output_type": "stream",
          "text": [
            "+----------+-----------------+--------------------+-------------------+---------+-----+------+------------+----------------+----------------------+------------+--------+-------------+----------+----------+\n",
            "|Identifier|Edition Statement|Place of Publication|Date of Publication|Publisher|Title|Author|Contributors|Corporate Author|Corporate Contributors|Former owner|Engraver|Issuance type|Flickr URL|Shelfmarks|\n",
            "+----------+-----------------+--------------------+-------------------+---------+-----+------+------------+----------------+----------------------+------------+--------+-------------+----------+----------+\n",
            "|         0|             7514|                   0|                181|     4195|    0|  1776|           2|            8276|                  8282|        8282|    8284|           10|         5|         4|\n",
            "+----------+-----------------+--------------------+-------------------+---------+-----+------+------------+----------------+----------------------+------------+--------+-------------+----------+----------+\n",
            "\n"
          ],
          "name": "stdout"
        }
      ]
    },
    {
      "cell_type": "code",
      "metadata": {
        "colab": {
          "base_uri": "https://localhost:8080/",
          "height": 788
        },
        "id": "52klCqxutI0_",
        "outputId": "ee9971cb-492f-45cc-d7ce-3d2aa1c184a2"
      },
      "source": [
        "import missingno as msno\n",
        "msno.bar(spark_df.toPandas())"
      ],
      "execution_count": null,
      "outputs": [
        {
          "output_type": "execute_result",
          "data": {
            "text/plain": [
              "<matplotlib.axes._subplots.AxesSubplot at 0x7ff0d46c5a90>"
            ]
          },
          "metadata": {},
          "execution_count": 47
        },
        {
          "output_type": "display_data",
          "data": {
            "image/png": "[encoded data removed]",
            "text/plain": [
              "<Figure size 1800x720 with 3 Axes>"
            ]
          },
          "metadata": {
            "needs_background": "light"
          }
        }
      ]
    },
    {
      "cell_type": "code",
      "metadata": {
        "colab": {
          "base_uri": "https://localhost:8080/"
        },
        "id": "DkC367dOtZr9",
        "outputId": "5c146b11-f3a1-412a-cba2-5b3f9eec525b"
      },
      "source": [
        "#DROP NULL\n",
        "columns_to_drop = ['Edition Statement',\n",
        "           'Corporate Author',\n",
        "           'Corporate Contributors',\n",
        "           'Former owner',\n",
        "           'Engraver']\n",
        "spark_df_ = spark_df.drop(*columns_to_drop)\n",
        "spark_df_.show(10, truncate= False)"
      ],
      "execution_count": null,
      "outputs": [
        {
          "output_type": "stream",
          "text": [
            "+----------+-----------------------------------+-------------------+---------------------+----------------------------------------------------------------------------------------------------------------------------------------------------------------+-------------+--------------------------------------------+-------------+----------------------------------------------------------------+--------------------------------------+\n",
            "|Identifier|Place of Publication               |Date of Publication|Publisher            |Title                                                                                                                                                           |Author       |Contributors                                |Issuance type|Flickr URL                                                      |Shelfmarks                            |\n",
            "+----------+-----------------------------------+-------------------+---------------------+----------------------------------------------------------------------------------------------------------------------------------------------------------------+-------------+--------------------------------------------+-------------+----------------------------------------------------------------+--------------------------------------+\n",
            "|206       |London                             |1879 [1878]        |S. Tinsley & Co.     |Walter Forbes. [A novel.] By A. A                                                                                                                               |A. A.        |FORBES, Walter.                             |monographic  |http://www.flickr.com/photos/britishlibrary/tags/sysnum000000206|British Library HMNTS 12641.b.30.     |\n",
            "|216       |London; Virtue & Yorston           |1868               |Virtue & Co.         |All for Greed. [A novel. The dedication signed: A. A. A., i.e. Marie Pauline Rose, Baroness Blaze de Bury.]                                                     |A., A. A.    |BLAZE DE BURY, Marie Pauline Rose - Baroness|monographic  |http://www.flickr.com/photos/britishlibrary/tags/sysnum000000216|British Library HMNTS 12626.cc.2.     |\n",
            "|218       |London                             |1869               |Bradbury, Evans & Co.|Love the Avenger. By the author of “All for Greed.” [The dedication signed: A. A. A., i.e. Marie Pauline Rose, Baroness Blaze de Bury.]                         |A., A. A.    |BLAZE DE BURY, Marie Pauline Rose - Baroness|monographic  |http://www.flickr.com/photos/britishlibrary/tags/sysnum000000218|British Library HMNTS 12625.dd.1.     |\n",
            "|472       |London                             |1851               |James Darling        |Welsh Sketches, chiefly ecclesiastical, to the close of the twelfth century. By the author of “Proposals for Christian Union” (E. S. A. [i.e. Ernest Appleyard])|A., E. S.    |Appleyard, Ernest Silvanus.                 |monographic  |http://www.flickr.com/photos/britishlibrary/tags/sysnum000000472|British Library HMNTS 10369.bbb.15.   |\n",
            "|480       |London                             |1857               |Wertheim & Macintosh |[The World in which I live, and my place in it. By E. S. A. [i.e. Letitia Willgoss Stone.] Edited by ... J. H. Broome.]                                         |A., E. S.    |BROOME, John Henry.                         |monographic  |http://www.flickr.com/photos/britishlibrary/tags/sysnum000000480|British Library HMNTS 9007.d.28.      |\n",
            "|481       |London                             |1875               |William Macintosh    |[The World in which I live, and my place in it. By E. S. A. [i.e. Letitia Willgoss Stone.] Edited by ... J. H. Broome.]                                         |A., E. S.    |BROOME, John Henry.                         |monographic  |http://www.flickr.com/photos/britishlibrary/tags/sysnum000000481|British Library HMNTS 9006.ee.10.     |\n",
            "|519       |London                             |1872               |The Author           |Lagonells. By the author of Darmayne (F. E. A. [i.e. Florence Emily Ashley])                                                                                    |A., F. E.    |ASHLEY, Florence Emily.                     |monographic  |http://www.flickr.com/photos/britishlibrary/tags/sysnum000000519|British Library HMNTS 12637.e.3.      |\n",
            "|667       |pp. 40. G. Bryan & Co: Oxford, 1898|null               |null                 |The Coming of Spring, and other poems. By J. A. [i.e. J. Andrews.]                                                                                              |A., J.|A., J.|ANDREWS, J. - Writer of Verse               |monographic  |http://www.flickr.com/photos/britishlibrary/tags/sysnum000000667|British Library HMNTS 011652.g.73.    |\n",
            "|874       |London]                            |1676               |null                 |A Warning to the inhabitants of England, and London in particular ... By M. A. [i.e. Mary Adams.]                                                               |Remaʿ.       |ADAMS, Mary.                                |monographic  |http://www.flickr.com/photos/britishlibrary/tags/sysnum000000874|British Library HMNTS 11645.bb.42.    |\n",
            "|1143      |London                             |1679               |null                 |A Satyr against Vertue. (A poem: supposed to be spoken by a Town-Hector. [By John Oldham. The preface signed: T. A.])                                           |A., T.       |OLDHAM, John.                               |monographic  |http://www.flickr.com/photos/britishlibrary/tags/sysnum000001143|British Library HMNTS 11602.ee.10.(2.)|\n",
            "+----------+-----------------------------------+-------------------+---------------------+----------------------------------------------------------------------------------------------------------------------------------------------------------------+-------------+--------------------------------------------+-------------+----------------------------------------------------------------+--------------------------------------+\n",
            "only showing top 10 rows\n",
            "\n"
          ],
          "name": "stdout"
        }
      ]
    },
    {
      "cell_type": "code",
      "metadata": {
        "colab": {
          "base_uri": "https://localhost:8080/"
        },
        "id": "s5VOt_a-w41w",
        "outputId": "633d95be-feec-4c14-85d7-9cfaabe7c1ca"
      },
      "source": [
        "spark_df.describe().show()"
      ],
      "execution_count": null,
      "outputs": [
        {
          "output_type": "stream",
          "text": [
            "+-------+------------------+--------------------+--------------------+--------------------+-------------------+--------------------+--------------------+--------------------+------------------+----------------------+--------------------+--------------------+--------------------+--------------------+--------------------+\n",
            "|summary|        Identifier|   Edition Statement|Place of Publication| Date of Publication|          Publisher|               Title|              Author|        Contributors|  Corporate Author|Corporate Contributors|        Former owner|            Engraver|       Issuance type|          Flickr URL|          Shelfmarks|\n",
            "+-------+------------------+--------------------+--------------------+--------------------+-------------------+--------------------+--------------------+--------------------+------------------+----------------------+--------------------+--------------------+--------------------+--------------------+--------------------+\n",
            "|  count|              8287|                 773|                8287|                8106|               4092|                8287|                6511|                8285|                11|                     5|                   5|                   3|                8277|                8282|                8283|\n",
            "|   mean| 2017344.164836491|                null|  1851.3333333333333|   1856.024662990196|               null|                null|                null|                null|            1848.0|                  null|                null|                null|                null|                null|                null|\n",
            "| stddev|1190379.4130757088|                null|  40.869711686447374|   42.91115350383467|               null|                null|                null|                null|7.0710678118654755|                  null|                null|                null|                null|                null|                null|\n",
            "|    min|               206|(3rd edition.) Wi...|       's Gravenhage|112. G. & W. B. W...|, 42. Nichols & Co.|\"A Brief Narrativ...| Esq.\"\" ... Prepa...|             October|              1843|           and January| 1854. By the edi...|DURRIE, Daniel St...|DRAKE, Samuel Gar...|http://www.flickr...|British Library D...|\n",
            "|    max|           4160339|[The same edition...|           Ярославль|             c.1825]|  “The Art Journal”|    “Zonnig Afrika.”|ŁUKASZEWICZ, Józ...|Zimmermann, Eberh...|  Westall, William|  OGILBY, John - Co...|Panizzi, Anthony ...|WINTHROP, John - ...|         monographic|         monographic|         monographic|\n",
            "+-------+------------------+--------------------+--------------------+--------------------+-------------------+--------------------+--------------------+--------------------+------------------+----------------------+--------------------+--------------------+--------------------+--------------------+--------------------+\n",
            "\n"
          ],
          "name": "stdout"
        }
      ]
    }
  ]
}