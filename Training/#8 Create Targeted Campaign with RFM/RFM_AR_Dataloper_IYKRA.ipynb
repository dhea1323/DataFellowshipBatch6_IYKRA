{
  "nbformat": 4,
  "nbformat_minor": 0,
  "metadata": {
    "colab": {
      "name": "RFM-AR_Dataloper_IYKRA",
      "provenance": [],
      "collapsed_sections": [],
      "toc_visible": true
    },
    "kernelspec": {
      "display_name": "Python 3",
      "name": "python3"
    },
    "language_info": {
      "name": "python"
    }
  },
  "cells": [
    {
      "cell_type": "markdown",
      "metadata": {
        "id": "nLF2-SfVgBvQ"
      },
      "source": [
        "# Import Library"
      ]
    },
    {
      "cell_type": "code",
      "metadata": {
        "id": "C3M9A4CrfMw_",
        "colab": {
          "base_uri": "https://localhost:8080/"
        },
        "outputId": "f9a34186-ff55-47c0-908d-26cd0e2c030c"
      },
      "source": [
        "import pandas as pd\n",
        "import numpy as np\n",
        "import matplotlib.pyplot as plt\n",
        "import seaborn as sns\n",
        "import plotly.express as px\n",
        "\n",
        "from google.colab import drive\n",
        "drive.mount('/content/drive')"
      ],
      "execution_count": 1,
      "outputs": [
        {
          "output_type": "stream",
          "text": [
            "Mounted at /content/drive\n"
          ],
          "name": "stdout"
        }
      ]
    },
    {
      "cell_type": "markdown",
      "metadata": {
        "id": "ZN7aWYCygKy-"
      },
      "source": [
        "# Import Dataset"
      ]
    },
    {
      "cell_type": "code",
      "metadata": {
        "id": "HSBzYjtTfU-q"
      },
      "source": [
        "# Import dataset\n",
        "transaction = pd.read_csv('/content/drive/MyDrive/IYKRA/#8 Create Targeted Campaign with RFM and Promotion Recommendation/Practice Case/Transactions.csv')\n",
        "customer = pd.read_csv('/content/drive/MyDrive/IYKRA/#8 Create Targeted Campaign with RFM and Promotion Recommendation/Practice Case/Customer.csv')\n",
        "category_info = pd.read_csv('/content/drive/MyDrive/IYKRA/#8 Create Targeted Campaign with RFM and Promotion Recommendation/Practice Case/prod_cat_info.csv')"
      ],
      "execution_count": 2,
      "outputs": []
    },
    {
      "cell_type": "code",
      "metadata": {
        "id": "ftpEUca7fz2q",
        "colab": {
          "base_uri": "https://localhost:8080/",
          "height": 141
        },
        "outputId": "0d9d8365-12f4-4a30-87be-2cbe92858a6a"
      },
      "source": [
        "# Show transaction table\n",
        "transaction.head(3)"
      ],
      "execution_count": 3,
      "outputs": [
        {
          "output_type": "execute_result",
          "data": {
            "text/html": [
              "<div>\n",
              "<style scoped>\n",
              "    .dataframe tbody tr th:only-of-type {\n",
              "        vertical-align: middle;\n",
              "    }\n",
              "\n",
              "    .dataframe tbody tr th {\n",
              "        vertical-align: top;\n",
              "    }\n",
              "\n",
              "    .dataframe thead th {\n",
              "        text-align: right;\n",
              "    }\n",
              "</style>\n",
              "<table border=\"1\" class=\"dataframe\">\n",
              "  <thead>\n",
              "    <tr style=\"text-align: right;\">\n",
              "      <th></th>\n",
              "      <th>transaction_id</th>\n",
              "      <th>cust_id</th>\n",
              "      <th>tran_date</th>\n",
              "      <th>prod_subcat_code</th>\n",
              "      <th>prod_cat_code</th>\n",
              "      <th>Qty</th>\n",
              "      <th>Rate</th>\n",
              "      <th>Tax</th>\n",
              "      <th>total_amt</th>\n",
              "      <th>Store_type</th>\n",
              "    </tr>\n",
              "  </thead>\n",
              "  <tbody>\n",
              "    <tr>\n",
              "      <th>0</th>\n",
              "      <td>80712190438</td>\n",
              "      <td>270351</td>\n",
              "      <td>28-02-2014</td>\n",
              "      <td>1</td>\n",
              "      <td>1</td>\n",
              "      <td>-5</td>\n",
              "      <td>-772</td>\n",
              "      <td>405.300</td>\n",
              "      <td>-4265.300</td>\n",
              "      <td>e-Shop</td>\n",
              "    </tr>\n",
              "    <tr>\n",
              "      <th>1</th>\n",
              "      <td>29258453508</td>\n",
              "      <td>270384</td>\n",
              "      <td>27-02-2014</td>\n",
              "      <td>5</td>\n",
              "      <td>3</td>\n",
              "      <td>-5</td>\n",
              "      <td>-1497</td>\n",
              "      <td>785.925</td>\n",
              "      <td>-8270.925</td>\n",
              "      <td>e-Shop</td>\n",
              "    </tr>\n",
              "    <tr>\n",
              "      <th>2</th>\n",
              "      <td>51750724947</td>\n",
              "      <td>273420</td>\n",
              "      <td>24-02-2014</td>\n",
              "      <td>6</td>\n",
              "      <td>5</td>\n",
              "      <td>-2</td>\n",
              "      <td>-791</td>\n",
              "      <td>166.110</td>\n",
              "      <td>-1748.110</td>\n",
              "      <td>TeleShop</td>\n",
              "    </tr>\n",
              "  </tbody>\n",
              "</table>\n",
              "</div>"
            ],
            "text/plain": [
              "   transaction_id  cust_id   tran_date  ...      Tax  total_amt  Store_type\n",
              "0     80712190438   270351  28-02-2014  ...  405.300  -4265.300      e-Shop\n",
              "1     29258453508   270384  27-02-2014  ...  785.925  -8270.925      e-Shop\n",
              "2     51750724947   273420  24-02-2014  ...  166.110  -1748.110    TeleShop\n",
              "\n",
              "[3 rows x 10 columns]"
            ]
          },
          "metadata": {
            "tags": []
          },
          "execution_count": 3
        }
      ]
    },
    {
      "cell_type": "code",
      "metadata": {
        "id": "Ld6-U5gBf3aL",
        "colab": {
          "base_uri": "https://localhost:8080/",
          "height": 141
        },
        "outputId": "8ee4a5d3-5ba2-4690-f387-26404ee98698"
      },
      "source": [
        "# Show customer table\n",
        "customer.head(3)"
      ],
      "execution_count": 4,
      "outputs": [
        {
          "output_type": "execute_result",
          "data": {
            "text/html": [
              "<div>\n",
              "<style scoped>\n",
              "    .dataframe tbody tr th:only-of-type {\n",
              "        vertical-align: middle;\n",
              "    }\n",
              "\n",
              "    .dataframe tbody tr th {\n",
              "        vertical-align: top;\n",
              "    }\n",
              "\n",
              "    .dataframe thead th {\n",
              "        text-align: right;\n",
              "    }\n",
              "</style>\n",
              "<table border=\"1\" class=\"dataframe\">\n",
              "  <thead>\n",
              "    <tr style=\"text-align: right;\">\n",
              "      <th></th>\n",
              "      <th>customer_Id</th>\n",
              "      <th>DOB</th>\n",
              "      <th>Gender</th>\n",
              "      <th>city_code</th>\n",
              "    </tr>\n",
              "  </thead>\n",
              "  <tbody>\n",
              "    <tr>\n",
              "      <th>0</th>\n",
              "      <td>268408</td>\n",
              "      <td>02-01-1970</td>\n",
              "      <td>M</td>\n",
              "      <td>4.0</td>\n",
              "    </tr>\n",
              "    <tr>\n",
              "      <th>1</th>\n",
              "      <td>269696</td>\n",
              "      <td>07-01-1970</td>\n",
              "      <td>F</td>\n",
              "      <td>8.0</td>\n",
              "    </tr>\n",
              "    <tr>\n",
              "      <th>2</th>\n",
              "      <td>268159</td>\n",
              "      <td>08-01-1970</td>\n",
              "      <td>F</td>\n",
              "      <td>8.0</td>\n",
              "    </tr>\n",
              "  </tbody>\n",
              "</table>\n",
              "</div>"
            ],
            "text/plain": [
              "   customer_Id         DOB Gender  city_code\n",
              "0       268408  02-01-1970      M        4.0\n",
              "1       269696  07-01-1970      F        8.0\n",
              "2       268159  08-01-1970      F        8.0"
            ]
          },
          "metadata": {
            "tags": []
          },
          "execution_count": 4
        }
      ]
    },
    {
      "cell_type": "code",
      "metadata": {
        "id": "7R9xh49tf79Q",
        "colab": {
          "base_uri": "https://localhost:8080/",
          "height": 754
        },
        "outputId": "f09f968c-48f3-4d29-acce-2447930dbf83"
      },
      "source": [
        "# Show product category table\n",
        "category_info"
      ],
      "execution_count": 5,
      "outputs": [
        {
          "output_type": "execute_result",
          "data": {
            "text/html": [
              "<div>\n",
              "<style scoped>\n",
              "    .dataframe tbody tr th:only-of-type {\n",
              "        vertical-align: middle;\n",
              "    }\n",
              "\n",
              "    .dataframe tbody tr th {\n",
              "        vertical-align: top;\n",
              "    }\n",
              "\n",
              "    .dataframe thead th {\n",
              "        text-align: right;\n",
              "    }\n",
              "</style>\n",
              "<table border=\"1\" class=\"dataframe\">\n",
              "  <thead>\n",
              "    <tr style=\"text-align: right;\">\n",
              "      <th></th>\n",
              "      <th>prod_cat_code</th>\n",
              "      <th>prod_cat</th>\n",
              "      <th>prod_sub_cat_code</th>\n",
              "      <th>prod_subcat</th>\n",
              "    </tr>\n",
              "  </thead>\n",
              "  <tbody>\n",
              "    <tr>\n",
              "      <th>0</th>\n",
              "      <td>1</td>\n",
              "      <td>Clothing</td>\n",
              "      <td>4</td>\n",
              "      <td>Mens</td>\n",
              "    </tr>\n",
              "    <tr>\n",
              "      <th>1</th>\n",
              "      <td>1</td>\n",
              "      <td>Clothing</td>\n",
              "      <td>1</td>\n",
              "      <td>Women</td>\n",
              "    </tr>\n",
              "    <tr>\n",
              "      <th>2</th>\n",
              "      <td>1</td>\n",
              "      <td>Clothing</td>\n",
              "      <td>3</td>\n",
              "      <td>Kids</td>\n",
              "    </tr>\n",
              "    <tr>\n",
              "      <th>3</th>\n",
              "      <td>2</td>\n",
              "      <td>Footwear</td>\n",
              "      <td>1</td>\n",
              "      <td>Mens</td>\n",
              "    </tr>\n",
              "    <tr>\n",
              "      <th>4</th>\n",
              "      <td>2</td>\n",
              "      <td>Footwear</td>\n",
              "      <td>3</td>\n",
              "      <td>Women</td>\n",
              "    </tr>\n",
              "    <tr>\n",
              "      <th>5</th>\n",
              "      <td>2</td>\n",
              "      <td>Footwear</td>\n",
              "      <td>4</td>\n",
              "      <td>Kids</td>\n",
              "    </tr>\n",
              "    <tr>\n",
              "      <th>6</th>\n",
              "      <td>3</td>\n",
              "      <td>Electronics</td>\n",
              "      <td>4</td>\n",
              "      <td>Mobiles</td>\n",
              "    </tr>\n",
              "    <tr>\n",
              "      <th>7</th>\n",
              "      <td>3</td>\n",
              "      <td>Electronics</td>\n",
              "      <td>5</td>\n",
              "      <td>Computers</td>\n",
              "    </tr>\n",
              "    <tr>\n",
              "      <th>8</th>\n",
              "      <td>3</td>\n",
              "      <td>Electronics</td>\n",
              "      <td>8</td>\n",
              "      <td>Personal Appliances</td>\n",
              "    </tr>\n",
              "    <tr>\n",
              "      <th>9</th>\n",
              "      <td>3</td>\n",
              "      <td>Electronics</td>\n",
              "      <td>9</td>\n",
              "      <td>Cameras</td>\n",
              "    </tr>\n",
              "    <tr>\n",
              "      <th>10</th>\n",
              "      <td>3</td>\n",
              "      <td>Electronics</td>\n",
              "      <td>10</td>\n",
              "      <td>Audio and video</td>\n",
              "    </tr>\n",
              "    <tr>\n",
              "      <th>11</th>\n",
              "      <td>4</td>\n",
              "      <td>Bags</td>\n",
              "      <td>1</td>\n",
              "      <td>Mens</td>\n",
              "    </tr>\n",
              "    <tr>\n",
              "      <th>12</th>\n",
              "      <td>4</td>\n",
              "      <td>Bags</td>\n",
              "      <td>4</td>\n",
              "      <td>Women</td>\n",
              "    </tr>\n",
              "    <tr>\n",
              "      <th>13</th>\n",
              "      <td>5</td>\n",
              "      <td>Books</td>\n",
              "      <td>7</td>\n",
              "      <td>Fiction</td>\n",
              "    </tr>\n",
              "    <tr>\n",
              "      <th>14</th>\n",
              "      <td>5</td>\n",
              "      <td>Books</td>\n",
              "      <td>12</td>\n",
              "      <td>Academic</td>\n",
              "    </tr>\n",
              "    <tr>\n",
              "      <th>15</th>\n",
              "      <td>5</td>\n",
              "      <td>Books</td>\n",
              "      <td>10</td>\n",
              "      <td>Non-Fiction</td>\n",
              "    </tr>\n",
              "    <tr>\n",
              "      <th>16</th>\n",
              "      <td>5</td>\n",
              "      <td>Books</td>\n",
              "      <td>11</td>\n",
              "      <td>Children</td>\n",
              "    </tr>\n",
              "    <tr>\n",
              "      <th>17</th>\n",
              "      <td>5</td>\n",
              "      <td>Books</td>\n",
              "      <td>3</td>\n",
              "      <td>Comics</td>\n",
              "    </tr>\n",
              "    <tr>\n",
              "      <th>18</th>\n",
              "      <td>5</td>\n",
              "      <td>Books</td>\n",
              "      <td>6</td>\n",
              "      <td>DIY</td>\n",
              "    </tr>\n",
              "    <tr>\n",
              "      <th>19</th>\n",
              "      <td>6</td>\n",
              "      <td>Home and kitchen</td>\n",
              "      <td>2</td>\n",
              "      <td>Furnishing</td>\n",
              "    </tr>\n",
              "    <tr>\n",
              "      <th>20</th>\n",
              "      <td>6</td>\n",
              "      <td>Home and kitchen</td>\n",
              "      <td>10</td>\n",
              "      <td>Kitchen</td>\n",
              "    </tr>\n",
              "    <tr>\n",
              "      <th>21</th>\n",
              "      <td>6</td>\n",
              "      <td>Home and kitchen</td>\n",
              "      <td>11</td>\n",
              "      <td>Bath</td>\n",
              "    </tr>\n",
              "    <tr>\n",
              "      <th>22</th>\n",
              "      <td>6</td>\n",
              "      <td>Home and kitchen</td>\n",
              "      <td>12</td>\n",
              "      <td>Tools</td>\n",
              "    </tr>\n",
              "  </tbody>\n",
              "</table>\n",
              "</div>"
            ],
            "text/plain": [
              "    prod_cat_code          prod_cat  prod_sub_cat_code          prod_subcat\n",
              "0               1          Clothing                  4                 Mens\n",
              "1               1          Clothing                  1                Women\n",
              "2               1          Clothing                  3                 Kids\n",
              "3               2          Footwear                  1                 Mens\n",
              "4               2          Footwear                  3                Women\n",
              "5               2          Footwear                  4                 Kids\n",
              "6               3       Electronics                  4              Mobiles\n",
              "7               3       Electronics                  5            Computers\n",
              "8               3       Electronics                  8  Personal Appliances\n",
              "9               3       Electronics                  9              Cameras\n",
              "10              3       Electronics                 10      Audio and video\n",
              "11              4              Bags                  1                 Mens\n",
              "12              4              Bags                  4                Women\n",
              "13              5             Books                  7              Fiction\n",
              "14              5             Books                 12             Academic\n",
              "15              5             Books                 10          Non-Fiction\n",
              "16              5             Books                 11             Children\n",
              "17              5             Books                  3               Comics\n",
              "18              5             Books                  6                  DIY\n",
              "19              6  Home and kitchen                  2           Furnishing\n",
              "20              6  Home and kitchen                 10              Kitchen\n",
              "21              6  Home and kitchen                 11                 Bath\n",
              "22              6  Home and kitchen                 12                Tools"
            ]
          },
          "metadata": {
            "tags": []
          },
          "execution_count": 5
        }
      ]
    },
    {
      "cell_type": "markdown",
      "metadata": {
        "id": "kL9ziG0mgN1t"
      },
      "source": [
        "# Data Preprocessing"
      ]
    },
    {
      "cell_type": "code",
      "metadata": {
        "id": "_QsgLwwhgWG2",
        "colab": {
          "base_uri": "https://localhost:8080/"
        },
        "outputId": "07391405-8d17-4d32-ac90-19d80271b3b5"
      },
      "source": [
        "transaction.info()"
      ],
      "execution_count": 6,
      "outputs": [
        {
          "output_type": "stream",
          "text": [
            "<class 'pandas.core.frame.DataFrame'>\n",
            "RangeIndex: 23053 entries, 0 to 23052\n",
            "Data columns (total 10 columns):\n",
            " #   Column            Non-Null Count  Dtype  \n",
            "---  ------            --------------  -----  \n",
            " 0   transaction_id    23053 non-null  int64  \n",
            " 1   cust_id           23053 non-null  int64  \n",
            " 2   tran_date         23053 non-null  object \n",
            " 3   prod_subcat_code  23053 non-null  int64  \n",
            " 4   prod_cat_code     23053 non-null  int64  \n",
            " 5   Qty               23053 non-null  int64  \n",
            " 6   Rate              23053 non-null  int64  \n",
            " 7   Tax               23053 non-null  float64\n",
            " 8   total_amt         23053 non-null  float64\n",
            " 9   Store_type        23053 non-null  object \n",
            "dtypes: float64(2), int64(6), object(2)\n",
            "memory usage: 1.8+ MB\n"
          ],
          "name": "stdout"
        }
      ]
    },
    {
      "cell_type": "code",
      "metadata": {
        "id": "TuPoVJkCgdGB",
        "colab": {
          "base_uri": "https://localhost:8080/",
          "height": 196
        },
        "outputId": "27eebb68-c05a-42d4-cba3-be13858f98e2"
      },
      "source": [
        "# Merge transaction and customer data\n",
        "df = pd.merge(transaction, customer, left_on='cust_id', right_on='customer_Id', how='left')\n",
        "df.head(2)"
      ],
      "execution_count": 7,
      "outputs": [
        {
          "output_type": "execute_result",
          "data": {
            "text/html": [
              "<div>\n",
              "<style scoped>\n",
              "    .dataframe tbody tr th:only-of-type {\n",
              "        vertical-align: middle;\n",
              "    }\n",
              "\n",
              "    .dataframe tbody tr th {\n",
              "        vertical-align: top;\n",
              "    }\n",
              "\n",
              "    .dataframe thead th {\n",
              "        text-align: right;\n",
              "    }\n",
              "</style>\n",
              "<table border=\"1\" class=\"dataframe\">\n",
              "  <thead>\n",
              "    <tr style=\"text-align: right;\">\n",
              "      <th></th>\n",
              "      <th>transaction_id</th>\n",
              "      <th>cust_id</th>\n",
              "      <th>tran_date</th>\n",
              "      <th>prod_subcat_code</th>\n",
              "      <th>prod_cat_code</th>\n",
              "      <th>Qty</th>\n",
              "      <th>Rate</th>\n",
              "      <th>Tax</th>\n",
              "      <th>total_amt</th>\n",
              "      <th>Store_type</th>\n",
              "      <th>customer_Id</th>\n",
              "      <th>DOB</th>\n",
              "      <th>Gender</th>\n",
              "      <th>city_code</th>\n",
              "    </tr>\n",
              "  </thead>\n",
              "  <tbody>\n",
              "    <tr>\n",
              "      <th>0</th>\n",
              "      <td>80712190438</td>\n",
              "      <td>270351</td>\n",
              "      <td>28-02-2014</td>\n",
              "      <td>1</td>\n",
              "      <td>1</td>\n",
              "      <td>-5</td>\n",
              "      <td>-772</td>\n",
              "      <td>405.300</td>\n",
              "      <td>-4265.300</td>\n",
              "      <td>e-Shop</td>\n",
              "      <td>270351</td>\n",
              "      <td>26-09-1981</td>\n",
              "      <td>M</td>\n",
              "      <td>5.0</td>\n",
              "    </tr>\n",
              "    <tr>\n",
              "      <th>1</th>\n",
              "      <td>29258453508</td>\n",
              "      <td>270384</td>\n",
              "      <td>27-02-2014</td>\n",
              "      <td>5</td>\n",
              "      <td>3</td>\n",
              "      <td>-5</td>\n",
              "      <td>-1497</td>\n",
              "      <td>785.925</td>\n",
              "      <td>-8270.925</td>\n",
              "      <td>e-Shop</td>\n",
              "      <td>270384</td>\n",
              "      <td>11-05-1973</td>\n",
              "      <td>F</td>\n",
              "      <td>8.0</td>\n",
              "    </tr>\n",
              "  </tbody>\n",
              "</table>\n",
              "</div>"
            ],
            "text/plain": [
              "   transaction_id  cust_id   tran_date  ...         DOB  Gender  city_code\n",
              "0     80712190438   270351  28-02-2014  ...  26-09-1981       M        5.0\n",
              "1     29258453508   270384  27-02-2014  ...  11-05-1973       F        8.0\n",
              "\n",
              "[2 rows x 14 columns]"
            ]
          },
          "metadata": {
            "tags": []
          },
          "execution_count": 7
        }
      ]
    },
    {
      "cell_type": "code",
      "metadata": {
        "id": "mHzpGGwVjPRa",
        "colab": {
          "base_uri": "https://localhost:8080/"
        },
        "outputId": "10b60e57-62ed-4e64-a3a8-57e0a8469a55"
      },
      "source": [
        "# check number of rows and columns\n",
        "df.shape"
      ],
      "execution_count": 8,
      "outputs": [
        {
          "output_type": "execute_result",
          "data": {
            "text/plain": [
              "(23053, 14)"
            ]
          },
          "metadata": {
            "tags": []
          },
          "execution_count": 8
        }
      ]
    },
    {
      "cell_type": "code",
      "metadata": {
        "id": "-lnEPUKHjt5V",
        "colab": {
          "base_uri": "https://localhost:8080/",
          "height": 314
        },
        "outputId": "94359862-912b-4ce4-e506-8e73f5ce01e0"
      },
      "source": [
        "# Calculate descriptive statistics\n",
        "df.describe()"
      ],
      "execution_count": 9,
      "outputs": [
        {
          "output_type": "execute_result",
          "data": {
            "text/html": [
              "<div>\n",
              "<style scoped>\n",
              "    .dataframe tbody tr th:only-of-type {\n",
              "        vertical-align: middle;\n",
              "    }\n",
              "\n",
              "    .dataframe tbody tr th {\n",
              "        vertical-align: top;\n",
              "    }\n",
              "\n",
              "    .dataframe thead th {\n",
              "        text-align: right;\n",
              "    }\n",
              "</style>\n",
              "<table border=\"1\" class=\"dataframe\">\n",
              "  <thead>\n",
              "    <tr style=\"text-align: right;\">\n",
              "      <th></th>\n",
              "      <th>transaction_id</th>\n",
              "      <th>cust_id</th>\n",
              "      <th>prod_subcat_code</th>\n",
              "      <th>prod_cat_code</th>\n",
              "      <th>Qty</th>\n",
              "      <th>Rate</th>\n",
              "      <th>Tax</th>\n",
              "      <th>total_amt</th>\n",
              "      <th>customer_Id</th>\n",
              "      <th>city_code</th>\n",
              "    </tr>\n",
              "  </thead>\n",
              "  <tbody>\n",
              "    <tr>\n",
              "      <th>count</th>\n",
              "      <td>2.305300e+04</td>\n",
              "      <td>23053.000000</td>\n",
              "      <td>23053.000000</td>\n",
              "      <td>23053.000000</td>\n",
              "      <td>23053.000000</td>\n",
              "      <td>23053.000000</td>\n",
              "      <td>23053.000000</td>\n",
              "      <td>23053.000000</td>\n",
              "      <td>23053.000000</td>\n",
              "      <td>23045.000000</td>\n",
              "    </tr>\n",
              "    <tr>\n",
              "      <th>mean</th>\n",
              "      <td>5.007348e+10</td>\n",
              "      <td>271021.746497</td>\n",
              "      <td>6.149091</td>\n",
              "      <td>3.763632</td>\n",
              "      <td>2.432395</td>\n",
              "      <td>636.369713</td>\n",
              "      <td>248.667192</td>\n",
              "      <td>2107.308002</td>\n",
              "      <td>271021.746497</td>\n",
              "      <td>5.482534</td>\n",
              "    </tr>\n",
              "    <tr>\n",
              "      <th>std</th>\n",
              "      <td>2.898194e+10</td>\n",
              "      <td>2431.692059</td>\n",
              "      <td>3.726372</td>\n",
              "      <td>1.677016</td>\n",
              "      <td>2.268406</td>\n",
              "      <td>622.363498</td>\n",
              "      <td>187.177773</td>\n",
              "      <td>2507.561264</td>\n",
              "      <td>2431.692059</td>\n",
              "      <td>2.863499</td>\n",
              "    </tr>\n",
              "    <tr>\n",
              "      <th>min</th>\n",
              "      <td>3.268991e+06</td>\n",
              "      <td>266783.000000</td>\n",
              "      <td>1.000000</td>\n",
              "      <td>1.000000</td>\n",
              "      <td>-5.000000</td>\n",
              "      <td>-1499.000000</td>\n",
              "      <td>7.350000</td>\n",
              "      <td>-8270.925000</td>\n",
              "      <td>266783.000000</td>\n",
              "      <td>1.000000</td>\n",
              "    </tr>\n",
              "    <tr>\n",
              "      <th>25%</th>\n",
              "      <td>2.493864e+10</td>\n",
              "      <td>268935.000000</td>\n",
              "      <td>3.000000</td>\n",
              "      <td>2.000000</td>\n",
              "      <td>1.000000</td>\n",
              "      <td>312.000000</td>\n",
              "      <td>98.280000</td>\n",
              "      <td>762.450000</td>\n",
              "      <td>268935.000000</td>\n",
              "      <td>3.000000</td>\n",
              "    </tr>\n",
              "    <tr>\n",
              "      <th>50%</th>\n",
              "      <td>5.009313e+10</td>\n",
              "      <td>270980.000000</td>\n",
              "      <td>5.000000</td>\n",
              "      <td>4.000000</td>\n",
              "      <td>3.000000</td>\n",
              "      <td>710.000000</td>\n",
              "      <td>199.080000</td>\n",
              "      <td>1754.740000</td>\n",
              "      <td>270980.000000</td>\n",
              "      <td>5.000000</td>\n",
              "    </tr>\n",
              "    <tr>\n",
              "      <th>75%</th>\n",
              "      <td>7.533000e+10</td>\n",
              "      <td>273114.000000</td>\n",
              "      <td>10.000000</td>\n",
              "      <td>5.000000</td>\n",
              "      <td>4.000000</td>\n",
              "      <td>1109.000000</td>\n",
              "      <td>365.715000</td>\n",
              "      <td>3569.150000</td>\n",
              "      <td>273114.000000</td>\n",
              "      <td>8.000000</td>\n",
              "    </tr>\n",
              "    <tr>\n",
              "      <th>max</th>\n",
              "      <td>9.998755e+10</td>\n",
              "      <td>275265.000000</td>\n",
              "      <td>12.000000</td>\n",
              "      <td>6.000000</td>\n",
              "      <td>5.000000</td>\n",
              "      <td>1500.000000</td>\n",
              "      <td>787.500000</td>\n",
              "      <td>8287.500000</td>\n",
              "      <td>275265.000000</td>\n",
              "      <td>10.000000</td>\n",
              "    </tr>\n",
              "  </tbody>\n",
              "</table>\n",
              "</div>"
            ],
            "text/plain": [
              "       transaction_id        cust_id  ...    customer_Id     city_code\n",
              "count    2.305300e+04   23053.000000  ...   23053.000000  23045.000000\n",
              "mean     5.007348e+10  271021.746497  ...  271021.746497      5.482534\n",
              "std      2.898194e+10    2431.692059  ...    2431.692059      2.863499\n",
              "min      3.268991e+06  266783.000000  ...  266783.000000      1.000000\n",
              "25%      2.493864e+10  268935.000000  ...  268935.000000      3.000000\n",
              "50%      5.009313e+10  270980.000000  ...  270980.000000      5.000000\n",
              "75%      7.533000e+10  273114.000000  ...  273114.000000      8.000000\n",
              "max      9.998755e+10  275265.000000  ...  275265.000000     10.000000\n",
              "\n",
              "[8 rows x 10 columns]"
            ]
          },
          "metadata": {
            "tags": []
          },
          "execution_count": 9
        }
      ]
    },
    {
      "cell_type": "code",
      "metadata": {
        "id": "HGOWf-xRizup"
      },
      "source": [
        "# Drop customer_Id column from customer data\n",
        "df.drop(['customer_Id'], axis=1, inplace=True)"
      ],
      "execution_count": 10,
      "outputs": []
    },
    {
      "cell_type": "code",
      "metadata": {
        "id": "Vt-yL1-HhbYs",
        "colab": {
          "base_uri": "https://localhost:8080/"
        },
        "outputId": "3b186b44-d97d-44d6-c1ca-71460d7be238"
      },
      "source": [
        "# Convert tran_date and DOB columns data type to datetime\n",
        "df['tran_date'] = pd.to_datetime(df['tran_date'])\n",
        "df['DOB'] = pd.to_datetime(df['DOB'])\n",
        "df.info()"
      ],
      "execution_count": 11,
      "outputs": [
        {
          "output_type": "stream",
          "text": [
            "<class 'pandas.core.frame.DataFrame'>\n",
            "Int64Index: 23053 entries, 0 to 23052\n",
            "Data columns (total 13 columns):\n",
            " #   Column            Non-Null Count  Dtype         \n",
            "---  ------            --------------  -----         \n",
            " 0   transaction_id    23053 non-null  int64         \n",
            " 1   cust_id           23053 non-null  int64         \n",
            " 2   tran_date         23053 non-null  datetime64[ns]\n",
            " 3   prod_subcat_code  23053 non-null  int64         \n",
            " 4   prod_cat_code     23053 non-null  int64         \n",
            " 5   Qty               23053 non-null  int64         \n",
            " 6   Rate              23053 non-null  int64         \n",
            " 7   Tax               23053 non-null  float64       \n",
            " 8   total_amt         23053 non-null  float64       \n",
            " 9   Store_type        23053 non-null  object        \n",
            " 10  DOB               23053 non-null  datetime64[ns]\n",
            " 11  Gender            23044 non-null  object        \n",
            " 12  city_code         23045 non-null  float64       \n",
            "dtypes: datetime64[ns](2), float64(3), int64(6), object(2)\n",
            "memory usage: 2.5+ MB\n"
          ],
          "name": "stdout"
        }
      ]
    },
    {
      "cell_type": "code",
      "metadata": {
        "id": "aVUTpjechtXg",
        "colab": {
          "base_uri": "https://localhost:8080/"
        },
        "outputId": "99c436fe-2e14-421d-d363-bc3b1fb67854"
      },
      "source": [
        "# Check number of null in data\n",
        "df.isnull().sum()"
      ],
      "execution_count": 12,
      "outputs": [
        {
          "output_type": "execute_result",
          "data": {
            "text/plain": [
              "transaction_id      0\n",
              "cust_id             0\n",
              "tran_date           0\n",
              "prod_subcat_code    0\n",
              "prod_cat_code       0\n",
              "Qty                 0\n",
              "Rate                0\n",
              "Tax                 0\n",
              "total_amt           0\n",
              "Store_type          0\n",
              "DOB                 0\n",
              "Gender              9\n",
              "city_code           8\n",
              "dtype: int64"
            ]
          },
          "metadata": {
            "tags": []
          },
          "execution_count": 12
        }
      ]
    },
    {
      "cell_type": "code",
      "metadata": {
        "id": "gkMPckmv5YPq"
      },
      "source": [
        "# Drop null data\n",
        "df.dropna(inplace=True)"
      ],
      "execution_count": 13,
      "outputs": []
    },
    {
      "cell_type": "code",
      "metadata": {
        "id": "tJGyb_QGh3tX",
        "colab": {
          "base_uri": "https://localhost:8080/"
        },
        "outputId": "5375a0e7-0c69-4a7d-97e3-acf3381eda6c"
      },
      "source": [
        "# Check transaction_id column unique values\n",
        "df['transaction_id'].unique()"
      ],
      "execution_count": 14,
      "outputs": [
        {
          "output_type": "execute_result",
          "data": {
            "text/plain": [
              "array([80712190438, 29258453508, 51750724947, ..., 89780862956,\n",
              "       85115299378, 77960931771])"
            ]
          },
          "metadata": {
            "tags": []
          },
          "execution_count": 14
        }
      ]
    },
    {
      "cell_type": "code",
      "metadata": {
        "id": "eQwiWOQsiCv3",
        "colab": {
          "base_uri": "https://localhost:8080/"
        },
        "outputId": "fa28cc00-0070-4079-f16c-2a698ebab820"
      },
      "source": [
        "# Check cust_id column unique values\n",
        "df['cust_id'].unique()"
      ],
      "execution_count": 15,
      "outputs": [
        {
          "output_type": "execute_result",
          "data": {
            "text/plain": [
              "array([270351, 270384, 273420, ..., 269556, 274935, 273723])"
            ]
          },
          "metadata": {
            "tags": []
          },
          "execution_count": 15
        }
      ]
    },
    {
      "cell_type": "code",
      "metadata": {
        "id": "Xn9sAOYQiPNB",
        "colab": {
          "base_uri": "https://localhost:8080/"
        },
        "outputId": "bb8ba813-f326-49c3-cf73-b3994e488397"
      },
      "source": [
        "# Check prod_subcat_code column unique values\n",
        "df['prod_subcat_code'].unique()"
      ],
      "execution_count": 16,
      "outputs": [
        {
          "output_type": "execute_result",
          "data": {
            "text/plain": [
              "array([ 1,  5,  6, 11,  8, 12,  3,  7,  4,  9, 10,  2])"
            ]
          },
          "metadata": {
            "tags": []
          },
          "execution_count": 16
        }
      ]
    },
    {
      "cell_type": "code",
      "metadata": {
        "id": "Jf8Yx_KgiUAM",
        "colab": {
          "base_uri": "https://localhost:8080/"
        },
        "outputId": "8bee64ee-f1a9-4da3-ccca-3a9ec79d78df"
      },
      "source": [
        "# Check prod_cat_code column unique values\n",
        "df['prod_cat_code'].unique()"
      ],
      "execution_count": 17,
      "outputs": [
        {
          "output_type": "execute_result",
          "data": {
            "text/plain": [
              "array([1, 3, 5, 6, 2, 4])"
            ]
          },
          "metadata": {
            "tags": []
          },
          "execution_count": 17
        }
      ]
    },
    {
      "cell_type": "code",
      "metadata": {
        "id": "t3xKnmpmiY28",
        "colab": {
          "base_uri": "https://localhost:8080/"
        },
        "outputId": "77979671-8127-4f44-837a-503d7bdbfb5f"
      },
      "source": [
        "# Check Store_type column unique values\n",
        "df['Store_type'].unique()"
      ],
      "execution_count": 18,
      "outputs": [
        {
          "output_type": "execute_result",
          "data": {
            "text/plain": [
              "array(['e-Shop', 'TeleShop', 'MBR', 'Flagship store'], dtype=object)"
            ]
          },
          "metadata": {
            "tags": []
          },
          "execution_count": 18
        }
      ]
    },
    {
      "cell_type": "code",
      "metadata": {
        "id": "Ztd4nsWMif1c",
        "colab": {
          "base_uri": "https://localhost:8080/"
        },
        "outputId": "9034f533-1e25-4a7b-b421-b9d00c9ce937"
      },
      "source": [
        "# Check Gender column unique values\n",
        "df['Gender'].unique()"
      ],
      "execution_count": 19,
      "outputs": [
        {
          "output_type": "execute_result",
          "data": {
            "text/plain": [
              "array(['M', 'F'], dtype=object)"
            ]
          },
          "metadata": {
            "tags": []
          },
          "execution_count": 19
        }
      ]
    },
    {
      "cell_type": "code",
      "metadata": {
        "id": "y6cLt7o5irSf",
        "colab": {
          "base_uri": "https://localhost:8080/"
        },
        "outputId": "e1e9f5f7-13d4-481e-d99d-73da7520cb7f"
      },
      "source": [
        "# Check city_code column unique values\n",
        "df['city_code'].unique()"
      ],
      "execution_count": 20,
      "outputs": [
        {
          "output_type": "execute_result",
          "data": {
            "text/plain": [
              "array([ 5.,  8.,  3.,  6.,  9.,  1.,  2., 10.,  7.,  4.])"
            ]
          },
          "metadata": {
            "tags": []
          },
          "execution_count": 20
        }
      ]
    },
    {
      "cell_type": "code",
      "metadata": {
        "id": "oG5-mQh1ixhu"
      },
      "source": [
        "# Change Qty, Rate, and total_amt columns values to positive values\n",
        "df['Qty'] = df['Qty'].abs()\n",
        "df['Rate'] = df['Rate'].abs()\n",
        "df['total_amt'] = df['total_amt'].abs()"
      ],
      "execution_count": 21,
      "outputs": []
    },
    {
      "cell_type": "code",
      "metadata": {
        "id": "6XZFB9-ekmFw",
        "colab": {
          "base_uri": "https://localhost:8080/"
        },
        "outputId": "1c94f091-7089-4a01-f76f-9bd3d24ff1ae"
      },
      "source": [
        "df.info()"
      ],
      "execution_count": 22,
      "outputs": [
        {
          "output_type": "stream",
          "text": [
            "<class 'pandas.core.frame.DataFrame'>\n",
            "Int64Index: 23036 entries, 0 to 23052\n",
            "Data columns (total 13 columns):\n",
            " #   Column            Non-Null Count  Dtype         \n",
            "---  ------            --------------  -----         \n",
            " 0   transaction_id    23036 non-null  int64         \n",
            " 1   cust_id           23036 non-null  int64         \n",
            " 2   tran_date         23036 non-null  datetime64[ns]\n",
            " 3   prod_subcat_code  23036 non-null  int64         \n",
            " 4   prod_cat_code     23036 non-null  int64         \n",
            " 5   Qty               23036 non-null  int64         \n",
            " 6   Rate              23036 non-null  int64         \n",
            " 7   Tax               23036 non-null  float64       \n",
            " 8   total_amt         23036 non-null  float64       \n",
            " 9   Store_type        23036 non-null  object        \n",
            " 10  DOB               23036 non-null  datetime64[ns]\n",
            " 11  Gender            23036 non-null  object        \n",
            " 12  city_code         23036 non-null  float64       \n",
            "dtypes: datetime64[ns](2), float64(3), int64(6), object(2)\n",
            "memory usage: 2.5+ MB\n"
          ],
          "name": "stdout"
        }
      ]
    },
    {
      "cell_type": "code",
      "metadata": {
        "id": "8Du6cGcNki1b",
        "colab": {
          "base_uri": "https://localhost:8080/",
          "height": 163
        },
        "outputId": "2120f320-7c14-4de1-affa-0ceb7c38dca1"
      },
      "source": [
        "# Change the columns name to make it easier to remember\n",
        "df.rename(columns=({'cust_id': 'customer_id', 'tran_date': 'transaction_date', 'prod_subcat_code': 'subcategory_code',\n",
        "                   'prod_cat_code': 'category_code', 'Qty': 'quantity', 'Rate': 'rate', 'Tax': 'tax', 'total_amt': 'total_amount',\n",
        "                   'Store_type': 'store_type', 'DOB': 'birth', 'Gender': 'gender'}), inplace=True)\n",
        "df.head(2)"
      ],
      "execution_count": 23,
      "outputs": [
        {
          "output_type": "execute_result",
          "data": {
            "text/html": [
              "<div>\n",
              "<style scoped>\n",
              "    .dataframe tbody tr th:only-of-type {\n",
              "        vertical-align: middle;\n",
              "    }\n",
              "\n",
              "    .dataframe tbody tr th {\n",
              "        vertical-align: top;\n",
              "    }\n",
              "\n",
              "    .dataframe thead th {\n",
              "        text-align: right;\n",
              "    }\n",
              "</style>\n",
              "<table border=\"1\" class=\"dataframe\">\n",
              "  <thead>\n",
              "    <tr style=\"text-align: right;\">\n",
              "      <th></th>\n",
              "      <th>transaction_id</th>\n",
              "      <th>customer_id</th>\n",
              "      <th>transaction_date</th>\n",
              "      <th>subcategory_code</th>\n",
              "      <th>category_code</th>\n",
              "      <th>quantity</th>\n",
              "      <th>rate</th>\n",
              "      <th>tax</th>\n",
              "      <th>total_amount</th>\n",
              "      <th>store_type</th>\n",
              "      <th>birth</th>\n",
              "      <th>gender</th>\n",
              "      <th>city_code</th>\n",
              "    </tr>\n",
              "  </thead>\n",
              "  <tbody>\n",
              "    <tr>\n",
              "      <th>0</th>\n",
              "      <td>80712190438</td>\n",
              "      <td>270351</td>\n",
              "      <td>2014-02-28</td>\n",
              "      <td>1</td>\n",
              "      <td>1</td>\n",
              "      <td>5</td>\n",
              "      <td>772</td>\n",
              "      <td>405.300</td>\n",
              "      <td>4265.300</td>\n",
              "      <td>e-Shop</td>\n",
              "      <td>1981-09-26</td>\n",
              "      <td>M</td>\n",
              "      <td>5.0</td>\n",
              "    </tr>\n",
              "    <tr>\n",
              "      <th>1</th>\n",
              "      <td>29258453508</td>\n",
              "      <td>270384</td>\n",
              "      <td>2014-02-27</td>\n",
              "      <td>5</td>\n",
              "      <td>3</td>\n",
              "      <td>5</td>\n",
              "      <td>1497</td>\n",
              "      <td>785.925</td>\n",
              "      <td>8270.925</td>\n",
              "      <td>e-Shop</td>\n",
              "      <td>1973-11-05</td>\n",
              "      <td>F</td>\n",
              "      <td>8.0</td>\n",
              "    </tr>\n",
              "  </tbody>\n",
              "</table>\n",
              "</div>"
            ],
            "text/plain": [
              "   transaction_id  customer_id transaction_date  ...      birth  gender  city_code\n",
              "0     80712190438       270351       2014-02-28  ... 1981-09-26       M        5.0\n",
              "1     29258453508       270384       2014-02-27  ... 1973-11-05       F        8.0\n",
              "\n",
              "[2 rows x 13 columns]"
            ]
          },
          "metadata": {
            "tags": []
          },
          "execution_count": 23
        }
      ]
    },
    {
      "cell_type": "markdown",
      "metadata": {
        "id": "5tvCmPwcj_YA"
      },
      "source": [
        "#  RFM-AR Scoring\n",
        "\n",
        "\n"
      ]
    },
    {
      "cell_type": "markdown",
      "metadata": {
        "id": "wDZnsJCsXMJ6"
      },
      "source": [
        "## Recency, Frequency, and Monetary (RFM) "
      ]
    },
    {
      "cell_type": "code",
      "metadata": {
        "id": "cDi4njPUj7nY",
        "colab": {
          "base_uri": "https://localhost:8080/"
        },
        "outputId": "9ef8df00-f430-4080-dd79-15e1a1b0dd2f"
      },
      "source": [
        "# Make a new variable (max_date) contain of maximum value of transaction_date column\n",
        "max_date = df['transaction_date'].max()\n",
        "max_date"
      ],
      "execution_count": 24,
      "outputs": [
        {
          "output_type": "execute_result",
          "data": {
            "text/plain": [
              "Timestamp('2014-12-02 00:00:00')"
            ]
          },
          "metadata": {
            "tags": []
          },
          "execution_count": 24
        }
      ]
    },
    {
      "cell_type": "code",
      "metadata": {
        "id": "B9wPfmYykSLv",
        "colab": {
          "base_uri": "https://localhost:8080/",
          "height": 202
        },
        "outputId": "39df4cb0-e256-405f-bd92-5040c1253854"
      },
      "source": [
        "# Make a new variable (cust_agg) contain of aggregate function to get frequency (transaction_id) and monetary values (total_amount)\n",
        "cust_agg = df.groupby('customer_id').agg({'transaction_date':'max','transaction_id':'count', 'total_amount':'sum'}).reset_index()\n",
        "cust_agg.head()"
      ],
      "execution_count": 25,
      "outputs": [
        {
          "output_type": "execute_result",
          "data": {
            "text/html": [
              "<div>\n",
              "<style scoped>\n",
              "    .dataframe tbody tr th:only-of-type {\n",
              "        vertical-align: middle;\n",
              "    }\n",
              "\n",
              "    .dataframe tbody tr th {\n",
              "        vertical-align: top;\n",
              "    }\n",
              "\n",
              "    .dataframe thead th {\n",
              "        text-align: right;\n",
              "    }\n",
              "</style>\n",
              "<table border=\"1\" class=\"dataframe\">\n",
              "  <thead>\n",
              "    <tr style=\"text-align: right;\">\n",
              "      <th></th>\n",
              "      <th>customer_id</th>\n",
              "      <th>transaction_date</th>\n",
              "      <th>transaction_id</th>\n",
              "      <th>total_amount</th>\n",
              "    </tr>\n",
              "  </thead>\n",
              "  <tbody>\n",
              "    <tr>\n",
              "      <th>0</th>\n",
              "      <td>266783</td>\n",
              "      <td>2013-09-02</td>\n",
              "      <td>5</td>\n",
              "      <td>14791.530</td>\n",
              "    </tr>\n",
              "    <tr>\n",
              "      <th>1</th>\n",
              "      <td>266784</td>\n",
              "      <td>2012-09-09</td>\n",
              "      <td>3</td>\n",
              "      <td>5694.065</td>\n",
              "    </tr>\n",
              "    <tr>\n",
              "      <th>2</th>\n",
              "      <td>266785</td>\n",
              "      <td>2013-02-13</td>\n",
              "      <td>8</td>\n",
              "      <td>35271.600</td>\n",
              "    </tr>\n",
              "    <tr>\n",
              "      <th>3</th>\n",
              "      <td>266788</td>\n",
              "      <td>2013-12-02</td>\n",
              "      <td>4</td>\n",
              "      <td>6092.970</td>\n",
              "    </tr>\n",
              "    <tr>\n",
              "      <th>4</th>\n",
              "      <td>266794</td>\n",
              "      <td>2014-12-02</td>\n",
              "      <td>12</td>\n",
              "      <td>28253.745</td>\n",
              "    </tr>\n",
              "  </tbody>\n",
              "</table>\n",
              "</div>"
            ],
            "text/plain": [
              "   customer_id transaction_date  transaction_id  total_amount\n",
              "0       266783       2013-09-02               5     14791.530\n",
              "1       266784       2012-09-09               3      5694.065\n",
              "2       266785       2013-02-13               8     35271.600\n",
              "3       266788       2013-12-02               4      6092.970\n",
              "4       266794       2014-12-02              12     28253.745"
            ]
          },
          "metadata": {
            "tags": []
          },
          "execution_count": 25
        }
      ]
    },
    {
      "cell_type": "code",
      "metadata": {
        "id": "Cua4IQa1mQ7b",
        "colab": {
          "base_uri": "https://localhost:8080/",
          "height": 141
        },
        "outputId": "020706ea-dd95-4af3-97df-b05ed69f73cd"
      },
      "source": [
        "# Make a new column (recency) contain of difference between max_date and each transaction_date values to get recency in months\n",
        "cust_agg['recency'] = (max_date - cust_agg['transaction_date'])/np.timedelta64(1, 'M')\n",
        "cust_agg.head(3)"
      ],
      "execution_count": 26,
      "outputs": [
        {
          "output_type": "execute_result",
          "data": {
            "text/html": [
              "<div>\n",
              "<style scoped>\n",
              "    .dataframe tbody tr th:only-of-type {\n",
              "        vertical-align: middle;\n",
              "    }\n",
              "\n",
              "    .dataframe tbody tr th {\n",
              "        vertical-align: top;\n",
              "    }\n",
              "\n",
              "    .dataframe thead th {\n",
              "        text-align: right;\n",
              "    }\n",
              "</style>\n",
              "<table border=\"1\" class=\"dataframe\">\n",
              "  <thead>\n",
              "    <tr style=\"text-align: right;\">\n",
              "      <th></th>\n",
              "      <th>customer_id</th>\n",
              "      <th>transaction_date</th>\n",
              "      <th>transaction_id</th>\n",
              "      <th>total_amount</th>\n",
              "      <th>recency</th>\n",
              "    </tr>\n",
              "  </thead>\n",
              "  <tbody>\n",
              "    <tr>\n",
              "      <th>0</th>\n",
              "      <td>266783</td>\n",
              "      <td>2013-09-02</td>\n",
              "      <td>5</td>\n",
              "      <td>14791.530</td>\n",
              "      <td>14.981827</td>\n",
              "    </tr>\n",
              "    <tr>\n",
              "      <th>1</th>\n",
              "      <td>266784</td>\n",
              "      <td>2012-09-09</td>\n",
              "      <td>3</td>\n",
              "      <td>5694.065</td>\n",
              "      <td>26.743876</td>\n",
              "    </tr>\n",
              "    <tr>\n",
              "      <th>2</th>\n",
              "      <td>266785</td>\n",
              "      <td>2013-02-13</td>\n",
              "      <td>8</td>\n",
              "      <td>35271.600</td>\n",
              "      <td>21.585659</td>\n",
              "    </tr>\n",
              "  </tbody>\n",
              "</table>\n",
              "</div>"
            ],
            "text/plain": [
              "   customer_id transaction_date  transaction_id  total_amount    recency\n",
              "0       266783       2013-09-02               5     14791.530  14.981827\n",
              "1       266784       2012-09-09               3      5694.065  26.743876\n",
              "2       266785       2013-02-13               8     35271.600  21.585659"
            ]
          },
          "metadata": {
            "tags": []
          },
          "execution_count": 26
        }
      ]
    },
    {
      "cell_type": "code",
      "metadata": {
        "id": "8rICs84bme25",
        "colab": {
          "base_uri": "https://localhost:8080/",
          "height": 294
        },
        "outputId": "df98dd83-fcd9-419f-d565-0a71495d5ba7"
      },
      "source": [
        "# Calculate descriptive statistics of cust_agg variable\n",
        "cust_agg.describe()"
      ],
      "execution_count": 27,
      "outputs": [
        {
          "output_type": "execute_result",
          "data": {
            "text/html": [
              "<div>\n",
              "<style scoped>\n",
              "    .dataframe tbody tr th:only-of-type {\n",
              "        vertical-align: middle;\n",
              "    }\n",
              "\n",
              "    .dataframe tbody tr th {\n",
              "        vertical-align: top;\n",
              "    }\n",
              "\n",
              "    .dataframe thead th {\n",
              "        text-align: right;\n",
              "    }\n",
              "</style>\n",
              "<table border=\"1\" class=\"dataframe\">\n",
              "  <thead>\n",
              "    <tr style=\"text-align: right;\">\n",
              "      <th></th>\n",
              "      <th>customer_id</th>\n",
              "      <th>transaction_id</th>\n",
              "      <th>total_amount</th>\n",
              "      <th>recency</th>\n",
              "    </tr>\n",
              "  </thead>\n",
              "  <tbody>\n",
              "    <tr>\n",
              "      <th>count</th>\n",
              "      <td>5502.000000</td>\n",
              "      <td>5502.000000</td>\n",
              "      <td>5502.000000</td>\n",
              "      <td>5502.000000</td>\n",
              "    </tr>\n",
              "    <tr>\n",
              "      <th>mean</th>\n",
              "      <td>271035.526536</td>\n",
              "      <td>4.186841</td>\n",
              "      <td>10957.700768</td>\n",
              "      <td>17.835526</td>\n",
              "    </tr>\n",
              "    <tr>\n",
              "      <th>std</th>\n",
              "      <td>2453.093450</td>\n",
              "      <td>2.116921</td>\n",
              "      <td>7170.678459</td>\n",
              "      <td>8.597923</td>\n",
              "    </tr>\n",
              "    <tr>\n",
              "      <th>min</th>\n",
              "      <td>266783.000000</td>\n",
              "      <td>1.000000</td>\n",
              "      <td>98.345000</td>\n",
              "      <td>0.000000</td>\n",
              "    </tr>\n",
              "    <tr>\n",
              "      <th>25%</th>\n",
              "      <td>268911.000000</td>\n",
              "      <td>3.000000</td>\n",
              "      <td>5571.133750</td>\n",
              "      <td>12.024888</td>\n",
              "    </tr>\n",
              "    <tr>\n",
              "      <th>50%</th>\n",
              "      <td>271026.500000</td>\n",
              "      <td>4.000000</td>\n",
              "      <td>9725.105000</td>\n",
              "      <td>15.737489</td>\n",
              "    </tr>\n",
              "    <tr>\n",
              "      <th>75%</th>\n",
              "      <td>273172.750000</td>\n",
              "      <td>6.000000</td>\n",
              "      <td>15192.645000</td>\n",
              "      <td>22.308466</td>\n",
              "    </tr>\n",
              "    <tr>\n",
              "      <th>max</th>\n",
              "      <td>275265.000000</td>\n",
              "      <td>13.000000</td>\n",
              "      <td>53772.615000</td>\n",
              "      <td>46.916774</td>\n",
              "    </tr>\n",
              "  </tbody>\n",
              "</table>\n",
              "</div>"
            ],
            "text/plain": [
              "         customer_id  transaction_id  total_amount      recency\n",
              "count    5502.000000     5502.000000   5502.000000  5502.000000\n",
              "mean   271035.526536        4.186841  10957.700768    17.835526\n",
              "std      2453.093450        2.116921   7170.678459     8.597923\n",
              "min    266783.000000        1.000000     98.345000     0.000000\n",
              "25%    268911.000000        3.000000   5571.133750    12.024888\n",
              "50%    271026.500000        4.000000   9725.105000    15.737489\n",
              "75%    273172.750000        6.000000  15192.645000    22.308466\n",
              "max    275265.000000       13.000000  53772.615000    46.916774"
            ]
          },
          "metadata": {
            "tags": []
          },
          "execution_count": 27
        }
      ]
    },
    {
      "cell_type": "code",
      "metadata": {
        "id": "uRVu060bmpLn",
        "colab": {
          "base_uri": "https://localhost:8080/",
          "height": 141
        },
        "outputId": "049e7e28-1d34-49a1-e2a9-668a5d291e0b"
      },
      "source": [
        "# Change the columns name\n",
        "cust_agg.rename({'transaction_id':'frequency','total_amount':'monetary'}, axis=1, inplace=True)\n",
        "cust_agg.head(3)"
      ],
      "execution_count": 28,
      "outputs": [
        {
          "output_type": "execute_result",
          "data": {
            "text/html": [
              "<div>\n",
              "<style scoped>\n",
              "    .dataframe tbody tr th:only-of-type {\n",
              "        vertical-align: middle;\n",
              "    }\n",
              "\n",
              "    .dataframe tbody tr th {\n",
              "        vertical-align: top;\n",
              "    }\n",
              "\n",
              "    .dataframe thead th {\n",
              "        text-align: right;\n",
              "    }\n",
              "</style>\n",
              "<table border=\"1\" class=\"dataframe\">\n",
              "  <thead>\n",
              "    <tr style=\"text-align: right;\">\n",
              "      <th></th>\n",
              "      <th>customer_id</th>\n",
              "      <th>transaction_date</th>\n",
              "      <th>frequency</th>\n",
              "      <th>monetary</th>\n",
              "      <th>recency</th>\n",
              "    </tr>\n",
              "  </thead>\n",
              "  <tbody>\n",
              "    <tr>\n",
              "      <th>0</th>\n",
              "      <td>266783</td>\n",
              "      <td>2013-09-02</td>\n",
              "      <td>5</td>\n",
              "      <td>14791.530</td>\n",
              "      <td>14.981827</td>\n",
              "    </tr>\n",
              "    <tr>\n",
              "      <th>1</th>\n",
              "      <td>266784</td>\n",
              "      <td>2012-09-09</td>\n",
              "      <td>3</td>\n",
              "      <td>5694.065</td>\n",
              "      <td>26.743876</td>\n",
              "    </tr>\n",
              "    <tr>\n",
              "      <th>2</th>\n",
              "      <td>266785</td>\n",
              "      <td>2013-02-13</td>\n",
              "      <td>8</td>\n",
              "      <td>35271.600</td>\n",
              "      <td>21.585659</td>\n",
              "    </tr>\n",
              "  </tbody>\n",
              "</table>\n",
              "</div>"
            ],
            "text/plain": [
              "   customer_id transaction_date  frequency   monetary    recency\n",
              "0       266783       2013-09-02          5  14791.530  14.981827\n",
              "1       266784       2012-09-09          3   5694.065  26.743876\n",
              "2       266785       2013-02-13          8  35271.600  21.585659"
            ]
          },
          "metadata": {
            "tags": []
          },
          "execution_count": 28
        }
      ]
    },
    {
      "cell_type": "code",
      "metadata": {
        "id": "GLnrGfhdnrJW",
        "colab": {
          "base_uri": "https://localhost:8080/",
          "height": 408
        },
        "outputId": "18c4afca-fdd4-4651-ff2d-c02eb38b4d7c"
      },
      "source": [
        "# Visualize the frequency histogram\n",
        "fig, ax = plt.subplots(figsize=(8,6));\n",
        "cust_agg['frequency'].hist(bins=100,ax=ax)\n",
        "ax.set_title(\"Final Distribution of Frequency\", fontsize=16)\n",
        "ax.set_xlabel(\"Frequency\", fontsize=12);\n",
        "ax.set_ylabel(\"Counts\", fontsize=12);"
      ],
      "execution_count": 29,
      "outputs": [
        {
          "output_type": "display_data",
          "data": {
            "image/png": "[encoded data removed]",
            "text/plain": [
              "<Figure size 576x432 with 1 Axes>"
            ]
          },
          "metadata": {
            "tags": [],
            "needs_background": "light"
          }
        }
      ]
    },
    {
      "cell_type": "code",
      "metadata": {
        "id": "s30ndTSOocBj",
        "colab": {
          "base_uri": "https://localhost:8080/",
          "height": 408
        },
        "outputId": "eac95a22-cd3a-4968-dfa6-a8b7796f85ef"
      },
      "source": [
        "# Visualize the recency histogram\n",
        "fig, ax = plt.subplots(figsize=(8,6));\n",
        "cust_agg['recency'].hist(bins=100,ax=ax)\n",
        "ax.set_title(\"Final Distribution of Recency\", fontsize=16)\n",
        "ax.set_xlabel(\"Recency\", fontsize=12);\n",
        "ax.set_ylabel(\"Counts\", fontsize=12);"
      ],
      "execution_count": 30,
      "outputs": [
        {
          "output_type": "display_data",
          "data": {
            "image/png": "[encoded data removed]",
            "text/plain": [
              "<Figure size 576x432 with 1 Axes>"
            ]
          },
          "metadata": {
            "tags": [],
            "needs_background": "light"
          }
        }
      ]
    },
    {
      "cell_type": "code",
      "metadata": {
        "id": "0ygYyvWvooff",
        "colab": {
          "base_uri": "https://localhost:8080/",
          "height": 408
        },
        "outputId": "cbcd6d85-3f7a-4c3e-e2fd-117c4b1a3f66"
      },
      "source": [
        "# Visualize the monetary histogram\n",
        "fig, ax = plt.subplots(figsize=(8,6));\n",
        "cust_agg['monetary'].hist(bins=100,ax=ax)\n",
        "ax.set_title(\"Final Distribution of Monetary\", fontsize=16)\n",
        "ax.set_xlabel(\"Monetary\", fontsize=12);\n",
        "ax.set_ylabel(\"Counts\", fontsize=12);"
      ],
      "execution_count": 31,
      "outputs": [
        {
          "output_type": "display_data",
          "data": {
            "image/png": "[encoded data removed]",
            "text/plain": [
              "<Figure size 576x432 with 1 Axes>"
            ]
          },
          "metadata": {
            "tags": [],
            "needs_background": "light"
          }
        }
      ]
    },
    {
      "cell_type": "markdown",
      "metadata": {
        "id": "6v_wr2oTo4sC"
      },
      "source": [
        "## Age, and Return (AR) "
      ]
    },
    {
      "cell_type": "code",
      "metadata": {
        "id": "NPq-_mgxos2D",
        "colab": {
          "base_uri": "https://localhost:8080/",
          "height": 110
        },
        "outputId": "ab025315-d08f-4e7d-9f94-023f7262a6c2"
      },
      "source": [
        "# Make a new variable contain of customer_id and minimum value of each transaction_date\n",
        "cust_age = df.groupby('customer_id')['transaction_date'].min().reset_index()\n",
        "# Make a new column (age) contain of difference between max_date and minimum value of each transaction_date\n",
        "# to find out how long the customer be our customer in months\n",
        "cust_age['age'] = (max_date - cust_age['transaction_date'])/np.timedelta64(1, 'M')\n",
        "cust_age.head(2)"
      ],
      "execution_count": 32,
      "outputs": [
        {
          "output_type": "execute_result",
          "data": {
            "text/html": [
              "<div>\n",
              "<style scoped>\n",
              "    .dataframe tbody tr th:only-of-type {\n",
              "        vertical-align: middle;\n",
              "    }\n",
              "\n",
              "    .dataframe tbody tr th {\n",
              "        vertical-align: top;\n",
              "    }\n",
              "\n",
              "    .dataframe thead th {\n",
              "        text-align: right;\n",
              "    }\n",
              "</style>\n",
              "<table border=\"1\" class=\"dataframe\">\n",
              "  <thead>\n",
              "    <tr style=\"text-align: right;\">\n",
              "      <th></th>\n",
              "      <th>customer_id</th>\n",
              "      <th>transaction_date</th>\n",
              "      <th>age</th>\n",
              "    </tr>\n",
              "  </thead>\n",
              "  <tbody>\n",
              "    <tr>\n",
              "      <th>0</th>\n",
              "      <td>266783</td>\n",
              "      <td>2011-09-23</td>\n",
              "      <td>38.308795</td>\n",
              "    </tr>\n",
              "    <tr>\n",
              "      <th>1</th>\n",
              "      <td>266784</td>\n",
              "      <td>2012-04-12</td>\n",
              "      <td>31.672108</td>\n",
              "    </tr>\n",
              "  </tbody>\n",
              "</table>\n",
              "</div>"
            ],
            "text/plain": [
              "   customer_id transaction_date        age\n",
              "0       266783       2011-09-23  38.308795\n",
              "1       266784       2012-04-12  31.672108"
            ]
          },
          "metadata": {
            "tags": []
          },
          "execution_count": 32
        }
      ]
    },
    {
      "cell_type": "code",
      "metadata": {
        "id": "nZQ_YG6mqZ2-",
        "colab": {
          "base_uri": "https://localhost:8080/",
          "height": 141
        },
        "outputId": "529b83f3-7fb1-47b4-ac37-23d1429de978"
      },
      "source": [
        "# Make a new variable contain of customer_id and transaction_date columns\n",
        "cust_return = df[['customer_id','transaction_date']].drop_duplicates()\n",
        "# Sorting the data based on customer_id and transaction_date columns\n",
        "cust_return = cust_return.sort_values(by=['customer_id','transaction_date'],axis=0)\n",
        "# To get the return value by calculating the distance of transactions made by each customer in days\n",
        "cust_return = cust_return[['customer_id','transaction_date']].drop_duplicates().set_index('customer_id').diff().reset_index()\n",
        "cust_return['nrow'] = cust_return.groupby('customer_id').cumcount()+1\n",
        "cust_return.head(3)"
      ],
      "execution_count": 33,
      "outputs": [
        {
          "output_type": "execute_result",
          "data": {
            "text/html": [
              "<div>\n",
              "<style scoped>\n",
              "    .dataframe tbody tr th:only-of-type {\n",
              "        vertical-align: middle;\n",
              "    }\n",
              "\n",
              "    .dataframe tbody tr th {\n",
              "        vertical-align: top;\n",
              "    }\n",
              "\n",
              "    .dataframe thead th {\n",
              "        text-align: right;\n",
              "    }\n",
              "</style>\n",
              "<table border=\"1\" class=\"dataframe\">\n",
              "  <thead>\n",
              "    <tr style=\"text-align: right;\">\n",
              "      <th></th>\n",
              "      <th>customer_id</th>\n",
              "      <th>transaction_date</th>\n",
              "      <th>nrow</th>\n",
              "    </tr>\n",
              "  </thead>\n",
              "  <tbody>\n",
              "    <tr>\n",
              "      <th>0</th>\n",
              "      <td>266783</td>\n",
              "      <td>NaT</td>\n",
              "      <td>1</td>\n",
              "    </tr>\n",
              "    <tr>\n",
              "      <th>1</th>\n",
              "      <td>266783</td>\n",
              "      <td>1 days</td>\n",
              "      <td>2</td>\n",
              "    </tr>\n",
              "    <tr>\n",
              "      <th>2</th>\n",
              "      <td>266783</td>\n",
              "      <td>393 days</td>\n",
              "      <td>3</td>\n",
              "    </tr>\n",
              "  </tbody>\n",
              "</table>\n",
              "</div>"
            ],
            "text/plain": [
              "   customer_id transaction_date  nrow\n",
              "0       266783              NaT     1\n",
              "1       266783           1 days     2\n",
              "2       266783         393 days     3"
            ]
          },
          "metadata": {
            "tags": []
          },
          "execution_count": 33
        }
      ]
    },
    {
      "cell_type": "code",
      "metadata": {
        "id": "eVe5MDu9rrXA",
        "colab": {
          "base_uri": "https://localhost:8080/",
          "height": 414
        },
        "outputId": "345d66d9-ec99-4743-d86e-16803335a470"
      },
      "source": [
        "# Merge cust_age and cust_return data\n",
        "cust_ar = pd.merge(cust_age, cust_return, on=\"customer_id\")\n",
        "cust_ar.columns =['customer_id','transaction_date', 'age','return','nrow']\n",
        "cust_ar"
      ],
      "execution_count": 34,
      "outputs": [
        {
          "output_type": "execute_result",
          "data": {
            "text/html": [
              "<div>\n",
              "<style scoped>\n",
              "    .dataframe tbody tr th:only-of-type {\n",
              "        vertical-align: middle;\n",
              "    }\n",
              "\n",
              "    .dataframe tbody tr th {\n",
              "        vertical-align: top;\n",
              "    }\n",
              "\n",
              "    .dataframe thead th {\n",
              "        text-align: right;\n",
              "    }\n",
              "</style>\n",
              "<table border=\"1\" class=\"dataframe\">\n",
              "  <thead>\n",
              "    <tr style=\"text-align: right;\">\n",
              "      <th></th>\n",
              "      <th>customer_id</th>\n",
              "      <th>transaction_date</th>\n",
              "      <th>age</th>\n",
              "      <th>return</th>\n",
              "      <th>nrow</th>\n",
              "    </tr>\n",
              "  </thead>\n",
              "  <tbody>\n",
              "    <tr>\n",
              "      <th>0</th>\n",
              "      <td>266783</td>\n",
              "      <td>2011-09-23</td>\n",
              "      <td>38.308795</td>\n",
              "      <td>NaT</td>\n",
              "      <td>1</td>\n",
              "    </tr>\n",
              "    <tr>\n",
              "      <th>1</th>\n",
              "      <td>266783</td>\n",
              "      <td>2011-09-23</td>\n",
              "      <td>38.308795</td>\n",
              "      <td>1 days</td>\n",
              "      <td>2</td>\n",
              "    </tr>\n",
              "    <tr>\n",
              "      <th>2</th>\n",
              "      <td>266783</td>\n",
              "      <td>2011-09-23</td>\n",
              "      <td>38.308795</td>\n",
              "      <td>393 days</td>\n",
              "      <td>3</td>\n",
              "    </tr>\n",
              "    <tr>\n",
              "      <th>3</th>\n",
              "      <td>266783</td>\n",
              "      <td>2011-09-23</td>\n",
              "      <td>38.308795</td>\n",
              "      <td>122 days</td>\n",
              "      <td>4</td>\n",
              "    </tr>\n",
              "    <tr>\n",
              "      <th>4</th>\n",
              "      <td>266783</td>\n",
              "      <td>2011-09-23</td>\n",
              "      <td>38.308795</td>\n",
              "      <td>194 days</td>\n",
              "      <td>5</td>\n",
              "    </tr>\n",
              "    <tr>\n",
              "      <th>...</th>\n",
              "      <td>...</td>\n",
              "      <td>...</td>\n",
              "      <td>...</td>\n",
              "      <td>...</td>\n",
              "      <td>...</td>\n",
              "    </tr>\n",
              "    <tr>\n",
              "      <th>22979</th>\n",
              "      <td>275264</td>\n",
              "      <td>2011-05-08</td>\n",
              "      <td>42.842769</td>\n",
              "      <td>-297 days</td>\n",
              "      <td>1</td>\n",
              "    </tr>\n",
              "    <tr>\n",
              "      <th>22980</th>\n",
              "      <td>275264</td>\n",
              "      <td>2011-05-08</td>\n",
              "      <td>42.842769</td>\n",
              "      <td>94 days</td>\n",
              "      <td>2</td>\n",
              "    </tr>\n",
              "    <tr>\n",
              "      <th>22981</th>\n",
              "      <td>275265</td>\n",
              "      <td>2011-12-17</td>\n",
              "      <td>35.516130</td>\n",
              "      <td>129 days</td>\n",
              "      <td>1</td>\n",
              "    </tr>\n",
              "    <tr>\n",
              "      <th>22982</th>\n",
              "      <td>275265</td>\n",
              "      <td>2011-12-17</td>\n",
              "      <td>35.516130</td>\n",
              "      <td>9 days</td>\n",
              "      <td>2</td>\n",
              "    </tr>\n",
              "    <tr>\n",
              "      <th>22983</th>\n",
              "      <td>275265</td>\n",
              "      <td>2011-12-17</td>\n",
              "      <td>35.516130</td>\n",
              "      <td>434 days</td>\n",
              "      <td>3</td>\n",
              "    </tr>\n",
              "  </tbody>\n",
              "</table>\n",
              "<p>22984 rows × 5 columns</p>\n",
              "</div>"
            ],
            "text/plain": [
              "       customer_id transaction_date        age    return  nrow\n",
              "0           266783       2011-09-23  38.308795       NaT     1\n",
              "1           266783       2011-09-23  38.308795    1 days     2\n",
              "2           266783       2011-09-23  38.308795  393 days     3\n",
              "3           266783       2011-09-23  38.308795  122 days     4\n",
              "4           266783       2011-09-23  38.308795  194 days     5\n",
              "...            ...              ...        ...       ...   ...\n",
              "22979       275264       2011-05-08  42.842769 -297 days     1\n",
              "22980       275264       2011-05-08  42.842769   94 days     2\n",
              "22981       275265       2011-12-17  35.516130  129 days     1\n",
              "22982       275265       2011-12-17  35.516130    9 days     2\n",
              "22983       275265       2011-12-17  35.516130  434 days     3\n",
              "\n",
              "[22984 rows x 5 columns]"
            ]
          },
          "metadata": {
            "tags": []
          },
          "execution_count": 34
        }
      ]
    },
    {
      "cell_type": "code",
      "metadata": {
        "colab": {
          "base_uri": "https://localhost:8080/",
          "height": 414
        },
        "id": "Isv0rmPMVRBg",
        "outputId": "d58cdcb8-bd1d-447e-da48-8aa161ac0100"
      },
      "source": [
        "# Change return column value from day to month\n",
        "cust_ar['return'] = cust_ar['return']/np.timedelta64(1, 'M')\n",
        "cust_ar"
      ],
      "execution_count": 35,
      "outputs": [
        {
          "output_type": "execute_result",
          "data": {
            "text/html": [
              "<div>\n",
              "<style scoped>\n",
              "    .dataframe tbody tr th:only-of-type {\n",
              "        vertical-align: middle;\n",
              "    }\n",
              "\n",
              "    .dataframe tbody tr th {\n",
              "        vertical-align: top;\n",
              "    }\n",
              "\n",
              "    .dataframe thead th {\n",
              "        text-align: right;\n",
              "    }\n",
              "</style>\n",
              "<table border=\"1\" class=\"dataframe\">\n",
              "  <thead>\n",
              "    <tr style=\"text-align: right;\">\n",
              "      <th></th>\n",
              "      <th>customer_id</th>\n",
              "      <th>transaction_date</th>\n",
              "      <th>age</th>\n",
              "      <th>return</th>\n",
              "      <th>nrow</th>\n",
              "    </tr>\n",
              "  </thead>\n",
              "  <tbody>\n",
              "    <tr>\n",
              "      <th>0</th>\n",
              "      <td>266783</td>\n",
              "      <td>2011-09-23</td>\n",
              "      <td>38.308795</td>\n",
              "      <td>NaN</td>\n",
              "      <td>1</td>\n",
              "    </tr>\n",
              "    <tr>\n",
              "      <th>1</th>\n",
              "      <td>266783</td>\n",
              "      <td>2011-09-23</td>\n",
              "      <td>38.308795</td>\n",
              "      <td>0.032855</td>\n",
              "      <td>2</td>\n",
              "    </tr>\n",
              "    <tr>\n",
              "      <th>2</th>\n",
              "      <td>266783</td>\n",
              "      <td>2011-09-23</td>\n",
              "      <td>38.308795</td>\n",
              "      <td>12.911969</td>\n",
              "      <td>3</td>\n",
              "    </tr>\n",
              "    <tr>\n",
              "      <th>3</th>\n",
              "      <td>266783</td>\n",
              "      <td>2011-09-23</td>\n",
              "      <td>38.308795</td>\n",
              "      <td>4.008296</td>\n",
              "      <td>4</td>\n",
              "    </tr>\n",
              "    <tr>\n",
              "      <th>4</th>\n",
              "      <td>266783</td>\n",
              "      <td>2011-09-23</td>\n",
              "      <td>38.308795</td>\n",
              "      <td>6.373848</td>\n",
              "      <td>5</td>\n",
              "    </tr>\n",
              "    <tr>\n",
              "      <th>...</th>\n",
              "      <td>...</td>\n",
              "      <td>...</td>\n",
              "      <td>...</td>\n",
              "      <td>...</td>\n",
              "      <td>...</td>\n",
              "    </tr>\n",
              "    <tr>\n",
              "      <th>22979</th>\n",
              "      <td>275264</td>\n",
              "      <td>2011-05-08</td>\n",
              "      <td>42.842769</td>\n",
              "      <td>-9.757901</td>\n",
              "      <td>1</td>\n",
              "    </tr>\n",
              "    <tr>\n",
              "      <th>22980</th>\n",
              "      <td>275264</td>\n",
              "      <td>2011-05-08</td>\n",
              "      <td>42.842769</td>\n",
              "      <td>3.088359</td>\n",
              "      <td>2</td>\n",
              "    </tr>\n",
              "    <tr>\n",
              "      <th>22981</th>\n",
              "      <td>275265</td>\n",
              "      <td>2011-12-17</td>\n",
              "      <td>35.516130</td>\n",
              "      <td>4.238280</td>\n",
              "      <td>1</td>\n",
              "    </tr>\n",
              "    <tr>\n",
              "      <th>22982</th>\n",
              "      <td>275265</td>\n",
              "      <td>2011-12-17</td>\n",
              "      <td>35.516130</td>\n",
              "      <td>0.295694</td>\n",
              "      <td>2</td>\n",
              "    </tr>\n",
              "    <tr>\n",
              "      <th>22983</th>\n",
              "      <td>275265</td>\n",
              "      <td>2011-12-17</td>\n",
              "      <td>35.516130</td>\n",
              "      <td>14.259020</td>\n",
              "      <td>3</td>\n",
              "    </tr>\n",
              "  </tbody>\n",
              "</table>\n",
              "<p>22984 rows × 5 columns</p>\n",
              "</div>"
            ],
            "text/plain": [
              "       customer_id transaction_date        age     return  nrow\n",
              "0           266783       2011-09-23  38.308795        NaN     1\n",
              "1           266783       2011-09-23  38.308795   0.032855     2\n",
              "2           266783       2011-09-23  38.308795  12.911969     3\n",
              "3           266783       2011-09-23  38.308795   4.008296     4\n",
              "4           266783       2011-09-23  38.308795   6.373848     5\n",
              "...            ...              ...        ...        ...   ...\n",
              "22979       275264       2011-05-08  42.842769  -9.757901     1\n",
              "22980       275264       2011-05-08  42.842769   3.088359     2\n",
              "22981       275265       2011-12-17  35.516130   4.238280     1\n",
              "22982       275265       2011-12-17  35.516130   0.295694     2\n",
              "22983       275265       2011-12-17  35.516130  14.259020     3\n",
              "\n",
              "[22984 rows x 5 columns]"
            ]
          },
          "metadata": {
            "tags": []
          },
          "execution_count": 35
        }
      ]
    },
    {
      "cell_type": "code",
      "metadata": {
        "id": "qnzChPugsW93",
        "colab": {
          "base_uri": "https://localhost:8080/"
        },
        "outputId": "cdb7920f-d77d-4d20-a19f-1a4d7ea7c13c"
      },
      "source": [
        "# Merge cust_agg and cust_ar data\n",
        "cust_agg = pd.merge(cust_agg, cust_ar, on=\"customer_id\", how=\"left\")\n",
        "cust_agg.isna().sum()"
      ],
      "execution_count": 36,
      "outputs": [
        {
          "output_type": "execute_result",
          "data": {
            "text/plain": [
              "customer_id           0\n",
              "transaction_date_x    0\n",
              "frequency             0\n",
              "monetary              0\n",
              "recency               0\n",
              "transaction_date_y    0\n",
              "age                   0\n",
              "return                1\n",
              "nrow                  0\n",
              "dtype: int64"
            ]
          },
          "metadata": {
            "tags": []
          },
          "execution_count": 36
        }
      ]
    },
    {
      "cell_type": "code",
      "metadata": {
        "id": "jJxRgVZnucMP"
      },
      "source": [
        "cust_agg.rename({'transaction_date_x':'transaction_date_max','transaction_date_y':'transaction_date_min'}, axis=1, inplace=True)"
      ],
      "execution_count": 37,
      "outputs": []
    },
    {
      "cell_type": "code",
      "metadata": {
        "id": "E80Rz7mVs68m"
      },
      "source": [
        "# Remove first transaction except for the only one transaction or new customers\n",
        "cust_agg = cust_agg[((cust_agg['nrow']!=1) & (cust_agg['frequency']>1))] "
      ],
      "execution_count": 38,
      "outputs": []
    },
    {
      "cell_type": "code",
      "metadata": {
        "id": "p_8eHQnIuw1r",
        "colab": {
          "base_uri": "https://localhost:8080/"
        },
        "outputId": "13ea142b-c206-4479-9957-bde9356aa76d"
      },
      "source": [
        "cust_agg.info()"
      ],
      "execution_count": 39,
      "outputs": [
        {
          "output_type": "stream",
          "text": [
            "<class 'pandas.core.frame.DataFrame'>\n",
            "Int64Index: 17482 entries, 1 to 22983\n",
            "Data columns (total 9 columns):\n",
            " #   Column                Non-Null Count  Dtype         \n",
            "---  ------                --------------  -----         \n",
            " 0   customer_id           17482 non-null  int64         \n",
            " 1   transaction_date_max  17482 non-null  datetime64[ns]\n",
            " 2   frequency             17482 non-null  int64         \n",
            " 3   monetary              17482 non-null  float64       \n",
            " 4   recency               17482 non-null  float64       \n",
            " 5   transaction_date_min  17482 non-null  datetime64[ns]\n",
            " 6   age                   17482 non-null  float64       \n",
            " 7   return                17482 non-null  float64       \n",
            " 8   nrow                  17482 non-null  int64         \n",
            "dtypes: datetime64[ns](2), float64(4), int64(3)\n",
            "memory usage: 1.3 MB\n"
          ],
          "name": "stdout"
        }
      ]
    },
    {
      "cell_type": "code",
      "metadata": {
        "id": "gRQTQpkctOVK"
      },
      "source": [
        "# Make a new variable to visualize age distribution\n",
        "cust_agg_group = cust_agg.groupby('customer_id').agg({'age':'min','return':'median'}).reset_index()"
      ],
      "execution_count": 40,
      "outputs": []
    },
    {
      "cell_type": "code",
      "metadata": {
        "colab": {
          "base_uri": "https://localhost:8080/",
          "height": 294
        },
        "id": "F6hqUWdz7v3z",
        "outputId": "a83692c1-2f96-403b-cb0a-3ee54b815e6c"
      },
      "source": [
        "# Calculate descriptive statistics\n",
        "cust_agg.describe()"
      ],
      "execution_count": 41,
      "outputs": [
        {
          "output_type": "execute_result",
          "data": {
            "text/html": [
              "<div>\n",
              "<style scoped>\n",
              "    .dataframe tbody tr th:only-of-type {\n",
              "        vertical-align: middle;\n",
              "    }\n",
              "\n",
              "    .dataframe tbody tr th {\n",
              "        vertical-align: top;\n",
              "    }\n",
              "\n",
              "    .dataframe thead th {\n",
              "        text-align: right;\n",
              "    }\n",
              "</style>\n",
              "<table border=\"1\" class=\"dataframe\">\n",
              "  <thead>\n",
              "    <tr style=\"text-align: right;\">\n",
              "      <th></th>\n",
              "      <th>customer_id</th>\n",
              "      <th>frequency</th>\n",
              "      <th>monetary</th>\n",
              "      <th>recency</th>\n",
              "      <th>age</th>\n",
              "      <th>return</th>\n",
              "      <th>nrow</th>\n",
              "    </tr>\n",
              "  </thead>\n",
              "  <tbody>\n",
              "    <tr>\n",
              "      <th>count</th>\n",
              "      <td>17482.000000</td>\n",
              "      <td>17482.000000</td>\n",
              "      <td>17482.000000</td>\n",
              "      <td>17482.000000</td>\n",
              "      <td>17482.000000</td>\n",
              "      <td>17482.000000</td>\n",
              "      <td>17482.000000</td>\n",
              "    </tr>\n",
              "    <tr>\n",
              "      <th>mean</th>\n",
              "      <td>271020.125558</td>\n",
              "      <td>5.590207</td>\n",
              "      <td>14675.321508</td>\n",
              "      <td>15.477328</td>\n",
              "      <td>39.700916</td>\n",
              "      <td>6.169109</td>\n",
              "      <td>3.788525</td>\n",
              "    </tr>\n",
              "    <tr>\n",
              "      <th>std</th>\n",
              "      <td>2424.170884</td>\n",
              "      <td>2.109608</td>\n",
              "      <td>7662.050521</td>\n",
              "      <td>6.916776</td>\n",
              "      <td>6.306097</td>\n",
              "      <td>6.079151</td>\n",
              "      <td>1.770242</td>\n",
              "    </tr>\n",
              "    <tr>\n",
              "      <th>min</th>\n",
              "      <td>266783.000000</td>\n",
              "      <td>2.000000</td>\n",
              "      <td>269.620000</td>\n",
              "      <td>0.000000</td>\n",
              "      <td>9.035093</td>\n",
              "      <td>0.032855</td>\n",
              "      <td>2.000000</td>\n",
              "    </tr>\n",
              "    <tr>\n",
              "      <th>25%</th>\n",
              "      <td>268947.250000</td>\n",
              "      <td>4.000000</td>\n",
              "      <td>8938.621250</td>\n",
              "      <td>11.367790</td>\n",
              "      <td>36.370357</td>\n",
              "      <td>1.609889</td>\n",
              "      <td>2.000000</td>\n",
              "    </tr>\n",
              "    <tr>\n",
              "      <th>50%</th>\n",
              "      <td>270971.000000</td>\n",
              "      <td>5.000000</td>\n",
              "      <td>13787.085000</td>\n",
              "      <td>14.160455</td>\n",
              "      <td>41.495719</td>\n",
              "      <td>4.238280</td>\n",
              "      <td>3.000000</td>\n",
              "    </tr>\n",
              "    <tr>\n",
              "      <th>75%</th>\n",
              "      <td>273099.750000</td>\n",
              "      <td>7.000000</td>\n",
              "      <td>19024.785000</td>\n",
              "      <td>19.022978</td>\n",
              "      <td>44.584078</td>\n",
              "      <td>8.936528</td>\n",
              "      <td>5.000000</td>\n",
              "    </tr>\n",
              "    <tr>\n",
              "      <th>max</th>\n",
              "      <td>275265.000000</td>\n",
              "      <td>13.000000</td>\n",
              "      <td>53772.615000</td>\n",
              "      <td>45.372595</td>\n",
              "      <td>46.982484</td>\n",
              "      <td>38.735908</td>\n",
              "      <td>13.000000</td>\n",
              "    </tr>\n",
              "  </tbody>\n",
              "</table>\n",
              "</div>"
            ],
            "text/plain": [
              "         customer_id     frequency  ...        return          nrow\n",
              "count   17482.000000  17482.000000  ...  17482.000000  17482.000000\n",
              "mean   271020.125558      5.590207  ...      6.169109      3.788525\n",
              "std      2424.170884      2.109608  ...      6.079151      1.770242\n",
              "min    266783.000000      2.000000  ...      0.032855      2.000000\n",
              "25%    268947.250000      4.000000  ...      1.609889      2.000000\n",
              "50%    270971.000000      5.000000  ...      4.238280      3.000000\n",
              "75%    273099.750000      7.000000  ...      8.936528      5.000000\n",
              "max    275265.000000     13.000000  ...     38.735908     13.000000\n",
              "\n",
              "[8 rows x 7 columns]"
            ]
          },
          "metadata": {
            "tags": []
          },
          "execution_count": 41
        }
      ]
    },
    {
      "cell_type": "code",
      "metadata": {
        "colab": {
          "base_uri": "https://localhost:8080/",
          "height": 408
        },
        "id": "bmk_Dx4ltdSx",
        "outputId": "4e2030a9-f7bf-479f-ffa6-c7d0c5a3e88e"
      },
      "source": [
        "# Visualize the distribution of age\n",
        "fig, ax = plt.subplots(figsize=(8,6));\n",
        "cust_age['age'].hist(bins=100,ax=ax)\n",
        "ax.set_title(\"Final Distribution of Age\", fontsize=16)\n",
        "ax.set_xlabel(\"Age\", fontsize=12);\n",
        "ax.set_ylabel(\"Counts\", fontsize=12);"
      ],
      "execution_count": 42,
      "outputs": [
        {
          "output_type": "display_data",
          "data": {
            "image/png": "[encoded data removed]",
            "text/plain": [
              "<Figure size 576x432 with 1 Axes>"
            ]
          },
          "metadata": {
            "tags": [],
            "needs_background": "light"
          }
        }
      ]
    },
    {
      "cell_type": "code",
      "metadata": {
        "id": "6oA2rOu7tilQ",
        "colab": {
          "base_uri": "https://localhost:8080/",
          "height": 408
        },
        "outputId": "5a966510-1c22-435d-997d-d2a4fa53ee01"
      },
      "source": [
        "# Visualize the distribution of return\n",
        "fig, ax = plt.subplots(figsize=(8,6));\n",
        "cust_agg_group['return'].hist(bins=100,ax=ax)\n",
        "ax.set_title(\"Final Distribution of Return\", fontsize=16)\n",
        "ax.set_xlabel(\"Average Return\", fontsize=12);\n",
        "ax.set_ylabel(\"Counts\", fontsize=12);"
      ],
      "execution_count": 43,
      "outputs": [
        {
          "output_type": "display_data",
          "data": {
            "image/png": "[encoded data removed]",
            "text/plain": [
              "<Figure size 576x432 with 1 Axes>"
            ]
          },
          "metadata": {
            "tags": [],
            "needs_background": "light"
          }
        }
      ]
    },
    {
      "cell_type": "markdown",
      "metadata": {
        "id": "4xzi_A2ZwIer"
      },
      "source": [
        "# RFM-AR Segmentation"
      ]
    },
    {
      "cell_type": "code",
      "metadata": {
        "id": "yHNSqe91v_AZ"
      },
      "source": [
        "# Make a new variable contain of cust_agg data\n",
        "rfm_scores = cust_agg"
      ],
      "execution_count": 44,
      "outputs": []
    },
    {
      "cell_type": "code",
      "metadata": {
        "colab": {
          "base_uri": "https://localhost:8080/",
          "height": 414
        },
        "id": "wnfyEBL4TMvV",
        "outputId": "ee5ef970-826a-471a-9fd7-a11a4c5e7ffb"
      },
      "source": [
        "# Show rfm_scores table\n",
        "rfm_scores"
      ],
      "execution_count": 45,
      "outputs": [
        {
          "output_type": "execute_result",
          "data": {
            "text/html": [
              "<div>\n",
              "<style scoped>\n",
              "    .dataframe tbody tr th:only-of-type {\n",
              "        vertical-align: middle;\n",
              "    }\n",
              "\n",
              "    .dataframe tbody tr th {\n",
              "        vertical-align: top;\n",
              "    }\n",
              "\n",
              "    .dataframe thead th {\n",
              "        text-align: right;\n",
              "    }\n",
              "</style>\n",
              "<table border=\"1\" class=\"dataframe\">\n",
              "  <thead>\n",
              "    <tr style=\"text-align: right;\">\n",
              "      <th></th>\n",
              "      <th>customer_id</th>\n",
              "      <th>transaction_date_max</th>\n",
              "      <th>frequency</th>\n",
              "      <th>monetary</th>\n",
              "      <th>recency</th>\n",
              "      <th>transaction_date_min</th>\n",
              "      <th>age</th>\n",
              "      <th>return</th>\n",
              "      <th>nrow</th>\n",
              "    </tr>\n",
              "  </thead>\n",
              "  <tbody>\n",
              "    <tr>\n",
              "      <th>1</th>\n",
              "      <td>266783</td>\n",
              "      <td>2013-09-02</td>\n",
              "      <td>5</td>\n",
              "      <td>14791.530</td>\n",
              "      <td>14.981827</td>\n",
              "      <td>2011-09-23</td>\n",
              "      <td>38.308795</td>\n",
              "      <td>0.032855</td>\n",
              "      <td>2</td>\n",
              "    </tr>\n",
              "    <tr>\n",
              "      <th>2</th>\n",
              "      <td>266783</td>\n",
              "      <td>2013-09-02</td>\n",
              "      <td>5</td>\n",
              "      <td>14791.530</td>\n",
              "      <td>14.981827</td>\n",
              "      <td>2011-09-23</td>\n",
              "      <td>38.308795</td>\n",
              "      <td>12.911969</td>\n",
              "      <td>3</td>\n",
              "    </tr>\n",
              "    <tr>\n",
              "      <th>3</th>\n",
              "      <td>266783</td>\n",
              "      <td>2013-09-02</td>\n",
              "      <td>5</td>\n",
              "      <td>14791.530</td>\n",
              "      <td>14.981827</td>\n",
              "      <td>2011-09-23</td>\n",
              "      <td>38.308795</td>\n",
              "      <td>4.008296</td>\n",
              "      <td>4</td>\n",
              "    </tr>\n",
              "    <tr>\n",
              "      <th>4</th>\n",
              "      <td>266783</td>\n",
              "      <td>2013-09-02</td>\n",
              "      <td>5</td>\n",
              "      <td>14791.530</td>\n",
              "      <td>14.981827</td>\n",
              "      <td>2011-09-23</td>\n",
              "      <td>38.308795</td>\n",
              "      <td>6.373848</td>\n",
              "      <td>5</td>\n",
              "    </tr>\n",
              "    <tr>\n",
              "      <th>6</th>\n",
              "      <td>266784</td>\n",
              "      <td>2012-09-09</td>\n",
              "      <td>3</td>\n",
              "      <td>5694.065</td>\n",
              "      <td>26.743876</td>\n",
              "      <td>2012-04-12</td>\n",
              "      <td>31.672108</td>\n",
              "      <td>4.369700</td>\n",
              "      <td>2</td>\n",
              "    </tr>\n",
              "    <tr>\n",
              "      <th>...</th>\n",
              "      <td>...</td>\n",
              "      <td>...</td>\n",
              "      <td>...</td>\n",
              "      <td>...</td>\n",
              "      <td>...</td>\n",
              "      <td>...</td>\n",
              "      <td>...</td>\n",
              "      <td>...</td>\n",
              "      <td>...</td>\n",
              "    </tr>\n",
              "    <tr>\n",
              "      <th>22976</th>\n",
              "      <td>275261</td>\n",
              "      <td>2013-06-27</td>\n",
              "      <td>5</td>\n",
              "      <td>6968.130</td>\n",
              "      <td>17.183104</td>\n",
              "      <td>2011-05-10</td>\n",
              "      <td>42.777059</td>\n",
              "      <td>1.577034</td>\n",
              "      <td>5</td>\n",
              "    </tr>\n",
              "    <tr>\n",
              "      <th>22978</th>\n",
              "      <td>275262</td>\n",
              "      <td>2012-02-29</td>\n",
              "      <td>2</td>\n",
              "      <td>5078.580</td>\n",
              "      <td>33.084868</td>\n",
              "      <td>2011-08-13</td>\n",
              "      <td>39.655845</td>\n",
              "      <td>6.570977</td>\n",
              "      <td>2</td>\n",
              "    </tr>\n",
              "    <tr>\n",
              "      <th>22980</th>\n",
              "      <td>275264</td>\n",
              "      <td>2011-08-10</td>\n",
              "      <td>2</td>\n",
              "      <td>3815.565</td>\n",
              "      <td>39.754410</td>\n",
              "      <td>2011-05-08</td>\n",
              "      <td>42.842769</td>\n",
              "      <td>3.088359</td>\n",
              "      <td>2</td>\n",
              "    </tr>\n",
              "    <tr>\n",
              "      <th>22982</th>\n",
              "      <td>275265</td>\n",
              "      <td>2013-03-04</td>\n",
              "      <td>3</td>\n",
              "      <td>3252.015</td>\n",
              "      <td>20.961416</td>\n",
              "      <td>2011-12-17</td>\n",
              "      <td>35.516130</td>\n",
              "      <td>0.295694</td>\n",
              "      <td>2</td>\n",
              "    </tr>\n",
              "    <tr>\n",
              "      <th>22983</th>\n",
              "      <td>275265</td>\n",
              "      <td>2013-03-04</td>\n",
              "      <td>3</td>\n",
              "      <td>3252.015</td>\n",
              "      <td>20.961416</td>\n",
              "      <td>2011-12-17</td>\n",
              "      <td>35.516130</td>\n",
              "      <td>14.259020</td>\n",
              "      <td>3</td>\n",
              "    </tr>\n",
              "  </tbody>\n",
              "</table>\n",
              "<p>17482 rows × 9 columns</p>\n",
              "</div>"
            ],
            "text/plain": [
              "       customer_id transaction_date_max  frequency  ...        age     return nrow\n",
              "1           266783           2013-09-02          5  ...  38.308795   0.032855    2\n",
              "2           266783           2013-09-02          5  ...  38.308795  12.911969    3\n",
              "3           266783           2013-09-02          5  ...  38.308795   4.008296    4\n",
              "4           266783           2013-09-02          5  ...  38.308795   6.373848    5\n",
              "6           266784           2012-09-09          3  ...  31.672108   4.369700    2\n",
              "...            ...                  ...        ...  ...        ...        ...  ...\n",
              "22976       275261           2013-06-27          5  ...  42.777059   1.577034    5\n",
              "22978       275262           2012-02-29          2  ...  39.655845   6.570977    2\n",
              "22980       275264           2011-08-10          2  ...  42.842769   3.088359    2\n",
              "22982       275265           2013-03-04          3  ...  35.516130   0.295694    2\n",
              "22983       275265           2013-03-04          3  ...  35.516130  14.259020    3\n",
              "\n",
              "[17482 rows x 9 columns]"
            ]
          },
          "metadata": {
            "tags": []
          },
          "execution_count": 45
        }
      ]
    },
    {
      "cell_type": "code",
      "metadata": {
        "colab": {
          "base_uri": "https://localhost:8080/",
          "height": 202
        },
        "id": "sBJw4GLgwQBd",
        "outputId": "b5d80671-77d4-4f32-8bd0-e3821f0d404c"
      },
      "source": [
        "# Labelling RFM-AR based on quantile\n",
        "rfm_scores['R'] = pd.qcut(rfm_scores['recency'], 3, labels=[3, 2, 1])\n",
        "rfm_scores['F'] = pd.qcut(rfm_scores['frequency'], 3, labels=[1, 2, 3])\n",
        "rfm_scores['M'] = pd.qcut(rfm_scores['monetary'], 3, labels=[1, 2, 3])\n",
        "rfm_scores['A'] = pd.qcut(rfm_scores['age'], 3, labels=[1, 2, 3])\n",
        "rfm_scores['Re'] = pd.qcut(rfm_scores['return'].rank(method='first'), 3, labels=[3, 2, 1])\n",
        "rfm_scores.head()"
      ],
      "execution_count": 46,
      "outputs": [
        {
          "output_type": "execute_result",
          "data": {
            "text/html": [
              "<div>\n",
              "<style scoped>\n",
              "    .dataframe tbody tr th:only-of-type {\n",
              "        vertical-align: middle;\n",
              "    }\n",
              "\n",
              "    .dataframe tbody tr th {\n",
              "        vertical-align: top;\n",
              "    }\n",
              "\n",
              "    .dataframe thead th {\n",
              "        text-align: right;\n",
              "    }\n",
              "</style>\n",
              "<table border=\"1\" class=\"dataframe\">\n",
              "  <thead>\n",
              "    <tr style=\"text-align: right;\">\n",
              "      <th></th>\n",
              "      <th>customer_id</th>\n",
              "      <th>transaction_date_max</th>\n",
              "      <th>frequency</th>\n",
              "      <th>monetary</th>\n",
              "      <th>recency</th>\n",
              "      <th>transaction_date_min</th>\n",
              "      <th>age</th>\n",
              "      <th>return</th>\n",
              "      <th>nrow</th>\n",
              "      <th>R</th>\n",
              "      <th>F</th>\n",
              "      <th>M</th>\n",
              "      <th>A</th>\n",
              "      <th>Re</th>\n",
              "    </tr>\n",
              "  </thead>\n",
              "  <tbody>\n",
              "    <tr>\n",
              "      <th>1</th>\n",
              "      <td>266783</td>\n",
              "      <td>2013-09-02</td>\n",
              "      <td>5</td>\n",
              "      <td>14791.530</td>\n",
              "      <td>14.981827</td>\n",
              "      <td>2011-09-23</td>\n",
              "      <td>38.308795</td>\n",
              "      <td>0.032855</td>\n",
              "      <td>2</td>\n",
              "      <td>2</td>\n",
              "      <td>2</td>\n",
              "      <td>2</td>\n",
              "      <td>1</td>\n",
              "      <td>3</td>\n",
              "    </tr>\n",
              "    <tr>\n",
              "      <th>2</th>\n",
              "      <td>266783</td>\n",
              "      <td>2013-09-02</td>\n",
              "      <td>5</td>\n",
              "      <td>14791.530</td>\n",
              "      <td>14.981827</td>\n",
              "      <td>2011-09-23</td>\n",
              "      <td>38.308795</td>\n",
              "      <td>12.911969</td>\n",
              "      <td>3</td>\n",
              "      <td>2</td>\n",
              "      <td>2</td>\n",
              "      <td>2</td>\n",
              "      <td>1</td>\n",
              "      <td>1</td>\n",
              "    </tr>\n",
              "    <tr>\n",
              "      <th>3</th>\n",
              "      <td>266783</td>\n",
              "      <td>2013-09-02</td>\n",
              "      <td>5</td>\n",
              "      <td>14791.530</td>\n",
              "      <td>14.981827</td>\n",
              "      <td>2011-09-23</td>\n",
              "      <td>38.308795</td>\n",
              "      <td>4.008296</td>\n",
              "      <td>4</td>\n",
              "      <td>2</td>\n",
              "      <td>2</td>\n",
              "      <td>2</td>\n",
              "      <td>1</td>\n",
              "      <td>2</td>\n",
              "    </tr>\n",
              "    <tr>\n",
              "      <th>4</th>\n",
              "      <td>266783</td>\n",
              "      <td>2013-09-02</td>\n",
              "      <td>5</td>\n",
              "      <td>14791.530</td>\n",
              "      <td>14.981827</td>\n",
              "      <td>2011-09-23</td>\n",
              "      <td>38.308795</td>\n",
              "      <td>6.373848</td>\n",
              "      <td>5</td>\n",
              "      <td>2</td>\n",
              "      <td>2</td>\n",
              "      <td>2</td>\n",
              "      <td>1</td>\n",
              "      <td>2</td>\n",
              "    </tr>\n",
              "    <tr>\n",
              "      <th>6</th>\n",
              "      <td>266784</td>\n",
              "      <td>2012-09-09</td>\n",
              "      <td>3</td>\n",
              "      <td>5694.065</td>\n",
              "      <td>26.743876</td>\n",
              "      <td>2012-04-12</td>\n",
              "      <td>31.672108</td>\n",
              "      <td>4.369700</td>\n",
              "      <td>2</td>\n",
              "      <td>1</td>\n",
              "      <td>1</td>\n",
              "      <td>1</td>\n",
              "      <td>1</td>\n",
              "      <td>2</td>\n",
              "    </tr>\n",
              "  </tbody>\n",
              "</table>\n",
              "</div>"
            ],
            "text/plain": [
              "   customer_id transaction_date_max  frequency   monetary  ...  F  M  A  Re\n",
              "1       266783           2013-09-02          5  14791.530  ...  2  2  1   3\n",
              "2       266783           2013-09-02          5  14791.530  ...  2  2  1   1\n",
              "3       266783           2013-09-02          5  14791.530  ...  2  2  1   2\n",
              "4       266783           2013-09-02          5  14791.530  ...  2  2  1   2\n",
              "6       266784           2012-09-09          3   5694.065  ...  1  1  1   2\n",
              "\n",
              "[5 rows x 14 columns]"
            ]
          },
          "metadata": {
            "tags": []
          },
          "execution_count": 46
        }
      ]
    },
    {
      "cell_type": "code",
      "metadata": {
        "colab": {
          "base_uri": "https://localhost:8080/"
        },
        "id": "bTqig5E_wiT4",
        "outputId": "7d8e182c-e9c3-48ce-ce0d-830f833eb6aa"
      },
      "source": [
        "rfm_scores.info()"
      ],
      "execution_count": 47,
      "outputs": [
        {
          "output_type": "stream",
          "text": [
            "<class 'pandas.core.frame.DataFrame'>\n",
            "Int64Index: 17482 entries, 1 to 22983\n",
            "Data columns (total 14 columns):\n",
            " #   Column                Non-Null Count  Dtype         \n",
            "---  ------                --------------  -----         \n",
            " 0   customer_id           17482 non-null  int64         \n",
            " 1   transaction_date_max  17482 non-null  datetime64[ns]\n",
            " 2   frequency             17482 non-null  int64         \n",
            " 3   monetary              17482 non-null  float64       \n",
            " 4   recency               17482 non-null  float64       \n",
            " 5   transaction_date_min  17482 non-null  datetime64[ns]\n",
            " 6   age                   17482 non-null  float64       \n",
            " 7   return                17482 non-null  float64       \n",
            " 8   nrow                  17482 non-null  int64         \n",
            " 9   R                     17482 non-null  category      \n",
            " 10  F                     17482 non-null  category      \n",
            " 11  M                     17482 non-null  category      \n",
            " 12  A                     17482 non-null  category      \n",
            " 13  Re                    17482 non-null  category      \n",
            "dtypes: category(5), datetime64[ns](2), float64(4), int64(3)\n",
            "memory usage: 1.4 MB\n"
          ],
          "name": "stdout"
        }
      ]
    },
    {
      "cell_type": "code",
      "metadata": {
        "colab": {
          "base_uri": "https://localhost:8080/",
          "height": 784
        },
        "id": "C1XILQg5w0AO",
        "outputId": "61a006dc-86a7-4f13-95fb-98c5753bad10"
      },
      "source": [
        "# Calculate descriptive statistics\n",
        "rfm_scores[['R','frequency','monetary','recency']].groupby('R').describe().T"
      ],
      "execution_count": 48,
      "outputs": [
        {
          "output_type": "execute_result",
          "data": {
            "text/html": [
              "<div>\n",
              "<style scoped>\n",
              "    .dataframe tbody tr th:only-of-type {\n",
              "        vertical-align: middle;\n",
              "    }\n",
              "\n",
              "    .dataframe tbody tr th {\n",
              "        vertical-align: top;\n",
              "    }\n",
              "\n",
              "    .dataframe thead th {\n",
              "        text-align: right;\n",
              "    }\n",
              "</style>\n",
              "<table border=\"1\" class=\"dataframe\">\n",
              "  <thead>\n",
              "    <tr style=\"text-align: right;\">\n",
              "      <th></th>\n",
              "      <th>R</th>\n",
              "      <th>3</th>\n",
              "      <th>2</th>\n",
              "      <th>1</th>\n",
              "    </tr>\n",
              "  </thead>\n",
              "  <tbody>\n",
              "    <tr>\n",
              "      <th rowspan=\"8\" valign=\"top\">frequency</th>\n",
              "      <th>count</th>\n",
              "      <td>5862.000000</td>\n",
              "      <td>5809.000000</td>\n",
              "      <td>5811.000000</td>\n",
              "    </tr>\n",
              "    <tr>\n",
              "      <th>mean</th>\n",
              "      <td>6.282327</td>\n",
              "      <td>5.682389</td>\n",
              "      <td>4.799862</td>\n",
              "    </tr>\n",
              "    <tr>\n",
              "      <th>std</th>\n",
              "      <td>2.190226</td>\n",
              "      <td>2.017870</td>\n",
              "      <td>1.834187</td>\n",
              "    </tr>\n",
              "    <tr>\n",
              "      <th>min</th>\n",
              "      <td>2.000000</td>\n",
              "      <td>2.000000</td>\n",
              "      <td>2.000000</td>\n",
              "    </tr>\n",
              "    <tr>\n",
              "      <th>25%</th>\n",
              "      <td>5.000000</td>\n",
              "      <td>4.000000</td>\n",
              "      <td>3.000000</td>\n",
              "    </tr>\n",
              "    <tr>\n",
              "      <th>50%</th>\n",
              "      <td>6.000000</td>\n",
              "      <td>5.000000</td>\n",
              "      <td>5.000000</td>\n",
              "    </tr>\n",
              "    <tr>\n",
              "      <th>75%</th>\n",
              "      <td>8.000000</td>\n",
              "      <td>7.000000</td>\n",
              "      <td>6.000000</td>\n",
              "    </tr>\n",
              "    <tr>\n",
              "      <th>max</th>\n",
              "      <td>13.000000</td>\n",
              "      <td>12.000000</td>\n",
              "      <td>12.000000</td>\n",
              "    </tr>\n",
              "    <tr>\n",
              "      <th rowspan=\"8\" valign=\"top\">monetary</th>\n",
              "      <th>count</th>\n",
              "      <td>5862.000000</td>\n",
              "      <td>5809.000000</td>\n",
              "      <td>5811.000000</td>\n",
              "    </tr>\n",
              "    <tr>\n",
              "      <th>mean</th>\n",
              "      <td>16473.218039</td>\n",
              "      <td>14814.443580</td>\n",
              "      <td>12722.571622</td>\n",
              "    </tr>\n",
              "    <tr>\n",
              "      <th>std</th>\n",
              "      <td>8126.567026</td>\n",
              "      <td>7206.284015</td>\n",
              "      <td>7142.011558</td>\n",
              "    </tr>\n",
              "    <tr>\n",
              "      <th>min</th>\n",
              "      <td>643.110000</td>\n",
              "      <td>609.960000</td>\n",
              "      <td>269.620000</td>\n",
              "    </tr>\n",
              "    <tr>\n",
              "      <th>25%</th>\n",
              "      <td>10687.283750</td>\n",
              "      <td>9394.710000</td>\n",
              "      <td>7375.322500</td>\n",
              "    </tr>\n",
              "    <tr>\n",
              "      <th>50%</th>\n",
              "      <td>15343.477500</td>\n",
              "      <td>14277.705000</td>\n",
              "      <td>11528.465000</td>\n",
              "    </tr>\n",
              "    <tr>\n",
              "      <th>75%</th>\n",
              "      <td>20979.530000</td>\n",
              "      <td>19091.085000</td>\n",
              "      <td>16742.960000</td>\n",
              "    </tr>\n",
              "    <tr>\n",
              "      <th>max</th>\n",
              "      <td>53772.615000</td>\n",
              "      <td>48425.520000</td>\n",
              "      <td>41596.620000</td>\n",
              "    </tr>\n",
              "    <tr>\n",
              "      <th rowspan=\"8\" valign=\"top\">recency</th>\n",
              "      <th>count</th>\n",
              "      <td>5862.000000</td>\n",
              "      <td>5809.000000</td>\n",
              "      <td>5811.000000</td>\n",
              "    </tr>\n",
              "    <tr>\n",
              "      <th>mean</th>\n",
              "      <td>9.053017</td>\n",
              "      <td>14.284482</td>\n",
              "      <td>23.150458</td>\n",
              "    </tr>\n",
              "    <tr>\n",
              "      <th>std</th>\n",
              "      <td>3.383927</td>\n",
              "      <td>1.338401</td>\n",
              "      <td>5.352785</td>\n",
              "    </tr>\n",
              "    <tr>\n",
              "      <th>min</th>\n",
              "      <td>0.000000</td>\n",
              "      <td>12.156307</td>\n",
              "      <td>16.953120</td>\n",
              "    </tr>\n",
              "    <tr>\n",
              "      <th>25%</th>\n",
              "      <td>9.035093</td>\n",
              "      <td>13.141954</td>\n",
              "      <td>19.055833</td>\n",
              "    </tr>\n",
              "    <tr>\n",
              "      <th>50%</th>\n",
              "      <td>10.316434</td>\n",
              "      <td>14.193310</td>\n",
              "      <td>21.717078</td>\n",
              "    </tr>\n",
              "    <tr>\n",
              "      <th>75%</th>\n",
              "      <td>11.367790</td>\n",
              "      <td>15.310376</td>\n",
              "      <td>25.659664</td>\n",
              "    </tr>\n",
              "    <tr>\n",
              "      <th>max</th>\n",
              "      <td>12.123452</td>\n",
              "      <td>16.920265</td>\n",
              "      <td>45.372595</td>\n",
              "    </tr>\n",
              "  </tbody>\n",
              "</table>\n",
              "</div>"
            ],
            "text/plain": [
              "R                           3             2             1\n",
              "frequency count   5862.000000   5809.000000   5811.000000\n",
              "          mean       6.282327      5.682389      4.799862\n",
              "          std        2.190226      2.017870      1.834187\n",
              "          min        2.000000      2.000000      2.000000\n",
              "          25%        5.000000      4.000000      3.000000\n",
              "          50%        6.000000      5.000000      5.000000\n",
              "          75%        8.000000      7.000000      6.000000\n",
              "          max       13.000000     12.000000     12.000000\n",
              "monetary  count   5862.000000   5809.000000   5811.000000\n",
              "          mean   16473.218039  14814.443580  12722.571622\n",
              "          std     8126.567026   7206.284015   7142.011558\n",
              "          min      643.110000    609.960000    269.620000\n",
              "          25%    10687.283750   9394.710000   7375.322500\n",
              "          50%    15343.477500  14277.705000  11528.465000\n",
              "          75%    20979.530000  19091.085000  16742.960000\n",
              "          max    53772.615000  48425.520000  41596.620000\n",
              "recency   count   5862.000000   5809.000000   5811.000000\n",
              "          mean       9.053017     14.284482     23.150458\n",
              "          std        3.383927      1.338401      5.352785\n",
              "          min        0.000000     12.156307     16.953120\n",
              "          25%        9.035093     13.141954     19.055833\n",
              "          50%       10.316434     14.193310     21.717078\n",
              "          75%       11.367790     15.310376     25.659664\n",
              "          max       12.123452     16.920265     45.372595"
            ]
          },
          "metadata": {
            "tags": []
          },
          "execution_count": 48
        }
      ]
    },
    {
      "cell_type": "code",
      "metadata": {
        "id": "CfmfFhKgxOcO"
      },
      "source": [
        "# Change data type to integer\n",
        "rfm_scores['R'] = rfm_scores['R'].astype('int')\n",
        "rfm_scores['F'] = rfm_scores['F'].astype('int')\n",
        "rfm_scores['M'] = rfm_scores['M'].astype('int')\n",
        "rfm_scores['A'] = rfm_scores['A'].astype('int')\n",
        "rfm_scores['Re'] = rfm_scores['Re'].astype('int')"
      ],
      "execution_count": 49,
      "outputs": []
    },
    {
      "cell_type": "code",
      "metadata": {
        "colab": {
          "base_uri": "https://localhost:8080/"
        },
        "id": "DigfDXBLxeli",
        "outputId": "8ba3a75b-3581-48d2-d83c-5d26b7bfb98d"
      },
      "source": [
        "# Make a new column contain of total value from R, F, M, A, and Re columns\n",
        "rfm_scores['rfm_score'] = rfm_scores['R'] + rfm_scores['F'] + rfm_scores['M']+ rfm_scores['A']+ rfm_scores['Re']\n",
        "rfm_scores['rfm_score_str'] = rfm_scores['R'].map(str) + rfm_scores['F'].map(str) + rfm_scores['M'].map(str) + rfm_scores['A'].map(str)+ rfm_scores['Re'].map(str)\n",
        "rfm_scores['rfm_score_str'].unique()"
      ],
      "execution_count": 50,
      "outputs": [
        {
          "output_type": "execute_result",
          "data": {
            "text/plain": [
              "array(['22213', '22211', '22212', '11112', '11113', '13331', '13333',\n",
              "       '13332', '31122', '31121', '33333', '33332', '33331', '31111',\n",
              "       '31112', '32312', '32313', '32311', '11111', '22222', '22221',\n",
              "       '12333', '12331', '11122', '12213', '12212', '32222', '32221',\n",
              "       '12121', '12122', '12123', '11131', '11133', '31131', '23333',\n",
              "       '23331', '23332', '21111', '21113', '31212', '31211', '32223',\n",
              "       '11121', '11123', '11221', '11222', '11132', '11232', '11233',\n",
              "       '11231', '22313', '22311', '22312', '13113', '13112', '21222',\n",
              "       '21223', '21221', '31132', '31133', '12332', '23321', '23322',\n",
              "       '23323', '31233', '31232', '31231', '22322', '22321', '22323',\n",
              "       '22223', '32233', '32231', '32232', '12233', '12232', '22123',\n",
              "       '22121', '22122', '22231', '22233', '22232', '31222', '31221',\n",
              "       '11223', '12321', '12323', '12322', '31213', '32211', '32212',\n",
              "       '32213', '21121', '11213', '23312', '23313', '21312', '21311',\n",
              "       '22331', '22332', '22333', '21112', '21313', '31113', '32322',\n",
              "       '32321', '32323', '12131', '12132', '13312', '13313', '12133',\n",
              "       '23221', '23222', '23223', '21212', '21211', '21122', '12231',\n",
              "       '13323', '13321', '13322', '33321', '33323', '33322', '11331',\n",
              "       '11332', '23123', '23122', '23121', '21132', '21131', '33313',\n",
              "       '33311', '33312', '21231', '23213', '23211', '11211', '21133',\n",
              "       '32113', '32112', '32111', '13223', '13222', '13221', '21123',\n",
              "       '22112', '22113', '33113', '33112', '12312', '12313', '12311',\n",
              "       '11212', '23133', '23131', '23132', '12211', '32123', '32121',\n",
              "       '21232', '12223', '12222', '33222', '33221', '33223', '23212',\n",
              "       '21213', '23311', '22111', '31123', '33133', '33132', '33131',\n",
              "       '11323', '11321', '22132', '22133', '22131', '12113', '12112',\n",
              "       '11333', '33213', '33212', '33211', '31313', '31311', '31312',\n",
              "       '32333', '32331', '32332', '33231', '33232', '33233', '32122',\n",
              "       '13213', '13211', '21233', '32132', '32131', '11313', '32133',\n",
              "       '12221', '33122', '33123', '33121', '13232', '13233', '23232',\n",
              "       '23233', '23231', '31223', '11322', '12111', '31331', '31333',\n",
              "       '13311', '13122', '13123', '13121', '11312', '21323', '21321',\n",
              "       '13231', '33111', '31321', '31322', '13212', '21331', '21332',\n",
              "       '21333', '11311', '21322', '31323', '13133', '13132', '13131',\n",
              "       '23113', '23111', '23112'], dtype=object)"
            ]
          },
          "metadata": {
            "tags": []
          },
          "execution_count": 50
        }
      ]
    },
    {
      "cell_type": "code",
      "metadata": {
        "colab": {
          "base_uri": "https://localhost:8080/"
        },
        "id": "Bye8Qa5kxkby",
        "outputId": "ab3b3ce5-8fb0-443f-b28b-f5e8c99d6c77"
      },
      "source": [
        "rfm_scores['rfm_score_str'].nunique()"
      ],
      "execution_count": 51,
      "outputs": [
        {
          "output_type": "execute_result",
          "data": {
            "text/plain": [
              "241"
            ]
          },
          "metadata": {
            "tags": []
          },
          "execution_count": 51
        }
      ]
    },
    {
      "cell_type": "code",
      "metadata": {
        "colab": {
          "base_uri": "https://localhost:8080/"
        },
        "id": "q_W66mIbx4P9",
        "outputId": "d6d9f6c0-2ecc-4398-bafd-335e512cda77"
      },
      "source": [
        "rfm_scores['rfm_score'].unique()"
      ],
      "execution_count": 52,
      "outputs": [
        {
          "output_type": "execute_result",
          "data": {
            "text/plain": [
              "array([10,  8,  9,  6,  7, 11, 13, 12, 15, 14,  5])"
            ]
          },
          "metadata": {
            "tags": []
          },
          "execution_count": 52
        }
      ]
    },
    {
      "cell_type": "code",
      "metadata": {
        "colab": {
          "base_uri": "https://localhost:8080/",
          "height": 288
        },
        "id": "l1x0vtNnx8hA",
        "outputId": "25df1177-ed07-4532-e41c-8e1611d4e511"
      },
      "source": [
        "# Make a new column contain of segment name\n",
        "label = {5:'At Risk', 6:'At Risk', 7:'Need Attention', 8:'Need Attention', 9:'Need Attention',\n",
        "         10:'Need Attention', 11:'Potential Loyalist', 12:'Potential Loyalist',\n",
        "         13:'Champion', 14:'Champion', 15:'Champion'}\n",
        "rfm_scores['label'] = rfm_scores['rfm_score'].map(label)\n",
        "rfm_scores.head()"
      ],
      "execution_count": 53,
      "outputs": [
        {
          "output_type": "execute_result",
          "data": {
            "text/html": [
              "<div>\n",
              "<style scoped>\n",
              "    .dataframe tbody tr th:only-of-type {\n",
              "        vertical-align: middle;\n",
              "    }\n",
              "\n",
              "    .dataframe tbody tr th {\n",
              "        vertical-align: top;\n",
              "    }\n",
              "\n",
              "    .dataframe thead th {\n",
              "        text-align: right;\n",
              "    }\n",
              "</style>\n",
              "<table border=\"1\" class=\"dataframe\">\n",
              "  <thead>\n",
              "    <tr style=\"text-align: right;\">\n",
              "      <th></th>\n",
              "      <th>customer_id</th>\n",
              "      <th>transaction_date_max</th>\n",
              "      <th>frequency</th>\n",
              "      <th>monetary</th>\n",
              "      <th>recency</th>\n",
              "      <th>transaction_date_min</th>\n",
              "      <th>age</th>\n",
              "      <th>return</th>\n",
              "      <th>nrow</th>\n",
              "      <th>R</th>\n",
              "      <th>F</th>\n",
              "      <th>M</th>\n",
              "      <th>A</th>\n",
              "      <th>Re</th>\n",
              "      <th>rfm_score</th>\n",
              "      <th>rfm_score_str</th>\n",
              "      <th>label</th>\n",
              "    </tr>\n",
              "  </thead>\n",
              "  <tbody>\n",
              "    <tr>\n",
              "      <th>1</th>\n",
              "      <td>266783</td>\n",
              "      <td>2013-09-02</td>\n",
              "      <td>5</td>\n",
              "      <td>14791.530</td>\n",
              "      <td>14.981827</td>\n",
              "      <td>2011-09-23</td>\n",
              "      <td>38.308795</td>\n",
              "      <td>0.032855</td>\n",
              "      <td>2</td>\n",
              "      <td>2</td>\n",
              "      <td>2</td>\n",
              "      <td>2</td>\n",
              "      <td>1</td>\n",
              "      <td>3</td>\n",
              "      <td>10</td>\n",
              "      <td>22213</td>\n",
              "      <td>Need Attention</td>\n",
              "    </tr>\n",
              "    <tr>\n",
              "      <th>2</th>\n",
              "      <td>266783</td>\n",
              "      <td>2013-09-02</td>\n",
              "      <td>5</td>\n",
              "      <td>14791.530</td>\n",
              "      <td>14.981827</td>\n",
              "      <td>2011-09-23</td>\n",
              "      <td>38.308795</td>\n",
              "      <td>12.911969</td>\n",
              "      <td>3</td>\n",
              "      <td>2</td>\n",
              "      <td>2</td>\n",
              "      <td>2</td>\n",
              "      <td>1</td>\n",
              "      <td>1</td>\n",
              "      <td>8</td>\n",
              "      <td>22211</td>\n",
              "      <td>Need Attention</td>\n",
              "    </tr>\n",
              "    <tr>\n",
              "      <th>3</th>\n",
              "      <td>266783</td>\n",
              "      <td>2013-09-02</td>\n",
              "      <td>5</td>\n",
              "      <td>14791.530</td>\n",
              "      <td>14.981827</td>\n",
              "      <td>2011-09-23</td>\n",
              "      <td>38.308795</td>\n",
              "      <td>4.008296</td>\n",
              "      <td>4</td>\n",
              "      <td>2</td>\n",
              "      <td>2</td>\n",
              "      <td>2</td>\n",
              "      <td>1</td>\n",
              "      <td>2</td>\n",
              "      <td>9</td>\n",
              "      <td>22212</td>\n",
              "      <td>Need Attention</td>\n",
              "    </tr>\n",
              "    <tr>\n",
              "      <th>4</th>\n",
              "      <td>266783</td>\n",
              "      <td>2013-09-02</td>\n",
              "      <td>5</td>\n",
              "      <td>14791.530</td>\n",
              "      <td>14.981827</td>\n",
              "      <td>2011-09-23</td>\n",
              "      <td>38.308795</td>\n",
              "      <td>6.373848</td>\n",
              "      <td>5</td>\n",
              "      <td>2</td>\n",
              "      <td>2</td>\n",
              "      <td>2</td>\n",
              "      <td>1</td>\n",
              "      <td>2</td>\n",
              "      <td>9</td>\n",
              "      <td>22212</td>\n",
              "      <td>Need Attention</td>\n",
              "    </tr>\n",
              "    <tr>\n",
              "      <th>6</th>\n",
              "      <td>266784</td>\n",
              "      <td>2012-09-09</td>\n",
              "      <td>3</td>\n",
              "      <td>5694.065</td>\n",
              "      <td>26.743876</td>\n",
              "      <td>2012-04-12</td>\n",
              "      <td>31.672108</td>\n",
              "      <td>4.369700</td>\n",
              "      <td>2</td>\n",
              "      <td>1</td>\n",
              "      <td>1</td>\n",
              "      <td>1</td>\n",
              "      <td>1</td>\n",
              "      <td>2</td>\n",
              "      <td>6</td>\n",
              "      <td>11112</td>\n",
              "      <td>At Risk</td>\n",
              "    </tr>\n",
              "  </tbody>\n",
              "</table>\n",
              "</div>"
            ],
            "text/plain": [
              "   customer_id transaction_date_max  ...  rfm_score_str           label\n",
              "1       266783           2013-09-02  ...          22213  Need Attention\n",
              "2       266783           2013-09-02  ...          22211  Need Attention\n",
              "3       266783           2013-09-02  ...          22212  Need Attention\n",
              "4       266783           2013-09-02  ...          22212  Need Attention\n",
              "6       266784           2012-09-09  ...          11112         At Risk\n",
              "\n",
              "[5 rows x 17 columns]"
            ]
          },
          "metadata": {
            "tags": []
          },
          "execution_count": 53
        }
      ]
    },
    {
      "cell_type": "code",
      "metadata": {
        "colab": {
          "base_uri": "https://localhost:8080/",
          "height": 387
        },
        "id": "hNaLXu7SyJfh",
        "outputId": "443b9bfb-d149-4136-aa9c-4fd96af65062"
      },
      "source": [
        "# Visualize the boxplot of recency\n",
        "fig, ax = plt.subplots(figsize=(10,6));\n",
        "sns.boxplot(x='label', y='recency', data=rfm_scores,showmeans = True, meanprops={\"marker\":\"o\",\n",
        "                       \"markerfacecolor\":\"white\", \n",
        "                       \"markeredgecolor\":\"black\",\n",
        "                      \"markersize\":\"10\"})\n",
        "plt.show()"
      ],
      "execution_count": 54,
      "outputs": [
        {
          "output_type": "display_data",
          "data": {
            "image/png": "[encoded data removed]",
            "text/plain": [
              "<Figure size 720x432 with 1 Axes>"
            ]
          },
          "metadata": {
            "tags": [],
            "needs_background": "light"
          }
        }
      ]
    },
    {
      "cell_type": "code",
      "metadata": {
        "colab": {
          "base_uri": "https://localhost:8080/",
          "height": 387
        },
        "id": "kSlOYgvqycC6",
        "outputId": "6c7af223-367e-4efb-97c7-666102b7b684"
      },
      "source": [
        "# Visualize the boxplot of frequency\n",
        "fig, ax = plt.subplots(figsize=(10,6));\n",
        "sns.boxplot(x='label', y='frequency', data=rfm_scores,showmeans = True, meanprops={\"marker\":\"o\",\n",
        "                       \"markerfacecolor\":\"white\", \n",
        "                       \"markeredgecolor\":\"black\",\n",
        "                      \"markersize\":\"10\"})\n",
        "plt.show()"
      ],
      "execution_count": 55,
      "outputs": [
        {
          "output_type": "display_data",
          "data": {
            "image/png": "[encoded data removed]",
            "text/plain": [
              "<Figure size 720x432 with 1 Axes>"
            ]
          },
          "metadata": {
            "tags": [],
            "needs_background": "light"
          }
        }
      ]
    },
    {
      "cell_type": "code",
      "metadata": {
        "colab": {
          "base_uri": "https://localhost:8080/",
          "height": 387
        },
        "id": "P1CRakxCyhbh",
        "outputId": "63b8ecd6-7bf2-424a-e15e-bb2ea985e1a1"
      },
      "source": [
        "# Visualize the boxplot of monetary\n",
        "fig, ax = plt.subplots(figsize=(10,6));\n",
        "sns.boxplot(x='label', y='monetary', data=rfm_scores,showmeans = True, meanprops={\"marker\":\"o\",\n",
        "                       \"markerfacecolor\":\"white\", \n",
        "                       \"markeredgecolor\":\"black\",\n",
        "                      \"markersize\":\"10\"})\n",
        "plt.show()"
      ],
      "execution_count": 56,
      "outputs": [
        {
          "output_type": "display_data",
          "data": {
            "image/png": "[encoded data removed]",
            "text/plain": [
              "<Figure size 720x432 with 1 Axes>"
            ]
          },
          "metadata": {
            "tags": [],
            "needs_background": "light"
          }
        }
      ]
    },
    {
      "cell_type": "code",
      "metadata": {
        "colab": {
          "base_uri": "https://localhost:8080/",
          "height": 387
        },
        "id": "NXatxwlFBSS8",
        "outputId": "4e1e59d9-304d-4f72-8f08-ab67e2c6dbab"
      },
      "source": [
        "# Visualize the boxplot of return\n",
        "fig, ax = plt.subplots(figsize=(10,6));\n",
        "sns.boxplot(x='label', y='return', data=rfm_scores,showmeans = True, meanprops={\"marker\":\"o\",\n",
        "                       \"markerfacecolor\":\"white\", \n",
        "                       \"markeredgecolor\":\"black\",\n",
        "                      \"markersize\":\"10\"})\n",
        "plt.show()"
      ],
      "execution_count": 57,
      "outputs": [
        {
          "output_type": "display_data",
          "data": {
            "image/png": "[encoded data removed]",
            "text/plain": [
              "<Figure size 720x432 with 1 Axes>"
            ]
          },
          "metadata": {
            "tags": [],
            "needs_background": "light"
          }
        }
      ]
    },
    {
      "cell_type": "code",
      "metadata": {
        "colab": {
          "base_uri": "https://localhost:8080/",
          "height": 387
        },
        "id": "0iux2y5pTC8Q",
        "outputId": "ca454d16-9596-483c-aa08-32dcbde6a93a"
      },
      "source": [
        "# Visualize the boxplot of age\n",
        "fig, ax = plt.subplots(figsize=(10,6));\n",
        "sns.boxplot(x='label', y='age', data=rfm_scores,showmeans = True, meanprops={\"marker\":\"o\",\n",
        "                       \"markerfacecolor\":\"white\", \n",
        "                       \"markeredgecolor\":\"black\",\n",
        "                      \"markersize\":\"10\"})\n",
        "plt.show()"
      ],
      "execution_count": 58,
      "outputs": [
        {
          "output_type": "display_data",
          "data": {
            "image/png": "[encoded data removed]",
            "text/plain": [
              "<Figure size 720x432 with 1 Axes>"
            ]
          },
          "metadata": {
            "tags": [],
            "needs_background": "light"
          }
        }
      ]
    },
    {
      "cell_type": "code",
      "metadata": {
        "id": "Mfodz6Suyzi8"
      },
      "source": [
        "# Save rfm_scores data to drive\n",
        "rfm_scores.to_csv('/content/drive/MyDrive/IYKRA/#8 Create Targeted Campaign with RFM and Promotion Recommendation/Practice Case/rfm score.csv', index=False)\n",
        "rfm_scores = pd.read_csv('/content/drive/MyDrive/IYKRA/#8 Create Targeted Campaign with RFM and Promotion Recommendation/Practice Case/rfm score.csv')"
      ],
      "execution_count": 59,
      "outputs": []
    },
    {
      "cell_type": "markdown",
      "metadata": {
        "id": "Wdioy0pPzQi6"
      },
      "source": [
        "# **Questions**\n",
        "\n",
        "1. Di bulan ke berapa transaksi paling banyak per cluster\n",
        "2. 10 produk yang paling laris di setiap cluster\n",
        "3. Di negara mana yang menjadi dominansi tempat tinggal customer per cluster\n",
        "4. 5 Produk terbawah per cluster dan secara umum?"
      ]
    },
    {
      "cell_type": "code",
      "metadata": {
        "colab": {
          "base_uri": "https://localhost:8080/"
        },
        "id": "Raz0Kgdu0nHE",
        "outputId": "9df5e7d1-596c-48c0-f2e7-fc3a7e9eb9de"
      },
      "source": [
        "# Merge df and rfm_scores data\n",
        "df_rfm = pd.merge(df, rfm_scores, left_on='customer_id', right_on='customer_id', how='left')\n",
        "df_rfm.isnull().sum()"
      ],
      "execution_count": 60,
      "outputs": [
        {
          "output_type": "execute_result",
          "data": {
            "text/plain": [
              "transaction_id            0\n",
              "customer_id               0\n",
              "transaction_date          0\n",
              "subcategory_code          0\n",
              "category_code             0\n",
              "quantity                  0\n",
              "rate                      0\n",
              "tax                       0\n",
              "total_amount              0\n",
              "store_type                0\n",
              "birth                     0\n",
              "gender                    0\n",
              "city_code                 0\n",
              "transaction_date_max    467\n",
              "frequency               467\n",
              "monetary                467\n",
              "recency                 467\n",
              "transaction_date_min    467\n",
              "age                     467\n",
              "return                  467\n",
              "nrow                    467\n",
              "R                       467\n",
              "F                       467\n",
              "M                       467\n",
              "A                       467\n",
              "Re                      467\n",
              "rfm_score               467\n",
              "rfm_score_str           467\n",
              "label                   467\n",
              "dtype: int64"
            ]
          },
          "metadata": {
            "tags": []
          },
          "execution_count": 60
        }
      ]
    },
    {
      "cell_type": "code",
      "metadata": {
        "colab": {
          "base_uri": "https://localhost:8080/"
        },
        "id": "3uDlrL_4Ci9P",
        "outputId": "de4df40d-c9ed-4b38-a9a8-c306e5e6143a"
      },
      "source": [
        "# Drop null data\n",
        "df_rfm.dropna(inplace=True)\n",
        "df_rfm.isnull().sum()"
      ],
      "execution_count": 61,
      "outputs": [
        {
          "output_type": "execute_result",
          "data": {
            "text/plain": [
              "transaction_id          0\n",
              "customer_id             0\n",
              "transaction_date        0\n",
              "subcategory_code        0\n",
              "category_code           0\n",
              "quantity                0\n",
              "rate                    0\n",
              "tax                     0\n",
              "total_amount            0\n",
              "store_type              0\n",
              "birth                   0\n",
              "gender                  0\n",
              "city_code               0\n",
              "transaction_date_max    0\n",
              "frequency               0\n",
              "monetary                0\n",
              "recency                 0\n",
              "transaction_date_min    0\n",
              "age                     0\n",
              "return                  0\n",
              "nrow                    0\n",
              "R                       0\n",
              "F                       0\n",
              "M                       0\n",
              "A                       0\n",
              "Re                      0\n",
              "rfm_score               0\n",
              "rfm_score_str           0\n",
              "label                   0\n",
              "dtype: int64"
            ]
          },
          "metadata": {
            "tags": []
          },
          "execution_count": 61
        }
      ]
    },
    {
      "cell_type": "markdown",
      "metadata": {
        "id": "EFixxnulL3Yn"
      },
      "source": [
        "## 1. Di bulan ke berapa transaksi paling banyak per cluster"
      ]
    },
    {
      "cell_type": "code",
      "metadata": {
        "colab": {
          "base_uri": "https://localhost:8080/"
        },
        "id": "xlnCTD0wy6li",
        "outputId": "bbad38c6-45de-4acd-ca93-25fd7ad3ba8f"
      },
      "source": [
        "# Make a new column contain of month\n",
        "df_rfm['month'] = pd.to_datetime(df['transaction_date']).dt.month\n",
        "# Visualise the data to answer the question\n",
        "df_rfm.groupby(['label','month'])['transaction_id'].count()"
      ],
      "execution_count": 62,
      "outputs": [
        {
          "output_type": "execute_result",
          "data": {
            "text/plain": [
              "label               month\n",
              "At Risk             1.0       56\n",
              "                    2.0       42\n",
              "                    3.0       87\n",
              "                    4.0       48\n",
              "                    5.0       48\n",
              "                    6.0       48\n",
              "                    7.0       36\n",
              "                    8.0       37\n",
              "                    9.0       48\n",
              "                    10.0      56\n",
              "                    11.0      38\n",
              "                    12.0      28\n",
              "Champion            1.0      536\n",
              "                    2.0      519\n",
              "                    3.0      569\n",
              "                    4.0      521\n",
              "                    5.0      475\n",
              "                    6.0      446\n",
              "                    7.0      563\n",
              "                    8.0      621\n",
              "                    9.0      467\n",
              "                    10.0     525\n",
              "                    11.0     501\n",
              "                    12.0     512\n",
              "Need Attention      1.0      838\n",
              "                    2.0      736\n",
              "                    3.0      674\n",
              "                    4.0      663\n",
              "                    5.0      731\n",
              "                    6.0      684\n",
              "                    7.0      722\n",
              "                    8.0      649\n",
              "                    9.0      765\n",
              "                    10.0     735\n",
              "                    11.0     659\n",
              "                    12.0     745\n",
              "Potential Loyalist  1.0      589\n",
              "                    2.0      581\n",
              "                    3.0      635\n",
              "                    4.0      606\n",
              "                    5.0      586\n",
              "                    6.0      630\n",
              "                    7.0      586\n",
              "                    8.0      603\n",
              "                    9.0      698\n",
              "                    10.0     695\n",
              "                    11.0     664\n",
              "                    12.0     633\n",
              "Name: transaction_id, dtype: int64"
            ]
          },
          "metadata": {
            "tags": []
          },
          "execution_count": 62
        }
      ]
    },
    {
      "cell_type": "markdown",
      "metadata": {
        "id": "bN3EuU-6L9K9"
      },
      "source": [
        "## 2. 10 produk yang paling laris di setiap cluster"
      ]
    },
    {
      "cell_type": "code",
      "metadata": {
        "colab": {
          "base_uri": "https://localhost:8080/",
          "height": 414
        },
        "id": "fEnZCS05DWHD",
        "outputId": "86bc75e2-b3a1-4470-d24a-48d7f4faaa8f"
      },
      "source": [
        "product_rating = df_rfm[['customer_id','subcategory_code','quantity']].groupby(['customer_id','subcategory_code']).agg({'quantity':'sum','subcategory_code':[('NTrans','count')]}).reset_index()\n",
        "product_rating.columns=['customer_id','subcategory_code','quantity','NTrans']\n",
        "product_rating"
      ],
      "execution_count": 63,
      "outputs": [
        {
          "output_type": "execute_result",
          "data": {
            "text/html": [
              "<div>\n",
              "<style scoped>\n",
              "    .dataframe tbody tr th:only-of-type {\n",
              "        vertical-align: middle;\n",
              "    }\n",
              "\n",
              "    .dataframe tbody tr th {\n",
              "        vertical-align: top;\n",
              "    }\n",
              "\n",
              "    .dataframe thead th {\n",
              "        text-align: right;\n",
              "    }\n",
              "</style>\n",
              "<table border=\"1\" class=\"dataframe\">\n",
              "  <thead>\n",
              "    <tr style=\"text-align: right;\">\n",
              "      <th></th>\n",
              "      <th>customer_id</th>\n",
              "      <th>subcategory_code</th>\n",
              "      <th>quantity</th>\n",
              "      <th>NTrans</th>\n",
              "    </tr>\n",
              "  </thead>\n",
              "  <tbody>\n",
              "    <tr>\n",
              "      <th>0</th>\n",
              "      <td>266783</td>\n",
              "      <td>1</td>\n",
              "      <td>32</td>\n",
              "      <td>8</td>\n",
              "    </tr>\n",
              "    <tr>\n",
              "      <th>1</th>\n",
              "      <td>266783</td>\n",
              "      <td>4</td>\n",
              "      <td>16</td>\n",
              "      <td>8</td>\n",
              "    </tr>\n",
              "    <tr>\n",
              "      <th>2</th>\n",
              "      <td>266783</td>\n",
              "      <td>10</td>\n",
              "      <td>8</td>\n",
              "      <td>4</td>\n",
              "    </tr>\n",
              "    <tr>\n",
              "      <th>3</th>\n",
              "      <td>266784</td>\n",
              "      <td>4</td>\n",
              "      <td>4</td>\n",
              "      <td>2</td>\n",
              "    </tr>\n",
              "    <tr>\n",
              "      <th>4</th>\n",
              "      <td>266784</td>\n",
              "      <td>7</td>\n",
              "      <td>10</td>\n",
              "      <td>2</td>\n",
              "    </tr>\n",
              "    <tr>\n",
              "      <th>...</th>\n",
              "      <td>...</td>\n",
              "      <td>...</td>\n",
              "      <td>...</td>\n",
              "      <td>...</td>\n",
              "    </tr>\n",
              "    <tr>\n",
              "      <th>16814</th>\n",
              "      <td>275264</td>\n",
              "      <td>10</td>\n",
              "      <td>5</td>\n",
              "      <td>1</td>\n",
              "    </tr>\n",
              "    <tr>\n",
              "      <th>16815</th>\n",
              "      <td>275264</td>\n",
              "      <td>12</td>\n",
              "      <td>4</td>\n",
              "      <td>1</td>\n",
              "    </tr>\n",
              "    <tr>\n",
              "      <th>16816</th>\n",
              "      <td>275265</td>\n",
              "      <td>1</td>\n",
              "      <td>2</td>\n",
              "      <td>2</td>\n",
              "    </tr>\n",
              "    <tr>\n",
              "      <th>16817</th>\n",
              "      <td>275265</td>\n",
              "      <td>2</td>\n",
              "      <td>6</td>\n",
              "      <td>2</td>\n",
              "    </tr>\n",
              "    <tr>\n",
              "      <th>16818</th>\n",
              "      <td>275265</td>\n",
              "      <td>12</td>\n",
              "      <td>6</td>\n",
              "      <td>2</td>\n",
              "    </tr>\n",
              "  </tbody>\n",
              "</table>\n",
              "<p>16819 rows × 4 columns</p>\n",
              "</div>"
            ],
            "text/plain": [
              "       customer_id  subcategory_code  quantity  NTrans\n",
              "0           266783                 1        32       8\n",
              "1           266783                 4        16       8\n",
              "2           266783                10         8       4\n",
              "3           266784                 4         4       2\n",
              "4           266784                 7        10       2\n",
              "...            ...               ...       ...     ...\n",
              "16814       275264                10         5       1\n",
              "16815       275264                12         4       1\n",
              "16816       275265                 1         2       2\n",
              "16817       275265                 2         6       2\n",
              "16818       275265                12         6       2\n",
              "\n",
              "[16819 rows x 4 columns]"
            ]
          },
          "metadata": {
            "tags": []
          },
          "execution_count": 63
        }
      ]
    },
    {
      "cell_type": "code",
      "metadata": {
        "id": "78DfombUEHTX"
      },
      "source": [
        "rating = []\n",
        "q1 = product_rating['quantity'].quantile(.25)\n",
        "q2 = product_rating['quantity'].quantile(.55)\n",
        "q3 = product_rating['quantity'].quantile(.75)\n",
        "\n",
        "for q in product_rating['quantity']:\n",
        "    if q > q3 :\n",
        "        rating.append(4)\n",
        "    elif q > q2 :\n",
        "        rating.append(3)\n",
        "    elif q > q1:\n",
        "        rating.append(2)\n",
        "    else:\n",
        "        rating.append(1)\n",
        "\n",
        "product_rating['rating'] = rating"
      ],
      "execution_count": 64,
      "outputs": []
    },
    {
      "cell_type": "code",
      "metadata": {
        "colab": {
          "base_uri": "https://localhost:8080/"
        },
        "id": "IDSuz06nEabU",
        "outputId": "b4f34f64-0b9e-408d-b4d7-1049c61e0741"
      },
      "source": [
        "product_rating['rating'].unique()"
      ],
      "execution_count": 65,
      "outputs": [
        {
          "output_type": "execute_result",
          "data": {
            "text/plain": [
              "array([4, 3, 2, 1])"
            ]
          },
          "metadata": {
            "tags": []
          },
          "execution_count": 65
        }
      ]
    },
    {
      "cell_type": "code",
      "metadata": {
        "colab": {
          "base_uri": "https://localhost:8080/"
        },
        "id": "ddtz9TECEHME",
        "outputId": "014b6fa8-a14a-4f4a-e143-6ac5a322465f"
      },
      "source": [
        "df_rfm = pd.merge(df_rfm, product_rating, on =['customer_id','subcategory_code'], how='left')\n",
        "df_rfm.shape"
      ],
      "execution_count": 66,
      "outputs": [
        {
          "output_type": "execute_result",
          "data": {
            "text/plain": [
              "(97728, 33)"
            ]
          },
          "metadata": {
            "tags": []
          },
          "execution_count": 66
        }
      ]
    },
    {
      "cell_type": "code",
      "metadata": {
        "colab": {
          "base_uri": "https://localhost:8080/",
          "height": 232
        },
        "id": "fPbKT3XREd25",
        "outputId": "e15aaffa-9854-487a-9924-bb485ad83975"
      },
      "source": [
        "# Champion\n",
        "df_rfm[df_rfm['label']==\"Champion\"].groupby(['category_code']).agg({'rating':'mean','quantity_y':'mean'}).sort_values(by=['rating','quantity_y'], ascending=False)[:10].reset_index()"
      ],
      "execution_count": 67,
      "outputs": [
        {
          "output_type": "execute_result",
          "data": {
            "text/html": [
              "<div>\n",
              "<style scoped>\n",
              "    .dataframe tbody tr th:only-of-type {\n",
              "        vertical-align: middle;\n",
              "    }\n",
              "\n",
              "    .dataframe tbody tr th {\n",
              "        vertical-align: top;\n",
              "    }\n",
              "\n",
              "    .dataframe thead th {\n",
              "        text-align: right;\n",
              "    }\n",
              "</style>\n",
              "<table border=\"1\" class=\"dataframe\">\n",
              "  <thead>\n",
              "    <tr style=\"text-align: right;\">\n",
              "      <th></th>\n",
              "      <th>category_code</th>\n",
              "      <th>rating</th>\n",
              "      <th>quantity_y</th>\n",
              "    </tr>\n",
              "  </thead>\n",
              "  <tbody>\n",
              "    <tr>\n",
              "      <th>0</th>\n",
              "      <td>1</td>\n",
              "      <td>3.651574</td>\n",
              "      <td>56.585426</td>\n",
              "    </tr>\n",
              "    <tr>\n",
              "      <th>1</th>\n",
              "      <td>4</td>\n",
              "      <td>3.634314</td>\n",
              "      <td>53.585784</td>\n",
              "    </tr>\n",
              "    <tr>\n",
              "      <th>2</th>\n",
              "      <td>2</td>\n",
              "      <td>3.629066</td>\n",
              "      <td>55.938119</td>\n",
              "    </tr>\n",
              "    <tr>\n",
              "      <th>3</th>\n",
              "      <td>6</td>\n",
              "      <td>3.556623</td>\n",
              "      <td>48.202700</td>\n",
              "    </tr>\n",
              "    <tr>\n",
              "      <th>4</th>\n",
              "      <td>5</td>\n",
              "      <td>3.515123</td>\n",
              "      <td>46.609136</td>\n",
              "    </tr>\n",
              "    <tr>\n",
              "      <th>5</th>\n",
              "      <td>3</td>\n",
              "      <td>3.510244</td>\n",
              "      <td>47.551220</td>\n",
              "    </tr>\n",
              "  </tbody>\n",
              "</table>\n",
              "</div>"
            ],
            "text/plain": [
              "   category_code    rating  quantity_y\n",
              "0              1  3.651574   56.585426\n",
              "1              4  3.634314   53.585784\n",
              "2              2  3.629066   55.938119\n",
              "3              6  3.556623   48.202700\n",
              "4              5  3.515123   46.609136\n",
              "5              3  3.510244   47.551220"
            ]
          },
          "metadata": {
            "tags": []
          },
          "execution_count": 67
        }
      ]
    },
    {
      "cell_type": "code",
      "metadata": {
        "colab": {
          "base_uri": "https://localhost:8080/"
        },
        "id": "y8fjg6amKGcb",
        "outputId": "0065640d-59dd-460f-b0e1-6705f55eaf7b"
      },
      "source": [
        "top_champ = df_rfm[df_rfm['label']==\"Champion\"].groupby(['category_code']).agg({'rating':'mean','quantity_y':'mean','rate':'mean'}).sort_values(by=['rating','quantity_y'], ascending=False)[:10].reset_index()['category_code']\n",
        "top_champ"
      ],
      "execution_count": 68,
      "outputs": [
        {
          "output_type": "execute_result",
          "data": {
            "text/plain": [
              "0    1\n",
              "1    4\n",
              "2    2\n",
              "3    6\n",
              "4    5\n",
              "5    3\n",
              "Name: category_code, dtype: int64"
            ]
          },
          "metadata": {
            "tags": []
          },
          "execution_count": 68
        }
      ]
    },
    {
      "cell_type": "code",
      "metadata": {
        "colab": {
          "base_uri": "https://localhost:8080/"
        },
        "id": "pFQuKU7eLTQ9",
        "outputId": "0268273d-bc17-483e-f76f-29b8f13d67e0"
      },
      "source": [
        "top_potential = df_rfm[df_rfm['label']==\"Potential Loyalist\"].groupby(['category_code']).agg({'rating':'mean','quantity_y':'mean','rate':'mean'}).sort_values(by=['rating','quantity_y'], ascending=False)[:10].reset_index()['category_code']\n",
        "top_potential"
      ],
      "execution_count": 69,
      "outputs": [
        {
          "output_type": "execute_result",
          "data": {
            "text/plain": [
              "0    4\n",
              "1    1\n",
              "2    2\n",
              "3    6\n",
              "4    5\n",
              "5    3\n",
              "Name: category_code, dtype: int64"
            ]
          },
          "metadata": {
            "tags": []
          },
          "execution_count": 69
        }
      ]
    },
    {
      "cell_type": "code",
      "metadata": {
        "colab": {
          "base_uri": "https://localhost:8080/"
        },
        "id": "_zgDNcjyLgEL",
        "outputId": "128f5564-8b43-40b0-f3e5-3e772abeb13e"
      },
      "source": [
        "top_attention = df_rfm[df_rfm['label']==\"Need Attention\"].groupby(['category_code']).agg({'rating':'mean','quantity_y':'mean','rate':'mean'}).sort_values(by=['rating','quantity_y'], ascending=False)[:10].reset_index()['category_code']\n",
        "top_attention"
      ],
      "execution_count": 70,
      "outputs": [
        {
          "output_type": "execute_result",
          "data": {
            "text/plain": [
              "0    1\n",
              "1    2\n",
              "2    4\n",
              "3    6\n",
              "4    5\n",
              "5    3\n",
              "Name: category_code, dtype: int64"
            ]
          },
          "metadata": {
            "tags": []
          },
          "execution_count": 70
        }
      ]
    },
    {
      "cell_type": "code",
      "metadata": {
        "colab": {
          "base_uri": "https://localhost:8080/"
        },
        "id": "UKI-jvy0LqvW",
        "outputId": "be0e4cd5-2b93-4467-e1c3-6f7862624242"
      },
      "source": [
        "top_risk = df_rfm[df_rfm['label']==\"At Risk\"].groupby(['category_code']).agg({'rating':'mean','quantity_y':'mean','rate':'mean'}).sort_values(by=['rating','quantity_y'], ascending=False)[:10].reset_index()['category_code']\n",
        "top_risk"
      ],
      "execution_count": 71,
      "outputs": [
        {
          "output_type": "execute_result",
          "data": {
            "text/plain": [
              "0    4\n",
              "1    6\n",
              "2    2\n",
              "3    1\n",
              "4    5\n",
              "5    3\n",
              "Name: category_code, dtype: int64"
            ]
          },
          "metadata": {
            "tags": []
          },
          "execution_count": 71
        }
      ]
    },
    {
      "cell_type": "markdown",
      "metadata": {
        "id": "qKjOhhaOMD3x"
      },
      "source": [
        "## 3. Distribution of country per cluster\n",
        "\n"
      ]
    },
    {
      "cell_type": "code",
      "metadata": {
        "colab": {
          "base_uri": "https://localhost:8080/",
          "height": 232
        },
        "id": "uewFXt8ULyIJ",
        "outputId": "66e27760-e1c0-4085-b3e9-9039536d80d4"
      },
      "source": [
        "# Champion \n",
        "df_rfm[df_rfm['label']==\"Champion\"].groupby(['city_code'])['customer_id'].count().sort_values(ascending=False)[:10].reset_index()"
      ],
      "execution_count": 72,
      "outputs": [
        {
          "output_type": "execute_result",
          "data": {
            "text/html": [
              "<div>\n",
              "<style scoped>\n",
              "    .dataframe tbody tr th:only-of-type {\n",
              "        vertical-align: middle;\n",
              "    }\n",
              "\n",
              "    .dataframe tbody tr th {\n",
              "        vertical-align: top;\n",
              "    }\n",
              "\n",
              "    .dataframe thead th {\n",
              "        text-align: right;\n",
              "    }\n",
              "</style>\n",
              "<table border=\"1\" class=\"dataframe\">\n",
              "  <thead>\n",
              "    <tr style=\"text-align: right;\">\n",
              "      <th></th>\n",
              "      <th>city_code</th>\n",
              "      <th>customer_id</th>\n",
              "    </tr>\n",
              "  </thead>\n",
              "  <tbody>\n",
              "    <tr>\n",
              "      <th>0</th>\n",
              "      <td>7.0</td>\n",
              "      <td>2622</td>\n",
              "    </tr>\n",
              "    <tr>\n",
              "      <th>1</th>\n",
              "      <td>5.0</td>\n",
              "      <td>2554</td>\n",
              "    </tr>\n",
              "    <tr>\n",
              "      <th>2</th>\n",
              "      <td>3.0</td>\n",
              "      <td>2484</td>\n",
              "    </tr>\n",
              "    <tr>\n",
              "      <th>3</th>\n",
              "      <td>8.0</td>\n",
              "      <td>2473</td>\n",
              "    </tr>\n",
              "    <tr>\n",
              "      <th>4</th>\n",
              "      <td>6.0</td>\n",
              "      <td>2377</td>\n",
              "    </tr>\n",
              "    <tr>\n",
              "      <th>5</th>\n",
              "      <td>10.0</td>\n",
              "      <td>2289</td>\n",
              "    </tr>\n",
              "  </tbody>\n",
              "</table>\n",
              "</div>"
            ],
            "text/plain": [
              "   city_code  customer_id\n",
              "0        7.0         2622\n",
              "1        5.0         2554\n",
              "2        3.0         2484\n",
              "3        8.0         2473\n",
              "4        6.0         2377\n",
              "5       10.0         2289"
            ]
          },
          "metadata": {
            "tags": []
          },
          "execution_count": 72
        }
      ]
    },
    {
      "cell_type": "code",
      "metadata": {
        "colab": {
          "base_uri": "https://localhost:8080/",
          "height": 171
        },
        "id": "YDjRIx-cMrTY",
        "outputId": "61a19a3a-c8f7-49ae-9099-976abe09d8d1"
      },
      "source": [
        "# Potential Loyalist\n",
        "df_rfm[df_rfm['label']==\"Potential Loyalist\"].groupby(['city_code'])['customer_id'].count().sort_values(ascending=False)[:10].reset_index()"
      ],
      "execution_count": 73,
      "outputs": [
        {
          "output_type": "execute_result",
          "data": {
            "text/html": [
              "<div>\n",
              "<style scoped>\n",
              "    .dataframe tbody tr th:only-of-type {\n",
              "        vertical-align: middle;\n",
              "    }\n",
              "\n",
              "    .dataframe tbody tr th {\n",
              "        vertical-align: top;\n",
              "    }\n",
              "\n",
              "    .dataframe thead th {\n",
              "        text-align: right;\n",
              "    }\n",
              "</style>\n",
              "<table border=\"1\" class=\"dataframe\">\n",
              "  <thead>\n",
              "    <tr style=\"text-align: right;\">\n",
              "      <th></th>\n",
              "      <th>city_code</th>\n",
              "      <th>customer_id</th>\n",
              "    </tr>\n",
              "  </thead>\n",
              "  <tbody>\n",
              "    <tr>\n",
              "      <th>0</th>\n",
              "      <td>3.0</td>\n",
              "      <td>3565</td>\n",
              "    </tr>\n",
              "    <tr>\n",
              "      <th>1</th>\n",
              "      <td>4.0</td>\n",
              "      <td>3416</td>\n",
              "    </tr>\n",
              "    <tr>\n",
              "      <th>2</th>\n",
              "      <td>8.0</td>\n",
              "      <td>3302</td>\n",
              "    </tr>\n",
              "    <tr>\n",
              "      <th>3</th>\n",
              "      <td>10.0</td>\n",
              "      <td>3268</td>\n",
              "    </tr>\n",
              "  </tbody>\n",
              "</table>\n",
              "</div>"
            ],
            "text/plain": [
              "   city_code  customer_id\n",
              "0        3.0         3565\n",
              "1        4.0         3416\n",
              "2        8.0         3302\n",
              "3       10.0         3268"
            ]
          },
          "metadata": {
            "tags": []
          },
          "execution_count": 73
        }
      ]
    },
    {
      "cell_type": "code",
      "metadata": {
        "colab": {
          "base_uri": "https://localhost:8080/",
          "height": 171
        },
        "id": "s1H5VY87MzH2",
        "outputId": "61fe74fc-d015-4fdd-f6ac-7c00a4cbeb95"
      },
      "source": [
        "# Need Attention\n",
        "df_rfm[df_rfm['label']==\"Need Attention\"].groupby(['city_code'])['customer_id'].count().sort_values(ascending=False)[:10].reset_index()"
      ],
      "execution_count": 74,
      "outputs": [
        {
          "output_type": "execute_result",
          "data": {
            "text/html": [
              "<div>\n",
              "<style scoped>\n",
              "    .dataframe tbody tr th:only-of-type {\n",
              "        vertical-align: middle;\n",
              "    }\n",
              "\n",
              "    .dataframe tbody tr th {\n",
              "        vertical-align: top;\n",
              "    }\n",
              "\n",
              "    .dataframe thead th {\n",
              "        text-align: right;\n",
              "    }\n",
              "</style>\n",
              "<table border=\"1\" class=\"dataframe\">\n",
              "  <thead>\n",
              "    <tr style=\"text-align: right;\">\n",
              "      <th></th>\n",
              "      <th>city_code</th>\n",
              "      <th>customer_id</th>\n",
              "    </tr>\n",
              "  </thead>\n",
              "  <tbody>\n",
              "    <tr>\n",
              "      <th>0</th>\n",
              "      <td>4.0</td>\n",
              "      <td>4247</td>\n",
              "    </tr>\n",
              "    <tr>\n",
              "      <th>1</th>\n",
              "      <td>7.0</td>\n",
              "      <td>4218</td>\n",
              "    </tr>\n",
              "    <tr>\n",
              "      <th>2</th>\n",
              "      <td>5.0</td>\n",
              "      <td>4101</td>\n",
              "    </tr>\n",
              "    <tr>\n",
              "      <th>3</th>\n",
              "      <td>10.0</td>\n",
              "      <td>4025</td>\n",
              "    </tr>\n",
              "  </tbody>\n",
              "</table>\n",
              "</div>"
            ],
            "text/plain": [
              "   city_code  customer_id\n",
              "0        4.0         4247\n",
              "1        7.0         4218\n",
              "2        5.0         4101\n",
              "3       10.0         4025"
            ]
          },
          "metadata": {
            "tags": []
          },
          "execution_count": 74
        }
      ]
    },
    {
      "cell_type": "code",
      "metadata": {
        "colab": {
          "base_uri": "https://localhost:8080/",
          "height": 324
        },
        "id": "shBXzKfZM4wR",
        "outputId": "c91a65ad-60ac-4a9d-dbbc-6399038d28c7"
      },
      "source": [
        "# At Risk\n",
        "df_rfm[df_rfm['label']==\"At Risk\"].groupby(['city_code'])['customer_id'].count().sort_values(ascending=False)[:10].reset_index()"
      ],
      "execution_count": 75,
      "outputs": [
        {
          "output_type": "execute_result",
          "data": {
            "text/html": [
              "<div>\n",
              "<style scoped>\n",
              "    .dataframe tbody tr th:only-of-type {\n",
              "        vertical-align: middle;\n",
              "    }\n",
              "\n",
              "    .dataframe tbody tr th {\n",
              "        vertical-align: top;\n",
              "    }\n",
              "\n",
              "    .dataframe thead th {\n",
              "        text-align: right;\n",
              "    }\n",
              "</style>\n",
              "<table border=\"1\" class=\"dataframe\">\n",
              "  <thead>\n",
              "    <tr style=\"text-align: right;\">\n",
              "      <th></th>\n",
              "      <th>city_code</th>\n",
              "      <th>customer_id</th>\n",
              "    </tr>\n",
              "  </thead>\n",
              "  <tbody>\n",
              "    <tr>\n",
              "      <th>0</th>\n",
              "      <td>3.0</td>\n",
              "      <td>452</td>\n",
              "    </tr>\n",
              "    <tr>\n",
              "      <th>1</th>\n",
              "      <td>5.0</td>\n",
              "      <td>444</td>\n",
              "    </tr>\n",
              "    <tr>\n",
              "      <th>2</th>\n",
              "      <td>4.0</td>\n",
              "      <td>409</td>\n",
              "    </tr>\n",
              "    <tr>\n",
              "      <th>3</th>\n",
              "      <td>6.0</td>\n",
              "      <td>391</td>\n",
              "    </tr>\n",
              "    <tr>\n",
              "      <th>4</th>\n",
              "      <td>2.0</td>\n",
              "      <td>369</td>\n",
              "    </tr>\n",
              "    <tr>\n",
              "      <th>5</th>\n",
              "      <td>7.0</td>\n",
              "      <td>361</td>\n",
              "    </tr>\n",
              "    <tr>\n",
              "      <th>6</th>\n",
              "      <td>1.0</td>\n",
              "      <td>355</td>\n",
              "    </tr>\n",
              "    <tr>\n",
              "      <th>7</th>\n",
              "      <td>8.0</td>\n",
              "      <td>337</td>\n",
              "    </tr>\n",
              "    <tr>\n",
              "      <th>8</th>\n",
              "      <td>10.0</td>\n",
              "      <td>322</td>\n",
              "    </tr>\n",
              "  </tbody>\n",
              "</table>\n",
              "</div>"
            ],
            "text/plain": [
              "   city_code  customer_id\n",
              "0        3.0          452\n",
              "1        5.0          444\n",
              "2        4.0          409\n",
              "3        6.0          391\n",
              "4        2.0          369\n",
              "5        7.0          361\n",
              "6        1.0          355\n",
              "7        8.0          337\n",
              "8       10.0          322"
            ]
          },
          "metadata": {
            "tags": []
          },
          "execution_count": 75
        }
      ]
    },
    {
      "cell_type": "markdown",
      "metadata": {
        "id": "96FA2VSJM_iM"
      },
      "source": [
        "## 4. Produk sub category terbawah per cluster "
      ]
    },
    {
      "cell_type": "code",
      "metadata": {
        "colab": {
          "base_uri": "https://localhost:8080/",
          "height": 202
        },
        "id": "rl7dXl0QM9dd",
        "outputId": "420014e1-d8f9-4a8d-d99c-f6c4834ae0f1"
      },
      "source": [
        "# Champion\n",
        "bottom_champ = df_rfm[df_rfm['label']==\"Champion\"].groupby(['category_code','subcategory_code']).agg({'rating':'mean','quantity_y':'mean','rate':'mean'}).sort_values(by=['rating','quantity_y'], ascending=True)[:5].reset_index()[['category_code', 'subcategory_code']]\n",
        "bottom_champ"
      ],
      "execution_count": 76,
      "outputs": [
        {
          "output_type": "execute_result",
          "data": {
            "text/html": [
              "<div>\n",
              "<style scoped>\n",
              "    .dataframe tbody tr th:only-of-type {\n",
              "        vertical-align: middle;\n",
              "    }\n",
              "\n",
              "    .dataframe tbody tr th {\n",
              "        vertical-align: top;\n",
              "    }\n",
              "\n",
              "    .dataframe thead th {\n",
              "        text-align: right;\n",
              "    }\n",
              "</style>\n",
              "<table border=\"1\" class=\"dataframe\">\n",
              "  <thead>\n",
              "    <tr style=\"text-align: right;\">\n",
              "      <th></th>\n",
              "      <th>category_code</th>\n",
              "      <th>subcategory_code</th>\n",
              "    </tr>\n",
              "  </thead>\n",
              "  <tbody>\n",
              "    <tr>\n",
              "      <th>0</th>\n",
              "      <td>5</td>\n",
              "      <td>6</td>\n",
              "    </tr>\n",
              "    <tr>\n",
              "      <th>1</th>\n",
              "      <td>3</td>\n",
              "      <td>9</td>\n",
              "    </tr>\n",
              "    <tr>\n",
              "      <th>2</th>\n",
              "      <td>3</td>\n",
              "      <td>8</td>\n",
              "    </tr>\n",
              "    <tr>\n",
              "      <th>3</th>\n",
              "      <td>3</td>\n",
              "      <td>5</td>\n",
              "    </tr>\n",
              "    <tr>\n",
              "      <th>4</th>\n",
              "      <td>6</td>\n",
              "      <td>2</td>\n",
              "    </tr>\n",
              "  </tbody>\n",
              "</table>\n",
              "</div>"
            ],
            "text/plain": [
              "   category_code  subcategory_code\n",
              "0              5                 6\n",
              "1              3                 9\n",
              "2              3                 8\n",
              "3              3                 5\n",
              "4              6                 2"
            ]
          },
          "metadata": {
            "tags": []
          },
          "execution_count": 76
        }
      ]
    },
    {
      "cell_type": "code",
      "metadata": {
        "colab": {
          "base_uri": "https://localhost:8080/",
          "height": 202
        },
        "id": "cAjQlsLGN4Z-",
        "outputId": "2cd2261e-a0f9-4a6e-92af-fa674a553f31"
      },
      "source": [
        "# Potential Loyalist\n",
        "bottom_potential = df_rfm[df_rfm['label']==\"Potential Loyalist\"].groupby(['category_code','subcategory_code']).agg({'rating':'mean','quantity_y':'mean','rate':'mean'}).sort_values(by=['rating','quantity_y'], ascending=True)[:5].reset_index()[['category_code','subcategory_code']]\n",
        "bottom_potential"
      ],
      "execution_count": 77,
      "outputs": [
        {
          "output_type": "execute_result",
          "data": {
            "text/html": [
              "<div>\n",
              "<style scoped>\n",
              "    .dataframe tbody tr th:only-of-type {\n",
              "        vertical-align: middle;\n",
              "    }\n",
              "\n",
              "    .dataframe tbody tr th {\n",
              "        vertical-align: top;\n",
              "    }\n",
              "\n",
              "    .dataframe thead th {\n",
              "        text-align: right;\n",
              "    }\n",
              "</style>\n",
              "<table border=\"1\" class=\"dataframe\">\n",
              "  <thead>\n",
              "    <tr style=\"text-align: right;\">\n",
              "      <th></th>\n",
              "      <th>category_code</th>\n",
              "      <th>subcategory_code</th>\n",
              "    </tr>\n",
              "  </thead>\n",
              "  <tbody>\n",
              "    <tr>\n",
              "      <th>0</th>\n",
              "      <td>5</td>\n",
              "      <td>6</td>\n",
              "    </tr>\n",
              "    <tr>\n",
              "      <th>1</th>\n",
              "      <td>6</td>\n",
              "      <td>2</td>\n",
              "    </tr>\n",
              "    <tr>\n",
              "      <th>2</th>\n",
              "      <td>3</td>\n",
              "      <td>9</td>\n",
              "    </tr>\n",
              "    <tr>\n",
              "      <th>3</th>\n",
              "      <td>5</td>\n",
              "      <td>7</td>\n",
              "    </tr>\n",
              "    <tr>\n",
              "      <th>4</th>\n",
              "      <td>3</td>\n",
              "      <td>5</td>\n",
              "    </tr>\n",
              "  </tbody>\n",
              "</table>\n",
              "</div>"
            ],
            "text/plain": [
              "   category_code  subcategory_code\n",
              "0              5                 6\n",
              "1              6                 2\n",
              "2              3                 9\n",
              "3              5                 7\n",
              "4              3                 5"
            ]
          },
          "metadata": {
            "tags": []
          },
          "execution_count": 77
        }
      ]
    },
    {
      "cell_type": "code",
      "metadata": {
        "colab": {
          "base_uri": "https://localhost:8080/"
        },
        "id": "JFl57UOnOAMg",
        "outputId": "f2ffdaf5-7bb7-4cc7-ce64-0c58ef2e98fd"
      },
      "source": [
        "# Need Attention\n",
        "bottom_attention = df_rfm[df_rfm['label']==\"Need Attention\"].groupby(['subcategory_code']).agg({'rating':'mean','quantity_y':'mean','rate':'mean'}).sort_values(by=['rating','quantity_y'], ascending=True)[:5].reset_index()['subcategory_code']\n",
        "bottom_attention"
      ],
      "execution_count": 78,
      "outputs": [
        {
          "output_type": "execute_result",
          "data": {
            "text/plain": [
              "0    8\n",
              "1    9\n",
              "2    7\n",
              "3    5\n",
              "4    6\n",
              "Name: subcategory_code, dtype: int64"
            ]
          },
          "metadata": {
            "tags": []
          },
          "execution_count": 78
        }
      ]
    },
    {
      "cell_type": "code",
      "metadata": {
        "colab": {
          "base_uri": "https://localhost:8080/"
        },
        "id": "ng9rpPiEOGst",
        "outputId": "4f05f13d-ecd9-40bd-934b-030a39985d51"
      },
      "source": [
        "# At Risk\n",
        "bottom_risk = df_rfm[df_rfm['label']==\"At Risk\"].groupby(['subcategory_code']).agg({'rating':'mean','quantity_y':'mean','rate':'mean'}).sort_values(by=['rating','quantity_y'], ascending=True)[:5].reset_index()['subcategory_code']\n",
        "bottom_risk"
      ],
      "execution_count": 79,
      "outputs": [
        {
          "output_type": "execute_result",
          "data": {
            "text/plain": [
              "0    8\n",
              "1    5\n",
              "2    6\n",
              "3    1\n",
              "4    3\n",
              "Name: subcategory_code, dtype: int64"
            ]
          },
          "metadata": {
            "tags": []
          },
          "execution_count": 79
        }
      ]
    },
    {
      "cell_type": "code",
      "metadata": {
        "colab": {
          "base_uri": "https://localhost:8080/",
          "height": 305
        },
        "id": "c71GPdOLWuPY",
        "outputId": "f531b55a-c83c-43f8-9a7a-dccc5ad55a42"
      },
      "source": [
        "# Make a new column to get the age of customers\n",
        "max_date_df_rfm = df_rfm['transaction_date'].max()\n",
        "df_rfm['umur'] = (max_date_df_rfm  - df_rfm['birth']).astype('timedelta64[Y]').astype('int')\n",
        "df_rfm.head()"
      ],
      "execution_count": 80,
      "outputs": [
        {
          "output_type": "execute_result",
          "data": {
            "text/html": [
              "<div>\n",
              "<style scoped>\n",
              "    .dataframe tbody tr th:only-of-type {\n",
              "        vertical-align: middle;\n",
              "    }\n",
              "\n",
              "    .dataframe tbody tr th {\n",
              "        vertical-align: top;\n",
              "    }\n",
              "\n",
              "    .dataframe thead th {\n",
              "        text-align: right;\n",
              "    }\n",
              "</style>\n",
              "<table border=\"1\" class=\"dataframe\">\n",
              "  <thead>\n",
              "    <tr style=\"text-align: right;\">\n",
              "      <th></th>\n",
              "      <th>transaction_id</th>\n",
              "      <th>customer_id</th>\n",
              "      <th>transaction_date</th>\n",
              "      <th>subcategory_code</th>\n",
              "      <th>category_code</th>\n",
              "      <th>quantity_x</th>\n",
              "      <th>rate</th>\n",
              "      <th>tax</th>\n",
              "      <th>total_amount</th>\n",
              "      <th>store_type</th>\n",
              "      <th>birth</th>\n",
              "      <th>gender</th>\n",
              "      <th>city_code</th>\n",
              "      <th>transaction_date_max</th>\n",
              "      <th>frequency</th>\n",
              "      <th>monetary</th>\n",
              "      <th>recency</th>\n",
              "      <th>transaction_date_min</th>\n",
              "      <th>age</th>\n",
              "      <th>return</th>\n",
              "      <th>nrow</th>\n",
              "      <th>R</th>\n",
              "      <th>F</th>\n",
              "      <th>M</th>\n",
              "      <th>A</th>\n",
              "      <th>Re</th>\n",
              "      <th>rfm_score</th>\n",
              "      <th>rfm_score_str</th>\n",
              "      <th>label</th>\n",
              "      <th>month</th>\n",
              "      <th>quantity_y</th>\n",
              "      <th>NTrans</th>\n",
              "      <th>rating</th>\n",
              "      <th>umur</th>\n",
              "    </tr>\n",
              "  </thead>\n",
              "  <tbody>\n",
              "    <tr>\n",
              "      <th>0</th>\n",
              "      <td>80712190438</td>\n",
              "      <td>270351</td>\n",
              "      <td>2014-02-28</td>\n",
              "      <td>1</td>\n",
              "      <td>1</td>\n",
              "      <td>5</td>\n",
              "      <td>772</td>\n",
              "      <td>405.300</td>\n",
              "      <td>4265.300</td>\n",
              "      <td>e-Shop</td>\n",
              "      <td>1981-09-26</td>\n",
              "      <td>M</td>\n",
              "      <td>5.0</td>\n",
              "      <td>2014-02-28</td>\n",
              "      <td>5.0</td>\n",
              "      <td>14299.805</td>\n",
              "      <td>9.100803</td>\n",
              "      <td>2011-12-13</td>\n",
              "      <td>35.647549</td>\n",
              "      <td>15.146102</td>\n",
              "      <td>2.0</td>\n",
              "      <td>3.0</td>\n",
              "      <td>2.0</td>\n",
              "      <td>2.0</td>\n",
              "      <td>1.0</td>\n",
              "      <td>1.0</td>\n",
              "      <td>9.0</td>\n",
              "      <td>32211.0</td>\n",
              "      <td>Need Attention</td>\n",
              "      <td>2.0</td>\n",
              "      <td>40</td>\n",
              "      <td>8</td>\n",
              "      <td>4</td>\n",
              "      <td>33</td>\n",
              "    </tr>\n",
              "    <tr>\n",
              "      <th>1</th>\n",
              "      <td>80712190438</td>\n",
              "      <td>270351</td>\n",
              "      <td>2014-02-28</td>\n",
              "      <td>1</td>\n",
              "      <td>1</td>\n",
              "      <td>5</td>\n",
              "      <td>772</td>\n",
              "      <td>405.300</td>\n",
              "      <td>4265.300</td>\n",
              "      <td>e-Shop</td>\n",
              "      <td>1981-09-26</td>\n",
              "      <td>M</td>\n",
              "      <td>5.0</td>\n",
              "      <td>2014-02-28</td>\n",
              "      <td>5.0</td>\n",
              "      <td>14299.805</td>\n",
              "      <td>9.100803</td>\n",
              "      <td>2011-12-13</td>\n",
              "      <td>35.647549</td>\n",
              "      <td>5.979589</td>\n",
              "      <td>3.0</td>\n",
              "      <td>3.0</td>\n",
              "      <td>2.0</td>\n",
              "      <td>2.0</td>\n",
              "      <td>1.0</td>\n",
              "      <td>2.0</td>\n",
              "      <td>10.0</td>\n",
              "      <td>32212.0</td>\n",
              "      <td>Need Attention</td>\n",
              "      <td>2.0</td>\n",
              "      <td>40</td>\n",
              "      <td>8</td>\n",
              "      <td>4</td>\n",
              "      <td>33</td>\n",
              "    </tr>\n",
              "    <tr>\n",
              "      <th>2</th>\n",
              "      <td>80712190438</td>\n",
              "      <td>270351</td>\n",
              "      <td>2014-02-28</td>\n",
              "      <td>1</td>\n",
              "      <td>1</td>\n",
              "      <td>5</td>\n",
              "      <td>772</td>\n",
              "      <td>405.300</td>\n",
              "      <td>4265.300</td>\n",
              "      <td>e-Shop</td>\n",
              "      <td>1981-09-26</td>\n",
              "      <td>M</td>\n",
              "      <td>5.0</td>\n",
              "      <td>2014-02-28</td>\n",
              "      <td>5.0</td>\n",
              "      <td>14299.805</td>\n",
              "      <td>9.100803</td>\n",
              "      <td>2011-12-13</td>\n",
              "      <td>35.647549</td>\n",
              "      <td>5.158217</td>\n",
              "      <td>4.0</td>\n",
              "      <td>3.0</td>\n",
              "      <td>2.0</td>\n",
              "      <td>2.0</td>\n",
              "      <td>1.0</td>\n",
              "      <td>2.0</td>\n",
              "      <td>10.0</td>\n",
              "      <td>32212.0</td>\n",
              "      <td>Need Attention</td>\n",
              "      <td>2.0</td>\n",
              "      <td>40</td>\n",
              "      <td>8</td>\n",
              "      <td>4</td>\n",
              "      <td>33</td>\n",
              "    </tr>\n",
              "    <tr>\n",
              "      <th>3</th>\n",
              "      <td>80712190438</td>\n",
              "      <td>270351</td>\n",
              "      <td>2014-02-28</td>\n",
              "      <td>1</td>\n",
              "      <td>1</td>\n",
              "      <td>5</td>\n",
              "      <td>772</td>\n",
              "      <td>405.300</td>\n",
              "      <td>4265.300</td>\n",
              "      <td>e-Shop</td>\n",
              "      <td>1981-09-26</td>\n",
              "      <td>M</td>\n",
              "      <td>5.0</td>\n",
              "      <td>2014-02-28</td>\n",
              "      <td>5.0</td>\n",
              "      <td>14299.805</td>\n",
              "      <td>9.100803</td>\n",
              "      <td>2011-12-13</td>\n",
              "      <td>35.647549</td>\n",
              "      <td>0.262839</td>\n",
              "      <td>5.0</td>\n",
              "      <td>3.0</td>\n",
              "      <td>2.0</td>\n",
              "      <td>2.0</td>\n",
              "      <td>1.0</td>\n",
              "      <td>3.0</td>\n",
              "      <td>11.0</td>\n",
              "      <td>32213.0</td>\n",
              "      <td>Potential Loyalist</td>\n",
              "      <td>2.0</td>\n",
              "      <td>40</td>\n",
              "      <td>8</td>\n",
              "      <td>4</td>\n",
              "      <td>33</td>\n",
              "    </tr>\n",
              "    <tr>\n",
              "      <th>4</th>\n",
              "      <td>29258453508</td>\n",
              "      <td>270384</td>\n",
              "      <td>2014-02-27</td>\n",
              "      <td>5</td>\n",
              "      <td>3</td>\n",
              "      <td>5</td>\n",
              "      <td>1497</td>\n",
              "      <td>785.925</td>\n",
              "      <td>8270.925</td>\n",
              "      <td>e-Shop</td>\n",
              "      <td>1973-11-05</td>\n",
              "      <td>F</td>\n",
              "      <td>8.0</td>\n",
              "      <td>2014-02-27</td>\n",
              "      <td>10.0</td>\n",
              "      <td>28781.935</td>\n",
              "      <td>9.133658</td>\n",
              "      <td>2011-02-17</td>\n",
              "      <td>45.471160</td>\n",
              "      <td>0.427113</td>\n",
              "      <td>2.0</td>\n",
              "      <td>3.0</td>\n",
              "      <td>3.0</td>\n",
              "      <td>3.0</td>\n",
              "      <td>3.0</td>\n",
              "      <td>3.0</td>\n",
              "      <td>15.0</td>\n",
              "      <td>33333.0</td>\n",
              "      <td>Champion</td>\n",
              "      <td>2.0</td>\n",
              "      <td>80</td>\n",
              "      <td>16</td>\n",
              "      <td>4</td>\n",
              "      <td>41</td>\n",
              "    </tr>\n",
              "  </tbody>\n",
              "</table>\n",
              "</div>"
            ],
            "text/plain": [
              "   transaction_id  customer_id transaction_date  ...  NTrans  rating  umur\n",
              "0     80712190438       270351       2014-02-28  ...       8       4    33\n",
              "1     80712190438       270351       2014-02-28  ...       8       4    33\n",
              "2     80712190438       270351       2014-02-28  ...       8       4    33\n",
              "3     80712190438       270351       2014-02-28  ...       8       4    33\n",
              "4     29258453508       270384       2014-02-27  ...      16       4    41\n",
              "\n",
              "[5 rows x 34 columns]"
            ]
          },
          "metadata": {
            "tags": []
          },
          "execution_count": 80
        }
      ]
    },
    {
      "cell_type": "code",
      "metadata": {
        "colab": {
          "base_uri": "https://localhost:8080/",
          "height": 601
        },
        "id": "9IuIgx0Z0lN9",
        "outputId": "f50ba8bb-38a6-4e56-d4b7-af14683f6932"
      },
      "source": [
        "# Make a new variable to get unique customer_id values\n",
        "distict = df_rfm.drop_duplicates(subset=['customer_id'], keep='last')\n",
        "distict"
      ],
      "execution_count": 81,
      "outputs": [
        {
          "output_type": "execute_result",
          "data": {
            "text/html": [
              "<div>\n",
              "<style scoped>\n",
              "    .dataframe tbody tr th:only-of-type {\n",
              "        vertical-align: middle;\n",
              "    }\n",
              "\n",
              "    .dataframe tbody tr th {\n",
              "        vertical-align: top;\n",
              "    }\n",
              "\n",
              "    .dataframe thead th {\n",
              "        text-align: right;\n",
              "    }\n",
              "</style>\n",
              "<table border=\"1\" class=\"dataframe\">\n",
              "  <thead>\n",
              "    <tr style=\"text-align: right;\">\n",
              "      <th></th>\n",
              "      <th>transaction_id</th>\n",
              "      <th>customer_id</th>\n",
              "      <th>transaction_date</th>\n",
              "      <th>subcategory_code</th>\n",
              "      <th>category_code</th>\n",
              "      <th>quantity_x</th>\n",
              "      <th>rate</th>\n",
              "      <th>tax</th>\n",
              "      <th>total_amount</th>\n",
              "      <th>store_type</th>\n",
              "      <th>birth</th>\n",
              "      <th>gender</th>\n",
              "      <th>city_code</th>\n",
              "      <th>transaction_date_max</th>\n",
              "      <th>frequency</th>\n",
              "      <th>monetary</th>\n",
              "      <th>recency</th>\n",
              "      <th>transaction_date_min</th>\n",
              "      <th>age</th>\n",
              "      <th>return</th>\n",
              "      <th>nrow</th>\n",
              "      <th>R</th>\n",
              "      <th>F</th>\n",
              "      <th>M</th>\n",
              "      <th>A</th>\n",
              "      <th>Re</th>\n",
              "      <th>rfm_score</th>\n",
              "      <th>rfm_score_str</th>\n",
              "      <th>label</th>\n",
              "      <th>month</th>\n",
              "      <th>quantity_y</th>\n",
              "      <th>NTrans</th>\n",
              "      <th>rating</th>\n",
              "      <th>umur</th>\n",
              "    </tr>\n",
              "  </thead>\n",
              "  <tbody>\n",
              "    <tr>\n",
              "      <th>1440</th>\n",
              "      <td>73384846911</td>\n",
              "      <td>273877</td>\n",
              "      <td>2014-03-02</td>\n",
              "      <td>10</td>\n",
              "      <td>3</td>\n",
              "      <td>3</td>\n",
              "      <td>97</td>\n",
              "      <td>30.555</td>\n",
              "      <td>321.555</td>\n",
              "      <td>Flagship store</td>\n",
              "      <td>1977-12-01</td>\n",
              "      <td>M</td>\n",
              "      <td>5.0</td>\n",
              "      <td>2014-04-02</td>\n",
              "      <td>2.0</td>\n",
              "      <td>643.110</td>\n",
              "      <td>8.016592</td>\n",
              "      <td>2014-03-02</td>\n",
              "      <td>9.035093</td>\n",
              "      <td>1.018501</td>\n",
              "      <td>2.0</td>\n",
              "      <td>3.0</td>\n",
              "      <td>1.0</td>\n",
              "      <td>1.0</td>\n",
              "      <td>1.0</td>\n",
              "      <td>3.0</td>\n",
              "      <td>9.0</td>\n",
              "      <td>31113.0</td>\n",
              "      <td>Need Attention</td>\n",
              "      <td>12.0</td>\n",
              "      <td>6</td>\n",
              "      <td>2</td>\n",
              "      <td>1</td>\n",
              "      <td>37</td>\n",
              "    </tr>\n",
              "    <tr>\n",
              "      <th>1786</th>\n",
              "      <td>7338933735</td>\n",
              "      <td>271474</td>\n",
              "      <td>2014-01-29</td>\n",
              "      <td>6</td>\n",
              "      <td>5</td>\n",
              "      <td>4</td>\n",
              "      <td>173</td>\n",
              "      <td>72.660</td>\n",
              "      <td>764.660</td>\n",
              "      <td>TeleShop</td>\n",
              "      <td>1974-02-12</td>\n",
              "      <td>M</td>\n",
              "      <td>8.0</td>\n",
              "      <td>2014-02-02</td>\n",
              "      <td>2.0</td>\n",
              "      <td>1529.320</td>\n",
              "      <td>9.955030</td>\n",
              "      <td>2014-01-29</td>\n",
              "      <td>10.086449</td>\n",
              "      <td>0.131420</td>\n",
              "      <td>2.0</td>\n",
              "      <td>3.0</td>\n",
              "      <td>1.0</td>\n",
              "      <td>1.0</td>\n",
              "      <td>1.0</td>\n",
              "      <td>3.0</td>\n",
              "      <td>9.0</td>\n",
              "      <td>31113.0</td>\n",
              "      <td>Need Attention</td>\n",
              "      <td>11.0</td>\n",
              "      <td>8</td>\n",
              "      <td>2</td>\n",
              "      <td>2</td>\n",
              "      <td>40</td>\n",
              "    </tr>\n",
              "    <tr>\n",
              "      <th>2127</th>\n",
              "      <td>38807835117</td>\n",
              "      <td>269786</td>\n",
              "      <td>2014-01-26</td>\n",
              "      <td>7</td>\n",
              "      <td>5</td>\n",
              "      <td>5</td>\n",
              "      <td>245</td>\n",
              "      <td>128.625</td>\n",
              "      <td>1353.625</td>\n",
              "      <td>Flagship store</td>\n",
              "      <td>1975-10-29</td>\n",
              "      <td>F</td>\n",
              "      <td>9.0</td>\n",
              "      <td>2014-03-02</td>\n",
              "      <td>2.0</td>\n",
              "      <td>2707.250</td>\n",
              "      <td>9.035093</td>\n",
              "      <td>2014-01-26</td>\n",
              "      <td>10.185014</td>\n",
              "      <td>1.149921</td>\n",
              "      <td>2.0</td>\n",
              "      <td>3.0</td>\n",
              "      <td>1.0</td>\n",
              "      <td>1.0</td>\n",
              "      <td>1.0</td>\n",
              "      <td>3.0</td>\n",
              "      <td>9.0</td>\n",
              "      <td>31113.0</td>\n",
              "      <td>Need Attention</td>\n",
              "      <td>8.0</td>\n",
              "      <td>10</td>\n",
              "      <td>2</td>\n",
              "      <td>2</td>\n",
              "      <td>39</td>\n",
              "    </tr>\n",
              "    <tr>\n",
              "      <th>2985</th>\n",
              "      <td>12512192994</td>\n",
              "      <td>268020</td>\n",
              "      <td>2014-01-17</td>\n",
              "      <td>11</td>\n",
              "      <td>6</td>\n",
              "      <td>3</td>\n",
              "      <td>558</td>\n",
              "      <td>175.770</td>\n",
              "      <td>1849.770</td>\n",
              "      <td>Flagship store</td>\n",
              "      <td>1985-07-22</td>\n",
              "      <td>F</td>\n",
              "      <td>7.0</td>\n",
              "      <td>2014-01-22</td>\n",
              "      <td>2.0</td>\n",
              "      <td>3699.540</td>\n",
              "      <td>10.316434</td>\n",
              "      <td>2014-01-17</td>\n",
              "      <td>10.480708</td>\n",
              "      <td>0.164274</td>\n",
              "      <td>2.0</td>\n",
              "      <td>3.0</td>\n",
              "      <td>1.0</td>\n",
              "      <td>1.0</td>\n",
              "      <td>1.0</td>\n",
              "      <td>3.0</td>\n",
              "      <td>9.0</td>\n",
              "      <td>31113.0</td>\n",
              "      <td>Need Attention</td>\n",
              "      <td>9.0</td>\n",
              "      <td>6</td>\n",
              "      <td>2</td>\n",
              "      <td>1</td>\n",
              "      <td>29</td>\n",
              "    </tr>\n",
              "    <tr>\n",
              "      <th>3283</th>\n",
              "      <td>10870253111</td>\n",
              "      <td>270265</td>\n",
              "      <td>2014-01-14</td>\n",
              "      <td>1</td>\n",
              "      <td>1</td>\n",
              "      <td>2</td>\n",
              "      <td>308</td>\n",
              "      <td>64.680</td>\n",
              "      <td>680.680</td>\n",
              "      <td>TeleShop</td>\n",
              "      <td>1988-02-22</td>\n",
              "      <td>F</td>\n",
              "      <td>5.0</td>\n",
              "      <td>2014-01-19</td>\n",
              "      <td>2.0</td>\n",
              "      <td>1361.360</td>\n",
              "      <td>10.414998</td>\n",
              "      <td>2014-01-14</td>\n",
              "      <td>10.579273</td>\n",
              "      <td>0.164274</td>\n",
              "      <td>2.0</td>\n",
              "      <td>3.0</td>\n",
              "      <td>1.0</td>\n",
              "      <td>1.0</td>\n",
              "      <td>1.0</td>\n",
              "      <td>3.0</td>\n",
              "      <td>9.0</td>\n",
              "      <td>31113.0</td>\n",
              "      <td>Need Attention</td>\n",
              "      <td>9.0</td>\n",
              "      <td>4</td>\n",
              "      <td>2</td>\n",
              "      <td>1</td>\n",
              "      <td>26</td>\n",
              "    </tr>\n",
              "    <tr>\n",
              "      <th>...</th>\n",
              "      <td>...</td>\n",
              "      <td>...</td>\n",
              "      <td>...</td>\n",
              "      <td>...</td>\n",
              "      <td>...</td>\n",
              "      <td>...</td>\n",
              "      <td>...</td>\n",
              "      <td>...</td>\n",
              "      <td>...</td>\n",
              "      <td>...</td>\n",
              "      <td>...</td>\n",
              "      <td>...</td>\n",
              "      <td>...</td>\n",
              "      <td>...</td>\n",
              "      <td>...</td>\n",
              "      <td>...</td>\n",
              "      <td>...</td>\n",
              "      <td>...</td>\n",
              "      <td>...</td>\n",
              "      <td>...</td>\n",
              "      <td>...</td>\n",
              "      <td>...</td>\n",
              "      <td>...</td>\n",
              "      <td>...</td>\n",
              "      <td>...</td>\n",
              "      <td>...</td>\n",
              "      <td>...</td>\n",
              "      <td>...</td>\n",
              "      <td>...</td>\n",
              "      <td>...</td>\n",
              "      <td>...</td>\n",
              "      <td>...</td>\n",
              "      <td>...</td>\n",
              "      <td>...</td>\n",
              "    </tr>\n",
              "    <tr>\n",
              "      <th>97711</th>\n",
              "      <td>94340757522</td>\n",
              "      <td>274550</td>\n",
              "      <td>2011-01-25</td>\n",
              "      <td>12</td>\n",
              "      <td>5</td>\n",
              "      <td>1</td>\n",
              "      <td>1264</td>\n",
              "      <td>132.720</td>\n",
              "      <td>1396.720</td>\n",
              "      <td>e-Shop</td>\n",
              "      <td>1972-02-21</td>\n",
              "      <td>M</td>\n",
              "      <td>7.0</td>\n",
              "      <td>2013-05-01</td>\n",
              "      <td>5.0</td>\n",
              "      <td>6290.765</td>\n",
              "      <td>19.055833</td>\n",
              "      <td>2011-01-25</td>\n",
              "      <td>46.226822</td>\n",
              "      <td>6.406702</td>\n",
              "      <td>5.0</td>\n",
              "      <td>1.0</td>\n",
              "      <td>2.0</td>\n",
              "      <td>1.0</td>\n",
              "      <td>3.0</td>\n",
              "      <td>2.0</td>\n",
              "      <td>9.0</td>\n",
              "      <td>12132.0</td>\n",
              "      <td>Need Attention</td>\n",
              "      <td>NaN</td>\n",
              "      <td>4</td>\n",
              "      <td>4</td>\n",
              "      <td>1</td>\n",
              "      <td>42</td>\n",
              "    </tr>\n",
              "    <tr>\n",
              "      <th>97712</th>\n",
              "      <td>89780862956</td>\n",
              "      <td>270022</td>\n",
              "      <td>2011-01-25</td>\n",
              "      <td>4</td>\n",
              "      <td>1</td>\n",
              "      <td>1</td>\n",
              "      <td>677</td>\n",
              "      <td>71.085</td>\n",
              "      <td>748.085</td>\n",
              "      <td>e-Shop</td>\n",
              "      <td>1984-04-27</td>\n",
              "      <td>M</td>\n",
              "      <td>9.0</td>\n",
              "      <td>2012-01-12</td>\n",
              "      <td>2.0</td>\n",
              "      <td>2975.765</td>\n",
              "      <td>34.661903</td>\n",
              "      <td>2011-01-25</td>\n",
              "      <td>46.226822</td>\n",
              "      <td>11.564919</td>\n",
              "      <td>2.0</td>\n",
              "      <td>1.0</td>\n",
              "      <td>1.0</td>\n",
              "      <td>1.0</td>\n",
              "      <td>3.0</td>\n",
              "      <td>1.0</td>\n",
              "      <td>7.0</td>\n",
              "      <td>11131.0</td>\n",
              "      <td>Need Attention</td>\n",
              "      <td>NaN</td>\n",
              "      <td>1</td>\n",
              "      <td>1</td>\n",
              "      <td>1</td>\n",
              "      <td>30</td>\n",
              "    </tr>\n",
              "    <tr>\n",
              "      <th>97716</th>\n",
              "      <td>85115299378</td>\n",
              "      <td>271020</td>\n",
              "      <td>2011-01-25</td>\n",
              "      <td>2</td>\n",
              "      <td>6</td>\n",
              "      <td>4</td>\n",
              "      <td>1052</td>\n",
              "      <td>441.840</td>\n",
              "      <td>4649.840</td>\n",
              "      <td>MBR</td>\n",
              "      <td>1976-06-20</td>\n",
              "      <td>M</td>\n",
              "      <td>8.0</td>\n",
              "      <td>2013-08-17</td>\n",
              "      <td>5.0</td>\n",
              "      <td>12236.770</td>\n",
              "      <td>15.507505</td>\n",
              "      <td>2011-01-25</td>\n",
              "      <td>46.226822</td>\n",
              "      <td>2.464116</td>\n",
              "      <td>5.0</td>\n",
              "      <td>2.0</td>\n",
              "      <td>2.0</td>\n",
              "      <td>2.0</td>\n",
              "      <td>3.0</td>\n",
              "      <td>2.0</td>\n",
              "      <td>11.0</td>\n",
              "      <td>22232.0</td>\n",
              "      <td>Potential Loyalist</td>\n",
              "      <td>NaN</td>\n",
              "      <td>16</td>\n",
              "      <td>4</td>\n",
              "      <td>3</td>\n",
              "      <td>38</td>\n",
              "    </tr>\n",
              "    <tr>\n",
              "      <th>97720</th>\n",
              "      <td>72870271171</td>\n",
              "      <td>270911</td>\n",
              "      <td>2011-01-25</td>\n",
              "      <td>11</td>\n",
              "      <td>5</td>\n",
              "      <td>3</td>\n",
              "      <td>1142</td>\n",
              "      <td>359.730</td>\n",
              "      <td>3785.730</td>\n",
              "      <td>TeleShop</td>\n",
              "      <td>1970-05-22</td>\n",
              "      <td>M</td>\n",
              "      <td>2.0</td>\n",
              "      <td>2012-10-04</td>\n",
              "      <td>5.0</td>\n",
              "      <td>19842.485</td>\n",
              "      <td>25.922504</td>\n",
              "      <td>2011-01-25</td>\n",
              "      <td>46.226822</td>\n",
              "      <td>2.924085</td>\n",
              "      <td>5.0</td>\n",
              "      <td>1.0</td>\n",
              "      <td>2.0</td>\n",
              "      <td>3.0</td>\n",
              "      <td>3.0</td>\n",
              "      <td>2.0</td>\n",
              "      <td>11.0</td>\n",
              "      <td>12332.0</td>\n",
              "      <td>Potential Loyalist</td>\n",
              "      <td>NaN</td>\n",
              "      <td>24</td>\n",
              "      <td>8</td>\n",
              "      <td>3</td>\n",
              "      <td>44</td>\n",
              "    </tr>\n",
              "    <tr>\n",
              "      <th>97727</th>\n",
              "      <td>77960931771</td>\n",
              "      <td>271961</td>\n",
              "      <td>2011-01-25</td>\n",
              "      <td>11</td>\n",
              "      <td>5</td>\n",
              "      <td>1</td>\n",
              "      <td>447</td>\n",
              "      <td>46.935</td>\n",
              "      <td>493.935</td>\n",
              "      <td>TeleShop</td>\n",
              "      <td>1982-01-15</td>\n",
              "      <td>M</td>\n",
              "      <td>1.0</td>\n",
              "      <td>2013-12-13</td>\n",
              "      <td>8.0</td>\n",
              "      <td>16186.040</td>\n",
              "      <td>11.630629</td>\n",
              "      <td>2011-01-25</td>\n",
              "      <td>46.226822</td>\n",
              "      <td>6.669541</td>\n",
              "      <td>8.0</td>\n",
              "      <td>3.0</td>\n",
              "      <td>3.0</td>\n",
              "      <td>2.0</td>\n",
              "      <td>3.0</td>\n",
              "      <td>2.0</td>\n",
              "      <td>13.0</td>\n",
              "      <td>33232.0</td>\n",
              "      <td>Champion</td>\n",
              "      <td>NaN</td>\n",
              "      <td>7</td>\n",
              "      <td>7</td>\n",
              "      <td>2</td>\n",
              "      <td>32</td>\n",
              "    </tr>\n",
              "  </tbody>\n",
              "</table>\n",
              "<p>5037 rows × 34 columns</p>\n",
              "</div>"
            ],
            "text/plain": [
              "       transaction_id  customer_id transaction_date  ...  NTrans  rating  umur\n",
              "1440      73384846911       273877       2014-03-02  ...       2       1    37\n",
              "1786       7338933735       271474       2014-01-29  ...       2       2    40\n",
              "2127      38807835117       269786       2014-01-26  ...       2       2    39\n",
              "2985      12512192994       268020       2014-01-17  ...       2       1    29\n",
              "3283      10870253111       270265       2014-01-14  ...       2       1    26\n",
              "...               ...          ...              ...  ...     ...     ...   ...\n",
              "97711     94340757522       274550       2011-01-25  ...       4       1    42\n",
              "97712     89780862956       270022       2011-01-25  ...       1       1    30\n",
              "97716     85115299378       271020       2011-01-25  ...       4       3    38\n",
              "97720     72870271171       270911       2011-01-25  ...       8       3    44\n",
              "97727     77960931771       271961       2011-01-25  ...       7       2    32\n",
              "\n",
              "[5037 rows x 34 columns]"
            ]
          },
          "metadata": {
            "tags": []
          },
          "execution_count": 81
        }
      ]
    },
    {
      "cell_type": "code",
      "metadata": {
        "colab": {
          "base_uri": "https://localhost:8080/",
          "height": 255
        },
        "id": "ezG1VfgmVGrK",
        "outputId": "19ea4d2f-88d0-4e7e-9f50-366d4ae6116e"
      },
      "source": [
        "# Calculate descriptive statistics to know the characteristic of each segment\n",
        "pd.pivot_table(df_rfm, values = ['umur', 'total_amount', 'frequency', 'monetary', 'recency', 'age', 'rfm_score'],\n",
        "               index = \"label\", aggfunc = [np.mean, np.max, np.min, np.median]).reset_index()"
      ],
      "execution_count": 82,
      "outputs": [
        {
          "output_type": "execute_result",
          "data": {
            "text/html": [
              "<div>\n",
              "<style scoped>\n",
              "    .dataframe tbody tr th:only-of-type {\n",
              "        vertical-align: middle;\n",
              "    }\n",
              "\n",
              "    .dataframe tbody tr th {\n",
              "        vertical-align: top;\n",
              "    }\n",
              "\n",
              "    .dataframe thead tr th {\n",
              "        text-align: left;\n",
              "    }\n",
              "</style>\n",
              "<table border=\"1\" class=\"dataframe\">\n",
              "  <thead>\n",
              "    <tr>\n",
              "      <th></th>\n",
              "      <th>label</th>\n",
              "      <th colspan=\"7\" halign=\"left\">mean</th>\n",
              "      <th colspan=\"7\" halign=\"left\">amax</th>\n",
              "      <th colspan=\"7\" halign=\"left\">amin</th>\n",
              "      <th colspan=\"7\" halign=\"left\">median</th>\n",
              "    </tr>\n",
              "    <tr>\n",
              "      <th></th>\n",
              "      <th></th>\n",
              "      <th>age</th>\n",
              "      <th>frequency</th>\n",
              "      <th>monetary</th>\n",
              "      <th>recency</th>\n",
              "      <th>rfm_score</th>\n",
              "      <th>total_amount</th>\n",
              "      <th>umur</th>\n",
              "      <th>age</th>\n",
              "      <th>frequency</th>\n",
              "      <th>monetary</th>\n",
              "      <th>recency</th>\n",
              "      <th>rfm_score</th>\n",
              "      <th>total_amount</th>\n",
              "      <th>umur</th>\n",
              "      <th>age</th>\n",
              "      <th>frequency</th>\n",
              "      <th>monetary</th>\n",
              "      <th>recency</th>\n",
              "      <th>rfm_score</th>\n",
              "      <th>total_amount</th>\n",
              "      <th>umur</th>\n",
              "      <th>age</th>\n",
              "      <th>frequency</th>\n",
              "      <th>monetary</th>\n",
              "      <th>recency</th>\n",
              "      <th>rfm_score</th>\n",
              "      <th>total_amount</th>\n",
              "      <th>umur</th>\n",
              "    </tr>\n",
              "  </thead>\n",
              "  <tbody>\n",
              "    <tr>\n",
              "      <th>0</th>\n",
              "      <td>At Risk</td>\n",
              "      <td>35.285970</td>\n",
              "      <td>3.174565</td>\n",
              "      <td>6635.510503</td>\n",
              "      <td>20.156379</td>\n",
              "      <td>5.806426</td>\n",
              "      <td>2147.987163</td>\n",
              "      <td>32.569746</td>\n",
              "      <td>43.762706</td>\n",
              "      <td>6.0</td>\n",
              "      <td>16834.675</td>\n",
              "      <td>35.844679</td>\n",
              "      <td>6.0</td>\n",
              "      <td>8265.400</td>\n",
              "      <td>44</td>\n",
              "      <td>20.008624</td>\n",
              "      <td>2.0</td>\n",
              "      <td>269.620</td>\n",
              "      <td>12.156307</td>\n",
              "      <td>5.0</td>\n",
              "      <td>80.665</td>\n",
              "      <td>21</td>\n",
              "      <td>35.778969</td>\n",
              "      <td>3.0</td>\n",
              "      <td>6445.465</td>\n",
              "      <td>19.581511</td>\n",
              "      <td>6.0</td>\n",
              "      <td>1607.775</td>\n",
              "      <td>32</td>\n",
              "    </tr>\n",
              "    <tr>\n",
              "      <th>1</th>\n",
              "      <td>Champion</td>\n",
              "      <td>43.765553</td>\n",
              "      <td>8.608896</td>\n",
              "      <td>24053.311051</td>\n",
              "      <td>11.302022</td>\n",
              "      <td>13.566702</td>\n",
              "      <td>2818.225845</td>\n",
              "      <td>32.985046</td>\n",
              "      <td>46.982484</td>\n",
              "      <td>13.0</td>\n",
              "      <td>53772.615</td>\n",
              "      <td>33.676256</td>\n",
              "      <td>15.0</td>\n",
              "      <td>8287.500</td>\n",
              "      <td>44</td>\n",
              "      <td>25.495390</td>\n",
              "      <td>4.0</td>\n",
              "      <td>7453.225</td>\n",
              "      <td>0.000000</td>\n",
              "      <td>13.0</td>\n",
              "      <td>83.980</td>\n",
              "      <td>21</td>\n",
              "      <td>44.814062</td>\n",
              "      <td>8.0</td>\n",
              "      <td>22603.880</td>\n",
              "      <td>11.334935</td>\n",
              "      <td>13.0</td>\n",
              "      <td>2375.750</td>\n",
              "      <td>33</td>\n",
              "    </tr>\n",
              "    <tr>\n",
              "      <th>2</th>\n",
              "      <td>Need Attention</td>\n",
              "      <td>38.610209</td>\n",
              "      <td>4.884062</td>\n",
              "      <td>11852.015383</td>\n",
              "      <td>16.813496</td>\n",
              "      <td>8.787958</td>\n",
              "      <td>2470.065812</td>\n",
              "      <td>32.905297</td>\n",
              "      <td>46.982484</td>\n",
              "      <td>11.0</td>\n",
              "      <td>39433.030</td>\n",
              "      <td>45.372595</td>\n",
              "      <td>10.0</td>\n",
              "      <td>8287.500</td>\n",
              "      <td>44</td>\n",
              "      <td>9.035093</td>\n",
              "      <td>2.0</td>\n",
              "      <td>601.120</td>\n",
              "      <td>0.000000</td>\n",
              "      <td>7.0</td>\n",
              "      <td>77.350</td>\n",
              "      <td>21</td>\n",
              "      <td>40.082959</td>\n",
              "      <td>5.0</td>\n",
              "      <td>11247.795</td>\n",
              "      <td>15.573215</td>\n",
              "      <td>9.0</td>\n",
              "      <td>1907.230</td>\n",
              "      <td>33</td>\n",
              "    </tr>\n",
              "    <tr>\n",
              "      <th>3</th>\n",
              "      <td>Potential Loyalist</td>\n",
              "      <td>40.996239</td>\n",
              "      <td>6.978691</td>\n",
              "      <td>18668.445870</td>\n",
              "      <td>13.844477</td>\n",
              "      <td>11.496919</td>\n",
              "      <td>2731.427336</td>\n",
              "      <td>32.948941</td>\n",
              "      <td>46.982484</td>\n",
              "      <td>13.0</td>\n",
              "      <td>48425.520</td>\n",
              "      <td>40.937186</td>\n",
              "      <td>12.0</td>\n",
              "      <td>8281.975</td>\n",
              "      <td>44</td>\n",
              "      <td>15.211811</td>\n",
              "      <td>3.0</td>\n",
              "      <td>2718.300</td>\n",
              "      <td>0.000000</td>\n",
              "      <td>11.0</td>\n",
              "      <td>77.350</td>\n",
              "      <td>21</td>\n",
              "      <td>42.349946</td>\n",
              "      <td>7.0</td>\n",
              "      <td>17687.735</td>\n",
              "      <td>13.240518</td>\n",
              "      <td>11.0</td>\n",
              "      <td>2243.150</td>\n",
              "      <td>33</td>\n",
              "    </tr>\n",
              "  </tbody>\n",
              "</table>\n",
              "</div>"
            ],
            "text/plain": [
              "                label       mean            ...    median                  \n",
              "                             age frequency  ... rfm_score total_amount umur\n",
              "0             At Risk  35.285970  3.174565  ...       6.0     1607.775   32\n",
              "1            Champion  43.765553  8.608896  ...      13.0     2375.750   33\n",
              "2      Need Attention  38.610209  4.884062  ...       9.0     1907.230   33\n",
              "3  Potential Loyalist  40.996239  6.978691  ...      11.0     2243.150   33\n",
              "\n",
              "[4 rows x 29 columns]"
            ]
          },
          "metadata": {
            "tags": []
          },
          "execution_count": 82
        }
      ]
    },
    {
      "cell_type": "code",
      "metadata": {
        "colab": {
          "base_uri": "https://localhost:8080/",
          "height": 542
        },
        "id": "eRMmL4gjs1eZ",
        "outputId": "fb91365a-28e9-4539-8889-8fb35ffa292f"
      },
      "source": [
        "# Visualize the proportion of segment \n",
        "count = distict['label'].value_counts()\n",
        "px.pie(distict, values=count, names = count.index, title='Proportion of Segment', color_discrete_sequence = px.colors.sequential.RdBu)"
      ],
      "execution_count": 83,
      "outputs": [
        {
          "output_type": "display_data",
          "data": {
            "text/html": [
              "<html>\n",
              "<head><meta charset=\"utf-8\" /></head>\n",
              "<body>\n",
              "    <div>\n",
              "            <script src=\"https://cdnjs.cloudflare.com/ajax/libs/mathjax/2.7.5/MathJax.js?config=TeX-AMS-MML_SVG\"></script><script type=\"text/javascript\">if (window.MathJax) {MathJax.Hub.Config({SVG: {font: \"STIX-Web\"}});}</script>\n",
              "                <script type=\"text/javascript\">window.PlotlyConfig = {MathJaxConfig: 'local'};</script>\n",
              "        <script src=\"https://cdn.plot.ly/plotly-latest.min.js\"></script>    \n",
              "            <div id=\"36e9b6a6-688e-4b85-9b73-8bb22d71fcd9\" class=\"plotly-graph-div\" style=\"height:525px; width:100%;\"></div>\n",
              "            <script type=\"text/javascript\">\n",
              "                \n",
              "                    window.PLOTLYENV=window.PLOTLYENV || {};\n",
              "                    \n",
              "                if (document.getElementById(\"36e9b6a6-688e-4b85-9b73-8bb22d71fcd9\")) {\n",
              "                    Plotly.newPlot(\n",
              "                        '36e9b6a6-688e-4b85-9b73-8bb22d71fcd9',\n",
              "                        [{\"domain\": {\"x\": [0.0, 1.0], \"y\": [0.0, 1.0]}, \"hoverlabel\": {\"namelength\": 0}, \"hovertemplate\": \"label=%{label}<br>value=%{value}\", \"labels\": [\"Need Attention\", \"Potential Loyalist\", \"At Risk\", \"Champion\"], \"legendgroup\": \"\", \"name\": \"\", \"showlegend\": true, \"type\": \"pie\", \"values\": [3028, 874, 755, 380]}],\n",
              "                        {\"legend\": {\"tracegroupgap\": 0}, \"piecolorway\": [\"rgb(103,0,31)\", \"rgb(178,24,43)\", \"rgb(214,96,77)\", \"rgb(244,165,130)\", \"rgb(253,219,199)\", \"rgb(247,247,247)\", \"rgb(209,229,240)\", \"rgb(146,197,222)\", \"rgb(67,147,195)\", \"rgb(33,102,172)\", \"rgb(5,48,97)\"], \"template\": {\"data\": {\"bar\": [{\"error_x\": {\"color\": \"#2a3f5f\"}, \"error_y\": {\"color\": \"#2a3f5f\"}, \"marker\": {\"line\": {\"color\": \"#E5ECF6\", \"width\": 0.5}}, \"type\": \"bar\"}], \"barpolar\": [{\"marker\": {\"line\": {\"color\": \"#E5ECF6\", \"width\": 0.5}}, \"type\": \"barpolar\"}], \"carpet\": [{\"aaxis\": {\"endlinecolor\": \"#2a3f5f\", \"gridcolor\": \"white\", \"linecolor\": \"white\", \"minorgridcolor\": \"white\", \"startlinecolor\": \"#2a3f5f\"}, \"baxis\": {\"endlinecolor\": \"#2a3f5f\", \"gridcolor\": \"white\", \"linecolor\": \"white\", \"minorgridcolor\": \"white\", \"startlinecolor\": \"#2a3f5f\"}, \"type\": \"carpet\"}], \"choropleth\": [{\"colorbar\": {\"outlinewidth\": 0, \"ticks\": \"\"}, \"type\": \"choropleth\"}], \"contour\": [{\"colorbar\": {\"outlinewidth\": 0, \"ticks\": \"\"}, \"colorscale\": [[0.0, \"#0d0887\"], [0.1111111111111111, \"#46039f\"], [0.2222222222222222, \"#7201a8\"], [0.3333333333333333, \"#9c179e\"], [0.4444444444444444, \"#bd3786\"], [0.5555555555555556, \"#d8576b\"], [0.6666666666666666, \"#ed7953\"], [0.7777777777777778, \"#fb9f3a\"], [0.8888888888888888, \"#fdca26\"], [1.0, \"#f0f921\"]], \"type\": \"contour\"}], \"contourcarpet\": [{\"colorbar\": {\"outlinewidth\": 0, \"ticks\": \"\"}, \"type\": \"contourcarpet\"}], \"heatmap\": [{\"colorbar\": {\"outlinewidth\": 0, \"ticks\": \"\"}, \"colorscale\": [[0.0, \"#0d0887\"], [0.1111111111111111, \"#46039f\"], [0.2222222222222222, \"#7201a8\"], [0.3333333333333333, \"#9c179e\"], [0.4444444444444444, \"#bd3786\"], [0.5555555555555556, \"#d8576b\"], [0.6666666666666666, \"#ed7953\"], [0.7777777777777778, \"#fb9f3a\"], [0.8888888888888888, \"#fdca26\"], [1.0, \"#f0f921\"]], \"type\": \"heatmap\"}], \"heatmapgl\": [{\"colorbar\": {\"outlinewidth\": 0, \"ticks\": \"\"}, \"colorscale\": [[0.0, \"#0d0887\"], [0.1111111111111111, \"#46039f\"], [0.2222222222222222, \"#7201a8\"], [0.3333333333333333, \"#9c179e\"], [0.4444444444444444, \"#bd3786\"], [0.5555555555555556, \"#d8576b\"], [0.6666666666666666, \"#ed7953\"], [0.7777777777777778, \"#fb9f3a\"], [0.8888888888888888, \"#fdca26\"], [1.0, \"#f0f921\"]], \"type\": \"heatmapgl\"}], \"histogram\": [{\"marker\": {\"colorbar\": {\"outlinewidth\": 0, \"ticks\": \"\"}}, \"type\": \"histogram\"}], \"histogram2d\": [{\"colorbar\": {\"outlinewidth\": 0, \"ticks\": \"\"}, \"colorscale\": [[0.0, \"#0d0887\"], [0.1111111111111111, \"#46039f\"], [0.2222222222222222, \"#7201a8\"], [0.3333333333333333, \"#9c179e\"], [0.4444444444444444, \"#bd3786\"], [0.5555555555555556, \"#d8576b\"], [0.6666666666666666, \"#ed7953\"], [0.7777777777777778, \"#fb9f3a\"], [0.8888888888888888, \"#fdca26\"], [1.0, \"#f0f921\"]], \"type\": \"histogram2d\"}], \"histogram2dcontour\": [{\"colorbar\": {\"outlinewidth\": 0, \"ticks\": \"\"}, \"colorscale\": [[0.0, \"#0d0887\"], [0.1111111111111111, \"#46039f\"], [0.2222222222222222, \"#7201a8\"], [0.3333333333333333, \"#9c179e\"], [0.4444444444444444, \"#bd3786\"], [0.5555555555555556, \"#d8576b\"], [0.6666666666666666, \"#ed7953\"], [0.7777777777777778, \"#fb9f3a\"], [0.8888888888888888, \"#fdca26\"], [1.0, \"#f0f921\"]], \"type\": \"histogram2dcontour\"}], \"mesh3d\": [{\"colorbar\": {\"outlinewidth\": 0, \"ticks\": \"\"}, \"type\": \"mesh3d\"}], \"parcoords\": [{\"line\": {\"colorbar\": {\"outlinewidth\": 0, \"ticks\": \"\"}}, \"type\": \"parcoords\"}], \"pie\": [{\"automargin\": true, \"type\": \"pie\"}], \"scatter\": [{\"marker\": {\"colorbar\": {\"outlinewidth\": 0, \"ticks\": \"\"}}, \"type\": \"scatter\"}], \"scatter3d\": [{\"line\": {\"colorbar\": {\"outlinewidth\": 0, \"ticks\": \"\"}}, \"marker\": {\"colorbar\": {\"outlinewidth\": 0, \"ticks\": \"\"}}, \"type\": \"scatter3d\"}], \"scattercarpet\": [{\"marker\": {\"colorbar\": {\"outlinewidth\": 0, \"ticks\": \"\"}}, \"type\": \"scattercarpet\"}], \"scattergeo\": [{\"marker\": {\"colorbar\": {\"outlinewidth\": 0, \"ticks\": \"\"}}, \"type\": \"scattergeo\"}], \"scattergl\": [{\"marker\": {\"colorbar\": {\"outlinewidth\": 0, \"ticks\": \"\"}}, \"type\": \"scattergl\"}], \"scattermapbox\": [{\"marker\": {\"colorbar\": {\"outlinewidth\": 0, \"ticks\": \"\"}}, \"type\": \"scattermapbox\"}], \"scatterpolar\": [{\"marker\": {\"colorbar\": {\"outlinewidth\": 0, \"ticks\": \"\"}}, \"type\": \"scatterpolar\"}], \"scatterpolargl\": [{\"marker\": {\"colorbar\": {\"outlinewidth\": 0, \"ticks\": \"\"}}, \"type\": \"scatterpolargl\"}], \"scatterternary\": [{\"marker\": {\"colorbar\": {\"outlinewidth\": 0, \"ticks\": \"\"}}, \"type\": \"scatterternary\"}], \"surface\": [{\"colorbar\": {\"outlinewidth\": 0, \"ticks\": \"\"}, \"colorscale\": [[0.0, \"#0d0887\"], [0.1111111111111111, \"#46039f\"], [0.2222222222222222, \"#7201a8\"], [0.3333333333333333, \"#9c179e\"], [0.4444444444444444, \"#bd3786\"], [0.5555555555555556, \"#d8576b\"], [0.6666666666666666, \"#ed7953\"], [0.7777777777777778, \"#fb9f3a\"], [0.8888888888888888, \"#fdca26\"], [1.0, \"#f0f921\"]], \"type\": \"surface\"}], \"table\": [{\"cells\": {\"fill\": {\"color\": \"#EBF0F8\"}, \"line\": {\"color\": \"white\"}}, \"header\": {\"fill\": {\"color\": \"#C8D4E3\"}, \"line\": {\"color\": \"white\"}}, \"type\": \"table\"}]}, \"layout\": {\"annotationdefaults\": {\"arrowcolor\": \"#2a3f5f\", \"arrowhead\": 0, \"arrowwidth\": 1}, \"coloraxis\": {\"colorbar\": {\"outlinewidth\": 0, \"ticks\": \"\"}}, \"colorscale\": {\"diverging\": [[0, \"#8e0152\"], [0.1, \"#c51b7d\"], [0.2, \"#de77ae\"], [0.3, \"#f1b6da\"], [0.4, \"#fde0ef\"], [0.5, \"#f7f7f7\"], [0.6, \"#e6f5d0\"], [0.7, \"#b8e186\"], [0.8, \"#7fbc41\"], [0.9, \"#4d9221\"], [1, \"#276419\"]], \"sequential\": [[0.0, \"#0d0887\"], [0.1111111111111111, \"#46039f\"], [0.2222222222222222, \"#7201a8\"], [0.3333333333333333, \"#9c179e\"], [0.4444444444444444, \"#bd3786\"], [0.5555555555555556, \"#d8576b\"], [0.6666666666666666, \"#ed7953\"], [0.7777777777777778, \"#fb9f3a\"], [0.8888888888888888, \"#fdca26\"], [1.0, \"#f0f921\"]], \"sequentialminus\": [[0.0, \"#0d0887\"], [0.1111111111111111, \"#46039f\"], [0.2222222222222222, \"#7201a8\"], [0.3333333333333333, \"#9c179e\"], [0.4444444444444444, \"#bd3786\"], [0.5555555555555556, \"#d8576b\"], [0.6666666666666666, \"#ed7953\"], [0.7777777777777778, \"#fb9f3a\"], [0.8888888888888888, \"#fdca26\"], [1.0, \"#f0f921\"]]}, \"colorway\": [\"#636efa\", \"#EF553B\", \"#00cc96\", \"#ab63fa\", \"#FFA15A\", \"#19d3f3\", \"#FF6692\", \"#B6E880\", \"#FF97FF\", \"#FECB52\"], \"font\": {\"color\": \"#2a3f5f\"}, \"geo\": {\"bgcolor\": \"white\", \"lakecolor\": \"white\", \"landcolor\": \"#E5ECF6\", \"showlakes\": true, \"showland\": true, \"subunitcolor\": \"white\"}, \"hoverlabel\": {\"align\": \"left\"}, \"hovermode\": \"closest\", \"mapbox\": {\"style\": \"light\"}, \"paper_bgcolor\": \"white\", \"plot_bgcolor\": \"#E5ECF6\", \"polar\": {\"angularaxis\": {\"gridcolor\": \"white\", \"linecolor\": \"white\", \"ticks\": \"\"}, \"bgcolor\": \"#E5ECF6\", \"radialaxis\": {\"gridcolor\": \"white\", \"linecolor\": \"white\", \"ticks\": \"\"}}, \"scene\": {\"xaxis\": {\"backgroundcolor\": \"#E5ECF6\", \"gridcolor\": \"white\", \"gridwidth\": 2, \"linecolor\": \"white\", \"showbackground\": true, \"ticks\": \"\", \"zerolinecolor\": \"white\"}, \"yaxis\": {\"backgroundcolor\": \"#E5ECF6\", \"gridcolor\": \"white\", \"gridwidth\": 2, \"linecolor\": \"white\", \"showbackground\": true, \"ticks\": \"\", \"zerolinecolor\": \"white\"}, \"zaxis\": {\"backgroundcolor\": \"#E5ECF6\", \"gridcolor\": \"white\", \"gridwidth\": 2, \"linecolor\": \"white\", \"showbackground\": true, \"ticks\": \"\", \"zerolinecolor\": \"white\"}}, \"shapedefaults\": {\"line\": {\"color\": \"#2a3f5f\"}}, \"ternary\": {\"aaxis\": {\"gridcolor\": \"white\", \"linecolor\": \"white\", \"ticks\": \"\"}, \"baxis\": {\"gridcolor\": \"white\", \"linecolor\": \"white\", \"ticks\": \"\"}, \"bgcolor\": \"#E5ECF6\", \"caxis\": {\"gridcolor\": \"white\", \"linecolor\": \"white\", \"ticks\": \"\"}}, \"title\": {\"x\": 0.05}, \"xaxis\": {\"automargin\": true, \"gridcolor\": \"white\", \"linecolor\": \"white\", \"ticks\": \"\", \"title\": {\"standoff\": 15}, \"zerolinecolor\": \"white\", \"zerolinewidth\": 2}, \"yaxis\": {\"automargin\": true, \"gridcolor\": \"white\", \"linecolor\": \"white\", \"ticks\": \"\", \"title\": {\"standoff\": 15}, \"zerolinecolor\": \"white\", \"zerolinewidth\": 2}}}, \"title\": {\"text\": \"Proportion of Segment\"}},\n",
              "                        {\"responsive\": true}\n",
              "                    ).then(function(){\n",
              "                            \n",
              "var gd = document.getElementById('36e9b6a6-688e-4b85-9b73-8bb22d71fcd9');\n",
              "var x = new MutationObserver(function (mutations, observer) {{\n",
              "        var display = window.getComputedStyle(gd).display;\n",
              "        if (!display || display === 'none') {{\n",
              "            console.log([gd, 'removed!']);\n",
              "            Plotly.purge(gd);\n",
              "            observer.disconnect();\n",
              "        }}\n",
              "}});\n",
              "\n",
              "// Listen for the removal of the full notebook cells\n",
              "var notebookContainer = gd.closest('#notebook-container');\n",
              "if (notebookContainer) {{\n",
              "    x.observe(notebookContainer, {childList: true});\n",
              "}}\n",
              "\n",
              "// Listen for the clearing of the current output cell\n",
              "var outputEl = gd.closest('.output');\n",
              "if (outputEl) {{\n",
              "    x.observe(outputEl, {childList: true});\n",
              "}}\n",
              "\n",
              "                        })\n",
              "                };\n",
              "                \n",
              "            </script>\n",
              "        </div>\n",
              "</body>\n",
              "</html>"
            ]
          },
          "metadata": {
            "tags": []
          }
        }
      ]
    },
    {
      "cell_type": "code",
      "metadata": {
        "id": "65iDBb07Zxew"
      },
      "source": [
        "# Save the data to drive\n",
        "df_rfm.to_csv('/content/drive/MyDrive/IYKRA/#8 Create Targeted Campaign with RFM and Promotion Recommendation/Practice Case/data clean.csv', index=False)"
      ],
      "execution_count": 84,
      "outputs": []
    }
  ]
}