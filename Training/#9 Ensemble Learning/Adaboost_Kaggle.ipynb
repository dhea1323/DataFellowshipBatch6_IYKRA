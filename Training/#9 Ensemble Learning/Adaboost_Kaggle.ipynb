{
  "nbformat": 4,
  "nbformat_minor": 0,
  "metadata": {
    "colab": {
      "name": "Adaboost_Kaggle.ipynb",
      "provenance": [],
      "collapsed_sections": [],
      "toc_visible": true
    },
    "kernelspec": {
      "name": "python3",
      "display_name": "Python 3"
    },
    "language_info": {
      "name": "python"
    }
  },
  "cells": [
    {
      "cell_type": "markdown",
      "metadata": {
        "id": "tI-myBZikCEQ"
      },
      "source": [
        "# Adaboost"
      ]
    },
    {
      "cell_type": "markdown",
      "metadata": {
        "id": "WGHO3W2BkJEF"
      },
      "source": [
        "## Create Model"
      ]
    },
    {
      "cell_type": "code",
      "metadata": {
        "id": "ri5NxJNFbIMR"
      },
      "source": [
        "# import library\n",
        "from numpy import mean\n",
        "from numpy import std\n",
        "import pandas as pd\n",
        "\n",
        "from sklearn.model_selection import cross_val_score\n",
        "from sklearn.model_selection import RepeatedKFold\n",
        "from sklearn.ensemble import AdaBoostRegressor"
      ],
      "execution_count": null,
      "outputs": []
    },
    {
      "cell_type": "code",
      "metadata": {
        "colab": {
          "base_uri": "https://localhost:8080/"
        },
        "id": "ypmG8zawbYtT",
        "outputId": "53deeb01-feca-44c7-9036-9f120bb9d158"
      },
      "source": [
        "# mount data\n",
        "from google.colab import drive\n",
        "drive.mount('/content/drive')"
      ],
      "execution_count": null,
      "outputs": [
        {
          "output_type": "stream",
          "text": [
            "Drive already mounted at /content/drive; to attempt to forcibly remount, call drive.mount(\"/content/drive\", force_remount=True).\n"
          ],
          "name": "stdout"
        }
      ]
    },
    {
      "cell_type": "code",
      "metadata": {
        "id": "1mdYs7pCbrvJ"
      },
      "source": [
        "# import data\n",
        "dataset=pd.read_csv('/content/drive/MyDrive/Colab Notebooks/Supervised Kaggle/Train.csv')"
      ],
      "execution_count": null,
      "outputs": []
    },
    {
      "cell_type": "code",
      "metadata": {
        "colab": {
          "base_uri": "https://localhost:8080/",
          "height": 224
        },
        "id": "IjYJu25rb5JT",
        "outputId": "5e7471ae-2f74-476d-8d20-225e0edfd014"
      },
      "source": [
        "# show data\n",
        "dataset.head()"
      ],
      "execution_count": null,
      "outputs": [
        {
          "output_type": "execute_result",
          "data": {
            "text/html": [
              "<div>\n",
              "<style scoped>\n",
              "    .dataframe tbody tr th:only-of-type {\n",
              "        vertical-align: middle;\n",
              "    }\n",
              "\n",
              "    .dataframe tbody tr th {\n",
              "        vertical-align: top;\n",
              "    }\n",
              "\n",
              "    .dataframe thead th {\n",
              "        text-align: right;\n",
              "    }\n",
              "</style>\n",
              "<table border=\"1\" class=\"dataframe\">\n",
              "  <thead>\n",
              "    <tr style=\"text-align: right;\">\n",
              "      <th></th>\n",
              "      <th>date</th>\n",
              "      <th>day</th>\n",
              "      <th>targeted_productivity</th>\n",
              "      <th>smv</th>\n",
              "      <th>wip</th>\n",
              "      <th>over_time</th>\n",
              "      <th>incentive</th>\n",
              "      <th>idle_time</th>\n",
              "      <th>idle_men</th>\n",
              "      <th>no_of_style_change</th>\n",
              "      <th>no_of_workers</th>\n",
              "      <th>actual_productivity</th>\n",
              "    </tr>\n",
              "  </thead>\n",
              "  <tbody>\n",
              "    <tr>\n",
              "      <th>0</th>\n",
              "      <td>1/1/2015</td>\n",
              "      <td>Thursday</td>\n",
              "      <td>0.65</td>\n",
              "      <td>23.69</td>\n",
              "      <td>861.0</td>\n",
              "      <td>7200</td>\n",
              "      <td>0</td>\n",
              "      <td>0.0</td>\n",
              "      <td>0</td>\n",
              "      <td>0</td>\n",
              "      <td>60.0</td>\n",
              "      <td>0.521180</td>\n",
              "    </tr>\n",
              "    <tr>\n",
              "      <th>1</th>\n",
              "      <td>1/3/2015</td>\n",
              "      <td>Saturday</td>\n",
              "      <td>0.70</td>\n",
              "      <td>23.69</td>\n",
              "      <td>544.0</td>\n",
              "      <td>13800</td>\n",
              "      <td>0</td>\n",
              "      <td>0.0</td>\n",
              "      <td>0</td>\n",
              "      <td>0</td>\n",
              "      <td>60.0</td>\n",
              "      <td>0.700134</td>\n",
              "    </tr>\n",
              "    <tr>\n",
              "      <th>2</th>\n",
              "      <td>1/4/2015</td>\n",
              "      <td>Sunday</td>\n",
              "      <td>0.80</td>\n",
              "      <td>28.08</td>\n",
              "      <td>878.0</td>\n",
              "      <td>4260</td>\n",
              "      <td>50</td>\n",
              "      <td>0.0</td>\n",
              "      <td>0</td>\n",
              "      <td>0</td>\n",
              "      <td>55.5</td>\n",
              "      <td>0.800598</td>\n",
              "    </tr>\n",
              "    <tr>\n",
              "      <th>3</th>\n",
              "      <td>1/5/2015</td>\n",
              "      <td>Monday</td>\n",
              "      <td>0.80</td>\n",
              "      <td>28.08</td>\n",
              "      <td>759.0</td>\n",
              "      <td>6900</td>\n",
              "      <td>50</td>\n",
              "      <td>0.0</td>\n",
              "      <td>0</td>\n",
              "      <td>0</td>\n",
              "      <td>57.5</td>\n",
              "      <td>0.800077</td>\n",
              "    </tr>\n",
              "    <tr>\n",
              "      <th>4</th>\n",
              "      <td>1/6/2015</td>\n",
              "      <td>Tuesday</td>\n",
              "      <td>0.80</td>\n",
              "      <td>28.08</td>\n",
              "      <td>925.0</td>\n",
              "      <td>10350</td>\n",
              "      <td>50</td>\n",
              "      <td>0.0</td>\n",
              "      <td>0</td>\n",
              "      <td>0</td>\n",
              "      <td>57.5</td>\n",
              "      <td>0.800594</td>\n",
              "    </tr>\n",
              "  </tbody>\n",
              "</table>\n",
              "</div>"
            ],
            "text/plain": [
              "       date       day  ...  no_of_workers  actual_productivity\n",
              "0  1/1/2015  Thursday  ...           60.0             0.521180\n",
              "1  1/3/2015  Saturday  ...           60.0             0.700134\n",
              "2  1/4/2015    Sunday  ...           55.5             0.800598\n",
              "3  1/5/2015    Monday  ...           57.5             0.800077\n",
              "4  1/6/2015   Tuesday  ...           57.5             0.800594\n",
              "\n",
              "[5 rows x 12 columns]"
            ]
          },
          "metadata": {
            "tags": []
          },
          "execution_count": 13
        }
      ]
    },
    {
      "cell_type": "code",
      "metadata": {
        "id": "I7h7YFFzbSk6"
      },
      "source": [
        "# define dataset X and y\n",
        "X, y = dataset.iloc[:,2:11], dataset.iloc[:,11] "
      ],
      "execution_count": null,
      "outputs": []
    },
    {
      "cell_type": "code",
      "metadata": {
        "colab": {
          "base_uri": "https://localhost:8080/",
          "height": 204
        },
        "id": "jnoxvaePdJMl",
        "outputId": "5310c0b6-7023-4c3f-8f3a-b3171bb60887"
      },
      "source": [
        "# show predictor variable\n",
        "X.head()"
      ],
      "execution_count": null,
      "outputs": [
        {
          "output_type": "execute_result",
          "data": {
            "text/html": [
              "<div>\n",
              "<style scoped>\n",
              "    .dataframe tbody tr th:only-of-type {\n",
              "        vertical-align: middle;\n",
              "    }\n",
              "\n",
              "    .dataframe tbody tr th {\n",
              "        vertical-align: top;\n",
              "    }\n",
              "\n",
              "    .dataframe thead th {\n",
              "        text-align: right;\n",
              "    }\n",
              "</style>\n",
              "<table border=\"1\" class=\"dataframe\">\n",
              "  <thead>\n",
              "    <tr style=\"text-align: right;\">\n",
              "      <th></th>\n",
              "      <th>targeted_productivity</th>\n",
              "      <th>smv</th>\n",
              "      <th>wip</th>\n",
              "      <th>over_time</th>\n",
              "      <th>incentive</th>\n",
              "      <th>idle_time</th>\n",
              "      <th>idle_men</th>\n",
              "      <th>no_of_style_change</th>\n",
              "      <th>no_of_workers</th>\n",
              "    </tr>\n",
              "  </thead>\n",
              "  <tbody>\n",
              "    <tr>\n",
              "      <th>0</th>\n",
              "      <td>0.65</td>\n",
              "      <td>23.69</td>\n",
              "      <td>861.0</td>\n",
              "      <td>7200</td>\n",
              "      <td>0</td>\n",
              "      <td>0.0</td>\n",
              "      <td>0</td>\n",
              "      <td>0</td>\n",
              "      <td>60.0</td>\n",
              "    </tr>\n",
              "    <tr>\n",
              "      <th>1</th>\n",
              "      <td>0.70</td>\n",
              "      <td>23.69</td>\n",
              "      <td>544.0</td>\n",
              "      <td>13800</td>\n",
              "      <td>0</td>\n",
              "      <td>0.0</td>\n",
              "      <td>0</td>\n",
              "      <td>0</td>\n",
              "      <td>60.0</td>\n",
              "    </tr>\n",
              "    <tr>\n",
              "      <th>2</th>\n",
              "      <td>0.80</td>\n",
              "      <td>28.08</td>\n",
              "      <td>878.0</td>\n",
              "      <td>4260</td>\n",
              "      <td>50</td>\n",
              "      <td>0.0</td>\n",
              "      <td>0</td>\n",
              "      <td>0</td>\n",
              "      <td>55.5</td>\n",
              "    </tr>\n",
              "    <tr>\n",
              "      <th>3</th>\n",
              "      <td>0.80</td>\n",
              "      <td>28.08</td>\n",
              "      <td>759.0</td>\n",
              "      <td>6900</td>\n",
              "      <td>50</td>\n",
              "      <td>0.0</td>\n",
              "      <td>0</td>\n",
              "      <td>0</td>\n",
              "      <td>57.5</td>\n",
              "    </tr>\n",
              "    <tr>\n",
              "      <th>4</th>\n",
              "      <td>0.80</td>\n",
              "      <td>28.08</td>\n",
              "      <td>925.0</td>\n",
              "      <td>10350</td>\n",
              "      <td>50</td>\n",
              "      <td>0.0</td>\n",
              "      <td>0</td>\n",
              "      <td>0</td>\n",
              "      <td>57.5</td>\n",
              "    </tr>\n",
              "  </tbody>\n",
              "</table>\n",
              "</div>"
            ],
            "text/plain": [
              "   targeted_productivity    smv  ...  no_of_style_change  no_of_workers\n",
              "0                   0.65  23.69  ...                   0           60.0\n",
              "1                   0.70  23.69  ...                   0           60.0\n",
              "2                   0.80  28.08  ...                   0           55.5\n",
              "3                   0.80  28.08  ...                   0           57.5\n",
              "4                   0.80  28.08  ...                   0           57.5\n",
              "\n",
              "[5 rows x 9 columns]"
            ]
          },
          "metadata": {
            "tags": []
          },
          "execution_count": 12
        }
      ]
    },
    {
      "cell_type": "code",
      "metadata": {
        "colab": {
          "base_uri": "https://localhost:8080/"
        },
        "id": "M9FS7vpddXIy",
        "outputId": "d40e2659-bbb9-4750-e4b8-7f4f2fa93d6d"
      },
      "source": [
        "# show response variable\n",
        "y.head()"
      ],
      "execution_count": null,
      "outputs": [
        {
          "output_type": "execute_result",
          "data": {
            "text/plain": [
              "0    0.521180\n",
              "1    0.700134\n",
              "2    0.800598\n",
              "3    0.800077\n",
              "4    0.800594\n",
              "Name: actual_productivity, dtype: float64"
            ]
          },
          "metadata": {
            "tags": []
          },
          "execution_count": 14
        }
      ]
    },
    {
      "cell_type": "code",
      "metadata": {
        "colab": {
          "base_uri": "https://localhost:8080/"
        },
        "id": "k20TPD6RdElK",
        "outputId": "ca004149-4117-4318-eddd-092fb46e0898"
      },
      "source": [
        "# data shape\n",
        "dataset.shape"
      ],
      "execution_count": null,
      "outputs": [
        {
          "output_type": "execute_result",
          "data": {
            "text/plain": [
              "(48, 12)"
            ]
          },
          "metadata": {
            "tags": []
          },
          "execution_count": 9
        }
      ]
    },
    {
      "cell_type": "code",
      "metadata": {
        "colab": {
          "base_uri": "https://localhost:8080/"
        },
        "id": "xytqb8sDbo9v",
        "outputId": "6b3db7ac-633e-41f9-fcd6-62cb06a8b1ce"
      },
      "source": [
        "# define the model\n",
        "model = AdaBoostRegressor()\n",
        "model.fit(X,y)"
      ],
      "execution_count": null,
      "outputs": [
        {
          "output_type": "execute_result",
          "data": {
            "text/plain": [
              "AdaBoostRegressor(base_estimator=None, learning_rate=1.0, loss='linear',\n",
              "                  n_estimators=50, random_state=None)"
            ]
          },
          "metadata": {
            "tags": []
          },
          "execution_count": 22
        }
      ]
    },
    {
      "cell_type": "code",
      "metadata": {
        "colab": {
          "base_uri": "https://localhost:8080/"
        },
        "id": "QtWdgkMTdxSa",
        "outputId": "2ec8acb8-afe9-4ad2-8d8f-73e0208b75c7"
      },
      "source": [
        "# predict data\n",
        "model.predict(X)"
      ],
      "execution_count": null,
      "outputs": [
        {
          "output_type": "execute_result",
          "data": {
            "text/plain": [
              "array([0.56303198, 0.66558761, 0.77712554, 0.79000324, 0.79373849,\n",
              "       0.79373849, 0.82255413, 0.80903357, 0.48437615, 0.35065747,\n",
              "       0.5159802 , 0.58866361, 0.62673913, 0.73775848, 0.73775848,\n",
              "       0.75028041, 0.75028041, 0.88778628, 0.85004978, 0.88613746,\n",
              "       0.88778628, 0.8084425 , 0.80043462, 0.78202126, 0.88027281,\n",
              "       0.88027281, 0.8084425 , 0.78202126, 0.80503977, 0.35067705,\n",
              "       0.5065658 , 0.58872743, 0.58872743, 0.74151547, 0.73037778,\n",
              "       0.70055727, 0.66558761, 0.69037707, 0.66558761, 0.69759159,\n",
              "       0.75028041, 0.79000324, 0.80037693, 0.80037693, 0.75510032,\n",
              "       0.79373849, 0.79373849, 0.49561751])"
            ]
          },
          "metadata": {
            "tags": []
          },
          "execution_count": 23
        }
      ]
    },
    {
      "cell_type": "code",
      "metadata": {
        "id": "H3KOnN0GfuOC"
      },
      "source": [
        "# create mape function\n",
        "import numpy as np\n",
        "\n",
        "def mean_absolute_percentage_error(y_true, y_pred): \n",
        "    y_true, y_pred = np.array(y_true), np.array(y_pred)\n",
        "    return np.mean(np.abs((y_true - y_pred) / y_true)) * 100"
      ],
      "execution_count": null,
      "outputs": []
    },
    {
      "cell_type": "code",
      "metadata": {
        "colab": {
          "base_uri": "https://localhost:8080/"
        },
        "id": "tuIY-yXQfFbN",
        "outputId": "af18e63e-344e-49b7-eb6a-ecf29e52e167"
      },
      "source": [
        "# calculate mape in training\n",
        "mean_absolute_percentage_error(y,model.predict(X))"
      ],
      "execution_count": null,
      "outputs": [
        {
          "output_type": "execute_result",
          "data": {
            "text/plain": [
              "2.7307175721664194"
            ]
          },
          "metadata": {
            "tags": []
          },
          "execution_count": 29
        }
      ]
    },
    {
      "cell_type": "markdown",
      "metadata": {
        "id": "eqt9zmagkOSr"
      },
      "source": [
        "## Predict in Test Data"
      ]
    },
    {
      "cell_type": "code",
      "metadata": {
        "id": "kBVTDu9lgLLq"
      },
      "source": [
        "# import test data\n",
        "test=pd.read_csv('/content/drive/MyDrive/Colab Notebooks/Supervised Kaggle/Test.csv')"
      ],
      "execution_count": null,
      "outputs": []
    },
    {
      "cell_type": "code",
      "metadata": {
        "id": "3LjTXwO8gQ9v"
      },
      "source": [
        "# define predictor variable in test\n",
        "X_test = test.iloc[:,2:11]"
      ],
      "execution_count": null,
      "outputs": []
    },
    {
      "cell_type": "code",
      "metadata": {
        "colab": {
          "base_uri": "https://localhost:8080/",
          "height": 204
        },
        "id": "mOYxe0SUgXqD",
        "outputId": "bb837059-0c0d-4592-fb31-b9f68f454cb6"
      },
      "source": [
        "# show predictor variable\n",
        "X_test.head()"
      ],
      "execution_count": null,
      "outputs": [
        {
          "output_type": "execute_result",
          "data": {
            "text/html": [
              "<div>\n",
              "<style scoped>\n",
              "    .dataframe tbody tr th:only-of-type {\n",
              "        vertical-align: middle;\n",
              "    }\n",
              "\n",
              "    .dataframe tbody tr th {\n",
              "        vertical-align: top;\n",
              "    }\n",
              "\n",
              "    .dataframe thead th {\n",
              "        text-align: right;\n",
              "    }\n",
              "</style>\n",
              "<table border=\"1\" class=\"dataframe\">\n",
              "  <thead>\n",
              "    <tr style=\"text-align: right;\">\n",
              "      <th></th>\n",
              "      <th>targeted_productivity</th>\n",
              "      <th>smv</th>\n",
              "      <th>wip</th>\n",
              "      <th>over_time</th>\n",
              "      <th>incentive</th>\n",
              "      <th>idle_time</th>\n",
              "      <th>idle_men</th>\n",
              "      <th>no_of_style_change</th>\n",
              "      <th>no_of_workers</th>\n",
              "    </tr>\n",
              "  </thead>\n",
              "  <tbody>\n",
              "    <tr>\n",
              "      <th>0</th>\n",
              "      <td>0.80</td>\n",
              "      <td>30.10</td>\n",
              "      <td>437.0</td>\n",
              "      <td>7080</td>\n",
              "      <td>32</td>\n",
              "      <td>0.0</td>\n",
              "      <td>0</td>\n",
              "      <td>2</td>\n",
              "      <td>59.0</td>\n",
              "    </tr>\n",
              "    <tr>\n",
              "      <th>1</th>\n",
              "      <td>0.50</td>\n",
              "      <td>26.66</td>\n",
              "      <td>556.0</td>\n",
              "      <td>6960</td>\n",
              "      <td>23</td>\n",
              "      <td>0.0</td>\n",
              "      <td>0</td>\n",
              "      <td>2</td>\n",
              "      <td>58.0</td>\n",
              "    </tr>\n",
              "    <tr>\n",
              "      <th>2</th>\n",
              "      <td>0.60</td>\n",
              "      <td>26.66</td>\n",
              "      <td>692.0</td>\n",
              "      <td>6840</td>\n",
              "      <td>23</td>\n",
              "      <td>0.0</td>\n",
              "      <td>0</td>\n",
              "      <td>0</td>\n",
              "      <td>57.0</td>\n",
              "    </tr>\n",
              "    <tr>\n",
              "      <th>3</th>\n",
              "      <td>0.65</td>\n",
              "      <td>26.66</td>\n",
              "      <td>832.0</td>\n",
              "      <td>6780</td>\n",
              "      <td>55</td>\n",
              "      <td>0.0</td>\n",
              "      <td>0</td>\n",
              "      <td>0</td>\n",
              "      <td>57.0</td>\n",
              "    </tr>\n",
              "    <tr>\n",
              "      <th>4</th>\n",
              "      <td>0.70</td>\n",
              "      <td>26.66</td>\n",
              "      <td>950.0</td>\n",
              "      <td>6960</td>\n",
              "      <td>50</td>\n",
              "      <td>0.0</td>\n",
              "      <td>0</td>\n",
              "      <td>0</td>\n",
              "      <td>58.0</td>\n",
              "    </tr>\n",
              "  </tbody>\n",
              "</table>\n",
              "</div>"
            ],
            "text/plain": [
              "   targeted_productivity    smv  ...  no_of_style_change  no_of_workers\n",
              "0                   0.80  30.10  ...                   2           59.0\n",
              "1                   0.50  26.66  ...                   2           58.0\n",
              "2                   0.60  26.66  ...                   0           57.0\n",
              "3                   0.65  26.66  ...                   0           57.0\n",
              "4                   0.70  26.66  ...                   0           58.0\n",
              "\n",
              "[5 rows x 9 columns]"
            ]
          },
          "metadata": {
            "tags": []
          },
          "execution_count": 35
        }
      ]
    },
    {
      "cell_type": "code",
      "metadata": {
        "colab": {
          "base_uri": "https://localhost:8080/"
        },
        "id": "cTSde3nsgaEL",
        "outputId": "233f7ee5-2682-442e-963b-1f98d0857ce0"
      },
      "source": [
        "# predict test data\n",
        "model.predict(X_test)"
      ],
      "execution_count": null,
      "outputs": [
        {
          "output_type": "execute_result",
          "data": {
            "text/plain": [
              "array([0.49561751, 0.53585199, 0.57181121, 0.7005417 , 0.74687099,\n",
              "       0.75028041, 0.74687099, 0.75028041, 0.79261108, 0.79373849,\n",
              "       0.79373849])"
            ]
          },
          "metadata": {
            "tags": []
          },
          "execution_count": 36
        }
      ]
    },
    {
      "cell_type": "code",
      "metadata": {
        "id": "0Roff5HxgojW"
      },
      "source": [
        "# save predict in test data\n",
        "df = pd.DataFrame(model.predict(X_test))  "
      ],
      "execution_count": null,
      "outputs": []
    },
    {
      "cell_type": "code",
      "metadata": {
        "colab": {
          "base_uri": "https://localhost:8080/",
          "height": 204
        },
        "id": "5jxIBPB5i0n6",
        "outputId": "4628ff6d-4ad7-428e-b5b6-c57e9039d152"
      },
      "source": [
        "# create dataset for kaggle submission\n",
        "hasil=pd.DataFrame()\n",
        "hasil['id']=[1,2,3,4,5,6,7,8,9,10,11]\n",
        "hasil['actual_productivity']=model.predict(X_test)\n",
        "hasil.head()"
      ],
      "execution_count": null,
      "outputs": [
        {
          "output_type": "execute_result",
          "data": {
            "text/html": [
              "<div>\n",
              "<style scoped>\n",
              "    .dataframe tbody tr th:only-of-type {\n",
              "        vertical-align: middle;\n",
              "    }\n",
              "\n",
              "    .dataframe tbody tr th {\n",
              "        vertical-align: top;\n",
              "    }\n",
              "\n",
              "    .dataframe thead th {\n",
              "        text-align: right;\n",
              "    }\n",
              "</style>\n",
              "<table border=\"1\" class=\"dataframe\">\n",
              "  <thead>\n",
              "    <tr style=\"text-align: right;\">\n",
              "      <th></th>\n",
              "      <th>id</th>\n",
              "      <th>actual_productivity</th>\n",
              "    </tr>\n",
              "  </thead>\n",
              "  <tbody>\n",
              "    <tr>\n",
              "      <th>0</th>\n",
              "      <td>1</td>\n",
              "      <td>0.495618</td>\n",
              "    </tr>\n",
              "    <tr>\n",
              "      <th>1</th>\n",
              "      <td>2</td>\n",
              "      <td>0.535852</td>\n",
              "    </tr>\n",
              "    <tr>\n",
              "      <th>2</th>\n",
              "      <td>3</td>\n",
              "      <td>0.571811</td>\n",
              "    </tr>\n",
              "    <tr>\n",
              "      <th>3</th>\n",
              "      <td>4</td>\n",
              "      <td>0.700542</td>\n",
              "    </tr>\n",
              "    <tr>\n",
              "      <th>4</th>\n",
              "      <td>5</td>\n",
              "      <td>0.746871</td>\n",
              "    </tr>\n",
              "  </tbody>\n",
              "</table>\n",
              "</div>"
            ],
            "text/plain": [
              "   id  actual_productivity\n",
              "0   1             0.495618\n",
              "1   2             0.535852\n",
              "2   3             0.571811\n",
              "3   4             0.700542\n",
              "4   5             0.746871"
            ]
          },
          "metadata": {
            "tags": []
          },
          "execution_count": 61
        }
      ]
    },
    {
      "cell_type": "code",
      "metadata": {
        "id": "RkoF9chTjToz"
      },
      "source": [
        "# save to csv\n",
        "hasil.to_csv('/content/drive/MyDrive/Colab Notebooks/Supervised Kaggle/submission.csv', index=False)"
      ],
      "execution_count": null,
      "outputs": []
    }
  ]
}