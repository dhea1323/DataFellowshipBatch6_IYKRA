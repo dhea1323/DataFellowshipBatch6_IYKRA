{
  "nbformat": 4,
  "nbformat_minor": 0,
  "metadata": {
    "kernelspec": {
      "language": "python",
      "display_name": "Python 3",
      "name": "python3"
    },
    "language_info": {
      "name": "python",
      "version": "3.7.10",
      "mimetype": "text/x-python",
      "codemirror_mode": {
        "name": "ipython",
        "version": 3
      },
      "pygments_lexer": "ipython3",
      "nbconvert_exporter": "python",
      "file_extension": ".py"
    },
    "colab": {
      "name": "Random Forest.ipynb",
      "provenance": []
    }
  },
  "cells": [
    {
      "cell_type": "code",
      "metadata": {
        "_uuid": "8f2839f25d086af736a60e9eeb907d3b93b6e0e5",
        "_cell_guid": "b1076dfc-b9ad-4769-8c92-a6c4dae69d19",
        "execution": {
          "iopub.status.busy": "2021-08-19T04:03:46.254888Z",
          "iopub.execute_input": "2021-08-19T04:03:46.255246Z",
          "iopub.status.idle": "2021-08-19T04:03:46.265227Z",
          "shell.execute_reply.started": "2021-08-19T04:03:46.255216Z",
          "shell.execute_reply": "2021-08-19T04:03:46.263914Z"
        },
        "trusted": true,
        "id": "pRmSy1M7HYiZ",
        "outputId": "b10b6fb2-b3b2-4c72-96bb-4cb18cfca621"
      },
      "source": [
        "# This Python 3 environment comes with many helpful analytics libraries installed\n",
        "# It is defined by the kaggle/python Docker image: https://github.com/kaggle/docker-python\n",
        "# For example, here's several helpful packages to load\n",
        "\n",
        "import numpy as np # linear algebra\n",
        "import pandas as pd # data processing, CSV file I/O (e.g. pd.read_csv)\n",
        "import numpy as np\n",
        "from sklearn.ensemble import RandomForestRegressor\n",
        "from sklearn.model_selection import train_test_split\n",
        "from sklearn.preprocessing import OneHotEncoder\n",
        "\n",
        "# Input data files are available in the read-only \"../input/\" directory\n",
        "# For example, running this (by clicking run or pressing Shift+Enter) will list all files under the input directory\n",
        "\n",
        "import os\n",
        "for dirname, _, filenames in os.walk('/kaggle/input'):\n",
        "    for filename in filenames:\n",
        "        print(os.path.join(dirname, filename))\n",
        "\n",
        "# You can write up to 20GB to the current directory (/kaggle/working/) that gets preserved as output when you create a version using \"Save & Run All\" \n",
        "# You can also write temporary files to /kaggle/temp/, but they won't be saved outside of the current session"
      ],
      "execution_count": null,
      "outputs": [
        {
          "name": "stdout",
          "text": "/kaggle/input/fellow-6/Train.csv\n/kaggle/input/fellow-6/Test.csv\n",
          "output_type": "stream"
        }
      ]
    },
    {
      "cell_type": "markdown",
      "metadata": {
        "id": "YL_RvGB5HYio"
      },
      "source": [
        "## Functions"
      ]
    },
    {
      "cell_type": "code",
      "metadata": {
        "execution": {
          "iopub.status.busy": "2021-08-19T04:03:46.267507Z",
          "iopub.execute_input": "2021-08-19T04:03:46.267928Z",
          "iopub.status.idle": "2021-08-19T04:03:46.279831Z",
          "shell.execute_reply.started": "2021-08-19T04:03:46.267884Z",
          "shell.execute_reply": "2021-08-19T04:03:46.278632Z"
        },
        "trusted": true,
        "id": "IYuqie1AHYir"
      },
      "source": [
        "def mean_absolute_percentage_error(y_true, y_pred): \n",
        "    y_true, y_pred = np.array(y_true), np.array(y_pred)\n",
        "    return np.mean(np.abs((y_true - y_pred) / y_true)) * 100"
      ],
      "execution_count": null,
      "outputs": []
    },
    {
      "cell_type": "markdown",
      "metadata": {
        "id": "7XIk0Q11HYiv"
      },
      "source": [
        "## Read Data"
      ]
    },
    {
      "cell_type": "code",
      "metadata": {
        "execution": {
          "iopub.status.busy": "2021-08-19T04:03:46.282061Z",
          "iopub.execute_input": "2021-08-19T04:03:46.282406Z",
          "iopub.status.idle": "2021-08-19T04:03:46.313561Z",
          "shell.execute_reply.started": "2021-08-19T04:03:46.282375Z",
          "shell.execute_reply": "2021-08-19T04:03:46.312516Z"
        },
        "trusted": true,
        "id": "3Pbef5mFHYiy",
        "outputId": "ab5b6b07-c54b-40ed-cefd-aa207c46968f"
      },
      "source": [
        "train_data = pd.read_csv(\"/kaggle/input/fellow-6/Train.csv\")\n",
        "train_data.head()"
      ],
      "execution_count": null,
      "outputs": [
        {
          "execution_count": 16,
          "output_type": "execute_result",
          "data": {
            "text/plain": "       date       day  targeted_productivity    smv    wip  over_time  \\\n0  1/1/2015  Thursday                   0.65  23.69  861.0       7200   \n1  1/3/2015  Saturday                   0.70  23.69  544.0      13800   \n2  1/4/2015    Sunday                   0.80  28.08  878.0       4260   \n3  1/5/2015    Monday                   0.80  28.08  759.0       6900   \n4  1/6/2015   Tuesday                   0.80  28.08  925.0      10350   \n\n   incentive  idle_time  idle_men  no_of_style_change  no_of_workers  \\\n0          0        0.0         0                   0           60.0   \n1          0        0.0         0                   0           60.0   \n2         50        0.0         0                   0           55.5   \n3         50        0.0         0                   0           57.5   \n4         50        0.0         0                   0           57.5   \n\n   actual_productivity  \n0             0.521180  \n1             0.700134  \n2             0.800598  \n3             0.800077  \n4             0.800594  ",
            "text/html": "<div>\n<style scoped>\n    .dataframe tbody tr th:only-of-type {\n        vertical-align: middle;\n    }\n\n    .dataframe tbody tr th {\n        vertical-align: top;\n    }\n\n    .dataframe thead th {\n        text-align: right;\n    }\n</style>\n<table border=\"1\" class=\"dataframe\">\n  <thead>\n    <tr style=\"text-align: right;\">\n      <th></th>\n      <th>date</th>\n      <th>day</th>\n      <th>targeted_productivity</th>\n      <th>smv</th>\n      <th>wip</th>\n      <th>over_time</th>\n      <th>incentive</th>\n      <th>idle_time</th>\n      <th>idle_men</th>\n      <th>no_of_style_change</th>\n      <th>no_of_workers</th>\n      <th>actual_productivity</th>\n    </tr>\n  </thead>\n  <tbody>\n    <tr>\n      <th>0</th>\n      <td>1/1/2015</td>\n      <td>Thursday</td>\n      <td>0.65</td>\n      <td>23.69</td>\n      <td>861.0</td>\n      <td>7200</td>\n      <td>0</td>\n      <td>0.0</td>\n      <td>0</td>\n      <td>0</td>\n      <td>60.0</td>\n      <td>0.521180</td>\n    </tr>\n    <tr>\n      <th>1</th>\n      <td>1/3/2015</td>\n      <td>Saturday</td>\n      <td>0.70</td>\n      <td>23.69</td>\n      <td>544.0</td>\n      <td>13800</td>\n      <td>0</td>\n      <td>0.0</td>\n      <td>0</td>\n      <td>0</td>\n      <td>60.0</td>\n      <td>0.700134</td>\n    </tr>\n    <tr>\n      <th>2</th>\n      <td>1/4/2015</td>\n      <td>Sunday</td>\n      <td>0.80</td>\n      <td>28.08</td>\n      <td>878.0</td>\n      <td>4260</td>\n      <td>50</td>\n      <td>0.0</td>\n      <td>0</td>\n      <td>0</td>\n      <td>55.5</td>\n      <td>0.800598</td>\n    </tr>\n    <tr>\n      <th>3</th>\n      <td>1/5/2015</td>\n      <td>Monday</td>\n      <td>0.80</td>\n      <td>28.08</td>\n      <td>759.0</td>\n      <td>6900</td>\n      <td>50</td>\n      <td>0.0</td>\n      <td>0</td>\n      <td>0</td>\n      <td>57.5</td>\n      <td>0.800077</td>\n    </tr>\n    <tr>\n      <th>4</th>\n      <td>1/6/2015</td>\n      <td>Tuesday</td>\n      <td>0.80</td>\n      <td>28.08</td>\n      <td>925.0</td>\n      <td>10350</td>\n      <td>50</td>\n      <td>0.0</td>\n      <td>0</td>\n      <td>0</td>\n      <td>57.5</td>\n      <td>0.800594</td>\n    </tr>\n  </tbody>\n</table>\n</div>"
          },
          "metadata": {}
        }
      ]
    },
    {
      "cell_type": "code",
      "metadata": {
        "execution": {
          "iopub.status.busy": "2021-08-19T04:03:46.315202Z",
          "iopub.execute_input": "2021-08-19T04:03:46.315522Z",
          "iopub.status.idle": "2021-08-19T04:03:46.338315Z",
          "shell.execute_reply.started": "2021-08-19T04:03:46.315486Z",
          "shell.execute_reply": "2021-08-19T04:03:46.337278Z"
        },
        "trusted": true,
        "id": "lW_9ZVZFHYi0",
        "outputId": "987112b8-2956-4475-c5fd-10acfd839b58"
      },
      "source": [
        "test_data = pd.read_csv(\"/kaggle/input/fellow-6/Test.csv\")\n",
        "test_data.head()"
      ],
      "execution_count": null,
      "outputs": [
        {
          "execution_count": 17,
          "output_type": "execute_result",
          "data": {
            "text/plain": "        date       day  targeted_productivity    smv    wip  over_time  \\\n0  2/26/2015  Thursday                   0.80  30.10  437.0       7080   \n1  2/28/2015  Saturday                   0.50  26.66  556.0       6960   \n2   3/1/2015    Sunday                   0.60  26.66  692.0       6840   \n3   3/2/2015    Monday                   0.65  26.66  832.0       6780   \n4   3/3/2015   Tuesday                   0.70  26.66  950.0       6960   \n\n   incentive  idle_time  idle_men  no_of_style_change  no_of_workers  \n0         32        0.0         0                   2           59.0  \n1         23        0.0         0                   2           58.0  \n2         23        0.0         0                   0           57.0  \n3         55        0.0         0                   0           57.0  \n4         50        0.0         0                   0           58.0  ",
            "text/html": "<div>\n<style scoped>\n    .dataframe tbody tr th:only-of-type {\n        vertical-align: middle;\n    }\n\n    .dataframe tbody tr th {\n        vertical-align: top;\n    }\n\n    .dataframe thead th {\n        text-align: right;\n    }\n</style>\n<table border=\"1\" class=\"dataframe\">\n  <thead>\n    <tr style=\"text-align: right;\">\n      <th></th>\n      <th>date</th>\n      <th>day</th>\n      <th>targeted_productivity</th>\n      <th>smv</th>\n      <th>wip</th>\n      <th>over_time</th>\n      <th>incentive</th>\n      <th>idle_time</th>\n      <th>idle_men</th>\n      <th>no_of_style_change</th>\n      <th>no_of_workers</th>\n    </tr>\n  </thead>\n  <tbody>\n    <tr>\n      <th>0</th>\n      <td>2/26/2015</td>\n      <td>Thursday</td>\n      <td>0.80</td>\n      <td>30.10</td>\n      <td>437.0</td>\n      <td>7080</td>\n      <td>32</td>\n      <td>0.0</td>\n      <td>0</td>\n      <td>2</td>\n      <td>59.0</td>\n    </tr>\n    <tr>\n      <th>1</th>\n      <td>2/28/2015</td>\n      <td>Saturday</td>\n      <td>0.50</td>\n      <td>26.66</td>\n      <td>556.0</td>\n      <td>6960</td>\n      <td>23</td>\n      <td>0.0</td>\n      <td>0</td>\n      <td>2</td>\n      <td>58.0</td>\n    </tr>\n    <tr>\n      <th>2</th>\n      <td>3/1/2015</td>\n      <td>Sunday</td>\n      <td>0.60</td>\n      <td>26.66</td>\n      <td>692.0</td>\n      <td>6840</td>\n      <td>23</td>\n      <td>0.0</td>\n      <td>0</td>\n      <td>0</td>\n      <td>57.0</td>\n    </tr>\n    <tr>\n      <th>3</th>\n      <td>3/2/2015</td>\n      <td>Monday</td>\n      <td>0.65</td>\n      <td>26.66</td>\n      <td>832.0</td>\n      <td>6780</td>\n      <td>55</td>\n      <td>0.0</td>\n      <td>0</td>\n      <td>0</td>\n      <td>57.0</td>\n    </tr>\n    <tr>\n      <th>4</th>\n      <td>3/3/2015</td>\n      <td>Tuesday</td>\n      <td>0.70</td>\n      <td>26.66</td>\n      <td>950.0</td>\n      <td>6960</td>\n      <td>50</td>\n      <td>0.0</td>\n      <td>0</td>\n      <td>0</td>\n      <td>58.0</td>\n    </tr>\n  </tbody>\n</table>\n</div>"
          },
          "metadata": {}
        }
      ]
    },
    {
      "cell_type": "markdown",
      "metadata": {
        "id": "qYeeeCBaHYi4"
      },
      "source": [
        "## Check Dataset"
      ]
    },
    {
      "cell_type": "code",
      "metadata": {
        "execution": {
          "iopub.status.busy": "2021-08-19T04:03:46.339701Z",
          "iopub.execute_input": "2021-08-19T04:03:46.339972Z",
          "iopub.status.idle": "2021-08-19T04:03:46.348091Z",
          "shell.execute_reply.started": "2021-08-19T04:03:46.339944Z",
          "shell.execute_reply": "2021-08-19T04:03:46.347046Z"
        },
        "trusted": true,
        "id": "IuHjZObWHYi8",
        "outputId": "17d6ca82-cebe-4300-f90b-08a9f72d245c"
      },
      "source": [
        "print(train_data.shape)\n",
        "\n",
        "# Number of missing values in each column of training data\n",
        "missing_val_count_by_column = (train_data.isnull().sum())\n",
        "print(missing_val_count_by_column[missing_val_count_by_column > 0])"
      ],
      "execution_count": null,
      "outputs": [
        {
          "name": "stdout",
          "text": "(48, 12)\nSeries([], dtype: int64)\n",
          "output_type": "stream"
        }
      ]
    },
    {
      "cell_type": "code",
      "metadata": {
        "execution": {
          "iopub.status.busy": "2021-08-19T04:03:46.349198Z",
          "iopub.execute_input": "2021-08-19T04:03:46.349593Z",
          "iopub.status.idle": "2021-08-19T04:03:46.364392Z",
          "shell.execute_reply.started": "2021-08-19T04:03:46.349548Z",
          "shell.execute_reply": "2021-08-19T04:03:46.363115Z"
        },
        "trusted": true,
        "id": "IIT-hM0AHYjA",
        "outputId": "35dc1e67-8fe7-45d0-9c48-b36042e35071"
      },
      "source": [
        "print(test_data.shape)\n",
        "\n",
        "# Number of missing values in each column of training data\n",
        "missing_val_count_by_column = (test_data.isnull().sum())\n",
        "print(missing_val_count_by_column[missing_val_count_by_column > 0])"
      ],
      "execution_count": null,
      "outputs": [
        {
          "name": "stdout",
          "text": "(11, 11)\nSeries([], dtype: int64)\n",
          "output_type": "stream"
        }
      ]
    },
    {
      "cell_type": "code",
      "metadata": {
        "execution": {
          "iopub.status.busy": "2021-08-19T04:03:46.365912Z",
          "iopub.execute_input": "2021-08-19T04:03:46.366237Z",
          "iopub.status.idle": "2021-08-19T04:03:46.377769Z",
          "shell.execute_reply.started": "2021-08-19T04:03:46.366204Z",
          "shell.execute_reply": "2021-08-19T04:03:46.376839Z"
        },
        "trusted": true,
        "id": "JXuzZqSVHYjH"
      },
      "source": [
        "train_d = train_data.drop(['date'], axis=1)"
      ],
      "execution_count": null,
      "outputs": []
    },
    {
      "cell_type": "code",
      "metadata": {
        "execution": {
          "iopub.status.busy": "2021-08-19T04:03:46.380224Z",
          "iopub.execute_input": "2021-08-19T04:03:46.380592Z",
          "iopub.status.idle": "2021-08-19T04:03:46.390028Z",
          "shell.execute_reply.started": "2021-08-19T04:03:46.380560Z",
          "shell.execute_reply": "2021-08-19T04:03:46.389222Z"
        },
        "trusted": true,
        "id": "afEBgrnUHYjK",
        "outputId": "bcc9a460-c27a-4713-b00f-c03df521ccac"
      },
      "source": [
        "# Get list of categorical variables\n",
        "s = (train_d.dtypes == 'object')\n",
        "train_object_cols = list(s[s].index)\n",
        "\n",
        "print(\"Categorical variables:\")\n",
        "print(train_object_cols)"
      ],
      "execution_count": null,
      "outputs": [
        {
          "name": "stdout",
          "text": "Categorical variables:\n['day']\n",
          "output_type": "stream"
        }
      ]
    },
    {
      "cell_type": "code",
      "metadata": {
        "execution": {
          "iopub.status.busy": "2021-08-19T04:03:46.391264Z",
          "iopub.execute_input": "2021-08-19T04:03:46.391582Z",
          "iopub.status.idle": "2021-08-19T04:03:46.411575Z",
          "shell.execute_reply.started": "2021-08-19T04:03:46.391547Z",
          "shell.execute_reply": "2021-08-19T04:03:46.410071Z"
        },
        "trusted": true,
        "id": "J-Epn0H9HYjM"
      },
      "source": [
        "# Apply one-hot encoder to each column with categorical data\n",
        "OH_encoder = OneHotEncoder(handle_unknown='ignore', sparse=False)\n",
        "OH_cols_train = pd.DataFrame(OH_encoder.fit_transform(train_d[train_object_cols]))\n",
        "\n",
        "# One-hot encoding removed index; put it back\n",
        "OH_cols_train.index = train_d.index\n",
        "\n",
        "# Remove categorical columns (will replace with one-hot encoding)\n",
        "num_X_train = train_d.drop(train_object_cols, axis=1)\n",
        "\n",
        "# Add one-hot encoded columns to numerical features\n",
        "OH_X_train = pd.concat([num_X_train, OH_cols_train], axis=1)"
      ],
      "execution_count": null,
      "outputs": []
    },
    {
      "cell_type": "code",
      "metadata": {
        "execution": {
          "iopub.status.busy": "2021-08-19T04:03:46.414344Z",
          "iopub.execute_input": "2021-08-19T04:03:46.414697Z",
          "iopub.status.idle": "2021-08-19T04:03:46.445775Z",
          "shell.execute_reply.started": "2021-08-19T04:03:46.414667Z",
          "shell.execute_reply": "2021-08-19T04:03:46.445013Z"
        },
        "trusted": true,
        "id": "NB25Yvn6HYjP",
        "outputId": "267c7741-c18f-4313-bc5f-c00a78a37dcc"
      },
      "source": [
        "OH_X_train.head()"
      ],
      "execution_count": null,
      "outputs": [
        {
          "execution_count": 23,
          "output_type": "execute_result",
          "data": {
            "text/plain": "   targeted_productivity    smv    wip  over_time  incentive  idle_time  \\\n0                   0.65  23.69  861.0       7200          0        0.0   \n1                   0.70  23.69  544.0      13800          0        0.0   \n2                   0.80  28.08  878.0       4260         50        0.0   \n3                   0.80  28.08  759.0       6900         50        0.0   \n4                   0.80  28.08  925.0      10350         50        0.0   \n\n   idle_men  no_of_style_change  no_of_workers  actual_productivity    0    1  \\\n0         0                   0           60.0             0.521180  0.0  0.0   \n1         0                   0           60.0             0.700134  0.0  1.0   \n2         0                   0           55.5             0.800598  0.0  0.0   \n3         0                   0           57.5             0.800077  1.0  0.0   \n4         0                   0           57.5             0.800594  0.0  0.0   \n\n     2    3    4    5  \n0  0.0  1.0  0.0  0.0  \n1  0.0  0.0  0.0  0.0  \n2  1.0  0.0  0.0  0.0  \n3  0.0  0.0  0.0  0.0  \n4  0.0  0.0  1.0  0.0  ",
            "text/html": "<div>\n<style scoped>\n    .dataframe tbody tr th:only-of-type {\n        vertical-align: middle;\n    }\n\n    .dataframe tbody tr th {\n        vertical-align: top;\n    }\n\n    .dataframe thead th {\n        text-align: right;\n    }\n</style>\n<table border=\"1\" class=\"dataframe\">\n  <thead>\n    <tr style=\"text-align: right;\">\n      <th></th>\n      <th>targeted_productivity</th>\n      <th>smv</th>\n      <th>wip</th>\n      <th>over_time</th>\n      <th>incentive</th>\n      <th>idle_time</th>\n      <th>idle_men</th>\n      <th>no_of_style_change</th>\n      <th>no_of_workers</th>\n      <th>actual_productivity</th>\n      <th>0</th>\n      <th>1</th>\n      <th>2</th>\n      <th>3</th>\n      <th>4</th>\n      <th>5</th>\n    </tr>\n  </thead>\n  <tbody>\n    <tr>\n      <th>0</th>\n      <td>0.65</td>\n      <td>23.69</td>\n      <td>861.0</td>\n      <td>7200</td>\n      <td>0</td>\n      <td>0.0</td>\n      <td>0</td>\n      <td>0</td>\n      <td>60.0</td>\n      <td>0.521180</td>\n      <td>0.0</td>\n      <td>0.0</td>\n      <td>0.0</td>\n      <td>1.0</td>\n      <td>0.0</td>\n      <td>0.0</td>\n    </tr>\n    <tr>\n      <th>1</th>\n      <td>0.70</td>\n      <td>23.69</td>\n      <td>544.0</td>\n      <td>13800</td>\n      <td>0</td>\n      <td>0.0</td>\n      <td>0</td>\n      <td>0</td>\n      <td>60.0</td>\n      <td>0.700134</td>\n      <td>0.0</td>\n      <td>1.0</td>\n      <td>0.0</td>\n      <td>0.0</td>\n      <td>0.0</td>\n      <td>0.0</td>\n    </tr>\n    <tr>\n      <th>2</th>\n      <td>0.80</td>\n      <td>28.08</td>\n      <td>878.0</td>\n      <td>4260</td>\n      <td>50</td>\n      <td>0.0</td>\n      <td>0</td>\n      <td>0</td>\n      <td>55.5</td>\n      <td>0.800598</td>\n      <td>0.0</td>\n      <td>0.0</td>\n      <td>1.0</td>\n      <td>0.0</td>\n      <td>0.0</td>\n      <td>0.0</td>\n    </tr>\n    <tr>\n      <th>3</th>\n      <td>0.80</td>\n      <td>28.08</td>\n      <td>759.0</td>\n      <td>6900</td>\n      <td>50</td>\n      <td>0.0</td>\n      <td>0</td>\n      <td>0</td>\n      <td>57.5</td>\n      <td>0.800077</td>\n      <td>1.0</td>\n      <td>0.0</td>\n      <td>0.0</td>\n      <td>0.0</td>\n      <td>0.0</td>\n      <td>0.0</td>\n    </tr>\n    <tr>\n      <th>4</th>\n      <td>0.80</td>\n      <td>28.08</td>\n      <td>925.0</td>\n      <td>10350</td>\n      <td>50</td>\n      <td>0.0</td>\n      <td>0</td>\n      <td>0</td>\n      <td>57.5</td>\n      <td>0.800594</td>\n      <td>0.0</td>\n      <td>0.0</td>\n      <td>0.0</td>\n      <td>0.0</td>\n      <td>1.0</td>\n      <td>0.0</td>\n    </tr>\n  </tbody>\n</table>\n</div>"
          },
          "metadata": {}
        }
      ]
    },
    {
      "cell_type": "markdown",
      "metadata": {
        "id": "mi9Xgwg1HYjS"
      },
      "source": [
        "## Slipt  Dataset"
      ]
    },
    {
      "cell_type": "code",
      "metadata": {
        "execution": {
          "iopub.status.busy": "2021-08-19T04:03:46.446805Z",
          "iopub.execute_input": "2021-08-19T04:03:46.447202Z",
          "iopub.status.idle": "2021-08-19T04:03:46.455295Z",
          "shell.execute_reply.started": "2021-08-19T04:03:46.447174Z",
          "shell.execute_reply": "2021-08-19T04:03:46.454425Z"
        },
        "trusted": true,
        "id": "k-4UdKLrHYjT"
      },
      "source": [
        "y = OH_X_train.actual_productivity\n",
        "# Create X \n",
        "features= OH_X_train.drop('actual_productivity', axis=1)\n",
        "\n",
        "X = features\n",
        "\n",
        "# Split into validation and training data\n",
        "X_train, X_val, y_train, y_val = train_test_split(X, y, random_state=42)"
      ],
      "execution_count": null,
      "outputs": []
    },
    {
      "cell_type": "markdown",
      "metadata": {
        "id": "8lUr7Lk_HYjV"
      },
      "source": [
        "## Training"
      ]
    },
    {
      "cell_type": "code",
      "metadata": {
        "execution": {
          "iopub.status.busy": "2021-08-19T04:03:46.456671Z",
          "iopub.execute_input": "2021-08-19T04:03:46.457057Z",
          "iopub.status.idle": "2021-08-19T04:03:46.654223Z",
          "shell.execute_reply.started": "2021-08-19T04:03:46.457018Z",
          "shell.execute_reply": "2021-08-19T04:03:46.652950Z"
        },
        "trusted": true,
        "id": "v8xsgfCPHYjW",
        "outputId": "02359c64-f6e3-4eff-9490-a93b2a84c41c"
      },
      "source": [
        "forest_model = RandomForestRegressor(random_state=42)\n",
        "forest_model.fit(X_train, y_train)\n",
        "preds = forest_model.predict(X_val)\n",
        "print(mean_absolute_percentage_error(y_val, preds))"
      ],
      "execution_count": null,
      "outputs": [
        {
          "name": "stdout",
          "text": "7.132679894532597\n",
          "output_type": "stream"
        }
      ]
    },
    {
      "cell_type": "code",
      "metadata": {
        "execution": {
          "iopub.status.busy": "2021-08-19T04:04:08.060063Z",
          "iopub.execute_input": "2021-08-19T04:04:08.060758Z",
          "iopub.status.idle": "2021-08-19T04:04:08.171594Z",
          "shell.execute_reply.started": "2021-08-19T04:04:08.060706Z",
          "shell.execute_reply": "2021-08-19T04:04:08.170306Z"
        },
        "trusted": true,
        "id": "afCFyg5YHYjX",
        "outputId": "6e241a1d-da79-4bd6-90b9-a9ede7e4ce4c"
      },
      "source": [
        "forest_model1 = RandomForestRegressor(n_estimators=50, random_state=42)\n",
        "forest_model1.fit(X_train, y_train)\n",
        "preds1 = forest_model1.predict(X_val)\n",
        "print(mean_absolute_percentage_error(y_val, preds1))"
      ],
      "execution_count": null,
      "outputs": [
        {
          "name": "stdout",
          "text": "7.498137362702377\n",
          "output_type": "stream"
        }
      ]
    },
    {
      "cell_type": "code",
      "metadata": {
        "execution": {
          "iopub.status.busy": "2021-08-19T04:04:09.940238Z",
          "iopub.execute_input": "2021-08-19T04:04:09.940645Z",
          "iopub.status.idle": "2021-08-19T04:04:10.125915Z",
          "shell.execute_reply.started": "2021-08-19T04:04:09.940610Z",
          "shell.execute_reply": "2021-08-19T04:04:10.124764Z"
        },
        "trusted": true,
        "id": "GZefRS7OHYjb",
        "outputId": "44c9f0c8-c55e-4e51-9a18-cf0c73c70eb4"
      },
      "source": [
        "model = RandomForestRegressor(max_depth=3, min_samples_split=6,random_state=42)\n",
        "model.fit(X_train, y_train)\n",
        "pred = model.predict(X_val)\n",
        "print(mean_absolute_percentage_error(y_val, pred))"
      ],
      "execution_count": null,
      "outputs": [
        {
          "name": "stdout",
          "text": "7.606747397187262\n",
          "output_type": "stream"
        }
      ]
    },
    {
      "cell_type": "code",
      "metadata": {
        "execution": {
          "iopub.status.busy": "2021-08-19T04:04:10.821348Z",
          "iopub.execute_input": "2021-08-19T04:04:10.821793Z",
          "iopub.status.idle": "2021-08-19T04:04:11.015584Z",
          "shell.execute_reply.started": "2021-08-19T04:04:10.821758Z",
          "shell.execute_reply": "2021-08-19T04:04:11.014403Z"
        },
        "trusted": true,
        "id": "8QgmAJddHYjd",
        "outputId": "b27ebda6-c179-4d2b-d4e0-f24efd2a02e8"
      },
      "source": [
        "modell = RandomForestRegressor(max_depth=5, min_samples_split=3,random_state=42)\n",
        "modell.fit(X_train, y_train)\n",
        "pre = modell.predict(X_val)\n",
        "print(mean_absolute_percentage_error(y_val, pre))"
      ],
      "execution_count": null,
      "outputs": [
        {
          "name": "stdout",
          "text": "7.047907146854637\n",
          "output_type": "stream"
        }
      ]
    },
    {
      "cell_type": "code",
      "metadata": {
        "execution": {
          "iopub.status.busy": "2021-08-19T04:04:12.103714Z",
          "iopub.execute_input": "2021-08-19T04:04:12.104071Z",
          "iopub.status.idle": "2021-08-19T04:04:12.291721Z",
          "shell.execute_reply.started": "2021-08-19T04:04:12.104039Z",
          "shell.execute_reply": "2021-08-19T04:04:12.290731Z"
        },
        "trusted": true,
        "id": "c0SILq3HHYje",
        "outputId": "0abcb39a-2fda-4429-cf40-d6d1d77adbd0"
      },
      "source": [
        "model1 = RandomForestRegressor(max_depth=5, min_samples_split=3)\n",
        "model1.fit(X_train, y_train)\n",
        "pred1 = model1.predict(X_val)\n",
        "print(mean_absolute_percentage_error(y_val, pred1))"
      ],
      "execution_count": null,
      "outputs": [
        {
          "name": "stdout",
          "text": "7.371729347462446\n",
          "output_type": "stream"
        }
      ]
    },
    {
      "cell_type": "markdown",
      "metadata": {
        "id": "rEn-qdYXHYjg"
      },
      "source": [
        "## Test Data"
      ]
    },
    {
      "cell_type": "code",
      "metadata": {
        "execution": {
          "iopub.status.busy": "2021-08-19T04:04:28.533403Z",
          "iopub.execute_input": "2021-08-19T04:04:28.533809Z",
          "iopub.status.idle": "2021-08-19T04:04:28.539633Z",
          "shell.execute_reply.started": "2021-08-19T04:04:28.533773Z",
          "shell.execute_reply": "2021-08-19T04:04:28.538627Z"
        },
        "trusted": true,
        "id": "F16nMt7OHYjh"
      },
      "source": [
        "test_d = test_data.drop(['date'], axis=1)"
      ],
      "execution_count": null,
      "outputs": []
    },
    {
      "cell_type": "code",
      "metadata": {
        "execution": {
          "iopub.status.busy": "2021-08-19T04:04:28.737139Z",
          "iopub.execute_input": "2021-08-19T04:04:28.737537Z",
          "iopub.status.idle": "2021-08-19T04:04:28.744443Z",
          "shell.execute_reply.started": "2021-08-19T04:04:28.737501Z",
          "shell.execute_reply": "2021-08-19T04:04:28.743510Z"
        },
        "trusted": true,
        "id": "OjVvlT_-HYji",
        "outputId": "de30d7d4-1f97-466f-b765-c04c4a9155fd"
      },
      "source": [
        "# Get list of categorical variables\n",
        "s = (test_d.dtypes == 'object')\n",
        "test_object_cols = list(s[s].index)\n",
        "\n",
        "print(\"Categorical variables:\")\n",
        "print(test_object_cols)"
      ],
      "execution_count": null,
      "outputs": [
        {
          "name": "stdout",
          "text": "Categorical variables:\n['day']\n",
          "output_type": "stream"
        }
      ]
    },
    {
      "cell_type": "code",
      "metadata": {
        "execution": {
          "iopub.status.busy": "2021-08-19T04:04:28.992407Z",
          "iopub.execute_input": "2021-08-19T04:04:28.992791Z",
          "iopub.status.idle": "2021-08-19T04:04:29.004224Z",
          "shell.execute_reply.started": "2021-08-19T04:04:28.992761Z",
          "shell.execute_reply": "2021-08-19T04:04:29.002916Z"
        },
        "trusted": true,
        "id": "58DpUSn-HYjj"
      },
      "source": [
        "# Apply one-hot encoder to each column with categorical data\n",
        "OH_encoder = OneHotEncoder(handle_unknown='ignore', sparse=False)\n",
        "OH_cols_test = pd.DataFrame(OH_encoder.fit_transform(test_d[test_object_cols]))\n",
        "\n",
        "# One-hot encoding removed index; put it back\n",
        "OH_cols_test.index = test_d.index\n",
        "\n",
        "# Remove categorical columns (will replace with one-hot encoding)\n",
        "num_X_test = test_d.drop(test_object_cols, axis=1)\n",
        "\n",
        "# Add one-hot encoded columns to numerical features\n",
        "OH_X_test = pd.concat([num_X_test, OH_cols_test], axis=1)"
      ],
      "execution_count": null,
      "outputs": []
    },
    {
      "cell_type": "code",
      "metadata": {
        "execution": {
          "iopub.status.busy": "2021-08-19T04:04:29.224354Z",
          "iopub.execute_input": "2021-08-19T04:04:29.224769Z",
          "iopub.status.idle": "2021-08-19T04:04:29.252909Z",
          "shell.execute_reply.started": "2021-08-19T04:04:29.224732Z",
          "shell.execute_reply": "2021-08-19T04:04:29.251642Z"
        },
        "trusted": true,
        "id": "2v6NsI6_HYjl",
        "outputId": "1b47bab0-a626-49fc-c9f0-73005b4f9bfe"
      },
      "source": [
        "OH_X_test.head()"
      ],
      "execution_count": null,
      "outputs": [
        {
          "execution_count": 34,
          "output_type": "execute_result",
          "data": {
            "text/plain": "   targeted_productivity    smv    wip  over_time  incentive  idle_time  \\\n0                   0.80  30.10  437.0       7080         32        0.0   \n1                   0.50  26.66  556.0       6960         23        0.0   \n2                   0.60  26.66  692.0       6840         23        0.0   \n3                   0.65  26.66  832.0       6780         55        0.0   \n4                   0.70  26.66  950.0       6960         50        0.0   \n\n   idle_men  no_of_style_change  no_of_workers    0    1    2    3    4    5  \n0         0                   2           59.0  0.0  0.0  0.0  1.0  0.0  0.0  \n1         0                   2           58.0  0.0  1.0  0.0  0.0  0.0  0.0  \n2         0                   0           57.0  0.0  0.0  1.0  0.0  0.0  0.0  \n3         0                   0           57.0  1.0  0.0  0.0  0.0  0.0  0.0  \n4         0                   0           58.0  0.0  0.0  0.0  0.0  1.0  0.0  ",
            "text/html": "<div>\n<style scoped>\n    .dataframe tbody tr th:only-of-type {\n        vertical-align: middle;\n    }\n\n    .dataframe tbody tr th {\n        vertical-align: top;\n    }\n\n    .dataframe thead th {\n        text-align: right;\n    }\n</style>\n<table border=\"1\" class=\"dataframe\">\n  <thead>\n    <tr style=\"text-align: right;\">\n      <th></th>\n      <th>targeted_productivity</th>\n      <th>smv</th>\n      <th>wip</th>\n      <th>over_time</th>\n      <th>incentive</th>\n      <th>idle_time</th>\n      <th>idle_men</th>\n      <th>no_of_style_change</th>\n      <th>no_of_workers</th>\n      <th>0</th>\n      <th>1</th>\n      <th>2</th>\n      <th>3</th>\n      <th>4</th>\n      <th>5</th>\n    </tr>\n  </thead>\n  <tbody>\n    <tr>\n      <th>0</th>\n      <td>0.80</td>\n      <td>30.10</td>\n      <td>437.0</td>\n      <td>7080</td>\n      <td>32</td>\n      <td>0.0</td>\n      <td>0</td>\n      <td>2</td>\n      <td>59.0</td>\n      <td>0.0</td>\n      <td>0.0</td>\n      <td>0.0</td>\n      <td>1.0</td>\n      <td>0.0</td>\n      <td>0.0</td>\n    </tr>\n    <tr>\n      <th>1</th>\n      <td>0.50</td>\n      <td>26.66</td>\n      <td>556.0</td>\n      <td>6960</td>\n      <td>23</td>\n      <td>0.0</td>\n      <td>0</td>\n      <td>2</td>\n      <td>58.0</td>\n      <td>0.0</td>\n      <td>1.0</td>\n      <td>0.0</td>\n      <td>0.0</td>\n      <td>0.0</td>\n      <td>0.0</td>\n    </tr>\n    <tr>\n      <th>2</th>\n      <td>0.60</td>\n      <td>26.66</td>\n      <td>692.0</td>\n      <td>6840</td>\n      <td>23</td>\n      <td>0.0</td>\n      <td>0</td>\n      <td>0</td>\n      <td>57.0</td>\n      <td>0.0</td>\n      <td>0.0</td>\n      <td>1.0</td>\n      <td>0.0</td>\n      <td>0.0</td>\n      <td>0.0</td>\n    </tr>\n    <tr>\n      <th>3</th>\n      <td>0.65</td>\n      <td>26.66</td>\n      <td>832.0</td>\n      <td>6780</td>\n      <td>55</td>\n      <td>0.0</td>\n      <td>0</td>\n      <td>0</td>\n      <td>57.0</td>\n      <td>1.0</td>\n      <td>0.0</td>\n      <td>0.0</td>\n      <td>0.0</td>\n      <td>0.0</td>\n      <td>0.0</td>\n    </tr>\n    <tr>\n      <th>4</th>\n      <td>0.70</td>\n      <td>26.66</td>\n      <td>950.0</td>\n      <td>6960</td>\n      <td>50</td>\n      <td>0.0</td>\n      <td>0</td>\n      <td>0</td>\n      <td>58.0</td>\n      <td>0.0</td>\n      <td>0.0</td>\n      <td>0.0</td>\n      <td>0.0</td>\n      <td>1.0</td>\n      <td>0.0</td>\n    </tr>\n  </tbody>\n</table>\n</div>"
          },
          "metadata": {}
        }
      ]
    },
    {
      "cell_type": "code",
      "metadata": {
        "execution": {
          "iopub.status.busy": "2021-08-19T04:04:29.523934Z",
          "iopub.execute_input": "2021-08-19T04:04:29.524431Z",
          "iopub.status.idle": "2021-08-19T04:04:29.543086Z",
          "shell.execute_reply.started": "2021-08-19T04:04:29.524399Z",
          "shell.execute_reply": "2021-08-19T04:04:29.541867Z"
        },
        "trusted": true,
        "id": "JQ71yrlMHYjn"
      },
      "source": [
        "# Fill in the line below: get test predictions\n",
        "preds_test = model1.predict(OH_X_test)"
      ],
      "execution_count": null,
      "outputs": []
    },
    {
      "cell_type": "markdown",
      "metadata": {
        "id": "zRJ2EbX8HYjp"
      },
      "source": [
        "## Save submission"
      ]
    },
    {
      "cell_type": "code",
      "metadata": {
        "execution": {
          "iopub.status.busy": "2021-08-19T04:04:29.802207Z",
          "iopub.execute_input": "2021-08-19T04:04:29.802572Z",
          "iopub.status.idle": "2021-08-19T04:04:29.810688Z",
          "shell.execute_reply.started": "2021-08-19T04:04:29.802532Z",
          "shell.execute_reply": "2021-08-19T04:04:29.809708Z"
        },
        "trusted": true,
        "id": "N4vz2sO1HYjq"
      },
      "source": [
        "# Save test predictions to file\n",
        "output = pd.DataFrame({'id': test_data.index,\n",
        "                       'actual_productivity': preds_test})\n",
        "output.to_csv('submission.csv', index=False)"
      ],
      "execution_count": null,
      "outputs": []
    }
  ]
}