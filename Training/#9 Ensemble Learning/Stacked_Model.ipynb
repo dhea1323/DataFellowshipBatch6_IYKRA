{
  "nbformat": 4,
  "nbformat_minor": 0,
  "metadata": {
    "colab": {
      "name": "Stacked Model.ipynb",
      "provenance": [],
      "collapsed_sections": [],
      "toc_visible": true
    },
    "kernelspec": {
      "name": "python3",
      "display_name": "Python 3"
    },
    "language_info": {
      "name": "python"
    }
  },
  "cells": [
    {
      "cell_type": "code",
      "metadata": {
        "colab": {
          "base_uri": "https://localhost:8080/"
        },
        "id": "ooo_3sSY-AhR",
        "outputId": "fa611085-f69c-4139-baff-e5eac115a4e3"
      },
      "source": [
        "from google.colab import drive\n",
        "drive.mount('/content/drive')"
      ],
      "execution_count": null,
      "outputs": [
        {
          "output_type": "stream",
          "text": [
            "Drive already mounted at /content/drive; to attempt to forcibly remount, call drive.mount(\"/content/drive\", force_remount=True).\n"
          ],
          "name": "stdout"
        }
      ]
    },
    {
      "cell_type": "markdown",
      "metadata": {
        "id": "qF30wmWm-6ne"
      },
      "source": [
        "# Import Library"
      ]
    },
    {
      "cell_type": "code",
      "metadata": {
        "colab": {
          "base_uri": "https://localhost:8080/"
        },
        "id": "zeMRVexPSS4U",
        "outputId": "cdeb1d2d-cf63-402a-a4c5-ec57392f3684"
      },
      "source": [
        "!pip uninstall scikit-learn -y\n",
        "!pip install -U scikit-learn"
      ],
      "execution_count": null,
      "outputs": [
        {
          "output_type": "stream",
          "text": [
            "Found existing installation: scikit-learn 0.24.2\n",
            "Uninstalling scikit-learn-0.24.2:\n",
            "  Successfully uninstalled scikit-learn-0.24.2\n",
            "Collecting scikit-learn\n",
            "  Using cached scikit_learn-0.24.2-cp37-cp37m-manylinux2010_x86_64.whl (22.3 MB)\n",
            "Requirement already satisfied: numpy>=1.13.3 in /usr/local/lib/python3.7/dist-packages (from scikit-learn) (1.19.5)\n",
            "Requirement already satisfied: threadpoolctl>=2.0.0 in /usr/local/lib/python3.7/dist-packages (from scikit-learn) (2.2.0)\n",
            "Requirement already satisfied: joblib>=0.11 in /usr/local/lib/python3.7/dist-packages (from scikit-learn) (1.0.1)\n",
            "Requirement already satisfied: scipy>=0.19.1 in /usr/local/lib/python3.7/dist-packages (from scikit-learn) (1.4.1)\n",
            "Installing collected packages: scikit-learn\n",
            "Successfully installed scikit-learn-0.24.2\n"
          ],
          "name": "stdout"
        }
      ]
    },
    {
      "cell_type": "code",
      "metadata": {
        "id": "1W3Y_P7i-j8f"
      },
      "source": [
        "import pandas as pd\n",
        "import numpy as np\n",
        "from sklearn.model_selection import train_test_split\n",
        "from sklearn.datasets import make_regression\n",
        "from sklearn.linear_model import LinearRegression\n",
        "from sklearn.neighbors import KNeighborsRegressor\n",
        "from sklearn.tree import DecisionTreeRegressor\n",
        "from sklearn.svm import SVR\n",
        "from sklearn.ensemble import StackingRegressor, RandomForestRegressor\n",
        "from sklearn import metrics"
      ],
      "execution_count": null,
      "outputs": []
    },
    {
      "cell_type": "markdown",
      "metadata": {
        "id": "QYOaNl1r-9XR"
      },
      "source": [
        "# Import Dataset"
      ]
    },
    {
      "cell_type": "code",
      "metadata": {
        "id": "xcIw3bw4-LPV"
      },
      "source": [
        "train_data = pd.read_csv('/content/drive/MyDrive/IYKRA/#9/Train.csv')\n",
        "test_data = pd.read_csv('/content/drive/MyDrive/IYKRA/#9/Test.csv')"
      ],
      "execution_count": null,
      "outputs": []
    },
    {
      "cell_type": "code",
      "metadata": {
        "colab": {
          "base_uri": "https://localhost:8080/"
        },
        "id": "f2j8PlwG-nZ1",
        "outputId": "97634fac-68e8-49dd-8bc6-3c6615ed0e08"
      },
      "source": [
        "train_data.shape"
      ],
      "execution_count": null,
      "outputs": [
        {
          "output_type": "execute_result",
          "data": {
            "text/plain": [
              "(48, 12)"
            ]
          },
          "metadata": {},
          "execution_count": 5
        }
      ]
    },
    {
      "cell_type": "code",
      "metadata": {
        "colab": {
          "base_uri": "https://localhost:8080/"
        },
        "id": "VlgDlIPD-q-2",
        "outputId": "66ccf010-e6fa-4acd-9354-fbefb3449771"
      },
      "source": [
        "train_data.info()"
      ],
      "execution_count": null,
      "outputs": [
        {
          "output_type": "stream",
          "text": [
            "<class 'pandas.core.frame.DataFrame'>\n",
            "RangeIndex: 48 entries, 0 to 47\n",
            "Data columns (total 12 columns):\n",
            " #   Column                 Non-Null Count  Dtype  \n",
            "---  ------                 --------------  -----  \n",
            " 0   date                   48 non-null     object \n",
            " 1   day                    48 non-null     object \n",
            " 2   targeted_productivity  48 non-null     float64\n",
            " 3   smv                    48 non-null     float64\n",
            " 4   wip                    48 non-null     float64\n",
            " 5   over_time              48 non-null     int64  \n",
            " 6   incentive              48 non-null     int64  \n",
            " 7   idle_time              48 non-null     float64\n",
            " 8   idle_men               48 non-null     int64  \n",
            " 9   no_of_style_change     48 non-null     int64  \n",
            " 10  no_of_workers          48 non-null     float64\n",
            " 11  actual_productivity    48 non-null     float64\n",
            "dtypes: float64(6), int64(4), object(2)\n",
            "memory usage: 4.6+ KB\n"
          ],
          "name": "stdout"
        }
      ]
    },
    {
      "cell_type": "code",
      "metadata": {
        "colab": {
          "base_uri": "https://localhost:8080/",
          "height": 222
        },
        "id": "55iJUUMO-u9U",
        "outputId": "9f84de26-0040-404b-e154-6d83618d5958"
      },
      "source": [
        "train_data.head()"
      ],
      "execution_count": null,
      "outputs": [
        {
          "output_type": "execute_result",
          "data": {
            "text/html": [
              "<div>\n",
              "<style scoped>\n",
              "    .dataframe tbody tr th:only-of-type {\n",
              "        vertical-align: middle;\n",
              "    }\n",
              "\n",
              "    .dataframe tbody tr th {\n",
              "        vertical-align: top;\n",
              "    }\n",
              "\n",
              "    .dataframe thead th {\n",
              "        text-align: right;\n",
              "    }\n",
              "</style>\n",
              "<table border=\"1\" class=\"dataframe\">\n",
              "  <thead>\n",
              "    <tr style=\"text-align: right;\">\n",
              "      <th></th>\n",
              "      <th>date</th>\n",
              "      <th>day</th>\n",
              "      <th>targeted_productivity</th>\n",
              "      <th>smv</th>\n",
              "      <th>wip</th>\n",
              "      <th>over_time</th>\n",
              "      <th>incentive</th>\n",
              "      <th>idle_time</th>\n",
              "      <th>idle_men</th>\n",
              "      <th>no_of_style_change</th>\n",
              "      <th>no_of_workers</th>\n",
              "      <th>actual_productivity</th>\n",
              "    </tr>\n",
              "  </thead>\n",
              "  <tbody>\n",
              "    <tr>\n",
              "      <th>0</th>\n",
              "      <td>1/1/2015</td>\n",
              "      <td>Thursday</td>\n",
              "      <td>0.65</td>\n",
              "      <td>23.69</td>\n",
              "      <td>861.0</td>\n",
              "      <td>7200</td>\n",
              "      <td>0</td>\n",
              "      <td>0.0</td>\n",
              "      <td>0</td>\n",
              "      <td>0</td>\n",
              "      <td>60.0</td>\n",
              "      <td>0.521180</td>\n",
              "    </tr>\n",
              "    <tr>\n",
              "      <th>1</th>\n",
              "      <td>1/3/2015</td>\n",
              "      <td>Saturday</td>\n",
              "      <td>0.70</td>\n",
              "      <td>23.69</td>\n",
              "      <td>544.0</td>\n",
              "      <td>13800</td>\n",
              "      <td>0</td>\n",
              "      <td>0.0</td>\n",
              "      <td>0</td>\n",
              "      <td>0</td>\n",
              "      <td>60.0</td>\n",
              "      <td>0.700134</td>\n",
              "    </tr>\n",
              "    <tr>\n",
              "      <th>2</th>\n",
              "      <td>1/4/2015</td>\n",
              "      <td>Sunday</td>\n",
              "      <td>0.80</td>\n",
              "      <td>28.08</td>\n",
              "      <td>878.0</td>\n",
              "      <td>4260</td>\n",
              "      <td>50</td>\n",
              "      <td>0.0</td>\n",
              "      <td>0</td>\n",
              "      <td>0</td>\n",
              "      <td>55.5</td>\n",
              "      <td>0.800598</td>\n",
              "    </tr>\n",
              "    <tr>\n",
              "      <th>3</th>\n",
              "      <td>1/5/2015</td>\n",
              "      <td>Monday</td>\n",
              "      <td>0.80</td>\n",
              "      <td>28.08</td>\n",
              "      <td>759.0</td>\n",
              "      <td>6900</td>\n",
              "      <td>50</td>\n",
              "      <td>0.0</td>\n",
              "      <td>0</td>\n",
              "      <td>0</td>\n",
              "      <td>57.5</td>\n",
              "      <td>0.800077</td>\n",
              "    </tr>\n",
              "    <tr>\n",
              "      <th>4</th>\n",
              "      <td>1/6/2015</td>\n",
              "      <td>Tuesday</td>\n",
              "      <td>0.80</td>\n",
              "      <td>28.08</td>\n",
              "      <td>925.0</td>\n",
              "      <td>10350</td>\n",
              "      <td>50</td>\n",
              "      <td>0.0</td>\n",
              "      <td>0</td>\n",
              "      <td>0</td>\n",
              "      <td>57.5</td>\n",
              "      <td>0.800594</td>\n",
              "    </tr>\n",
              "  </tbody>\n",
              "</table>\n",
              "</div>"
            ],
            "text/plain": [
              "       date       day  ...  no_of_workers  actual_productivity\n",
              "0  1/1/2015  Thursday  ...           60.0             0.521180\n",
              "1  1/3/2015  Saturday  ...           60.0             0.700134\n",
              "2  1/4/2015    Sunday  ...           55.5             0.800598\n",
              "3  1/5/2015    Monday  ...           57.5             0.800077\n",
              "4  1/6/2015   Tuesday  ...           57.5             0.800594\n",
              "\n",
              "[5 rows x 12 columns]"
            ]
          },
          "metadata": {},
          "execution_count": 7
        }
      ]
    },
    {
      "cell_type": "code",
      "metadata": {
        "colab": {
          "base_uri": "https://localhost:8080/"
        },
        "id": "PXKwc69h-yAR",
        "outputId": "c21cf604-bb5b-4b15-d49e-5c5bdb99c0f6"
      },
      "source": [
        "test_data.shape"
      ],
      "execution_count": null,
      "outputs": [
        {
          "output_type": "execute_result",
          "data": {
            "text/plain": [
              "(11, 11)"
            ]
          },
          "metadata": {},
          "execution_count": 8
        }
      ]
    },
    {
      "cell_type": "code",
      "metadata": {
        "colab": {
          "base_uri": "https://localhost:8080/"
        },
        "id": "tcYjXC5L-1Do",
        "outputId": "ad806368-f64c-4dab-921d-7861d0d00670"
      },
      "source": [
        "test_data.info()"
      ],
      "execution_count": null,
      "outputs": [
        {
          "output_type": "stream",
          "text": [
            "<class 'pandas.core.frame.DataFrame'>\n",
            "RangeIndex: 11 entries, 0 to 10\n",
            "Data columns (total 11 columns):\n",
            " #   Column                 Non-Null Count  Dtype  \n",
            "---  ------                 --------------  -----  \n",
            " 0   date                   11 non-null     object \n",
            " 1   day                    11 non-null     object \n",
            " 2   targeted_productivity  11 non-null     float64\n",
            " 3   smv                    11 non-null     float64\n",
            " 4   wip                    11 non-null     float64\n",
            " 5   over_time              11 non-null     int64  \n",
            " 6   incentive              11 non-null     int64  \n",
            " 7   idle_time              11 non-null     float64\n",
            " 8   idle_men               11 non-null     int64  \n",
            " 9   no_of_style_change     11 non-null     int64  \n",
            " 10  no_of_workers          11 non-null     float64\n",
            "dtypes: float64(5), int64(4), object(2)\n",
            "memory usage: 1.1+ KB\n"
          ],
          "name": "stdout"
        }
      ]
    },
    {
      "cell_type": "markdown",
      "metadata": {
        "id": "b9P_q44g_AL_"
      },
      "source": [
        "# Data Preprocessing"
      ]
    },
    {
      "cell_type": "code",
      "metadata": {
        "colab": {
          "base_uri": "https://localhost:8080/"
        },
        "id": "8lAHMIUy_CZK",
        "outputId": "9c21460d-6f73-4bbb-a1f5-ed74d05c99b6"
      },
      "source": [
        "train_data.isnull().sum()"
      ],
      "execution_count": null,
      "outputs": [
        {
          "output_type": "execute_result",
          "data": {
            "text/plain": [
              "date                     0\n",
              "day                      0\n",
              "targeted_productivity    0\n",
              "smv                      0\n",
              "wip                      0\n",
              "over_time                0\n",
              "incentive                0\n",
              "idle_time                0\n",
              "idle_men                 0\n",
              "no_of_style_change       0\n",
              "no_of_workers            0\n",
              "actual_productivity      0\n",
              "dtype: int64"
            ]
          },
          "metadata": {},
          "execution_count": 10
        }
      ]
    },
    {
      "cell_type": "code",
      "metadata": {
        "colab": {
          "base_uri": "https://localhost:8080/",
          "height": 314
        },
        "id": "b0pRas78Hoq_",
        "outputId": "add5ffd1-9806-40f2-913a-dbd160ce79df"
      },
      "source": [
        "train_data.describe()"
      ],
      "execution_count": null,
      "outputs": [
        {
          "output_type": "execute_result",
          "data": {
            "text/html": [
              "<div>\n",
              "<style scoped>\n",
              "    .dataframe tbody tr th:only-of-type {\n",
              "        vertical-align: middle;\n",
              "    }\n",
              "\n",
              "    .dataframe tbody tr th {\n",
              "        vertical-align: top;\n",
              "    }\n",
              "\n",
              "    .dataframe thead th {\n",
              "        text-align: right;\n",
              "    }\n",
              "</style>\n",
              "<table border=\"1\" class=\"dataframe\">\n",
              "  <thead>\n",
              "    <tr style=\"text-align: right;\">\n",
              "      <th></th>\n",
              "      <th>targeted_productivity</th>\n",
              "      <th>smv</th>\n",
              "      <th>wip</th>\n",
              "      <th>over_time</th>\n",
              "      <th>incentive</th>\n",
              "      <th>idle_time</th>\n",
              "      <th>idle_men</th>\n",
              "      <th>no_of_style_change</th>\n",
              "      <th>no_of_workers</th>\n",
              "      <th>actual_productivity</th>\n",
              "    </tr>\n",
              "  </thead>\n",
              "  <tbody>\n",
              "    <tr>\n",
              "      <th>count</th>\n",
              "      <td>48.000000</td>\n",
              "      <td>48.000000</td>\n",
              "      <td>48.000000</td>\n",
              "      <td>48.0000</td>\n",
              "      <td>48.000000</td>\n",
              "      <td>48.000000</td>\n",
              "      <td>48.000000</td>\n",
              "      <td>48.000000</td>\n",
              "      <td>48.00000</td>\n",
              "      <td>48.000000</td>\n",
              "    </tr>\n",
              "    <tr>\n",
              "      <th>mean</th>\n",
              "      <td>0.723958</td>\n",
              "      <td>26.839167</td>\n",
              "      <td>1275.270833</td>\n",
              "      <td>7707.5000</td>\n",
              "      <td>44.979167</td>\n",
              "      <td>3.125000</td>\n",
              "      <td>0.312500</td>\n",
              "      <td>0.395833</td>\n",
              "      <td>57.37500</td>\n",
              "      <td>0.726065</td>\n",
              "    </tr>\n",
              "    <tr>\n",
              "      <th>std</th>\n",
              "      <td>0.109637</td>\n",
              "      <td>4.981340</td>\n",
              "      <td>3231.835351</td>\n",
              "      <td>2423.0107</td>\n",
              "      <td>27.291562</td>\n",
              "      <td>21.650635</td>\n",
              "      <td>2.165064</td>\n",
              "      <td>0.535529</td>\n",
              "      <td>1.60948</td>\n",
              "      <td>0.141864</td>\n",
              "    </tr>\n",
              "    <tr>\n",
              "      <th>min</th>\n",
              "      <td>0.350000</td>\n",
              "      <td>22.400000</td>\n",
              "      <td>287.000000</td>\n",
              "      <td>480.0000</td>\n",
              "      <td>0.000000</td>\n",
              "      <td>0.000000</td>\n",
              "      <td>0.000000</td>\n",
              "      <td>0.000000</td>\n",
              "      <td>51.50000</td>\n",
              "      <td>0.350633</td>\n",
              "    </tr>\n",
              "    <tr>\n",
              "      <th>25%</th>\n",
              "      <td>0.700000</td>\n",
              "      <td>22.520000</td>\n",
              "      <td>665.250000</td>\n",
              "      <td>6615.0000</td>\n",
              "      <td>25.250000</td>\n",
              "      <td>0.000000</td>\n",
              "      <td>0.000000</td>\n",
              "      <td>0.000000</td>\n",
              "      <td>56.50000</td>\n",
              "      <td>0.647026</td>\n",
              "    </tr>\n",
              "    <tr>\n",
              "      <th>50%</th>\n",
              "      <td>0.750000</td>\n",
              "      <td>28.080000</td>\n",
              "      <td>857.000000</td>\n",
              "      <td>7050.0000</td>\n",
              "      <td>50.000000</td>\n",
              "      <td>0.000000</td>\n",
              "      <td>0.000000</td>\n",
              "      <td>0.000000</td>\n",
              "      <td>57.50000</td>\n",
              "      <td>0.795003</td>\n",
              "    </tr>\n",
              "    <tr>\n",
              "      <th>75%</th>\n",
              "      <td>0.800000</td>\n",
              "      <td>30.100000</td>\n",
              "      <td>922.750000</td>\n",
              "      <td>10170.0000</td>\n",
              "      <td>63.000000</td>\n",
              "      <td>0.000000</td>\n",
              "      <td>0.000000</td>\n",
              "      <td>1.000000</td>\n",
              "      <td>58.50000</td>\n",
              "      <td>0.800852</td>\n",
              "    </tr>\n",
              "    <tr>\n",
              "      <th>max</th>\n",
              "      <td>0.800000</td>\n",
              "      <td>50.480000</td>\n",
              "      <td>23122.000000</td>\n",
              "      <td>13800.0000</td>\n",
              "      <td>94.000000</td>\n",
              "      <td>150.000000</td>\n",
              "      <td>15.000000</td>\n",
              "      <td>2.000000</td>\n",
              "      <td>60.00000</td>\n",
              "      <td>0.900800</td>\n",
              "    </tr>\n",
              "  </tbody>\n",
              "</table>\n",
              "</div>"
            ],
            "text/plain": [
              "       targeted_productivity        smv  ...  no_of_workers  actual_productivity\n",
              "count              48.000000  48.000000  ...       48.00000            48.000000\n",
              "mean                0.723958  26.839167  ...       57.37500             0.726065\n",
              "std                 0.109637   4.981340  ...        1.60948             0.141864\n",
              "min                 0.350000  22.400000  ...       51.50000             0.350633\n",
              "25%                 0.700000  22.520000  ...       56.50000             0.647026\n",
              "50%                 0.750000  28.080000  ...       57.50000             0.795003\n",
              "75%                 0.800000  30.100000  ...       58.50000             0.800852\n",
              "max                 0.800000  50.480000  ...       60.00000             0.900800\n",
              "\n",
              "[8 rows x 10 columns]"
            ]
          },
          "metadata": {},
          "execution_count": 11
        }
      ]
    },
    {
      "cell_type": "code",
      "metadata": {
        "id": "O1JgRYQXH9RP"
      },
      "source": [
        "df = train_data.copy()"
      ],
      "execution_count": null,
      "outputs": []
    },
    {
      "cell_type": "code",
      "metadata": {
        "colab": {
          "base_uri": "https://localhost:8080/",
          "height": 222
        },
        "id": "yYlLzcole9dX",
        "outputId": "2c086e15-e2a9-42da-a1ff-11c212a42ca7"
      },
      "source": [
        "df.head()"
      ],
      "execution_count": null,
      "outputs": [
        {
          "output_type": "execute_result",
          "data": {
            "text/html": [
              "<div>\n",
              "<style scoped>\n",
              "    .dataframe tbody tr th:only-of-type {\n",
              "        vertical-align: middle;\n",
              "    }\n",
              "\n",
              "    .dataframe tbody tr th {\n",
              "        vertical-align: top;\n",
              "    }\n",
              "\n",
              "    .dataframe thead th {\n",
              "        text-align: right;\n",
              "    }\n",
              "</style>\n",
              "<table border=\"1\" class=\"dataframe\">\n",
              "  <thead>\n",
              "    <tr style=\"text-align: right;\">\n",
              "      <th></th>\n",
              "      <th>date</th>\n",
              "      <th>day</th>\n",
              "      <th>targeted_productivity</th>\n",
              "      <th>smv</th>\n",
              "      <th>wip</th>\n",
              "      <th>over_time</th>\n",
              "      <th>incentive</th>\n",
              "      <th>idle_time</th>\n",
              "      <th>idle_men</th>\n",
              "      <th>no_of_style_change</th>\n",
              "      <th>no_of_workers</th>\n",
              "      <th>actual_productivity</th>\n",
              "    </tr>\n",
              "  </thead>\n",
              "  <tbody>\n",
              "    <tr>\n",
              "      <th>0</th>\n",
              "      <td>1/1/2015</td>\n",
              "      <td>Thursday</td>\n",
              "      <td>0.65</td>\n",
              "      <td>23.69</td>\n",
              "      <td>861.0</td>\n",
              "      <td>7200</td>\n",
              "      <td>0</td>\n",
              "      <td>0.0</td>\n",
              "      <td>0</td>\n",
              "      <td>0</td>\n",
              "      <td>60.0</td>\n",
              "      <td>0.521180</td>\n",
              "    </tr>\n",
              "    <tr>\n",
              "      <th>1</th>\n",
              "      <td>1/3/2015</td>\n",
              "      <td>Saturday</td>\n",
              "      <td>0.70</td>\n",
              "      <td>23.69</td>\n",
              "      <td>544.0</td>\n",
              "      <td>13800</td>\n",
              "      <td>0</td>\n",
              "      <td>0.0</td>\n",
              "      <td>0</td>\n",
              "      <td>0</td>\n",
              "      <td>60.0</td>\n",
              "      <td>0.700134</td>\n",
              "    </tr>\n",
              "    <tr>\n",
              "      <th>2</th>\n",
              "      <td>1/4/2015</td>\n",
              "      <td>Sunday</td>\n",
              "      <td>0.80</td>\n",
              "      <td>28.08</td>\n",
              "      <td>878.0</td>\n",
              "      <td>4260</td>\n",
              "      <td>50</td>\n",
              "      <td>0.0</td>\n",
              "      <td>0</td>\n",
              "      <td>0</td>\n",
              "      <td>55.5</td>\n",
              "      <td>0.800598</td>\n",
              "    </tr>\n",
              "    <tr>\n",
              "      <th>3</th>\n",
              "      <td>1/5/2015</td>\n",
              "      <td>Monday</td>\n",
              "      <td>0.80</td>\n",
              "      <td>28.08</td>\n",
              "      <td>759.0</td>\n",
              "      <td>6900</td>\n",
              "      <td>50</td>\n",
              "      <td>0.0</td>\n",
              "      <td>0</td>\n",
              "      <td>0</td>\n",
              "      <td>57.5</td>\n",
              "      <td>0.800077</td>\n",
              "    </tr>\n",
              "    <tr>\n",
              "      <th>4</th>\n",
              "      <td>1/6/2015</td>\n",
              "      <td>Tuesday</td>\n",
              "      <td>0.80</td>\n",
              "      <td>28.08</td>\n",
              "      <td>925.0</td>\n",
              "      <td>10350</td>\n",
              "      <td>50</td>\n",
              "      <td>0.0</td>\n",
              "      <td>0</td>\n",
              "      <td>0</td>\n",
              "      <td>57.5</td>\n",
              "      <td>0.800594</td>\n",
              "    </tr>\n",
              "  </tbody>\n",
              "</table>\n",
              "</div>"
            ],
            "text/plain": [
              "       date       day  ...  no_of_workers  actual_productivity\n",
              "0  1/1/2015  Thursday  ...           60.0             0.521180\n",
              "1  1/3/2015  Saturday  ...           60.0             0.700134\n",
              "2  1/4/2015    Sunday  ...           55.5             0.800598\n",
              "3  1/5/2015    Monday  ...           57.5             0.800077\n",
              "4  1/6/2015   Tuesday  ...           57.5             0.800594\n",
              "\n",
              "[5 rows x 12 columns]"
            ]
          },
          "metadata": {},
          "execution_count": 13
        }
      ]
    },
    {
      "cell_type": "code",
      "metadata": {
        "id": "OBLxDXQQjV7D"
      },
      "source": [
        "# day  = pd.get_dummies(df['day'])\n",
        "# df_new = df.merge(day, left_index=True, right_index=True)\n",
        "# df_new.head()"
      ],
      "execution_count": null,
      "outputs": []
    },
    {
      "cell_type": "code",
      "metadata": {
        "colab": {
          "base_uri": "https://localhost:8080/",
          "height": 202
        },
        "id": "VK3JLAcckjUi",
        "outputId": "bdc77d8a-4d8e-4023-b028-56653e9f4b58"
      },
      "source": [
        "df= df.drop(['date', 'day'], axis=1)\n",
        "df.head()"
      ],
      "execution_count": null,
      "outputs": [
        {
          "output_type": "execute_result",
          "data": {
            "text/html": [
              "<div>\n",
              "<style scoped>\n",
              "    .dataframe tbody tr th:only-of-type {\n",
              "        vertical-align: middle;\n",
              "    }\n",
              "\n",
              "    .dataframe tbody tr th {\n",
              "        vertical-align: top;\n",
              "    }\n",
              "\n",
              "    .dataframe thead th {\n",
              "        text-align: right;\n",
              "    }\n",
              "</style>\n",
              "<table border=\"1\" class=\"dataframe\">\n",
              "  <thead>\n",
              "    <tr style=\"text-align: right;\">\n",
              "      <th></th>\n",
              "      <th>targeted_productivity</th>\n",
              "      <th>smv</th>\n",
              "      <th>wip</th>\n",
              "      <th>over_time</th>\n",
              "      <th>incentive</th>\n",
              "      <th>idle_time</th>\n",
              "      <th>idle_men</th>\n",
              "      <th>no_of_style_change</th>\n",
              "      <th>no_of_workers</th>\n",
              "      <th>actual_productivity</th>\n",
              "    </tr>\n",
              "  </thead>\n",
              "  <tbody>\n",
              "    <tr>\n",
              "      <th>0</th>\n",
              "      <td>0.65</td>\n",
              "      <td>23.69</td>\n",
              "      <td>861.0</td>\n",
              "      <td>7200</td>\n",
              "      <td>0</td>\n",
              "      <td>0.0</td>\n",
              "      <td>0</td>\n",
              "      <td>0</td>\n",
              "      <td>60.0</td>\n",
              "      <td>0.521180</td>\n",
              "    </tr>\n",
              "    <tr>\n",
              "      <th>1</th>\n",
              "      <td>0.70</td>\n",
              "      <td>23.69</td>\n",
              "      <td>544.0</td>\n",
              "      <td>13800</td>\n",
              "      <td>0</td>\n",
              "      <td>0.0</td>\n",
              "      <td>0</td>\n",
              "      <td>0</td>\n",
              "      <td>60.0</td>\n",
              "      <td>0.700134</td>\n",
              "    </tr>\n",
              "    <tr>\n",
              "      <th>2</th>\n",
              "      <td>0.80</td>\n",
              "      <td>28.08</td>\n",
              "      <td>878.0</td>\n",
              "      <td>4260</td>\n",
              "      <td>50</td>\n",
              "      <td>0.0</td>\n",
              "      <td>0</td>\n",
              "      <td>0</td>\n",
              "      <td>55.5</td>\n",
              "      <td>0.800598</td>\n",
              "    </tr>\n",
              "    <tr>\n",
              "      <th>3</th>\n",
              "      <td>0.80</td>\n",
              "      <td>28.08</td>\n",
              "      <td>759.0</td>\n",
              "      <td>6900</td>\n",
              "      <td>50</td>\n",
              "      <td>0.0</td>\n",
              "      <td>0</td>\n",
              "      <td>0</td>\n",
              "      <td>57.5</td>\n",
              "      <td>0.800077</td>\n",
              "    </tr>\n",
              "    <tr>\n",
              "      <th>4</th>\n",
              "      <td>0.80</td>\n",
              "      <td>28.08</td>\n",
              "      <td>925.0</td>\n",
              "      <td>10350</td>\n",
              "      <td>50</td>\n",
              "      <td>0.0</td>\n",
              "      <td>0</td>\n",
              "      <td>0</td>\n",
              "      <td>57.5</td>\n",
              "      <td>0.800594</td>\n",
              "    </tr>\n",
              "  </tbody>\n",
              "</table>\n",
              "</div>"
            ],
            "text/plain": [
              "   targeted_productivity    smv  ...  no_of_workers  actual_productivity\n",
              "0                   0.65  23.69  ...           60.0             0.521180\n",
              "1                   0.70  23.69  ...           60.0             0.700134\n",
              "2                   0.80  28.08  ...           55.5             0.800598\n",
              "3                   0.80  28.08  ...           57.5             0.800077\n",
              "4                   0.80  28.08  ...           57.5             0.800594\n",
              "\n",
              "[5 rows x 10 columns]"
            ]
          },
          "metadata": {},
          "execution_count": 15
        }
      ]
    },
    {
      "cell_type": "markdown",
      "metadata": {
        "id": "INOh006OMuSh"
      },
      "source": [
        "# Training Model"
      ]
    },
    {
      "cell_type": "code",
      "metadata": {
        "id": "dosm-geFIDzr"
      },
      "source": [
        "X = df[['targeted_productivity', 'smv', 'wip', 'over_time','incentive', 'idle_time', 'idle_men', 'no_of_style_change', 'no_of_workers']]\n",
        "y = df['actual_productivity']\n",
        "X_train, X_test, y_train, y_test = train_test_split(X, y, test_size=0.2, random_state=42)"
      ],
      "execution_count": null,
      "outputs": []
    },
    {
      "cell_type": "code",
      "metadata": {
        "colab": {
          "base_uri": "https://localhost:8080/"
        },
        "id": "jhZhvJO4Op1X",
        "outputId": "8ac0d9ad-838f-4d71-fddf-fa632cf34560"
      },
      "source": [
        "# define the base models\n",
        "level0 = [('knn', KNeighborsRegressor()), ('rf', RandomForestRegressor()),\n",
        "          ('svm', SVR())]\n",
        "# define meta learner model\n",
        "level1 = LinearRegression()\n",
        "# define the stacking ensemble\n",
        "model = StackingRegressor(estimators=level0, final_estimator=level1, cv=5)\n",
        "# fit the model on all available data\n",
        "model.fit(X_train, y_train)\n",
        "# make a prediction \n",
        "predictions = model.predict(X_test)\n",
        "\n",
        "# r2 = metrics.r2_score(y_test, predictions)\n",
        "# print('R2: {}\\n'.format(r2))\n",
        "# mse = metrics.mean_squared_error(y_test, predictions)\n",
        "# print('MSE: {}\\n'.format(mse))\n",
        "# print('RMSE: {}\\n'.format(np.sqrt(mse)))\n",
        "# mae = metrics.mean_absolute_error(y_test, predictions)\n",
        "# print('MAE: {}\\n'.format(mae))\n",
        "mape = metrics.mean_absolute_percentage_error(y_test, predictions)\n",
        "print('MAPE: {}\\n'.format(mape))"
      ],
      "execution_count": null,
      "outputs": [
        {
          "output_type": "stream",
          "text": [
            "MAPE: 0.0676884121072899\n",
            "\n"
          ],
          "name": "stdout"
        }
      ]
    },
    {
      "cell_type": "markdown",
      "metadata": {
        "id": "JNP4WIWe1jNK"
      },
      "source": [
        "# Testing"
      ]
    },
    {
      "cell_type": "code",
      "metadata": {
        "id": "UPWMfznkh_CS"
      },
      "source": [
        "df_test = test_data.copy()"
      ],
      "execution_count": null,
      "outputs": []
    },
    {
      "cell_type": "code",
      "metadata": {
        "id": "JQXxqBKslRUI"
      },
      "source": [
        "# day_test  = pd.get_dummies(df_test['day'])\n",
        "# df_test = df_test.merge(day_test, left_index=True, right_index=True)\n",
        "# df_test.head()"
      ],
      "execution_count": null,
      "outputs": []
    },
    {
      "cell_type": "code",
      "metadata": {
        "id": "9FuwsNjxiSw0"
      },
      "source": [
        "df_test = df_test.drop(['date', 'day'], axis=1)"
      ],
      "execution_count": null,
      "outputs": []
    },
    {
      "cell_type": "code",
      "metadata": {
        "id": "2wHWQDMlgLEi"
      },
      "source": [
        "predictions_new = model.predict(df_test)"
      ],
      "execution_count": null,
      "outputs": []
    },
    {
      "cell_type": "code",
      "metadata": {
        "colab": {
          "base_uri": "https://localhost:8080/"
        },
        "id": "p6h_rZfLlqd-",
        "outputId": "d4ffec6f-23f6-4af0-9f94-a2a504e8e19f"
      },
      "source": [
        "predictions_new"
      ],
      "execution_count": null,
      "outputs": [
        {
          "output_type": "execute_result",
          "data": {
            "text/plain": [
              "array([0.54525407, 0.49922483, 0.49777658, 0.62097247, 0.68946861,\n",
              "       0.70277835, 0.69971011, 0.70449462, 0.76659248, 0.78486562,\n",
              "       0.84057274])"
            ]
          },
          "metadata": {},
          "execution_count": 23
        }
      ]
    },
    {
      "cell_type": "code",
      "metadata": {
        "colab": {
          "base_uri": "https://localhost:8080/"
        },
        "id": "Gpve3T9CmIs_",
        "outputId": "de24b771-8be0-455b-da16-eb17a8bb18d7"
      },
      "source": [
        "Id = range(1,(df_test.shape[0]+1))\n",
        "print(Id)\n",
        "submission = pd.DataFrame(Id, columns = ['Id'])\n",
        "submission['actual_productivity']=predictions_new"
      ],
      "execution_count": null,
      "outputs": [
        {
          "output_type": "stream",
          "text": [
            "range(1, 12)\n"
          ],
          "name": "stdout"
        }
      ]
    },
    {
      "cell_type": "code",
      "metadata": {
        "id": "uhVFT3PomRuL"
      },
      "source": [
        "submission.to_csv('/content/drive/MyDrive/IYKRA/#9/sub2.csv',index=False)"
      ],
      "execution_count": null,
      "outputs": []
    }
  ]
}